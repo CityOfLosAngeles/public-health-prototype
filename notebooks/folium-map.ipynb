{
 "cells": [
  {
   "cell_type": "markdown",
   "metadata": {},
   "source": [
    "# Test Folium interactive maps\n",
    "* total unsheltered pop\n",
    "* 2017, 2018, 2019 individual year maps"
   ]
  },
  {
   "cell_type": "code",
   "execution_count": 1,
   "metadata": {},
   "outputs": [],
   "source": [
    "import numpy as np\n",
    "import pandas as pd\n",
    "import geopandas as gpd\n",
    "import intake\n",
    "import json\n",
    "from branca.colormap import linear\n",
    "import folium"
   ]
  },
  {
   "cell_type": "code",
   "execution_count": 2,
   "metadata": {},
   "outputs": [],
   "source": [
    "catalog = intake.open_catalog('../catalogs/*.yml')\n",
    "bucket_name = 's3://city-of-los-angeles-data-lake/public-health-dashboard/'"
   ]
  },
  {
   "cell_type": "markdown",
   "metadata": {},
   "source": [
    "## Prep df to map"
   ]
  },
  {
   "cell_type": "code",
   "execution_count": 3,
   "metadata": {},
   "outputs": [
    {
     "data": {
      "text/html": [
       "<div>\n",
       "<style scoped>\n",
       "    .dataframe tbody tr th:only-of-type {\n",
       "        vertical-align: middle;\n",
       "    }\n",
       "\n",
       "    .dataframe tbody tr th {\n",
       "        vertical-align: top;\n",
       "    }\n",
       "\n",
       "    .dataframe thead th {\n",
       "        text-align: right;\n",
       "    }\n",
       "</style>\n",
       "<table border=\"1\" class=\"dataframe\">\n",
       "  <thead>\n",
       "    <tr style=\"text-align: right;\">\n",
       "      <th></th>\n",
       "      <th>SPA</th>\n",
       "      <th>SD</th>\n",
       "      <th>CD</th>\n",
       "      <th>year</th>\n",
       "      <th>unsheltered</th>\n",
       "      <th>sheltered</th>\n",
       "      <th>tot_homeless</th>\n",
       "      <th>bulky</th>\n",
       "      <th>encampment</th>\n",
       "      <th>illegal</th>\n",
       "      <th>other</th>\n",
       "      <th>pop</th>\n",
       "      <th>full_area</th>\n",
       "      <th>clipped_area</th>\n",
       "      <th>geometry</th>\n",
       "    </tr>\n",
       "    <tr>\n",
       "      <th>id</th>\n",
       "      <th></th>\n",
       "      <th></th>\n",
       "      <th></th>\n",
       "      <th></th>\n",
       "      <th></th>\n",
       "      <th></th>\n",
       "      <th></th>\n",
       "      <th></th>\n",
       "      <th></th>\n",
       "      <th></th>\n",
       "      <th></th>\n",
       "      <th></th>\n",
       "      <th></th>\n",
       "      <th></th>\n",
       "      <th></th>\n",
       "    </tr>\n",
       "  </thead>\n",
       "  <tbody>\n",
       "    <tr>\n",
       "      <th>06037139301</th>\n",
       "      <td>2</td>\n",
       "      <td>3</td>\n",
       "      <td>3</td>\n",
       "      <td>2017</td>\n",
       "      <td>16.156</td>\n",
       "      <td>0.0</td>\n",
       "      <td>16.156</td>\n",
       "      <td>1</td>\n",
       "      <td>28</td>\n",
       "      <td>1</td>\n",
       "      <td>0</td>\n",
       "      <td>4603</td>\n",
       "      <td>1.106305</td>\n",
       "      <td>1.106305</td>\n",
       "      <td>POLYGON ((-118.57150 34.17758, -118.57148 34.1...</td>\n",
       "    </tr>\n",
       "    <tr>\n",
       "      <th>06037139301</th>\n",
       "      <td>2</td>\n",
       "      <td>3</td>\n",
       "      <td>3</td>\n",
       "      <td>2018</td>\n",
       "      <td>1.000</td>\n",
       "      <td>0.0</td>\n",
       "      <td>1.000</td>\n",
       "      <td>0</td>\n",
       "      <td>5</td>\n",
       "      <td>4</td>\n",
       "      <td>0</td>\n",
       "      <td>4603</td>\n",
       "      <td>1.106305</td>\n",
       "      <td>1.106305</td>\n",
       "      <td>POLYGON ((-118.57150 34.17758, -118.57148 34.1...</td>\n",
       "    </tr>\n",
       "    <tr>\n",
       "      <th>06037139301</th>\n",
       "      <td>2</td>\n",
       "      <td>3</td>\n",
       "      <td>3</td>\n",
       "      <td>2019</td>\n",
       "      <td>4.315</td>\n",
       "      <td>0.0</td>\n",
       "      <td>4.315</td>\n",
       "      <td>6</td>\n",
       "      <td>54</td>\n",
       "      <td>0</td>\n",
       "      <td>0</td>\n",
       "      <td>4603</td>\n",
       "      <td>1.106305</td>\n",
       "      <td>1.106305</td>\n",
       "      <td>POLYGON ((-118.57150 34.17758, -118.57148 34.1...</td>\n",
       "    </tr>\n",
       "    <tr>\n",
       "      <th>06037139302</th>\n",
       "      <td>2</td>\n",
       "      <td>3</td>\n",
       "      <td>3</td>\n",
       "      <td>2017</td>\n",
       "      <td>4.021</td>\n",
       "      <td>0.0</td>\n",
       "      <td>4.021</td>\n",
       "      <td>0</td>\n",
       "      <td>5</td>\n",
       "      <td>0</td>\n",
       "      <td>0</td>\n",
       "      <td>5389</td>\n",
       "      <td>0.130598</td>\n",
       "      <td>0.130598</td>\n",
       "      <td>POLYGON ((-118.54073 34.18019, -118.54070 34.1...</td>\n",
       "    </tr>\n",
       "    <tr>\n",
       "      <th>06037139302</th>\n",
       "      <td>2</td>\n",
       "      <td>3</td>\n",
       "      <td>3</td>\n",
       "      <td>2018</td>\n",
       "      <td>3.000</td>\n",
       "      <td>0.0</td>\n",
       "      <td>3.000</td>\n",
       "      <td>0</td>\n",
       "      <td>2</td>\n",
       "      <td>0</td>\n",
       "      <td>0</td>\n",
       "      <td>5389</td>\n",
       "      <td>0.130598</td>\n",
       "      <td>0.130598</td>\n",
       "      <td>POLYGON ((-118.54073 34.18019, -118.54070 34.1...</td>\n",
       "    </tr>\n",
       "  </tbody>\n",
       "</table>\n",
       "</div>"
      ],
      "text/plain": [
       "             SPA  SD  CD  year  unsheltered  sheltered  tot_homeless  bulky  \\\n",
       "id                                                                            \n",
       "06037139301    2   3   3  2017       16.156        0.0        16.156      1   \n",
       "06037139301    2   3   3  2018        1.000        0.0         1.000      0   \n",
       "06037139301    2   3   3  2019        4.315        0.0         4.315      6   \n",
       "06037139302    2   3   3  2017        4.021        0.0         4.021      0   \n",
       "06037139302    2   3   3  2018        3.000        0.0         3.000      0   \n",
       "\n",
       "             encampment  illegal  other   pop  full_area  clipped_area  \\\n",
       "id                                                                       \n",
       "06037139301          28        1      0  4603   1.106305      1.106305   \n",
       "06037139301           5        4      0  4603   1.106305      1.106305   \n",
       "06037139301          54        0      0  4603   1.106305      1.106305   \n",
       "06037139302           5        0      0  5389   0.130598      0.130598   \n",
       "06037139302           2        0      0  5389   0.130598      0.130598   \n",
       "\n",
       "                                                      geometry  \n",
       "id                                                              \n",
       "06037139301  POLYGON ((-118.57150 34.17758, -118.57148 34.1...  \n",
       "06037139301  POLYGON ((-118.57150 34.17758, -118.57148 34.1...  \n",
       "06037139301  POLYGON ((-118.57150 34.17758, -118.57148 34.1...  \n",
       "06037139302  POLYGON ((-118.54073 34.18019, -118.54070 34.1...  \n",
       "06037139302  POLYGON ((-118.54073 34.18019, -118.54070 34.1...  "
      ]
     },
     "execution_count": 3,
     "metadata": {},
     "output_type": "execute_result"
    }
   ],
   "source": [
    "df = gpd.read_file(f'{bucket_name}gis/intermediate/homelessness_care_tracts.geojson')\n",
    "df.rename(columns = {'GEOID': 'id'}, inplace = True)\n",
    "df = df.set_index('id')\n",
    "df.head()"
   ]
  },
  {
   "cell_type": "markdown",
   "metadata": {},
   "source": [
    "## Total unsheltered over 3 years"
   ]
  },
  {
   "cell_type": "code",
   "execution_count": 4,
   "metadata": {},
   "outputs": [
    {
     "data": {
      "text/plain": [
       "count     994.000000\n",
       "mean       71.426540\n",
       "std       162.045017\n",
       "min         0.000000\n",
       "25%        18.554500\n",
       "50%        39.450000\n",
       "75%        76.858750\n",
       "max      3823.916000\n",
       "Name: unsheltered, dtype: float64"
      ]
     },
     "execution_count": 4,
     "metadata": {},
     "output_type": "execute_result"
    }
   ],
   "source": [
    "df1 = df.dissolve(by = ['id', 'clipped_area', 'full_area', \n",
    "                        'CD', 'pop', 'SPA', 'SD'], aggfunc = 'sum').reset_index().drop(columns = ['year'])\n",
    "\n",
    "# to_json converts the gdf to json. json.loads converts it into dictionary \n",
    "# geo_data can have many more columns than just geometry. Need to include other columns if you want to have the HTML popup include info.\n",
    "geo_data = json.loads(df1.set_index('id').to_json())\n",
    "\n",
    "# Take what we want to map and turn it into a dictionary\n",
    "# Can only include the key-value pair, the value you want to map, nothing more.\n",
    "tot_unsheltered = dict(zip(df1['id'].tolist(), df1['unsheltered'].tolist()))\n",
    "\n",
    "df1.unsheltered.describe()"
   ]
  },
  {
   "cell_type": "code",
   "execution_count": 5,
   "metadata": {},
   "outputs": [],
   "source": [
    "m = folium.Map(\n",
    "    location=[34.0536, -118.2427], \n",
    "    zoom_start=12, \n",
    "    tiles='cartodbpositron'\n",
    ")\n",
    "\n",
    "bins = [0, 50, 100, 500, 4000]\n",
    "\n",
    "unsheltered = folium.Choropleth(\n",
    "    geo_data = df1,\n",
    "    name = 'choropleth',\n",
    "    data = tot_unsheltered,\n",
    "    columns = ['id', 'unsheltered'],\n",
    "    key_on = 'feature.properties.id',\n",
    "    fill_color = 'BuPu',\n",
    "    fill_opacity = 0.7,\n",
    "    line_opacity = 0.8, line_color = 'white',\n",
    "    bins = bins,\n",
    "    legend_name = 'Total Unsheltered (2017-2019)',\n",
    ").add_to(m)\n",
    "\n",
    "m.add_child(folium.LayerControl())\n",
    "\n",
    "m.save('../notebooks/total_unsheltered.html')"
   ]
  },
  {
   "cell_type": "markdown",
   "metadata": {},
   "source": [
    "## 2017 Unsheltered"
   ]
  },
  {
   "cell_type": "code",
   "execution_count": 6,
   "metadata": {},
   "outputs": [
    {
     "data": {
      "text/plain": [
       "count     994.000000\n",
       "mean       22.872718\n",
       "std        53.524345\n",
       "min         0.000000\n",
       "25%         3.926000\n",
       "50%        12.148500\n",
       "75%        25.964500\n",
       "max      1211.044000\n",
       "Name: unsheltered, dtype: float64"
      ]
     },
     "execution_count": 6,
     "metadata": {},
     "output_type": "execute_result"
    }
   ],
   "source": [
    "df2 = df[df.year==2017].reset_index()\n",
    "\n",
    "# to_json converts the gdf to json. json.loads converts it into dictionary \n",
    "# geo_data can have many more columns than just geometry. Need to include other columns if you want to have the HTML popup include info.\n",
    "geo_data = json.loads(df2.set_index('id').to_json())\n",
    "\n",
    "# Take what we want to map and turn it into a dictionary\n",
    "# Can only include the key-value pair, the value you want to map, nothing more.\n",
    "unshelt2017 = dict(zip(df2['id'].tolist(), df2['unsheltered'].tolist()))\n",
    "\n",
    "df2.unsheltered.describe()"
   ]
  },
  {
   "cell_type": "code",
   "execution_count": 7,
   "metadata": {},
   "outputs": [],
   "source": [
    "m = folium.Map(\n",
    "    location=[34.0536, -118.2427], \n",
    "    zoom_start=12, \n",
    "    tiles='cartodbpositron'\n",
    ")\n",
    "\n",
    "bins = [0, 10, 25, 50, 1400]\n",
    "\n",
    "unsheltered = folium.Choropleth(\n",
    "    geo_data = df2,\n",
    "    name = 'choropleth',\n",
    "    data = unshelt2017,\n",
    "    columns = ['id', 'unsheltered'],\n",
    "    key_on = 'feature.properties.id',\n",
    "    fill_color = 'YlOrBr',\n",
    "    fill_opacity = 0.7,\n",
    "    line_opacity = 0.8, line_color = 'white',\n",
    "    bins = bins,\n",
    "    legend_name = '2017 Unsheltered',\n",
    ").add_to(m)\n",
    "\n",
    "m.add_child(folium.LayerControl())\n",
    "\n",
    "m.save('../notebooks/unsheltered2017.html')"
   ]
  },
  {
   "cell_type": "markdown",
   "metadata": {},
   "source": [
    "## 2018 Unsheltered"
   ]
  },
  {
   "cell_type": "code",
   "execution_count": 8,
   "metadata": {},
   "outputs": [
    {
     "data": {
      "text/plain": [
       "count     993.000000\n",
       "mean       21.909627\n",
       "std        55.626741\n",
       "min         0.000000\n",
       "25%         3.831000\n",
       "50%        10.783000\n",
       "75%        23.443000\n",
       "max      1341.172000\n",
       "Name: unsheltered, dtype: float64"
      ]
     },
     "execution_count": 8,
     "metadata": {},
     "output_type": "execute_result"
    }
   ],
   "source": [
    "df3 = df[df.year==2018].reset_index()\n",
    "\n",
    "geo_data = json.loads(df3.set_index('id').to_json())\n",
    "\n",
    "unshelt2018 = dict(zip(df3['id'].tolist(), df3['unsheltered'].tolist()))\n",
    "\n",
    "df3.unsheltered.describe()"
   ]
  },
  {
   "cell_type": "code",
   "execution_count": 9,
   "metadata": {},
   "outputs": [],
   "source": [
    "m = folium.Map(\n",
    "    location=[34.0536, -118.2427], \n",
    "    zoom_start=12, \n",
    "    tiles='cartodbpositron'\n",
    ")\n",
    "\n",
    "bins = [0, 10, 25, 50, 1400]\n",
    "\n",
    "unsheltered = folium.Choropleth(\n",
    "    geo_data = df3,\n",
    "    name = 'choropleth',\n",
    "    data = unshelt2018,\n",
    "    columns = ['id', 'unsheltered'],\n",
    "    key_on = 'feature.properties.id',\n",
    "    fill_color = 'YlOrBr',\n",
    "    fill_opacity = 0.7,\n",
    "    line_opacity = 0.8, line_color = 'white',\n",
    "    bins = bins,\n",
    "    legend_name = '2018 Unsheltered',\n",
    ").add_to(m)\n",
    "\n",
    "m.add_child(folium.LayerControl())\n",
    "\n",
    "m.save('../notebooks/unsheltered2018.html')"
   ]
  },
  {
   "cell_type": "markdown",
   "metadata": {},
   "source": [
    "## 2019 Unsheltered"
   ]
  },
  {
   "cell_type": "code",
   "execution_count": 10,
   "metadata": {},
   "outputs": [
    {
     "data": {
      "text/plain": [
       "count     994.000000\n",
       "mean       26.666236\n",
       "std        61.657447\n",
       "min         0.000000\n",
       "25%         3.915000\n",
       "50%        12.224000\n",
       "75%        27.377750\n",
       "max      1271.700000\n",
       "Name: unsheltered, dtype: float64"
      ]
     },
     "execution_count": 10,
     "metadata": {},
     "output_type": "execute_result"
    }
   ],
   "source": [
    "df4 = df[df.year==2019].reset_index()\n",
    "\n",
    "geo_data = json.loads(df4.set_index('id').to_json())\n",
    "\n",
    "unshelt2019 = dict(zip(df4['id'].tolist(), df4['unsheltered'].tolist()))\n",
    "\n",
    "df4.unsheltered.describe()"
   ]
  },
  {
   "cell_type": "code",
   "execution_count": 11,
   "metadata": {},
   "outputs": [],
   "source": [
    "m = folium.Map(\n",
    "    location=[34.0536, -118.2427], \n",
    "    zoom_start=12, \n",
    "    tiles='cartodbpositron'\n",
    ")\n",
    "\n",
    "bins = [0, 10, 25, 50, 1400]\n",
    "\n",
    "unsheltered = folium.Choropleth(\n",
    "    geo_data = df4,\n",
    "    name = 'choropleth',\n",
    "    data = unshelt2019,\n",
    "    columns = ['id', 'unsheltered'],\n",
    "    key_on = 'feature.properties.id',\n",
    "    fill_color = 'YlOrBr',\n",
    "    fill_opacity = 0.7,\n",
    "    line_opacity = 0.8, line_color = 'white',\n",
    "    bins = bins,\n",
    "    legend_name = '2019 Unsheltered',\n",
    ").add_to(m)\n",
    "\n",
    "m.add_child(folium.LayerControl())\n",
    "\n",
    "m.save('../notebooks/unsheltered2019.html')"
   ]
  },
  {
   "cell_type": "code",
   "execution_count": null,
   "metadata": {},
   "outputs": [],
   "source": []
  }
 ],
 "metadata": {
  "kernelspec": {
   "display_name": "Python 3",
   "language": "python",
   "name": "python3"
  },
  "language_info": {
   "codemirror_mode": {
    "name": "ipython",
    "version": 3
   },
   "file_extension": ".py",
   "mimetype": "text/x-python",
   "name": "python",
   "nbconvert_exporter": "python",
   "pygments_lexer": "ipython3",
   "version": "3.7.3"
  }
 },
 "nbformat": 4,
 "nbformat_minor": 4
}
