{
 "cells": [
  {
   "cell_type": "markdown",
   "metadata": {},
   "source": [
    "# LA's COVID-19 Reopening / Recovery Indicators \n",
    "\n",
    "The NY Times wrote about rushed reopenings being [a global trial-and-error experiment](https://www.nytimes.com/2020/05/07/world/europe/coronavirus-reopening-costs.html) and a further analysis showing how US states reopening [fail to meet the WH guidelines](https://www.nytimes.com/interactive/2020/05/07/us/coronavirus-states-reopen-criteria.html). Vox has written about [the importance of COVID testing indicators](https://www.vox.com/2020/5/8/21249880/coronavirus-testing-covid-reopening-economy-lockdowns-social-distancing) as a prerequisite for reopening. \n",
    "\n",
    "While we wait for LA's own reopening indicators, we can still see how LA stacks up against NY and Chicago's indicators. [NY State's Reopening Indicators](https://www.nytimes.com/2020/05/04/nyregion/coronavirus-reopen-cuomo-ny.html) were based heavily in part by the White House [Opening Up America Again gating criteria](https://www.whitehouse.gov/wp-content/uploads/2020/04/Guidelines-for-Opening-Up-America-Again.pdf), and Chicago outlined even [tougher benchmarks than the IL statewide strategy](https://www.chicagotribune.com/coronavirus/ct-coronavirus-chicago-reopening-lightfoot-20200508-ztpnouwexrcvfdfcr2yccbc53a-story.html). In terms of outbreak severity, [LA and Chicago come right after NYC](https://www.nytimes.com/2020/05/09/us/coronavirus-chicago.html)."
   ]
  },
  {
   "cell_type": "markdown",
   "metadata": {},
   "source": [
    "## [White House Gating Criteria](https://www.whitehouse.gov/wp-content/uploads/2020/04/Guidelines-for-Opening-Up-America-Again.pdf)\n",
    "### Symptoms\n",
    "* Downward trajectory of influenza-like illnesses (ILI) reported within a 14-day period **and**\n",
    "* Downward trajectory of COVID-like syndromic cases reported within a 14-day period\n",
    "\n",
    "### Cases\n",
    "* Downward trajectory of documented cases within a 14-day period **or**\n",
    "* Downward trajectory of positive tests as a percent of total tests within a 14-day period (flat or increasing volume of tests) \n",
    "\n",
    "### Hospitals\n",
    "* Treat all patients without crisis care **and**\n",
    "* Robust testing program in place for at-risk healthcare workers, including emerging antibody testing\n",
    "\n",
    "| NY | Chicago |\n",
    "| --- | --- |\n",
    "| At least 14 days decline in total net hospitalizations on a 3-day rolling average **or** <BR> Less than 15 net new total hospitalizations on a 3-day rolling average </BR> | At least 14 days decline in new cases, on average \n",
    "| At least 14 days decline in total net deaths on a 3-day rolling average **or** <BR> Less than 5 new deaths on a 3-day rolling average </BR> | At least 14 days decline in of case rate (per capita?) |\n",
    "| At least 30% total hospital and ICU beds available  | At least 14 days decline in rate of new cases (per capita?)\n",
    "| At least 90 days of PPE stockpiled  | Stable or declining rates of hospitalizations  \n",
    "| Capacity to conduct 30 tests per 1,000 residents per month  | Stable or declining rates of ICU admissions \n",
    "| 30 working contact tracers per 100,000 residents | Stable or declining rates of ICU deaths\n",
    "| Rural regions: Fewer than 2 new COVID patients admitted per 100,000 residents per day | Share of positive results are decreasing below 15% of those tested in the community \n",
    "|   | Fewer than 1,800 coronavirus patients in hospital beds \n",
    "|   | Fewer than 600 coronavirus patients in ICU beds\n",
    "|   | Fewer than 450 coronavirus patients on ventilators\n",
    "|   | Test 135,000 per month, equivalent to 4,500 people per day"
   ]
  },
  {
   "cell_type": "code",
   "execution_count": 1,
   "metadata": {},
   "outputs": [],
   "source": [
    "import pandas as pd\n",
    "import utils\n",
    "import altair as alt\n",
    "\n",
    "from IPython.display import Markdown"
   ]
  },
  {
   "cell_type": "code",
   "execution_count": 2,
   "metadata": {},
   "outputs": [
    {
     "data": {
      "text/html": [
       "\n",
       "<div id=\"altair-viz-9f982ed5ff7640b39d09c320004ddea4\"></div>\n",
       "<script type=\"text/javascript\">\n",
       "  (function(spec, embedOpt){\n",
       "    const outputDiv = document.getElementById(\"altair-viz-9f982ed5ff7640b39d09c320004ddea4\");\n",
       "    const paths = {\n",
       "      \"vega\": \"https://cdn.jsdelivr.net/npm//vega@5?noext\",\n",
       "      \"vega-lib\": \"https://cdn.jsdelivr.net/npm//vega-lib?noext\",\n",
       "      \"vega-lite\": \"https://cdn.jsdelivr.net/npm//vega-lite@4.0.2?noext\",\n",
       "      \"vega-embed\": \"https://cdn.jsdelivr.net/npm//vega-embed@6?noext\",\n",
       "    };\n",
       "\n",
       "    function loadScript(lib) {\n",
       "      return new Promise(function(resolve, reject) {\n",
       "        var s = document.createElement('script');\n",
       "        s.src = paths[lib];\n",
       "        s.async = true;\n",
       "        s.onload = () => resolve(paths[lib]);\n",
       "        s.onerror = () => reject(`Error loading script: ${paths[lib]}`);\n",
       "        document.getElementsByTagName(\"head\")[0].appendChild(s);\n",
       "      });\n",
       "    }\n",
       "\n",
       "    function showError(err) {\n",
       "      outputDiv.innerHTML = `<div class=\"error\" style=\"color:red;\">${err}</div>`;\n",
       "      throw err;\n",
       "    }\n",
       "\n",
       "    function displayChart(vegaEmbed) {\n",
       "      vegaEmbed(outputDiv, spec, embedOpt)\n",
       "        .catch(err => showError(`Javascript Error: ${err.message}<br>This usually means there's a typo in your chart specification. See the javascript console for the full traceback.`));\n",
       "    }\n",
       "\n",
       "    if(typeof define === \"function\" && define.amd) {\n",
       "      requirejs.config({paths});\n",
       "      require([\"vega-embed\"], displayChart, err => showError(`Error loading script: ${err.message}`));\n",
       "    } else if (typeof vegaEmbed === \"function\") {\n",
       "      displayChart(vegaEmbed);\n",
       "    } else {\n",
       "      loadScript(\"vega\")\n",
       "        .then(() => loadScript(\"vega-lite\"))\n",
       "        .then(() => loadScript(\"vega-embed\"))\n",
       "        .catch(showError)\n",
       "        .then(() => displayChart(vegaEmbed));\n",
       "    }\n",
       "  })({\"config\": {\"view\": {\"continuousWidth\": 400, \"continuousHeight\": 300, \"strokeOpacity\": 0}, \"axis\": {\"domainOpacity\": 0.4, \"gridOpacity\": 0}, \"title\": {\"anchor\": \"middle\", \"color\": \"black\", \"font\": \"Roboto\", \"fontSize\": 10}}, \"hconcat\": [{\"mark\": \"line\", \"encoding\": {\"color\": {\"value\": \"#0A4C6A\"}, \"x\": {\"type\": \"temporal\", \"field\": \"date\", \"timeUnit\": \"monthdate\", \"title\": \"date\"}, \"y\": {\"type\": \"quantitative\", \"field\": \"cases_avg7\", \"title\": \"7-day avg\"}}, \"height\": 200, \"title\": \"Los Angeles County: New Cases\", \"width\": 250}, {\"mark\": \"line\", \"encoding\": {\"color\": {\"value\": \"#A30F23\"}, \"x\": {\"type\": \"temporal\", \"field\": \"date\", \"timeUnit\": \"monthdate\", \"title\": \"date\"}, \"y\": {\"type\": \"quantitative\", \"field\": \"deaths_avg3\", \"title\": \"3-day avg\"}}, \"height\": 200, \"title\": \"Los Angeles County: New Deaths\", \"width\": 250}], \"data\": {\"name\": \"data-a3085ec03aacd82fd964fe1d8404de21\"}, \"$schema\": \"https://vega.github.io/schema/vega-lite/v4.0.2.json\", \"datasets\": {\"data-a3085ec03aacd82fd964fe1d8404de21\": [{\"county\": \"Los Angeles\", \"state\": \"California\", \"fips\": \"06037\", \"date\": \"2020-03-01T08:00:00+00:00\", \"Lat\": 34.30828379, \"Lon\": -118.2282411, \"cases\": 1, \"deaths\": 0.0, \"new_cases\": 0, \"new_deaths\": 0.0, \"cases_avg7\": null, \"deaths_avg3\": null}, {\"county\": \"Los Angeles\", \"state\": \"California\", \"fips\": \"06037\", \"date\": \"2020-03-02T08:00:00+00:00\", \"Lat\": 34.30828379, \"Lon\": -118.2282411, \"cases\": 1, \"deaths\": 0.0, \"new_cases\": 0, \"new_deaths\": 0.0, \"cases_avg7\": null, \"deaths_avg3\": null}, {\"county\": \"Los Angeles\", \"state\": \"California\", \"fips\": \"06037\", \"date\": \"2020-03-03T08:00:00+00:00\", \"Lat\": 34.30828379, \"Lon\": -118.2282411, \"cases\": 1, \"deaths\": 0.0, \"new_cases\": 0, \"new_deaths\": 0.0, \"cases_avg7\": null, \"deaths_avg3\": 0.0}, {\"county\": \"Los Angeles\", \"state\": \"California\", \"fips\": \"06037\", \"date\": \"2020-03-04T08:00:00+00:00\", \"Lat\": 34.30828379, \"Lon\": -118.2282411, \"cases\": 7, \"deaths\": 0.0, \"new_cases\": 6, \"new_deaths\": 0.0, \"cases_avg7\": null, \"deaths_avg3\": 0.0}, {\"county\": \"Los Angeles\", \"state\": \"California\", \"fips\": \"06037\", \"date\": \"2020-03-05T08:00:00+00:00\", \"Lat\": 34.30828379, \"Lon\": -118.2282411, \"cases\": 11, \"deaths\": 0.0, \"new_cases\": 4, \"new_deaths\": 0.0, \"cases_avg7\": null, \"deaths_avg3\": 0.0}, {\"county\": \"Los Angeles\", \"state\": \"California\", \"fips\": \"06037\", \"date\": \"2020-03-06T08:00:00+00:00\", \"Lat\": 34.30828379, \"Lon\": -118.2282411, \"cases\": 13, \"deaths\": 0.0, \"new_cases\": 2, \"new_deaths\": 0.0, \"cases_avg7\": null, \"deaths_avg3\": 0.0}, {\"county\": \"Los Angeles\", \"state\": \"California\", \"fips\": \"06037\", \"date\": \"2020-03-07T08:00:00+00:00\", \"Lat\": 34.30828379, \"Lon\": -118.2282411, \"cases\": 14, \"deaths\": 0.0, \"new_cases\": 1, \"new_deaths\": 0.0, \"cases_avg7\": 1.8571428571428572, \"deaths_avg3\": 0.0}, {\"county\": \"Los Angeles\", \"state\": \"California\", \"fips\": \"06037\", \"date\": \"2020-03-08T08:00:00+00:00\", \"Lat\": 34.30828379, \"Lon\": -118.2282411, \"cases\": 14, \"deaths\": 0.0, \"new_cases\": 0, \"new_deaths\": 0.0, \"cases_avg7\": 1.8571428571428572, \"deaths_avg3\": 0.0}, {\"county\": \"Los Angeles\", \"state\": \"California\", \"fips\": \"06037\", \"date\": \"2020-03-09T07:00:00+00:00\", \"Lat\": 34.30828379, \"Lon\": -118.2282411, \"cases\": 14, \"deaths\": 0.0, \"new_cases\": 0, \"new_deaths\": 0.0, \"cases_avg7\": 1.8571428571428572, \"deaths_avg3\": 0.0}, {\"county\": \"Los Angeles\", \"state\": \"California\", \"fips\": \"06037\", \"date\": \"2020-03-10T07:00:00+00:00\", \"Lat\": 34.30828379, \"Lon\": -118.2282411, \"cases\": 20, \"deaths\": 0.0, \"new_cases\": 6, \"new_deaths\": 0.0, \"cases_avg7\": 2.7142857142857144, \"deaths_avg3\": 0.0}, {\"county\": \"Los Angeles\", \"state\": \"California\", \"fips\": \"06037\", \"date\": \"2020-03-11T07:00:00+00:00\", \"Lat\": 34.30828379, \"Lon\": -118.2282411, \"cases\": 27, \"deaths\": 1.0, \"new_cases\": 7, \"new_deaths\": 1.0, \"cases_avg7\": 2.857142857142857, \"deaths_avg3\": 0.3333333333333333}, {\"county\": \"Los Angeles\", \"state\": \"California\", \"fips\": \"06037\", \"date\": \"2020-03-12T07:00:00+00:00\", \"Lat\": 34.30828379, \"Lon\": -118.2282411, \"cases\": 32, \"deaths\": 1.0, \"new_cases\": 5, \"new_deaths\": 0.0, \"cases_avg7\": 3.0, \"deaths_avg3\": 0.3333333333333333}, {\"county\": \"Los Angeles\", \"state\": \"California\", \"fips\": \"06037\", \"date\": \"2020-03-13T07:00:00+00:00\", \"Lat\": 34.30828379, \"Lon\": -118.2282411, \"cases\": 40, \"deaths\": 1.0, \"new_cases\": 8, \"new_deaths\": 0.0, \"cases_avg7\": 3.857142857142857, \"deaths_avg3\": 0.3333333333333333}, {\"county\": \"Los Angeles\", \"state\": \"California\", \"fips\": \"06037\", \"date\": \"2020-03-14T07:00:00+00:00\", \"Lat\": 34.30828379, \"Lon\": -118.2282411, \"cases\": 53, \"deaths\": 1.0, \"new_cases\": 13, \"new_deaths\": 0.0, \"cases_avg7\": 5.571428571428571, \"deaths_avg3\": 0.0}, {\"county\": \"Los Angeles\", \"state\": \"California\", \"fips\": \"06037\", \"date\": \"2020-03-15T07:00:00+00:00\", \"Lat\": 34.30828379, \"Lon\": -118.2282411, \"cases\": 53, \"deaths\": 1.0, \"new_cases\": 0, \"new_deaths\": 0.0, \"cases_avg7\": 5.571428571428571, \"deaths_avg3\": 0.0}, {\"county\": \"Los Angeles\", \"state\": \"California\", \"fips\": \"06037\", \"date\": \"2020-03-16T07:00:00+00:00\", \"Lat\": 34.30828379, \"Lon\": -118.2282411, \"cases\": 94, \"deaths\": 1.0, \"new_cases\": 41, \"new_deaths\": 0.0, \"cases_avg7\": 11.428571428571429, \"deaths_avg3\": 0.0}, {\"county\": \"Los Angeles\", \"state\": \"California\", \"fips\": \"06037\", \"date\": \"2020-03-17T07:00:00+00:00\", \"Lat\": 34.30828379, \"Lon\": -118.2282411, \"cases\": 144, \"deaths\": 1.0, \"new_cases\": 50, \"new_deaths\": 0.0, \"cases_avg7\": 17.714285714285715, \"deaths_avg3\": 0.0}, {\"county\": \"Los Angeles\", \"state\": \"California\", \"fips\": \"06037\", \"date\": \"2020-03-18T07:00:00+00:00\", \"Lat\": 34.30828379, \"Lon\": -118.2282411, \"cases\": 190, \"deaths\": 1.0, \"new_cases\": 46, \"new_deaths\": 0.0, \"cases_avg7\": 23.285714285714285, \"deaths_avg3\": 0.0}, {\"county\": \"Los Angeles\", \"state\": \"California\", \"fips\": \"06037\", \"date\": \"2020-03-19T07:00:00+00:00\", \"Lat\": 34.30828379, \"Lon\": -118.2282411, \"cases\": 231, \"deaths\": 2.0, \"new_cases\": 41, \"new_deaths\": 1.0, \"cases_avg7\": 28.428571428571427, \"deaths_avg3\": 0.3333333333333333}, {\"county\": \"Los Angeles\", \"state\": \"California\", \"fips\": \"06037\", \"date\": \"2020-03-20T07:00:00+00:00\", \"Lat\": 34.30828379, \"Lon\": -118.2282411, \"cases\": 292, \"deaths\": 2.0, \"new_cases\": 61, \"new_deaths\": 0.0, \"cases_avg7\": 36.0, \"deaths_avg3\": 0.3333333333333333}, {\"county\": \"Los Angeles\", \"state\": \"California\", \"fips\": \"06037\", \"date\": \"2020-03-21T07:00:00+00:00\", \"Lat\": 34.30828379, \"Lon\": -118.2282411, \"cases\": 292, \"deaths\": 2.0, \"new_cases\": 0, \"new_deaths\": 0.0, \"cases_avg7\": 34.142857142857146, \"deaths_avg3\": 0.3333333333333333}, {\"county\": \"Los Angeles\", \"state\": \"California\", \"fips\": \"06037\", \"date\": \"2020-03-22T07:00:00+00:00\", \"Lat\": 34.30828379, \"Lon\": -118.2282411, \"cases\": 407, \"deaths\": 5.0, \"new_cases\": 115, \"new_deaths\": 3.0, \"cases_avg7\": 50.57142857142857, \"deaths_avg3\": 1.0}, {\"county\": \"Los Angeles\", \"state\": \"California\", \"fips\": \"06037\", \"date\": \"2020-03-23T07:00:00+00:00\", \"Lat\": 34.30828379, \"Lon\": -118.2282411, \"cases\": 536, \"deaths\": 7.0, \"new_cases\": 129, \"new_deaths\": 2.0, \"cases_avg7\": 63.142857142857146, \"deaths_avg3\": 1.6666666666666667}, {\"county\": \"Los Angeles\", \"state\": \"California\", \"fips\": \"06037\", \"date\": \"2020-03-24T07:00:00+00:00\", \"Lat\": 34.30828379, \"Lon\": -118.2282411, \"cases\": 662, \"deaths\": 11.0, \"new_cases\": 126, \"new_deaths\": 4.0, \"cases_avg7\": 74.0, \"deaths_avg3\": 3.0}, {\"county\": \"Los Angeles\", \"state\": \"California\", \"fips\": \"06037\", \"date\": \"2020-03-25T07:00:00+00:00\", \"Lat\": 34.30828379, \"Lon\": -118.2282411, \"cases\": 812, \"deaths\": 13.0, \"new_cases\": 150, \"new_deaths\": 2.0, \"cases_avg7\": 88.85714285714286, \"deaths_avg3\": 2.6666666666666665}, {\"county\": \"Los Angeles\", \"state\": \"California\", \"fips\": \"06037\", \"date\": \"2020-03-26T07:00:00+00:00\", \"Lat\": 34.30828379, \"Lon\": -118.2282411, \"cases\": 1229, \"deaths\": 21.0, \"new_cases\": 417, \"new_deaths\": 8.0, \"cases_avg7\": 142.57142857142858, \"deaths_avg3\": 4.666666666666667}, {\"county\": \"Los Angeles\", \"state\": \"California\", \"fips\": \"06037\", \"date\": \"2020-03-27T07:00:00+00:00\", \"Lat\": 34.30828379, \"Lon\": -118.2282411, \"cases\": 1465, \"deaths\": 26.0, \"new_cases\": 236, \"new_deaths\": 5.0, \"cases_avg7\": 167.57142857142858, \"deaths_avg3\": 5.0}, {\"county\": \"Los Angeles\", \"state\": \"California\", \"fips\": \"06037\", \"date\": \"2020-03-28T07:00:00+00:00\", \"Lat\": 34.30828379, \"Lon\": -118.2282411, \"cases\": 1465, \"deaths\": 26.0, \"new_cases\": 0, \"new_deaths\": 0.0, \"cases_avg7\": 167.57142857142858, \"deaths_avg3\": 4.333333333333333}, {\"county\": \"Los Angeles\", \"state\": \"California\", \"fips\": \"06037\", \"date\": \"2020-03-29T07:00:00+00:00\", \"Lat\": 34.30828379, \"Lon\": -118.2282411, \"cases\": 1829, \"deaths\": 32.0, \"new_cases\": 364, \"new_deaths\": 6.0, \"cases_avg7\": 203.14285714285714, \"deaths_avg3\": 3.6666666666666665}, {\"county\": \"Los Angeles\", \"state\": \"California\", \"fips\": \"06037\", \"date\": \"2020-03-30T07:00:00+00:00\", \"Lat\": 34.30828379, \"Lon\": -118.2282411, \"cases\": 2474, \"deaths\": 44.0, \"new_cases\": 645, \"new_deaths\": 12.0, \"cases_avg7\": 276.85714285714283, \"deaths_avg3\": 6.0}, {\"county\": \"Los Angeles\", \"state\": \"California\", \"fips\": \"06037\", \"date\": \"2020-03-31T07:00:00+00:00\", \"Lat\": 34.30828379, \"Lon\": -118.2282411, \"cases\": 3019, \"deaths\": 54.0, \"new_cases\": 545, \"new_deaths\": 10.0, \"cases_avg7\": 336.7142857142857, \"deaths_avg3\": 9.333333333333334}, {\"county\": \"Los Angeles\", \"state\": \"California\", \"fips\": \"06037\", \"date\": \"2020-04-01T07:00:00+00:00\", \"Lat\": 34.30828379, \"Lon\": -118.2282411, \"cases\": 3518, \"deaths\": 64.0, \"new_cases\": 499, \"new_deaths\": 10.0, \"cases_avg7\": 386.57142857142856, \"deaths_avg3\": 10.666666666666666}, {\"county\": \"Los Angeles\", \"state\": \"California\", \"fips\": \"06037\", \"date\": \"2020-04-02T07:00:00+00:00\", \"Lat\": 34.30828379, \"Lon\": -118.2282411, \"cases\": 4045, \"deaths\": 78.0, \"new_cases\": 527, \"new_deaths\": 14.0, \"cases_avg7\": 402.2857142857143, \"deaths_avg3\": 11.333333333333334}, {\"county\": \"Los Angeles\", \"state\": \"California\", \"fips\": \"06037\", \"date\": \"2020-04-03T07:00:00+00:00\", \"Lat\": 34.30828379, \"Lon\": -118.2282411, \"cases\": 4566, \"deaths\": 89.0, \"new_cases\": 521, \"new_deaths\": 11.0, \"cases_avg7\": 443.0, \"deaths_avg3\": 11.666666666666666}, {\"county\": \"Los Angeles\", \"state\": \"California\", \"fips\": \"06037\", \"date\": \"2020-04-04T07:00:00+00:00\", \"Lat\": 34.30828379, \"Lon\": -118.2282411, \"cases\": 4605, \"deaths\": 93.0, \"new_cases\": 39, \"new_deaths\": 4.0, \"cases_avg7\": 448.57142857142856, \"deaths_avg3\": 9.666666666666666}, {\"county\": \"Los Angeles\", \"state\": \"California\", \"fips\": \"06037\", \"date\": \"2020-04-05T07:00:00+00:00\", \"Lat\": 34.30828379, \"Lon\": -118.2282411, \"cases\": 5955, \"deaths\": 132.0, \"new_cases\": 1350, \"new_deaths\": 39.0, \"cases_avg7\": 589.4285714285714, \"deaths_avg3\": 18.0}, {\"county\": \"Los Angeles\", \"state\": \"California\", \"fips\": \"06037\", \"date\": \"2020-04-06T07:00:00+00:00\", \"Lat\": 34.30828379, \"Lon\": -118.2282411, \"cases\": 6377, \"deaths\": 147.0, \"new_cases\": 422, \"new_deaths\": 15.0, \"cases_avg7\": 557.5714285714286, \"deaths_avg3\": 19.333333333333332}, {\"county\": \"Los Angeles\", \"state\": \"California\", \"fips\": \"06037\", \"date\": \"2020-04-07T07:00:00+00:00\", \"Lat\": 34.30828379, \"Lon\": -118.2282411, \"cases\": 6936, \"deaths\": 169.0, \"new_cases\": 559, \"new_deaths\": 22.0, \"cases_avg7\": 559.5714285714286, \"deaths_avg3\": 25.333333333333332}, {\"county\": \"Los Angeles\", \"state\": \"California\", \"fips\": \"06037\", \"date\": \"2020-04-08T07:00:00+00:00\", \"Lat\": 34.30828379, \"Lon\": -118.2282411, \"cases\": 7559, \"deaths\": 198.0, \"new_cases\": 623, \"new_deaths\": 29.0, \"cases_avg7\": 577.2857142857143, \"deaths_avg3\": 22.0}, {\"county\": \"Los Angeles\", \"state\": \"California\", \"fips\": \"06037\", \"date\": \"2020-04-09T07:00:00+00:00\", \"Lat\": 34.30828379, \"Lon\": -118.2282411, \"cases\": 7955, \"deaths\": 223.0, \"new_cases\": 396, \"new_deaths\": 25.0, \"cases_avg7\": 558.5714285714286, \"deaths_avg3\": 25.333333333333332}, {\"county\": \"Los Angeles\", \"state\": \"California\", \"fips\": \"06037\", \"date\": \"2020-04-10T07:00:00+00:00\", \"Lat\": 34.30828379, \"Lon\": -118.2282411, \"cases\": 8443, \"deaths\": 242.0, \"new_cases\": 488, \"new_deaths\": 19.0, \"cases_avg7\": 553.8571428571429, \"deaths_avg3\": 24.333333333333332}, {\"county\": \"Los Angeles\", \"state\": \"California\", \"fips\": \"06037\", \"date\": \"2020-04-11T07:00:00+00:00\", \"Lat\": 34.30828379, \"Lon\": -118.2282411, \"cases\": 8453, \"deaths\": 244.0, \"new_cases\": 10, \"new_deaths\": 2.0, \"cases_avg7\": 549.7142857142857, \"deaths_avg3\": 15.333333333333334}, {\"county\": \"Los Angeles\", \"state\": \"California\", \"fips\": \"06037\", \"date\": \"2020-04-12T07:00:00+00:00\", \"Lat\": 34.30828379, \"Lon\": -118.2282411, \"cases\": 8894, \"deaths\": 269.0, \"new_cases\": 441, \"new_deaths\": 25.0, \"cases_avg7\": 419.85714285714283, \"deaths_avg3\": 15.333333333333334}, {\"county\": \"Los Angeles\", \"state\": \"California\", \"fips\": \"06037\", \"date\": \"2020-04-13T07:00:00+00:00\", \"Lat\": 34.30828379, \"Lon\": -118.2282411, \"cases\": 9433, \"deaths\": 322.0, \"new_cases\": 539, \"new_deaths\": 53.0, \"cases_avg7\": 436.57142857142856, \"deaths_avg3\": 26.666666666666668}, {\"county\": \"Los Angeles\", \"state\": \"California\", \"fips\": \"06037\", \"date\": \"2020-04-14T07:00:00+00:00\", \"Lat\": 34.30828379, \"Lon\": -118.2282411, \"cases\": 10047, \"deaths\": 360.0, \"new_cases\": 614, \"new_deaths\": 38.0, \"cases_avg7\": 444.42857142857144, \"deaths_avg3\": 38.666666666666664}, {\"county\": \"Los Angeles\", \"state\": \"California\", \"fips\": \"06037\", \"date\": \"2020-04-15T07:00:00+00:00\", \"Lat\": 34.30828379, \"Lon\": -118.2282411, \"cases\": 10517, \"deaths\": 405.0, \"new_cases\": 470, \"new_deaths\": 45.0, \"cases_avg7\": 422.57142857142856, \"deaths_avg3\": 45.333333333333336}, {\"county\": \"Los Angeles\", \"state\": \"California\", \"fips\": \"06037\", \"date\": \"2020-04-16T07:00:00+00:00\", \"Lat\": 34.30828379, \"Lon\": -118.2282411, \"cases\": 10854, \"deaths\": 457.0, \"new_cases\": 337, \"new_deaths\": 52.0, \"cases_avg7\": 414.14285714285717, \"deaths_avg3\": 45.0}, {\"county\": \"Los Angeles\", \"state\": \"California\", \"fips\": \"06037\", \"date\": \"2020-04-17T07:00:00+00:00\", \"Lat\": 34.30828379, \"Lon\": -118.2282411, \"cases\": 11400, \"deaths\": 497.0, \"new_cases\": 546, \"new_deaths\": 40.0, \"cases_avg7\": 422.42857142857144, \"deaths_avg3\": 45.666666666666664}, {\"county\": \"Los Angeles\", \"state\": \"California\", \"fips\": \"06037\", \"date\": \"2020-04-18T07:00:00+00:00\", \"Lat\": 34.30828379, \"Lon\": -118.2282411, \"cases\": 12021, \"deaths\": 576.0, \"new_cases\": 621, \"new_deaths\": 79.0, \"cases_avg7\": 509.7142857142857, \"deaths_avg3\": 57.0}, {\"county\": \"Los Angeles\", \"state\": \"California\", \"fips\": \"06037\", \"date\": \"2020-04-19T07:00:00+00:00\", \"Lat\": 34.30828379, \"Lon\": -118.2282411, \"cases\": 12341, \"deaths\": 600.0, \"new_cases\": 320, \"new_deaths\": 24.0, \"cases_avg7\": 492.42857142857144, \"deaths_avg3\": 47.666666666666664}, {\"county\": \"Los Angeles\", \"state\": \"California\", \"fips\": \"06037\", \"date\": \"2020-04-20T07:00:00+00:00\", \"Lat\": 34.30828379, \"Lon\": -118.2282411, \"cases\": 13823, \"deaths\": 619.0, \"new_cases\": 1482, \"new_deaths\": 19.0, \"cases_avg7\": 627.1428571428571, \"deaths_avg3\": 40.666666666666664}, {\"county\": \"Los Angeles\", \"state\": \"California\", \"fips\": \"06037\", \"date\": \"2020-04-21T07:00:00+00:00\", \"Lat\": 34.30828379, \"Lon\": -118.2282411, \"cases\": 15153, \"deaths\": 663.0, \"new_cases\": 1330, \"new_deaths\": 44.0, \"cases_avg7\": 729.4285714285714, \"deaths_avg3\": 29.0}, {\"county\": \"Los Angeles\", \"state\": \"California\", \"fips\": \"06037\", \"date\": \"2020-04-22T07:00:00+00:00\", \"Lat\": 34.30828379, \"Lon\": -118.2282411, \"cases\": 16447, \"deaths\": 732.0, \"new_cases\": 1294, \"new_deaths\": 69.0, \"cases_avg7\": 847.1428571428571, \"deaths_avg3\": 44.0}, {\"county\": \"Los Angeles\", \"state\": \"California\", \"fips\": \"06037\", \"date\": \"2020-04-23T07:00:00+00:00\", \"Lat\": 34.30828379, \"Lon\": -118.2282411, \"cases\": 17537, \"deaths\": 797.0, \"new_cases\": 1090, \"new_deaths\": 65.0, \"cases_avg7\": 954.7142857142857, \"deaths_avg3\": 59.333333333333336}, {\"county\": \"Los Angeles\", \"state\": \"California\", \"fips\": \"06037\", \"date\": \"2020-04-24T07:00:00+00:00\", \"Lat\": 34.30828379, \"Lon\": -118.2282411, \"cases\": 18545, \"deaths\": 850.0, \"new_cases\": 1008, \"new_deaths\": 53.0, \"cases_avg7\": 1020.7142857142857, \"deaths_avg3\": 62.333333333333336}, {\"county\": \"Los Angeles\", \"state\": \"California\", \"fips\": \"06037\", \"date\": \"2020-04-25T07:00:00+00:00\", \"Lat\": 34.30828379, \"Lon\": -118.2282411, \"cases\": 19133, \"deaths\": 895.0, \"new_cases\": 588, \"new_deaths\": 45.0, \"cases_avg7\": 1016.0, \"deaths_avg3\": 54.333333333333336}, {\"county\": \"Los Angeles\", \"state\": \"California\", \"fips\": \"06037\", \"date\": \"2020-04-26T07:00:00+00:00\", \"Lat\": 34.30828379, \"Lon\": -118.2282411, \"cases\": 19567, \"deaths\": 916.0, \"new_cases\": 434, \"new_deaths\": 21.0, \"cases_avg7\": 1032.2857142857142, \"deaths_avg3\": 39.666666666666664}, {\"county\": \"Los Angeles\", \"state\": \"California\", \"fips\": \"06037\", \"date\": \"2020-04-27T07:00:00+00:00\", \"Lat\": 34.30828379, \"Lon\": -118.2282411, \"cases\": 20423, \"deaths\": 944.0, \"new_cases\": 856, \"new_deaths\": 28.0, \"cases_avg7\": 942.8571428571429, \"deaths_avg3\": 31.333333333333332}, {\"county\": \"Los Angeles\", \"state\": \"California\", \"fips\": \"06037\", \"date\": \"2020-04-28T07:00:00+00:00\", \"Lat\": 34.30828379, \"Lon\": -118.2282411, \"cases\": 20996, \"deaths\": 1002.0, \"new_cases\": 573, \"new_deaths\": 58.0, \"cases_avg7\": 834.7142857142857, \"deaths_avg3\": 35.666666666666664}, {\"county\": \"Los Angeles\", \"state\": \"California\", \"fips\": \"06037\", \"date\": \"2020-04-29T07:00:00+00:00\", \"Lat\": 34.30828379, \"Lon\": -118.2282411, \"cases\": 22485, \"deaths\": 1056.0, \"new_cases\": 1489, \"new_deaths\": 54.0, \"cases_avg7\": 862.5714285714286, \"deaths_avg3\": 46.666666666666664}, {\"county\": \"Los Angeles\", \"state\": \"California\", \"fips\": \"06037\", \"date\": \"2020-04-30T07:00:00+00:00\", \"Lat\": 34.30828379, \"Lon\": -118.2282411, \"cases\": 23220, \"deaths\": 1111.0, \"new_cases\": 735, \"new_deaths\": 55.0, \"cases_avg7\": 811.8571428571429, \"deaths_avg3\": 55.666666666666664}, {\"county\": \"Los Angeles\", \"state\": \"California\", \"fips\": \"06037\", \"date\": \"2020-05-01T07:00:00+00:00\", \"Lat\": 34.30828379, \"Lon\": -118.2282411, \"cases\": 24262, \"deaths\": 1174.0, \"new_cases\": 1042, \"new_deaths\": 63.0, \"cases_avg7\": 816.7142857142857, \"deaths_avg3\": 57.333333333333336}, {\"county\": \"Los Angeles\", \"state\": \"California\", \"fips\": \"06037\", \"date\": \"2020-05-02T07:00:00+00:00\", \"Lat\": 34.30828379, \"Lon\": -118.2282411, \"cases\": 24894, \"deaths\": 1209.0, \"new_cases\": 632, \"new_deaths\": 35.0, \"cases_avg7\": 823.0, \"deaths_avg3\": 51.0}, {\"county\": \"Los Angeles\", \"state\": \"California\", \"fips\": \"06037\", \"date\": \"2020-05-03T07:00:00+00:00\", \"Lat\": 34.30828379, \"Lon\": -118.2282411, \"cases\": 25699, \"deaths\": 1231.0, \"new_cases\": 805, \"new_deaths\": 22.0, \"cases_avg7\": 876.0, \"deaths_avg3\": 40.0}, {\"county\": \"Los Angeles\", \"state\": \"California\", \"fips\": \"06037\", \"date\": \"2020-05-04T07:00:00+00:00\", \"Lat\": 34.30828379, \"Lon\": -118.2282411, \"cases\": 26225, \"deaths\": 1257.0, \"new_cases\": 526, \"new_deaths\": 26.0, \"cases_avg7\": 828.8571428571429, \"deaths_avg3\": 27.666666666666668}, {\"county\": \"Los Angeles\", \"state\": \"California\", \"fips\": \"06037\", \"date\": \"2020-05-05T07:00:00+00:00\", \"Lat\": 34.30828379, \"Lon\": -118.2282411, \"cases\": 27836, \"deaths\": 1315.0, \"new_cases\": 1611, \"new_deaths\": 58.0, \"cases_avg7\": 977.1428571428571, \"deaths_avg3\": 35.333333333333336}, {\"county\": \"Los Angeles\", \"state\": \"California\", \"fips\": \"06037\", \"date\": \"2020-05-06T07:00:00+00:00\", \"Lat\": 34.30828379, \"Lon\": -118.2282411, \"cases\": 28665, \"deaths\": 1369.0, \"new_cases\": 829, \"new_deaths\": 54.0, \"cases_avg7\": 882.8571428571429, \"deaths_avg3\": 46.0}, {\"county\": \"Los Angeles\", \"state\": \"California\", \"fips\": \"06037\", \"date\": \"2020-05-07T07:00:00+00:00\", \"Lat\": 34.30828379, \"Lon\": -118.2282411, \"cases\": 29511, \"deaths\": 1418.0, \"new_cases\": 846, \"new_deaths\": 49.0, \"cases_avg7\": 898.7142857142857, \"deaths_avg3\": 53.666666666666664}, {\"county\": \"Los Angeles\", \"state\": \"California\", \"fips\": \"06037\", \"date\": \"2020-05-08T07:00:00+00:00\", \"Lat\": 34.30828379, \"Lon\": -118.2282411, \"cases\": 30319, \"deaths\": 1470.0, \"new_cases\": 808, \"new_deaths\": 52.0, \"cases_avg7\": 865.2857142857143, \"deaths_avg3\": 51.666666666666664}, {\"county\": \"Los Angeles\", \"state\": \"California\", \"fips\": \"06037\", \"date\": \"2020-05-09T07:00:00+00:00\", \"Lat\": 34.30828379, \"Lon\": -118.2282411, \"cases\": 31241, \"deaths\": 1515.0, \"new_cases\": 922, \"new_deaths\": 45.0, \"cases_avg7\": 906.7142857142857, \"deaths_avg3\": 48.666666666666664}, {\"county\": \"Los Angeles\", \"state\": \"California\", \"fips\": \"06037\", \"date\": \"2020-05-10T07:00:00+00:00\", \"Lat\": 34.30828379, \"Lon\": -118.2282411, \"cases\": 31703, \"deaths\": 1531.0, \"new_cases\": 462, \"new_deaths\": 16.0, \"cases_avg7\": 857.7142857142857, \"deaths_avg3\": 37.666666666666664}, {\"county\": \"Los Angeles\", \"state\": \"California\", \"fips\": \"06037\", \"date\": \"2020-05-11T07:00:00+00:00\", \"Lat\": 34.30828379, \"Lon\": -118.2282411, \"cases\": 32263, \"deaths\": 1570.0, \"new_cases\": 560, \"new_deaths\": 39.0, \"cases_avg7\": 862.5714285714286, \"deaths_avg3\": 33.333333333333336}, {\"county\": \"Los Angeles\", \"state\": \"California\", \"fips\": \"06037\", \"date\": \"2020-05-12T07:00:00+00:00\", \"Lat\": 34.30828379, \"Lon\": -118.2282411, \"cases\": 33211, \"deaths\": 1616.0, \"new_cases\": 948, \"new_deaths\": 46.0, \"cases_avg7\": 767.8571428571429, \"deaths_avg3\": 33.666666666666664}, {\"county\": \"Los Angeles\", \"state\": \"California\", \"fips\": \"06037\", \"date\": \"2020-05-13T07:00:00+00:00\", \"Lat\": 34.30828379, \"Lon\": -118.2282411, \"cases\": 34538, \"deaths\": 1660.0, \"new_cases\": 1327, \"new_deaths\": 44.0, \"cases_avg7\": 839.0, \"deaths_avg3\": 43.0}, {\"county\": \"Los Angeles\", \"state\": \"California\", \"fips\": \"06037\", \"date\": \"2020-05-14T07:00:00+00:00\", \"Lat\": 34.30828379, \"Lon\": -118.2282411, \"cases\": 35392, \"deaths\": 1712.0, \"new_cases\": 854, \"new_deaths\": 52.0, \"cases_avg7\": 840.1428571428571, \"deaths_avg3\": 47.333333333333336}]}}, {\"mode\": \"vega-lite\"});\n",
       "</script>"
      ],
      "text/plain": [
       "alt.HConcatChart(...)"
      ]
     },
     "metadata": {},
     "output_type": "display_data"
    },
    {
     "data": {
      "text/html": [
       "\n",
       "<div id=\"altair-viz-78df3a5f0526424b9986e37ebae330e5\"></div>\n",
       "<script type=\"text/javascript\">\n",
       "  (function(spec, embedOpt){\n",
       "    const outputDiv = document.getElementById(\"altair-viz-78df3a5f0526424b9986e37ebae330e5\");\n",
       "    const paths = {\n",
       "      \"vega\": \"https://cdn.jsdelivr.net/npm//vega@5?noext\",\n",
       "      \"vega-lib\": \"https://cdn.jsdelivr.net/npm//vega-lib?noext\",\n",
       "      \"vega-lite\": \"https://cdn.jsdelivr.net/npm//vega-lite@4.0.2?noext\",\n",
       "      \"vega-embed\": \"https://cdn.jsdelivr.net/npm//vega-embed@6?noext\",\n",
       "    };\n",
       "\n",
       "    function loadScript(lib) {\n",
       "      return new Promise(function(resolve, reject) {\n",
       "        var s = document.createElement('script');\n",
       "        s.src = paths[lib];\n",
       "        s.async = true;\n",
       "        s.onload = () => resolve(paths[lib]);\n",
       "        s.onerror = () => reject(`Error loading script: ${paths[lib]}`);\n",
       "        document.getElementsByTagName(\"head\")[0].appendChild(s);\n",
       "      });\n",
       "    }\n",
       "\n",
       "    function showError(err) {\n",
       "      outputDiv.innerHTML = `<div class=\"error\" style=\"color:red;\">${err}</div>`;\n",
       "      throw err;\n",
       "    }\n",
       "\n",
       "    function displayChart(vegaEmbed) {\n",
       "      vegaEmbed(outputDiv, spec, embedOpt)\n",
       "        .catch(err => showError(`Javascript Error: ${err.message}<br>This usually means there's a typo in your chart specification. See the javascript console for the full traceback.`));\n",
       "    }\n",
       "\n",
       "    if(typeof define === \"function\" && define.amd) {\n",
       "      requirejs.config({paths});\n",
       "      require([\"vega-embed\"], displayChart, err => showError(`Error loading script: ${err.message}`));\n",
       "    } else if (typeof vegaEmbed === \"function\") {\n",
       "      displayChart(vegaEmbed);\n",
       "    } else {\n",
       "      loadScript(\"vega\")\n",
       "        .then(() => loadScript(\"vega-lite\"))\n",
       "        .then(() => loadScript(\"vega-embed\"))\n",
       "        .catch(showError)\n",
       "        .then(() => displayChart(vegaEmbed));\n",
       "    }\n",
       "  })({\"config\": {\"view\": {\"continuousWidth\": 400, \"continuousHeight\": 300, \"strokeOpacity\": 0}, \"axis\": {\"domainOpacity\": 0.4, \"gridOpacity\": 0}, \"title\": {\"anchor\": \"middle\", \"color\": \"black\", \"font\": \"Roboto\", \"fontSize\": 10}}, \"data\": {\"name\": \"data-c2cc5c600c66a6bdd280511545b76fb4\"}, \"mark\": \"line\", \"encoding\": {\"color\": {\"value\": \"#0A4C6A\"}, \"x\": {\"type\": \"temporal\", \"field\": \"date\", \"timeUnit\": \"monthdate\", \"title\": \"date\"}, \"y\": {\"type\": \"quantitative\", \"field\": \"cases_avg7\", \"title\": \"7-day avg\"}}, \"height\": 200, \"title\": \"City of LA: New Cases\", \"width\": 250, \"$schema\": \"https://vega.github.io/schema/vega-lite/v4.0.2.json\", \"datasets\": {\"data-c2cc5c600c66a6bdd280511545b76fb4\": [{\"Date\": \"2020-04-05\", \"cases\": 2659, \"new_cases\": 298, \"date\": \"2020-04-05T00:00:00\", \"cases_avg7\": null}, {\"Date\": \"2020-04-06\", \"cases\": 2851, \"new_cases\": 192, \"date\": \"2020-04-06T00:00:00\", \"cases_avg7\": null}, {\"Date\": \"2020-04-07\", \"cases\": 3130, \"new_cases\": 279, \"date\": \"2020-04-07T00:00:00\", \"cases_avg7\": null}, {\"Date\": \"2020-04-08\", \"cases\": 3360, \"new_cases\": 230, \"date\": \"2020-04-08T00:00:00\", \"cases_avg7\": null}, {\"Date\": \"2020-04-09\", \"cases\": 3587, \"new_cases\": 227, \"date\": \"2020-04-09T00:00:00\", \"cases_avg7\": null}, {\"Date\": \"2020-04-10\", \"cases\": 3787, \"new_cases\": 200, \"date\": \"2020-04-10T00:00:00\", \"cases_avg7\": null}, {\"Date\": \"2020-04-11\", \"cases\": 3990, \"new_cases\": 203, \"date\": \"2020-04-11T00:00:00\", \"cases_avg7\": 232.71428571428572}, {\"Date\": \"2020-04-12\", \"cases\": 4092, \"new_cases\": 102, \"date\": \"2020-04-12T00:00:00\", \"cases_avg7\": 204.71428571428572}, {\"Date\": \"2020-04-13\", \"cases\": 4205, \"new_cases\": 113, \"date\": \"2020-04-13T00:00:00\", \"cases_avg7\": 193.42857142857142}, {\"Date\": \"2020-04-14\", \"cases\": 4462, \"new_cases\": 257, \"date\": \"2020-04-14T00:00:00\", \"cases_avg7\": 190.28571428571428}, {\"Date\": \"2020-04-15\", \"cases\": 4707, \"new_cases\": 245, \"date\": \"2020-04-15T00:00:00\", \"cases_avg7\": 192.42857142857142}, {\"Date\": \"2020-04-16\", \"cases\": 4852, \"new_cases\": 145, \"date\": \"2020-04-16T00:00:00\", \"cases_avg7\": 180.71428571428572}, {\"Date\": \"2020-04-17\", \"cases\": 5093, \"new_cases\": 241, \"date\": \"2020-04-17T00:00:00\", \"cases_avg7\": 186.57142857142858}, {\"Date\": \"2020-04-18\", \"cases\": 5387, \"new_cases\": 294, \"date\": \"2020-04-18T00:00:00\", \"cases_avg7\": 199.57142857142858}, {\"Date\": \"2020-04-19\", \"cases\": 5508, \"new_cases\": 121, \"date\": \"2020-04-19T00:00:00\", \"cases_avg7\": 202.28571428571428}, {\"Date\": \"2020-04-20\", \"cases\": 6224, \"new_cases\": 716, \"date\": \"2020-04-20T00:00:00\", \"cases_avg7\": 288.42857142857144}, {\"Date\": \"2020-04-21\", \"cases\": 6904, \"new_cases\": 680, \"date\": \"2020-04-21T00:00:00\", \"cases_avg7\": 348.85714285714283}, {\"Date\": \"2020-04-22\", \"cases\": 7551, \"new_cases\": 647, \"date\": \"2020-04-22T00:00:00\", \"cases_avg7\": 406.2857142857143}, {\"Date\": \"2020-04-23\", \"cases\": 8022, \"new_cases\": 471, \"date\": \"2020-04-23T00:00:00\", \"cases_avg7\": 452.85714285714283}, {\"Date\": \"2020-04-24\", \"cases\": 8450, \"new_cases\": 428, \"date\": \"2020-04-24T00:00:00\", \"cases_avg7\": 479.57142857142856}, {\"Date\": \"2020-04-25\", \"cases\": 8695, \"new_cases\": 245, \"date\": \"2020-04-25T00:00:00\", \"cases_avg7\": 472.57142857142856}, {\"Date\": \"2020-04-26\", \"cases\": 8896, \"new_cases\": 201, \"date\": \"2020-04-26T00:00:00\", \"cases_avg7\": 484.0}, {\"Date\": \"2020-04-27\", \"cases\": 9389, \"new_cases\": 493, \"date\": \"2020-04-27T00:00:00\", \"cases_avg7\": 452.14285714285717}, {\"Date\": \"2020-04-28\", \"cases\": 9697, \"new_cases\": 308, \"date\": \"2020-04-28T00:00:00\", \"cases_avg7\": 399.0}, {\"Date\": \"2020-04-29\", \"cases\": 10380, \"new_cases\": 683, \"date\": \"2020-04-29T00:00:00\", \"cases_avg7\": 404.14285714285717}, {\"Date\": \"2020-04-30\", \"cases\": 10863, \"new_cases\": 483, \"date\": \"2020-04-30T00:00:00\", \"cases_avg7\": 405.85714285714283}, {\"Date\": \"2020-05-01\", \"cases\": 11553, \"new_cases\": 690, \"date\": \"2020-05-01T00:00:00\", \"cases_avg7\": 443.2857142857143}, {\"Date\": \"2020-05-02\", \"cases\": 11908, \"new_cases\": 355, \"date\": \"2020-05-02T00:00:00\", \"cases_avg7\": 459.0}, {\"Date\": \"2020-05-03\", \"cases\": 12300, \"new_cases\": 392, \"date\": \"2020-05-03T00:00:00\", \"cases_avg7\": 486.2857142857143}, {\"Date\": \"2020-05-04\", \"cases\": 12525, \"new_cases\": 225, \"date\": \"2020-05-04T00:00:00\", \"cases_avg7\": 448.0}, {\"Date\": \"2020-05-05\", \"cases\": 13468, \"new_cases\": 943, \"date\": \"2020-05-05T00:00:00\", \"cases_avg7\": 538.7142857142857}, {\"Date\": \"2020-05-06\", \"cases\": 13868, \"new_cases\": 400, \"date\": \"2020-05-06T00:00:00\", \"cases_avg7\": 498.2857142857143}, {\"Date\": \"2020-05-07\", \"cases\": 14253, \"new_cases\": 385, \"date\": \"2020-05-07T00:00:00\", \"cases_avg7\": 484.2857142857143}, {\"Date\": \"2020-05-08\", \"cases\": 14563, \"new_cases\": 310, \"date\": \"2020-05-08T00:00:00\", \"cases_avg7\": 430.0}, {\"Date\": \"2020-05-09\", \"cases\": 15015, \"new_cases\": 452, \"date\": \"2020-05-09T00:00:00\", \"cases_avg7\": 443.85714285714283}, {\"Date\": \"2020-05-10\", \"cases\": 15223, \"new_cases\": 208, \"date\": \"2020-05-10T00:00:00\", \"cases_avg7\": 417.57142857142856}, {\"Date\": \"2020-05-11\", \"cases\": 15568, \"new_cases\": 345, \"date\": \"2020-05-11T00:00:00\", \"cases_avg7\": 434.7142857142857}, {\"Date\": \"2020-05-12\", \"cases\": 16065, \"new_cases\": 497, \"date\": \"2020-05-12T00:00:00\", \"cases_avg7\": 371.0}, {\"Date\": \"2020-05-13\", \"cases\": 16610, \"new_cases\": 545, \"date\": \"2020-05-13T00:00:00\", \"cases_avg7\": 391.7142857142857}, {\"Date\": \"2020-05-14\", \"cases\": 17037, \"new_cases\": 427, \"date\": \"2020-05-14T00:00:00\", \"cases_avg7\": 397.7142857142857}]}}, {\"mode\": \"vega-lite\"});\n",
       "</script>"
      ],
      "text/plain": [
       "alt.Chart(...)"
      ]
     },
     "metadata": {},
     "output_type": "display_data"
    },
    {
     "data": {
      "text/html": [
       "\n",
       "<div id=\"altair-viz-cb832757cea3487dbefe1137f370edad\"></div>\n",
       "<script type=\"text/javascript\">\n",
       "  (function(spec, embedOpt){\n",
       "    const outputDiv = document.getElementById(\"altair-viz-cb832757cea3487dbefe1137f370edad\");\n",
       "    const paths = {\n",
       "      \"vega\": \"https://cdn.jsdelivr.net/npm//vega@5?noext\",\n",
       "      \"vega-lib\": \"https://cdn.jsdelivr.net/npm//vega-lib?noext\",\n",
       "      \"vega-lite\": \"https://cdn.jsdelivr.net/npm//vega-lite@4.0.2?noext\",\n",
       "      \"vega-embed\": \"https://cdn.jsdelivr.net/npm//vega-embed@6?noext\",\n",
       "    };\n",
       "\n",
       "    function loadScript(lib) {\n",
       "      return new Promise(function(resolve, reject) {\n",
       "        var s = document.createElement('script');\n",
       "        s.src = paths[lib];\n",
       "        s.async = true;\n",
       "        s.onload = () => resolve(paths[lib]);\n",
       "        s.onerror = () => reject(`Error loading script: ${paths[lib]}`);\n",
       "        document.getElementsByTagName(\"head\")[0].appendChild(s);\n",
       "      });\n",
       "    }\n",
       "\n",
       "    function showError(err) {\n",
       "      outputDiv.innerHTML = `<div class=\"error\" style=\"color:red;\">${err}</div>`;\n",
       "      throw err;\n",
       "    }\n",
       "\n",
       "    function displayChart(vegaEmbed) {\n",
       "      vegaEmbed(outputDiv, spec, embedOpt)\n",
       "        .catch(err => showError(`Javascript Error: ${err.message}<br>This usually means there's a typo in your chart specification. See the javascript console for the full traceback.`));\n",
       "    }\n",
       "\n",
       "    if(typeof define === \"function\" && define.amd) {\n",
       "      requirejs.config({paths});\n",
       "      require([\"vega-embed\"], displayChart, err => showError(`Error loading script: ${err.message}`));\n",
       "    } else if (typeof vegaEmbed === \"function\") {\n",
       "      displayChart(vegaEmbed);\n",
       "    } else {\n",
       "      loadScript(\"vega\")\n",
       "        .then(() => loadScript(\"vega-lite\"))\n",
       "        .then(() => loadScript(\"vega-embed\"))\n",
       "        .catch(showError)\n",
       "        .then(() => displayChart(vegaEmbed));\n",
       "    }\n",
       "  })({\"config\": {\"view\": {\"continuousWidth\": 400, \"continuousHeight\": 300, \"strokeOpacity\": 0}, \"axis\": {\"domainOpacity\": 0.4, \"gridOpacity\": 0}, \"title\": {\"anchor\": \"middle\", \"color\": \"black\", \"font\": \"Roboto\", \"fontSize\": 10}}, \"hconcat\": [{\"mark\": \"line\", \"encoding\": {\"color\": {\"value\": \"#0A4C6A\"}, \"x\": {\"type\": \"temporal\", \"field\": \"date\", \"timeUnit\": \"monthdate\", \"title\": \"date\"}, \"y\": {\"type\": \"quantitative\", \"field\": \"cases_avg7\", \"title\": \"7-day avg\"}}, \"height\": 200, \"title\": \"California: New Cases\", \"width\": 250}, {\"mark\": \"line\", \"encoding\": {\"color\": {\"value\": \"#A30F23\"}, \"x\": {\"type\": \"temporal\", \"field\": \"date\", \"timeUnit\": \"monthdate\", \"title\": \"date\"}, \"y\": {\"type\": \"quantitative\", \"field\": \"deaths_avg3\", \"title\": \"3-day avg\"}}, \"height\": 200, \"title\": \"California: New Deaths\", \"width\": 250}], \"data\": {\"name\": \"data-2f4833c736608d36c1da4cd9b2c928ec\"}, \"$schema\": \"https://vega.github.io/schema/vega-lite/v4.0.2.json\", \"datasets\": {\"data-2f4833c736608d36c1da4cd9b2c928ec\": [{\"state\": \"California\", \"date\": \"2020-03-01T08:00:00+00:00\", \"cases\": 12, \"deaths\": 0, \"new_cases\": 0, \"new_deaths\": 0, \"cases_avg7\": null, \"deaths_avg3\": null}, {\"state\": \"California\", \"date\": \"2020-03-02T08:00:00+00:00\", \"cases\": 21, \"deaths\": 0, \"new_cases\": 9, \"new_deaths\": 0, \"cases_avg7\": null, \"deaths_avg3\": null}, {\"state\": \"California\", \"date\": \"2020-03-03T08:00:00+00:00\", \"cases\": 25, \"deaths\": 0, \"new_cases\": 4, \"new_deaths\": 0, \"cases_avg7\": null, \"deaths_avg3\": 0.0}, {\"state\": \"California\", \"date\": \"2020-03-04T08:00:00+00:00\", \"cases\": 35, \"deaths\": 1, \"new_cases\": 10, \"new_deaths\": 1, \"cases_avg7\": null, \"deaths_avg3\": 0.3333333333333333}, {\"state\": \"California\", \"date\": \"2020-03-05T08:00:00+00:00\", \"cases\": 51, \"deaths\": 1, \"new_cases\": 16, \"new_deaths\": 0, \"cases_avg7\": null, \"deaths_avg3\": 0.3333333333333333}, {\"state\": \"California\", \"date\": \"2020-03-06T08:00:00+00:00\", \"cases\": 59, \"deaths\": 1, \"new_cases\": 8, \"new_deaths\": 0, \"cases_avg7\": null, \"deaths_avg3\": 0.3333333333333333}, {\"state\": \"California\", \"date\": \"2020-03-07T08:00:00+00:00\", \"cases\": 81, \"deaths\": 1, \"new_cases\": 22, \"new_deaths\": 0, \"cases_avg7\": 9.857142857142858, \"deaths_avg3\": 0.0}, {\"state\": \"California\", \"date\": \"2020-03-08T08:00:00+00:00\", \"cases\": 95, \"deaths\": 1, \"new_cases\": 14, \"new_deaths\": 0, \"cases_avg7\": 11.857142857142858, \"deaths_avg3\": 0.0}, {\"state\": \"California\", \"date\": \"2020-03-09T07:00:00+00:00\", \"cases\": 101, \"deaths\": 1, \"new_cases\": 6, \"new_deaths\": 0, \"cases_avg7\": 11.428571428571429, \"deaths_avg3\": 0.0}, {\"state\": \"California\", \"date\": \"2020-03-10T07:00:00+00:00\", \"cases\": 144, \"deaths\": 2, \"new_cases\": 43, \"new_deaths\": 1, \"cases_avg7\": 17.0, \"deaths_avg3\": 0.3333333333333333}, {\"state\": \"California\", \"date\": \"2020-03-11T07:00:00+00:00\", \"cases\": 178, \"deaths\": 4, \"new_cases\": 34, \"new_deaths\": 2, \"cases_avg7\": 20.428571428571427, \"deaths_avg3\": 1.0}, {\"state\": \"California\", \"date\": \"2020-03-12T07:00:00+00:00\", \"cases\": 221, \"deaths\": 4, \"new_cases\": 43, \"new_deaths\": 0, \"cases_avg7\": 24.285714285714285, \"deaths_avg3\": 1.0}, {\"state\": \"California\", \"date\": \"2020-03-13T07:00:00+00:00\", \"cases\": 281, \"deaths\": 4, \"new_cases\": 60, \"new_deaths\": 0, \"cases_avg7\": 31.714285714285715, \"deaths_avg3\": 0.6666666666666666}, {\"state\": \"California\", \"date\": \"2020-03-14T07:00:00+00:00\", \"cases\": 372, \"deaths\": 3, \"new_cases\": 91, \"new_deaths\": -1, \"cases_avg7\": 41.57142857142857, \"deaths_avg3\": -0.3333333333333333}, {\"state\": \"California\", \"date\": \"2020-03-15T07:00:00+00:00\", \"cases\": 373, \"deaths\": 5, \"new_cases\": 1, \"new_deaths\": 2, \"cases_avg7\": 39.714285714285715, \"deaths_avg3\": 0.3333333333333333}, {\"state\": \"California\", \"date\": \"2020-03-16T07:00:00+00:00\", \"cases\": 557, \"deaths\": 7, \"new_cases\": 184, \"new_deaths\": 2, \"cases_avg7\": 65.14285714285714, \"deaths_avg3\": 1.0}, {\"state\": \"California\", \"date\": \"2020-03-17T07:00:00+00:00\", \"cases\": 700, \"deaths\": 12, \"new_cases\": 143, \"new_deaths\": 5, \"cases_avg7\": 79.42857142857143, \"deaths_avg3\": 3.0}, {\"state\": \"California\", \"date\": \"2020-03-18T07:00:00+00:00\", \"cases\": 828, \"deaths\": 16, \"new_cases\": 128, \"new_deaths\": 4, \"cases_avg7\": 92.85714285714286, \"deaths_avg3\": 3.6666666666666665}, {\"state\": \"California\", \"date\": \"2020-03-19T07:00:00+00:00\", \"cases\": 1005, \"deaths\": 18, \"new_cases\": 177, \"new_deaths\": 2, \"cases_avg7\": 112.0, \"deaths_avg3\": 3.6666666666666665}, {\"state\": \"California\", \"date\": \"2020-03-20T07:00:00+00:00\", \"cases\": 1243, \"deaths\": 24, \"new_cases\": 238, \"new_deaths\": 6, \"cases_avg7\": 137.42857142857142, \"deaths_avg3\": 4.0}, {\"state\": \"California\", \"date\": \"2020-03-21T07:00:00+00:00\", \"cases\": 1405, \"deaths\": 25, \"new_cases\": 162, \"new_deaths\": 1, \"cases_avg7\": 147.57142857142858, \"deaths_avg3\": 3.0}, {\"state\": \"California\", \"date\": \"2020-03-22T07:00:00+00:00\", \"cases\": 1646, \"deaths\": 30, \"new_cases\": 241, \"new_deaths\": 5, \"cases_avg7\": 181.85714285714286, \"deaths_avg3\": 4.0}, {\"state\": \"California\", \"date\": \"2020-03-23T07:00:00+00:00\", \"cases\": 2108, \"deaths\": 39, \"new_cases\": 462, \"new_deaths\": 9, \"cases_avg7\": 221.57142857142858, \"deaths_avg3\": 5.0}, {\"state\": \"California\", \"date\": \"2020-03-24T07:00:00+00:00\", \"cases\": 2538, \"deaths\": 50, \"new_cases\": 430, \"new_deaths\": 11, \"cases_avg7\": 262.57142857142856, \"deaths_avg3\": 8.333333333333334}, {\"state\": \"California\", \"date\": \"2020-03-25T07:00:00+00:00\", \"cases\": 2998, \"deaths\": 65, \"new_cases\": 460, \"new_deaths\": 15, \"cases_avg7\": 310.0, \"deaths_avg3\": 11.666666666666666}, {\"state\": \"California\", \"date\": \"2020-03-26T07:00:00+00:00\", \"cases\": 3899, \"deaths\": 81, \"new_cases\": 901, \"new_deaths\": 16, \"cases_avg7\": 413.42857142857144, \"deaths_avg3\": 14.0}, {\"state\": \"California\", \"date\": \"2020-03-27T07:00:00+00:00\", \"cases\": 4657, \"deaths\": 94, \"new_cases\": 758, \"new_deaths\": 13, \"cases_avg7\": 487.7142857142857, \"deaths_avg3\": 14.666666666666666}, {\"state\": \"California\", \"date\": \"2020-03-28T07:00:00+00:00\", \"cases\": 5095, \"deaths\": 110, \"new_cases\": 438, \"new_deaths\": 16, \"cases_avg7\": 527.1428571428571, \"deaths_avg3\": 15.0}, {\"state\": \"California\", \"date\": \"2020-03-29T07:00:00+00:00\", \"cases\": 5852, \"deaths\": 124, \"new_cases\": 757, \"new_deaths\": 14, \"cases_avg7\": 600.8571428571429, \"deaths_avg3\": 14.333333333333334}, {\"state\": \"California\", \"date\": \"2020-03-30T07:00:00+00:00\", \"cases\": 7138, \"deaths\": 146, \"new_cases\": 1286, \"new_deaths\": 22, \"cases_avg7\": 718.5714285714286, \"deaths_avg3\": 17.333333333333332}, {\"state\": \"California\", \"date\": \"2020-03-31T07:00:00+00:00\", \"cases\": 8210, \"deaths\": 173, \"new_cases\": 1072, \"new_deaths\": 27, \"cases_avg7\": 810.2857142857143, \"deaths_avg3\": 21.0}, {\"state\": \"California\", \"date\": \"2020-04-01T07:00:00+00:00\", \"cases\": 9399, \"deaths\": 199, \"new_cases\": 1189, \"new_deaths\": 26, \"cases_avg7\": 914.4285714285714, \"deaths_avg3\": 25.0}, {\"state\": \"California\", \"date\": \"2020-04-02T07:00:00+00:00\", \"cases\": 10773, \"deaths\": 238, \"new_cases\": 1374, \"new_deaths\": 39, \"cases_avg7\": 982.0, \"deaths_avg3\": 30.666666666666668}, {\"state\": \"California\", \"date\": \"2020-04-03T07:00:00+00:00\", \"cases\": 12004, \"deaths\": 265, \"new_cases\": 1231, \"new_deaths\": 27, \"cases_avg7\": 1049.5714285714287, \"deaths_avg3\": 30.666666666666668}, {\"state\": \"California\", \"date\": \"2020-04-04T07:00:00+00:00\", \"cases\": 12837, \"deaths\": 289, \"new_cases\": 833, \"new_deaths\": 24, \"cases_avg7\": 1106.0, \"deaths_avg3\": 30.0}, {\"state\": \"California\", \"date\": \"2020-04-05T07:00:00+00:00\", \"cases\": 15034, \"deaths\": 348, \"new_cases\": 2197, \"new_deaths\": 59, \"cases_avg7\": 1311.7142857142858, \"deaths_avg3\": 36.666666666666664}, {\"state\": \"California\", \"date\": \"2020-04-06T07:00:00+00:00\", \"cases\": 16019, \"deaths\": 380, \"new_cases\": 985, \"new_deaths\": 32, \"cases_avg7\": 1268.7142857142858, \"deaths_avg3\": 38.333333333333336}, {\"state\": \"California\", \"date\": \"2020-04-07T07:00:00+00:00\", \"cases\": 17351, \"deaths\": 432, \"new_cases\": 1332, \"new_deaths\": 52, \"cases_avg7\": 1305.857142857143, \"deaths_avg3\": 47.666666666666664}, {\"state\": \"California\", \"date\": \"2020-04-08T07:00:00+00:00\", \"cases\": 18897, \"deaths\": 495, \"new_cases\": 1546, \"new_deaths\": 63, \"cases_avg7\": 1356.857142857143, \"deaths_avg3\": 49.0}, {\"state\": \"California\", \"date\": \"2020-04-09T07:00:00+00:00\", \"cases\": 19710, \"deaths\": 544, \"new_cases\": 813, \"new_deaths\": 49, \"cases_avg7\": 1276.7142857142858, \"deaths_avg3\": 54.666666666666664}, {\"state\": \"California\", \"date\": \"2020-04-10T07:00:00+00:00\", \"cases\": 21081, \"deaths\": 583, \"new_cases\": 1371, \"new_deaths\": 39, \"cases_avg7\": 1296.7142857142858, \"deaths_avg3\": 50.333333333333336}, {\"state\": \"California\", \"date\": \"2020-04-11T07:00:00+00:00\", \"cases\": 21706, \"deaths\": 604, \"new_cases\": 625, \"new_deaths\": 21, \"cases_avg7\": 1267.0, \"deaths_avg3\": 36.333333333333336}, {\"state\": \"California\", \"date\": \"2020-04-12T07:00:00+00:00\", \"cases\": 22795, \"deaths\": 640, \"new_cases\": 1089, \"new_deaths\": 36, \"cases_avg7\": 1108.7142857142858, \"deaths_avg3\": 32.0}, {\"state\": \"California\", \"date\": \"2020-04-13T07:00:00+00:00\", \"cases\": 23931, \"deaths\": 714, \"new_cases\": 1136, \"new_deaths\": 74, \"cases_avg7\": 1130.2857142857142, \"deaths_avg3\": 43.666666666666664}, {\"state\": \"California\", \"date\": \"2020-04-14T07:00:00+00:00\", \"cases\": 25356, \"deaths\": 767, \"new_cases\": 1425, \"new_deaths\": 53, \"cases_avg7\": 1143.5714285714287, \"deaths_avg3\": 54.333333333333336}, {\"state\": \"California\", \"date\": \"2020-04-15T07:00:00+00:00\", \"cases\": 26686, \"deaths\": 860, \"new_cases\": 1330, \"new_deaths\": 93, \"cases_avg7\": 1112.7142857142858, \"deaths_avg3\": 73.33333333333333}, {\"state\": \"California\", \"date\": \"2020-04-16T07:00:00+00:00\", \"cases\": 27677, \"deaths\": 956, \"new_cases\": 991, \"new_deaths\": 96, \"cases_avg7\": 1138.142857142857, \"deaths_avg3\": 80.66666666666667}, {\"state\": \"California\", \"date\": \"2020-04-17T07:00:00+00:00\", \"cases\": 29157, \"deaths\": 1037, \"new_cases\": 1480, \"new_deaths\": 81, \"cases_avg7\": 1153.7142857142858, \"deaths_avg3\": 90.0}, {\"state\": \"California\", \"date\": \"2020-04-18T07:00:00+00:00\", \"cases\": 30491, \"deaths\": 1140, \"new_cases\": 1334, \"new_deaths\": 103, \"cases_avg7\": 1255.0, \"deaths_avg3\": 93.33333333333333}, {\"state\": \"California\", \"date\": \"2020-04-19T07:00:00+00:00\", \"cases\": 31431, \"deaths\": 1177, \"new_cases\": 940, \"new_deaths\": 37, \"cases_avg7\": 1233.7142857142858, \"deaths_avg3\": 73.66666666666667}, {\"state\": \"California\", \"date\": \"2020-04-20T07:00:00+00:00\", \"cases\": 33686, \"deaths\": 1225, \"new_cases\": 2255, \"new_deaths\": 48, \"cases_avg7\": 1393.5714285714287, \"deaths_avg3\": 62.666666666666664}, {\"state\": \"California\", \"date\": \"2020-04-21T07:00:00+00:00\", \"cases\": 35465, \"deaths\": 1282, \"new_cases\": 1779, \"new_deaths\": 57, \"cases_avg7\": 1444.142857142857, \"deaths_avg3\": 47.333333333333336}, {\"state\": \"California\", \"date\": \"2020-04-22T07:00:00+00:00\", \"cases\": 37344, \"deaths\": 1421, \"new_cases\": 1879, \"new_deaths\": 139, \"cases_avg7\": 1522.5714285714287, \"deaths_avg3\": 81.33333333333333}, {\"state\": \"California\", \"date\": \"2020-04-23T07:00:00+00:00\", \"cases\": 39561, \"deaths\": 1533, \"new_cases\": 2217, \"new_deaths\": 112, \"cases_avg7\": 1697.7142857142858, \"deaths_avg3\": 102.66666666666667}, {\"state\": \"California\", \"date\": \"2020-04-24T07:00:00+00:00\", \"cases\": 41355, \"deaths\": 1621, \"new_cases\": 1794, \"new_deaths\": 88, \"cases_avg7\": 1742.5714285714287, \"deaths_avg3\": 113.0}, {\"state\": \"California\", \"date\": \"2020-04-25T07:00:00+00:00\", \"cases\": 42368, \"deaths\": 1689, \"new_cases\": 1013, \"new_deaths\": 68, \"cases_avg7\": 1696.7142857142858, \"deaths_avg3\": 89.33333333333333}, {\"state\": \"California\", \"date\": \"2020-04-26T07:00:00+00:00\", \"cases\": 43558, \"deaths\": 1725, \"new_cases\": 1190, \"new_deaths\": 36, \"cases_avg7\": 1732.4285714285713, \"deaths_avg3\": 64.0}, {\"state\": \"California\", \"date\": \"2020-04-27T07:00:00+00:00\", \"cases\": 44966, \"deaths\": 1779, \"new_cases\": 1408, \"new_deaths\": 54, \"cases_avg7\": 1611.4285714285713, \"deaths_avg3\": 52.666666666666664}, {\"state\": \"California\", \"date\": \"2020-04-28T07:00:00+00:00\", \"cases\": 46164, \"deaths\": 1864, \"new_cases\": 1198, \"new_deaths\": 85, \"cases_avg7\": 1528.4285714285713, \"deaths_avg3\": 58.333333333333336}, {\"state\": \"California\", \"date\": \"2020-04-29T07:00:00+00:00\", \"cases\": 48747, \"deaths\": 1946, \"new_cases\": 2583, \"new_deaths\": 82, \"cases_avg7\": 1629.0, \"deaths_avg3\": 73.66666666666667}, {\"state\": \"California\", \"date\": \"2020-04-30T07:00:00+00:00\", \"cases\": 50130, \"deaths\": 2031, \"new_cases\": 1383, \"new_deaths\": 85, \"cases_avg7\": 1509.857142857143, \"deaths_avg3\": 84.0}, {\"state\": \"California\", \"date\": \"2020-05-01T07:00:00+00:00\", \"cases\": 52026, \"deaths\": 2126, \"new_cases\": 1896, \"new_deaths\": 95, \"cases_avg7\": 1524.4285714285713, \"deaths_avg3\": 87.33333333333333}, {\"state\": \"California\", \"date\": \"2020-05-02T07:00:00+00:00\", \"cases\": 53347, \"deaths\": 2180, \"new_cases\": 1321, \"new_deaths\": 54, \"cases_avg7\": 1568.4285714285713, \"deaths_avg3\": 78.0}, {\"state\": \"California\", \"date\": \"2020-05-03T07:00:00+00:00\", \"cases\": 54903, \"deaths\": 2216, \"new_cases\": 1556, \"new_deaths\": 36, \"cases_avg7\": 1620.7142857142858, \"deaths_avg3\": 61.666666666666664}, {\"state\": \"California\", \"date\": \"2020-05-04T07:00:00+00:00\", \"cases\": 55884, \"deaths\": 2278, \"new_cases\": 981, \"new_deaths\": 62, \"cases_avg7\": 1559.7142857142858, \"deaths_avg3\": 50.666666666666664}, {\"state\": \"California\", \"date\": \"2020-05-05T07:00:00+00:00\", \"cases\": 58456, \"deaths\": 2381, \"new_cases\": 2572, \"new_deaths\": 103, \"cases_avg7\": 1756.0, \"deaths_avg3\": 67.0}, {\"state\": \"California\", \"date\": \"2020-05-06T07:00:00+00:00\", \"cases\": 60616, \"deaths\": 2464, \"new_cases\": 2160, \"new_deaths\": 83, \"cases_avg7\": 1695.5714285714287, \"deaths_avg3\": 82.66666666666667}, {\"state\": \"California\", \"date\": \"2020-05-07T07:00:00+00:00\", \"cases\": 62148, \"deaths\": 2535, \"new_cases\": 1532, \"new_deaths\": 71, \"cases_avg7\": 1716.857142857143, \"deaths_avg3\": 85.66666666666667}, {\"state\": \"California\", \"date\": \"2020-05-08T07:00:00+00:00\", \"cases\": 63779, \"deaths\": 2613, \"new_cases\": 1631, \"new_deaths\": 78, \"cases_avg7\": 1679.0, \"deaths_avg3\": 77.33333333333333}, {\"state\": \"California\", \"date\": \"2020-05-09T07:00:00+00:00\", \"cases\": 66558, \"deaths\": 2687, \"new_cases\": 2779, \"new_deaths\": 74, \"cases_avg7\": 1887.2857142857142, \"deaths_avg3\": 74.33333333333333}, {\"state\": \"California\", \"date\": \"2020-05-10T07:00:00+00:00\", \"cases\": 67600, \"deaths\": 2716, \"new_cases\": 1042, \"new_deaths\": 29, \"cases_avg7\": 1813.857142857143, \"deaths_avg3\": 60.333333333333336}, {\"state\": \"California\", \"date\": \"2020-05-11T07:00:00+00:00\", \"cases\": 69329, \"deaths\": 2779, \"new_cases\": 1729, \"new_deaths\": 63, \"cases_avg7\": 1920.7142857142858, \"deaths_avg3\": 55.333333333333336}, {\"state\": \"California\", \"date\": \"2020-05-12T07:00:00+00:00\", \"cases\": 70978, \"deaths\": 2879, \"new_cases\": 1649, \"new_deaths\": 100, \"cases_avg7\": 1788.857142857143, \"deaths_avg3\": 64.0}, {\"state\": \"California\", \"date\": \"2020-05-13T07:00:00+00:00\", \"cases\": 72798, \"deaths\": 2957, \"new_cases\": 1820, \"new_deaths\": 78, \"cases_avg7\": 1740.2857142857142, \"deaths_avg3\": 80.33333333333333}, {\"state\": \"California\", \"date\": \"2020-05-14T07:00:00+00:00\", \"cases\": 74392, \"deaths\": 3033, \"new_cases\": 1594, \"new_deaths\": 76, \"cases_avg7\": 1749.142857142857, \"deaths_avg3\": 84.66666666666667}]}}, {\"mode\": \"vega-lite\"});\n",
       "</script>"
      ],
      "text/plain": [
       "alt.HConcatChart(...)"
      ]
     },
     "metadata": {},
     "output_type": "display_data"
    },
    {
     "data": {
      "text/html": [
       "\n",
       "<div id=\"altair-viz-d19eeaf505bd47a88d9e0c2e814435eb\"></div>\n",
       "<script type=\"text/javascript\">\n",
       "  (function(spec, embedOpt){\n",
       "    const outputDiv = document.getElementById(\"altair-viz-d19eeaf505bd47a88d9e0c2e814435eb\");\n",
       "    const paths = {\n",
       "      \"vega\": \"https://cdn.jsdelivr.net/npm//vega@5?noext\",\n",
       "      \"vega-lib\": \"https://cdn.jsdelivr.net/npm//vega-lib?noext\",\n",
       "      \"vega-lite\": \"https://cdn.jsdelivr.net/npm//vega-lite@4.0.2?noext\",\n",
       "      \"vega-embed\": \"https://cdn.jsdelivr.net/npm//vega-embed@6?noext\",\n",
       "    };\n",
       "\n",
       "    function loadScript(lib) {\n",
       "      return new Promise(function(resolve, reject) {\n",
       "        var s = document.createElement('script');\n",
       "        s.src = paths[lib];\n",
       "        s.async = true;\n",
       "        s.onload = () => resolve(paths[lib]);\n",
       "        s.onerror = () => reject(`Error loading script: ${paths[lib]}`);\n",
       "        document.getElementsByTagName(\"head\")[0].appendChild(s);\n",
       "      });\n",
       "    }\n",
       "\n",
       "    function showError(err) {\n",
       "      outputDiv.innerHTML = `<div class=\"error\" style=\"color:red;\">${err}</div>`;\n",
       "      throw err;\n",
       "    }\n",
       "\n",
       "    function displayChart(vegaEmbed) {\n",
       "      vegaEmbed(outputDiv, spec, embedOpt)\n",
       "        .catch(err => showError(`Javascript Error: ${err.message}<br>This usually means there's a typo in your chart specification. See the javascript console for the full traceback.`));\n",
       "    }\n",
       "\n",
       "    if(typeof define === \"function\" && define.amd) {\n",
       "      requirejs.config({paths});\n",
       "      require([\"vega-embed\"], displayChart, err => showError(`Error loading script: ${err.message}`));\n",
       "    } else if (typeof vegaEmbed === \"function\") {\n",
       "      displayChart(vegaEmbed);\n",
       "    } else {\n",
       "      loadScript(\"vega\")\n",
       "        .then(() => loadScript(\"vega-lite\"))\n",
       "        .then(() => loadScript(\"vega-embed\"))\n",
       "        .catch(showError)\n",
       "        .then(() => displayChart(vegaEmbed));\n",
       "    }\n",
       "  })({\"config\": {\"view\": {\"continuousWidth\": 400, \"continuousHeight\": 300, \"strokeOpacity\": 0}, \"axis\": {\"domainOpacity\": 0.4, \"gridOpacity\": 0}, \"title\": {\"anchor\": \"middle\", \"color\": \"black\", \"font\": \"Roboto\", \"fontSize\": 10}}, \"hconcat\": [{\"mark\": \"line\", \"encoding\": {\"color\": {\"value\": \"#0A4C6A\"}, \"x\": {\"type\": \"temporal\", \"field\": \"date\", \"timeUnit\": \"monthdate\", \"title\": \"date\"}, \"y\": {\"type\": \"quantitative\", \"field\": \"cases_avg7\", \"title\": \"7-day avg\"}}, \"height\": 200, \"title\": \"Los Angeles-Long Beach-Anaheim, CA MSA: New Cases\", \"width\": 250}, {\"mark\": \"line\", \"encoding\": {\"color\": {\"value\": \"#A30F23\"}, \"x\": {\"type\": \"temporal\", \"field\": \"date\", \"timeUnit\": \"monthdate\", \"title\": \"date\"}, \"y\": {\"type\": \"quantitative\", \"field\": \"deaths_avg3\", \"title\": \"3-day avg\"}}, \"height\": 200, \"title\": \"Los Angeles-Long Beach-Anaheim, CA MSA: New Deaths\", \"width\": 250}], \"data\": {\"name\": \"data-94078a5571dc6b56f4ad718c47f3ee3b\"}, \"$schema\": \"https://vega.github.io/schema/vega-lite/v4.0.2.json\", \"datasets\": {\"data-94078a5571dc6b56f4ad718c47f3ee3b\": [{\"msa\": \"Los Angeles-Long Beach-Anaheim, CA\", \"msa_pop\": 13214799.0, \"date\": \"2020-03-01T08:00:00+00:00\", \"cases\": 2, \"deaths\": 0.0, \"new_cases\": null, \"new_deaths\": null, \"cases_avg7\": null, \"deaths_avg3\": null}, {\"msa\": \"Los Angeles-Long Beach-Anaheim, CA\", \"msa_pop\": 13214799.0, \"date\": \"2020-03-02T08:00:00+00:00\", \"cases\": 2, \"deaths\": 0.0, \"new_cases\": 0.0, \"new_deaths\": 0.0, \"cases_avg7\": null, \"deaths_avg3\": null}, {\"msa\": \"Los Angeles-Long Beach-Anaheim, CA\", \"msa_pop\": 13214799.0, \"date\": \"2020-03-03T08:00:00+00:00\", \"cases\": 2, \"deaths\": 0.0, \"new_cases\": 0.0, \"new_deaths\": 0.0, \"cases_avg7\": null, \"deaths_avg3\": null}, {\"msa\": \"Los Angeles-Long Beach-Anaheim, CA\", \"msa_pop\": 13214799.0, \"date\": \"2020-03-04T08:00:00+00:00\", \"cases\": 10, \"deaths\": 0.0, \"new_cases\": 8.0, \"new_deaths\": 0.0, \"cases_avg7\": null, \"deaths_avg3\": 0.0}, {\"msa\": \"Los Angeles-Long Beach-Anaheim, CA\", \"msa_pop\": 13214799.0, \"date\": \"2020-03-05T08:00:00+00:00\", \"cases\": 14, \"deaths\": 0.0, \"new_cases\": 4.0, \"new_deaths\": 0.0, \"cases_avg7\": null, \"deaths_avg3\": 0.0}, {\"msa\": \"Los Angeles-Long Beach-Anaheim, CA\", \"msa_pop\": 13214799.0, \"date\": \"2020-03-06T08:00:00+00:00\", \"cases\": 16, \"deaths\": 0.0, \"new_cases\": 2.0, \"new_deaths\": 0.0, \"cases_avg7\": null, \"deaths_avg3\": 0.0}, {\"msa\": \"Los Angeles-Long Beach-Anaheim, CA\", \"msa_pop\": 13214799.0, \"date\": \"2020-03-07T08:00:00+00:00\", \"cases\": 17, \"deaths\": 0.0, \"new_cases\": 1.0, \"new_deaths\": 0.0, \"cases_avg7\": null, \"deaths_avg3\": 0.0}, {\"msa\": \"Los Angeles-Long Beach-Anaheim, CA\", \"msa_pop\": 13214799.0, \"date\": \"2020-03-08T08:00:00+00:00\", \"cases\": 17, \"deaths\": 0.0, \"new_cases\": 0.0, \"new_deaths\": 0.0, \"cases_avg7\": 2.142857142857143, \"deaths_avg3\": 0.0}, {\"msa\": \"Los Angeles-Long Beach-Anaheim, CA\", \"msa_pop\": 13214799.0, \"date\": \"2020-03-09T07:00:00+00:00\", \"cases\": 18, \"deaths\": 0.0, \"new_cases\": 1.0, \"new_deaths\": 0.0, \"cases_avg7\": 2.2857142857142856, \"deaths_avg3\": 0.0}, {\"msa\": \"Los Angeles-Long Beach-Anaheim, CA\", \"msa_pop\": 13214799.0, \"date\": \"2020-03-10T07:00:00+00:00\", \"cases\": 25, \"deaths\": 0.0, \"new_cases\": 7.0, \"new_deaths\": 0.0, \"cases_avg7\": 3.2857142857142856, \"deaths_avg3\": 0.0}, {\"msa\": \"Los Angeles-Long Beach-Anaheim, CA\", \"msa_pop\": 13214799.0, \"date\": \"2020-03-11T07:00:00+00:00\", \"cases\": 32, \"deaths\": 1.0, \"new_cases\": 7.0, \"new_deaths\": 1.0, \"cases_avg7\": 3.142857142857143, \"deaths_avg3\": 0.3333333333333333}, {\"msa\": \"Los Angeles-Long Beach-Anaheim, CA\", \"msa_pop\": 13214799.0, \"date\": \"2020-03-12T07:00:00+00:00\", \"cases\": 38, \"deaths\": 1.0, \"new_cases\": 6.0, \"new_deaths\": 0.0, \"cases_avg7\": 3.4285714285714284, \"deaths_avg3\": 0.3333333333333333}, {\"msa\": \"Los Angeles-Long Beach-Anaheim, CA\", \"msa_pop\": 13214799.0, \"date\": \"2020-03-13T07:00:00+00:00\", \"cases\": 49, \"deaths\": 1.0, \"new_cases\": 11.0, \"new_deaths\": 0.0, \"cases_avg7\": 4.714285714285714, \"deaths_avg3\": 0.3333333333333333}, {\"msa\": \"Los Angeles-Long Beach-Anaheim, CA\", \"msa_pop\": 13214799.0, \"date\": \"2020-03-14T07:00:00+00:00\", \"cases\": 67, \"deaths\": 1.0, \"new_cases\": 18.0, \"new_deaths\": 0.0, \"cases_avg7\": 7.142857142857143, \"deaths_avg3\": 0.0}, {\"msa\": \"Los Angeles-Long Beach-Anaheim, CA\", \"msa_pop\": 13214799.0, \"date\": \"2020-03-15T07:00:00+00:00\", \"cases\": 67, \"deaths\": 1.0, \"new_cases\": 0.0, \"new_deaths\": 0.0, \"cases_avg7\": 7.142857142857143, \"deaths_avg3\": 0.0}, {\"msa\": \"Los Angeles-Long Beach-Anaheim, CA\", \"msa_pop\": 13214799.0, \"date\": \"2020-03-16T07:00:00+00:00\", \"cases\": 111, \"deaths\": 1.0, \"new_cases\": 44.0, \"new_deaths\": 0.0, \"cases_avg7\": 13.285714285714286, \"deaths_avg3\": 0.0}, {\"msa\": \"Los Angeles-Long Beach-Anaheim, CA\", \"msa_pop\": 13214799.0, \"date\": \"2020-03-17T07:00:00+00:00\", \"cases\": 166, \"deaths\": 1.0, \"new_cases\": 55.0, \"new_deaths\": 0.0, \"cases_avg7\": 20.142857142857142, \"deaths_avg3\": 0.0}, {\"msa\": \"Los Angeles-Long Beach-Anaheim, CA\", \"msa_pop\": 13214799.0, \"date\": \"2020-03-18T07:00:00+00:00\", \"cases\": 219, \"deaths\": 1.0, \"new_cases\": 53.0, \"new_deaths\": 0.0, \"cases_avg7\": 26.714285714285715, \"deaths_avg3\": 0.0}, {\"msa\": \"Los Angeles-Long Beach-Anaheim, CA\", \"msa_pop\": 13214799.0, \"date\": \"2020-03-19T07:00:00+00:00\", \"cases\": 284, \"deaths\": 2.0, \"new_cases\": 65.0, \"new_deaths\": 1.0, \"cases_avg7\": 35.142857142857146, \"deaths_avg3\": 0.3333333333333333}, {\"msa\": \"Los Angeles-Long Beach-Anaheim, CA\", \"msa_pop\": 13214799.0, \"date\": \"2020-03-20T07:00:00+00:00\", \"cases\": 357, \"deaths\": 2.0, \"new_cases\": 73.0, \"new_deaths\": 0.0, \"cases_avg7\": 44.0, \"deaths_avg3\": 0.3333333333333333}, {\"msa\": \"Los Angeles-Long Beach-Anaheim, CA\", \"msa_pop\": 13214799.0, \"date\": \"2020-03-21T07:00:00+00:00\", \"cases\": 370, \"deaths\": 2.0, \"new_cases\": 13.0, \"new_deaths\": 0.0, \"cases_avg7\": 43.285714285714285, \"deaths_avg3\": 0.3333333333333333}, {\"msa\": \"Los Angeles-Long Beach-Anaheim, CA\", \"msa_pop\": 13214799.0, \"date\": \"2020-03-22T07:00:00+00:00\", \"cases\": 502, \"deaths\": 5.0, \"new_cases\": 132.0, \"new_deaths\": 3.0, \"cases_avg7\": 62.142857142857146, \"deaths_avg3\": 1.0}, {\"msa\": \"Los Angeles-Long Beach-Anaheim, CA\", \"msa_pop\": 13214799.0, \"date\": \"2020-03-23T07:00:00+00:00\", \"cases\": 661, \"deaths\": 7.0, \"new_cases\": 159.0, \"new_deaths\": 2.0, \"cases_avg7\": 78.57142857142857, \"deaths_avg3\": 1.6666666666666667}, {\"msa\": \"Los Angeles-Long Beach-Anaheim, CA\", \"msa_pop\": 13214799.0, \"date\": \"2020-03-24T07:00:00+00:00\", \"cases\": 814, \"deaths\": 11.0, \"new_cases\": 153.0, \"new_deaths\": 4.0, \"cases_avg7\": 92.57142857142857, \"deaths_avg3\": 3.0}, {\"msa\": \"Los Angeles-Long Beach-Anaheim, CA\", \"msa_pop\": 13214799.0, \"date\": \"2020-03-25T07:00:00+00:00\", \"cases\": 999, \"deaths\": 14.0, \"new_cases\": 185.0, \"new_deaths\": 3.0, \"cases_avg7\": 111.42857142857143, \"deaths_avg3\": 3.0}, {\"msa\": \"Los Angeles-Long Beach-Anaheim, CA\", \"msa_pop\": 13214799.0, \"date\": \"2020-03-26T07:00:00+00:00\", \"cases\": 1485, \"deaths\": 22.0, \"new_cases\": 486.0, \"new_deaths\": 8.0, \"cases_avg7\": 171.57142857142858, \"deaths_avg3\": 5.0}, {\"msa\": \"Los Angeles-Long Beach-Anaheim, CA\", \"msa_pop\": 13214799.0, \"date\": \"2020-03-27T07:00:00+00:00\", \"cases\": 1786, \"deaths\": 29.0, \"new_cases\": 301.0, \"new_deaths\": 7.0, \"cases_avg7\": 204.14285714285714, \"deaths_avg3\": 6.0}, {\"msa\": \"Los Angeles-Long Beach-Anaheim, CA\", \"msa_pop\": 13214799.0, \"date\": \"2020-03-28T07:00:00+00:00\", \"cases\": 1868, \"deaths\": 30.0, \"new_cases\": 82.0, \"new_deaths\": 1.0, \"cases_avg7\": 214.0, \"deaths_avg3\": 5.333333333333333}, {\"msa\": \"Los Angeles-Long Beach-Anaheim, CA\", \"msa_pop\": 13214799.0, \"date\": \"2020-03-29T07:00:00+00:00\", \"cases\": 2260, \"deaths\": 36.0, \"new_cases\": 392.0, \"new_deaths\": 6.0, \"cases_avg7\": 251.14285714285714, \"deaths_avg3\": 4.666666666666667}, {\"msa\": \"Los Angeles-Long Beach-Anaheim, CA\", \"msa_pop\": 13214799.0, \"date\": \"2020-03-30T07:00:00+00:00\", \"cases\": 2938, \"deaths\": 48.0, \"new_cases\": 678.0, \"new_deaths\": 12.0, \"cases_avg7\": 325.2857142857143, \"deaths_avg3\": 6.333333333333333}, {\"msa\": \"Los Angeles-Long Beach-Anaheim, CA\", \"msa_pop\": 13214799.0, \"date\": \"2020-03-31T07:00:00+00:00\", \"cases\": 3521, \"deaths\": 61.0, \"new_cases\": 583.0, \"new_deaths\": 13.0, \"cases_avg7\": 386.7142857142857, \"deaths_avg3\": 10.333333333333334}, {\"msa\": \"Los Angeles-Long Beach-Anaheim, CA\", \"msa_pop\": 13214799.0, \"date\": \"2020-04-01T07:00:00+00:00\", \"cases\": 4124, \"deaths\": 74.0, \"new_cases\": 603.0, \"new_deaths\": 13.0, \"cases_avg7\": 446.42857142857144, \"deaths_avg3\": 12.666666666666666}, {\"msa\": \"Los Angeles-Long Beach-Anaheim, CA\", \"msa_pop\": 13214799.0, \"date\": \"2020-04-02T07:00:00+00:00\", \"cases\": 4701, \"deaths\": 91.0, \"new_cases\": 577.0, \"new_deaths\": 17.0, \"cases_avg7\": 459.42857142857144, \"deaths_avg3\": 14.333333333333334}, {\"msa\": \"Los Angeles-Long Beach-Anaheim, CA\", \"msa_pop\": 13214799.0, \"date\": \"2020-04-03T07:00:00+00:00\", \"cases\": 5277, \"deaths\": 102.0, \"new_cases\": 576.0, \"new_deaths\": 11.0, \"cases_avg7\": 498.7142857142857, \"deaths_avg3\": 13.666666666666666}, {\"msa\": \"Los Angeles-Long Beach-Anaheim, CA\", \"msa_pop\": 13214799.0, \"date\": \"2020-04-04T07:00:00+00:00\", \"cases\": 5391, \"deaths\": 107.0, \"new_cases\": 114.0, \"new_deaths\": 5.0, \"cases_avg7\": 503.2857142857143, \"deaths_avg3\": 11.0}, {\"msa\": \"Los Angeles-Long Beach-Anaheim, CA\", \"msa_pop\": 13214799.0, \"date\": \"2020-04-05T07:00:00+00:00\", \"cases\": 6789, \"deaths\": 146.0, \"new_cases\": 1398.0, \"new_deaths\": 39.0, \"cases_avg7\": 647.0, \"deaths_avg3\": 18.333333333333332}, {\"msa\": \"Los Angeles-Long Beach-Anaheim, CA\", \"msa_pop\": 13214799.0, \"date\": \"2020-04-06T07:00:00+00:00\", \"cases\": 7259, \"deaths\": 161.0, \"new_cases\": 470.0, \"new_deaths\": 15.0, \"cases_avg7\": 617.2857142857143, \"deaths_avg3\": 19.666666666666668}, {\"msa\": \"Los Angeles-Long Beach-Anaheim, CA\", \"msa_pop\": 13214799.0, \"date\": \"2020-04-07T07:00:00+00:00\", \"cases\": 7867, \"deaths\": 184.0, \"new_cases\": 608.0, \"new_deaths\": 23.0, \"cases_avg7\": 620.8571428571429, \"deaths_avg3\": 25.666666666666668}, {\"msa\": \"Los Angeles-Long Beach-Anaheim, CA\", \"msa_pop\": 13214799.0, \"date\": \"2020-04-08T07:00:00+00:00\", \"cases\": 8575, \"deaths\": 215.0, \"new_cases\": 708.0, \"new_deaths\": 31.0, \"cases_avg7\": 635.8571428571429, \"deaths_avg3\": 23.0}, {\"msa\": \"Los Angeles-Long Beach-Anaheim, CA\", \"msa_pop\": 13214799.0, \"date\": \"2020-04-09T07:00:00+00:00\", \"cases\": 9034, \"deaths\": 240.0, \"new_cases\": 459.0, \"new_deaths\": 25.0, \"cases_avg7\": 619.0, \"deaths_avg3\": 26.333333333333332}, {\"msa\": \"Los Angeles-Long Beach-Anaheim, CA\", \"msa_pop\": 13214799.0, \"date\": \"2020-04-10T07:00:00+00:00\", \"cases\": 9581, \"deaths\": 259.0, \"new_cases\": 547.0, \"new_deaths\": 19.0, \"cases_avg7\": 614.8571428571429, \"deaths_avg3\": 25.0}, {\"msa\": \"Los Angeles-Long Beach-Anaheim, CA\", \"msa_pop\": 13214799.0, \"date\": \"2020-04-11T07:00:00+00:00\", \"cases\": 9674, \"deaths\": 262.0, \"new_cases\": 93.0, \"new_deaths\": 3.0, \"cases_avg7\": 611.8571428571429, \"deaths_avg3\": 15.666666666666666}, {\"msa\": \"Los Angeles-Long Beach-Anaheim, CA\", \"msa_pop\": 13214799.0, \"date\": \"2020-04-12T07:00:00+00:00\", \"cases\": 10171, \"deaths\": 288.0, \"new_cases\": 497.0, \"new_deaths\": 26.0, \"cases_avg7\": 483.14285714285717, \"deaths_avg3\": 16.0}, {\"msa\": \"Los Angeles-Long Beach-Anaheim, CA\", \"msa_pop\": 13214799.0, \"date\": \"2020-04-13T07:00:00+00:00\", \"cases\": 10716, \"deaths\": 341.0, \"new_cases\": 545.0, \"new_deaths\": 53.0, \"cases_avg7\": 493.85714285714283, \"deaths_avg3\": 27.333333333333332}, {\"msa\": \"Los Angeles-Long Beach-Anaheim, CA\", \"msa_pop\": 13214799.0, \"date\": \"2020-04-14T07:00:00+00:00\", \"cases\": 11346, \"deaths\": 379.0, \"new_cases\": 630.0, \"new_deaths\": 38.0, \"cases_avg7\": 497.0, \"deaths_avg3\": 39.0}, {\"msa\": \"Los Angeles-Long Beach-Anaheim, CA\", \"msa_pop\": 13214799.0, \"date\": \"2020-04-15T07:00:00+00:00\", \"cases\": 11893, \"deaths\": 427.0, \"new_cases\": 547.0, \"new_deaths\": 48.0, \"cases_avg7\": 474.0, \"deaths_avg3\": 46.333333333333336}, {\"msa\": \"Los Angeles-Long Beach-Anaheim, CA\", \"msa_pop\": 13214799.0, \"date\": \"2020-04-16T07:00:00+00:00\", \"cases\": 12279, \"deaths\": 482.0, \"new_cases\": 386.0, \"new_deaths\": 55.0, \"cases_avg7\": 463.57142857142856, \"deaths_avg3\": 47.0}, {\"msa\": \"Los Angeles-Long Beach-Anaheim, CA\", \"msa_pop\": 13214799.0, \"date\": \"2020-04-17T07:00:00+00:00\", \"cases\": 12901, \"deaths\": 525.0, \"new_cases\": 622.0, \"new_deaths\": 43.0, \"cases_avg7\": 474.2857142857143, \"deaths_avg3\": 48.666666666666664}, {\"msa\": \"Los Angeles-Long Beach-Anaheim, CA\", \"msa_pop\": 13214799.0, \"date\": \"2020-04-18T07:00:00+00:00\", \"cases\": 13577, \"deaths\": 608.0, \"new_cases\": 676.0, \"new_deaths\": 83.0, \"cases_avg7\": 557.5714285714286, \"deaths_avg3\": 60.333333333333336}, {\"msa\": \"Los Angeles-Long Beach-Anaheim, CA\", \"msa_pop\": 13214799.0, \"date\": \"2020-04-19T07:00:00+00:00\", \"cases\": 13977, \"deaths\": 632.0, \"new_cases\": 400.0, \"new_deaths\": 24.0, \"cases_avg7\": 543.7142857142857, \"deaths_avg3\": 50.0}, {\"msa\": \"Los Angeles-Long Beach-Anaheim, CA\", \"msa_pop\": 13214799.0, \"date\": \"2020-04-20T07:00:00+00:00\", \"cases\": 15499, \"deaths\": 652.0, \"new_cases\": 1522.0, \"new_deaths\": 20.0, \"cases_avg7\": 683.2857142857143, \"deaths_avg3\": 42.333333333333336}, {\"msa\": \"Los Angeles-Long Beach-Anaheim, CA\", \"msa_pop\": 13214799.0, \"date\": \"2020-04-21T07:00:00+00:00\", \"cases\": 16844, \"deaths\": 696.0, \"new_cases\": 1345.0, \"new_deaths\": 44.0, \"cases_avg7\": 785.4285714285714, \"deaths_avg3\": 29.333333333333332}, {\"msa\": \"Los Angeles-Long Beach-Anaheim, CA\", \"msa_pop\": 13214799.0, \"date\": \"2020-04-22T07:00:00+00:00\", \"cases\": 18200, \"deaths\": 766.0, \"new_cases\": 1356.0, \"new_deaths\": 70.0, \"cases_avg7\": 901.0, \"deaths_avg3\": 44.666666666666664}, {\"msa\": \"Los Angeles-Long Beach-Anaheim, CA\", \"msa_pop\": 13214799.0, \"date\": \"2020-04-23T07:00:00+00:00\", \"cases\": 19364, \"deaths\": 833.0, \"new_cases\": 1164.0, \"new_deaths\": 67.0, \"cases_avg7\": 1012.1428571428571, \"deaths_avg3\": 60.333333333333336}, {\"msa\": \"Los Angeles-Long Beach-Anaheim, CA\", \"msa_pop\": 13214799.0, \"date\": \"2020-04-24T07:00:00+00:00\", \"cases\": 20390, \"deaths\": 886.0, \"new_cases\": 1026.0, \"new_deaths\": 53.0, \"cases_avg7\": 1069.857142857143, \"deaths_avg3\": 63.333333333333336}, {\"msa\": \"Los Angeles-Long Beach-Anaheim, CA\", \"msa_pop\": 13214799.0, \"date\": \"2020-04-25T07:00:00+00:00\", \"cases\": 21102, \"deaths\": 933.0, \"new_cases\": 712.0, \"new_deaths\": 47.0, \"cases_avg7\": 1075.0, \"deaths_avg3\": 55.666666666666664}, {\"msa\": \"Los Angeles-Long Beach-Anaheim, CA\", \"msa_pop\": 13214799.0, \"date\": \"2020-04-26T07:00:00+00:00\", \"cases\": 21641, \"deaths\": 955.0, \"new_cases\": 539.0, \"new_deaths\": 22.0, \"cases_avg7\": 1094.857142857143, \"deaths_avg3\": 40.666666666666664}, {\"msa\": \"Los Angeles-Long Beach-Anaheim, CA\", \"msa_pop\": 13214799.0, \"date\": \"2020-04-27T07:00:00+00:00\", \"cases\": 22549, \"deaths\": 983.0, \"new_cases\": 908.0, \"new_deaths\": 28.0, \"cases_avg7\": 1007.1428571428571, \"deaths_avg3\": 32.333333333333336}, {\"msa\": \"Los Angeles-Long Beach-Anaheim, CA\", \"msa_pop\": 13214799.0, \"date\": \"2020-04-28T07:00:00+00:00\", \"cases\": 23147, \"deaths\": 1044.0, \"new_cases\": 598.0, \"new_deaths\": 61.0, \"cases_avg7\": 900.4285714285714, \"deaths_avg3\": 37.0}, {\"msa\": \"Los Angeles-Long Beach-Anaheim, CA\", \"msa_pop\": 13214799.0, \"date\": \"2020-04-29T07:00:00+00:00\", \"cases\": 24737, \"deaths\": 1100.0, \"new_cases\": 1590.0, \"new_deaths\": 56.0, \"cases_avg7\": 933.8571428571429, \"deaths_avg3\": 48.333333333333336}, {\"msa\": \"Los Angeles-Long Beach-Anaheim, CA\", \"msa_pop\": 13214799.0, \"date\": \"2020-04-30T07:00:00+00:00\", \"cases\": 25613, \"deaths\": 1156.0, \"new_cases\": 876.0, \"new_deaths\": 56.0, \"cases_avg7\": 892.7142857142857, \"deaths_avg3\": 57.666666666666664}, {\"msa\": \"Los Angeles-Long Beach-Anaheim, CA\", \"msa_pop\": 13214799.0, \"date\": \"2020-05-01T07:00:00+00:00\", \"cases\": 26799, \"deaths\": 1224.0, \"new_cases\": 1186.0, \"new_deaths\": 68.0, \"cases_avg7\": 915.5714285714286, \"deaths_avg3\": 60.0}, {\"msa\": \"Los Angeles-Long Beach-Anaheim, CA\", \"msa_pop\": 13214799.0, \"date\": \"2020-05-02T07:00:00+00:00\", \"cases\": 27530, \"deaths\": 1261.0, \"new_cases\": 731.0, \"new_deaths\": 37.0, \"cases_avg7\": 918.2857142857143, \"deaths_avg3\": 53.666666666666664}, {\"msa\": \"Los Angeles-Long Beach-Anaheim, CA\", \"msa_pop\": 13214799.0, \"date\": \"2020-05-03T07:00:00+00:00\", \"cases\": 28442, \"deaths\": 1283.0, \"new_cases\": 912.0, \"new_deaths\": 22.0, \"cases_avg7\": 971.5714285714286, \"deaths_avg3\": 42.333333333333336}, {\"msa\": \"Los Angeles-Long Beach-Anaheim, CA\", \"msa_pop\": 13214799.0, \"date\": \"2020-05-04T07:00:00+00:00\", \"cases\": 29044, \"deaths\": 1314.0, \"new_cases\": 602.0, \"new_deaths\": 31.0, \"cases_avg7\": 927.8571428571429, \"deaths_avg3\": 30.0}, {\"msa\": \"Los Angeles-Long Beach-Anaheim, CA\", \"msa_pop\": 13214799.0, \"date\": \"2020-05-05T07:00:00+00:00\", \"cases\": 30709, \"deaths\": 1384.0, \"new_cases\": 1665.0, \"new_deaths\": 70.0, \"cases_avg7\": 1080.2857142857142, \"deaths_avg3\": 41.0}, {\"msa\": \"Los Angeles-Long Beach-Anaheim, CA\", \"msa_pop\": 13214799.0, \"date\": \"2020-05-06T07:00:00+00:00\", \"cases\": 31669, \"deaths\": 1434.0, \"new_cases\": 960.0, \"new_deaths\": 50.0, \"cases_avg7\": 990.2857142857143, \"deaths_avg3\": 50.333333333333336}, {\"msa\": \"Los Angeles-Long Beach-Anaheim, CA\", \"msa_pop\": 13214799.0, \"date\": \"2020-05-07T07:00:00+00:00\", \"cases\": 32603, \"deaths\": 1484.0, \"new_cases\": 934.0, \"new_deaths\": 50.0, \"cases_avg7\": 998.5714285714286, \"deaths_avg3\": 56.666666666666664}, {\"msa\": \"Los Angeles-Long Beach-Anaheim, CA\", \"msa_pop\": 13214799.0, \"date\": \"2020-05-08T07:00:00+00:00\", \"cases\": 33559, \"deaths\": 1541.0, \"new_cases\": 956.0, \"new_deaths\": 57.0, \"cases_avg7\": 965.7142857142857, \"deaths_avg3\": 52.333333333333336}, {\"msa\": \"Los Angeles-Long Beach-Anaheim, CA\", \"msa_pop\": 13214799.0, \"date\": \"2020-05-09T07:00:00+00:00\", \"cases\": 34621, \"deaths\": 1589.0, \"new_cases\": 1062.0, \"new_deaths\": 48.0, \"cases_avg7\": 1013.0, \"deaths_avg3\": 51.666666666666664}, {\"msa\": \"Los Angeles-Long Beach-Anaheim, CA\", \"msa_pop\": 13214799.0, \"date\": \"2020-05-10T07:00:00+00:00\", \"cases\": 35205, \"deaths\": 1607.0, \"new_cases\": 584.0, \"new_deaths\": 18.0, \"cases_avg7\": 966.1428571428571, \"deaths_avg3\": 41.0}, {\"msa\": \"Los Angeles-Long Beach-Anaheim, CA\", \"msa_pop\": 13214799.0, \"date\": \"2020-05-11T07:00:00+00:00\", \"cases\": 35820, \"deaths\": 1646.0, \"new_cases\": 615.0, \"new_deaths\": 39.0, \"cases_avg7\": 968.0, \"deaths_avg3\": 35.0}, {\"msa\": \"Los Angeles-Long Beach-Anaheim, CA\", \"msa_pop\": 13214799.0, \"date\": \"2020-05-12T07:00:00+00:00\", \"cases\": 36813, \"deaths\": 1693.0, \"new_cases\": 993.0, \"new_deaths\": 47.0, \"cases_avg7\": 872.0, \"deaths_avg3\": 34.666666666666664}, {\"msa\": \"Los Angeles-Long Beach-Anaheim, CA\", \"msa_pop\": 13214799.0, \"date\": \"2020-05-13T07:00:00+00:00\", \"cases\": 38287, \"deaths\": 1740.0, \"new_cases\": 1474.0, \"new_deaths\": 47.0, \"cases_avg7\": 945.4285714285714, \"deaths_avg3\": 44.333333333333336}, {\"msa\": \"Los Angeles-Long Beach-Anaheim, CA\", \"msa_pop\": 13214799.0, \"date\": \"2020-05-14T07:00:00+00:00\", \"cases\": 39360, \"deaths\": 1792.0, \"new_cases\": 1073.0, \"new_deaths\": 52.0, \"cases_avg7\": 965.2857142857143, \"deaths_avg3\": 48.666666666666664}]}}, {\"mode\": \"vega-lite\"});\n",
       "</script>"
      ],
      "text/plain": [
       "alt.HConcatChart(...)"
      ]
     },
     "metadata": {},
     "output_type": "display_data"
    }
   ],
   "source": [
    "la_county = utils.case_indicators_county(\"Los Angeles\", \"3/1/20\")\n",
    "la_city = utils.case_indicators_lacity(\"4/5/20\")\n",
    "ca = utils.case_indicators_state(\"California\", \"3/1/20\")\n",
    "la_msa = utils.case_indicators_msa(\"Los Angeles\", \"3/1/20\")"
   ]
  },
  {
   "cell_type": "markdown",
   "metadata": {},
   "source": [
    "## Testing Indicators"
   ]
  },
  {
   "cell_type": "markdown",
   "metadata": {},
   "source": [
    "### NY\n",
    "Indicator: 30 tests per 1,000 residents per month\n",
    "<br>Assume: population of 8.4M in NYC\n",
    "<br>Test rate per 1,000 per month: 30 tests per 1,000 residents per month\n",
    "<br>Tests per day and per month: 8,400 tests/day or 252,000 tests/month.\n",
    "\n",
    "### Chicago\n",
    "Indicator: 4,500 tests per day and 135,000 tests per month\n",
    "<br>Assume: population of 2.7M in Chicago\n",
    "<br>Test rate per 1,000 per month: 50 tests per 1,000 residents per month\n",
    "<br>Tests per day and per month: 4,500 tests/day or 135,000 per month"
   ]
  },
  {
   "cell_type": "code",
   "execution_count": 3,
   "metadata": {},
   "outputs": [
    {
     "name": "stdout",
     "output_type": "stream",
     "text": [
      "NY tests per month: 252,000\n",
      "NY tests per day: 8,400\n"
     ]
    }
   ],
   "source": [
    "city = \"NY\"\n",
    "nyc_pop = 8_400_000\n",
    "rate_per_1k = 30 / 1_000\n",
    "print(f\"{city} tests per month: {round(nyc_pop * rate_per_1k):,}\")\n",
    "print(f\"{city} tests per day: {round(nyc_pop * rate_per_1k / 30):,}\")"
   ]
  },
  {
   "cell_type": "code",
   "execution_count": 4,
   "metadata": {},
   "outputs": [
    {
     "name": "stdout",
     "output_type": "stream",
     "text": [
      "Chicago tests per month: 135,000\n",
      "Chicago tests per day: 4,500\n"
     ]
    }
   ],
   "source": [
    "city = \"Chicago\"\n",
    "chicago_pop = 2_700_000\n",
    "rate_per_1k = 50 / 1_000\n",
    "print(f\"{city} tests per month: {round(chicago_pop * rate_per_1k):,}\")\n",
    "print(f\"{city} tests per day: {round(chicago_pop * rate_per_1k / 30):,}\")"
   ]
  },
  {
   "cell_type": "code",
   "execution_count": 5,
   "metadata": {},
   "outputs": [
    {
     "name": "stdout",
     "output_type": "stream",
     "text": [
      "LA tests per month (NYC): 300,000\n",
      "LA tests per day (NYC): 10,000\n",
      "LA tests per month (Chicago): 500,000\n",
      "LA tests per day (Chicago): 16,667\n"
     ]
    }
   ],
   "source": [
    "la_pop = 10_000_000\n",
    "city = \"LA\"\n",
    "\n",
    "nyc_rate = 30 / 1_000\n",
    "chicago_rate = 50 / 1_000\n",
    "\n",
    "# Let's try LA with NYC's rate and Chicago's rate\n",
    "print(f\"{city} tests per month (NYC): {round(la_pop * nyc_rate):,}\")\n",
    "print(f\"{city} tests per day (NYC): {round(la_pop * nyc_rate / 30):,}\")\n",
    "print(f\"{city} tests per month (Chicago): {round(la_pop * chicago_rate):,}\")\n",
    "print(f\"{city} tests per day (Chicago): {round(la_pop * chicago_rate / 30):,}\")"
   ]
  },
  {
   "cell_type": "code",
   "execution_count": 6,
   "metadata": {},
   "outputs": [],
   "source": [
    "# Add share of positive tests -- we can't do because we don't have direct testing data \n",
    "# that breaks down total with positive and negative results"
   ]
  },
  {
   "cell_type": "code",
   "execution_count": 7,
   "metadata": {},
   "outputs": [
    {
     "data": {
      "text/html": [
       "\n",
       "<div id=\"altair-viz-29c48118172a49be9bcc423242c4c10b\"></div>\n",
       "<script type=\"text/javascript\">\n",
       "  (function(spec, embedOpt){\n",
       "    const outputDiv = document.getElementById(\"altair-viz-29c48118172a49be9bcc423242c4c10b\");\n",
       "    const paths = {\n",
       "      \"vega\": \"https://cdn.jsdelivr.net/npm//vega@5?noext\",\n",
       "      \"vega-lib\": \"https://cdn.jsdelivr.net/npm//vega-lib?noext\",\n",
       "      \"vega-lite\": \"https://cdn.jsdelivr.net/npm//vega-lite@4.0.2?noext\",\n",
       "      \"vega-embed\": \"https://cdn.jsdelivr.net/npm//vega-embed@6?noext\",\n",
       "    };\n",
       "\n",
       "    function loadScript(lib) {\n",
       "      return new Promise(function(resolve, reject) {\n",
       "        var s = document.createElement('script');\n",
       "        s.src = paths[lib];\n",
       "        s.async = true;\n",
       "        s.onload = () => resolve(paths[lib]);\n",
       "        s.onerror = () => reject(`Error loading script: ${paths[lib]}`);\n",
       "        document.getElementsByTagName(\"head\")[0].appendChild(s);\n",
       "      });\n",
       "    }\n",
       "\n",
       "    function showError(err) {\n",
       "      outputDiv.innerHTML = `<div class=\"error\" style=\"color:red;\">${err}</div>`;\n",
       "      throw err;\n",
       "    }\n",
       "\n",
       "    function displayChart(vegaEmbed) {\n",
       "      vegaEmbed(outputDiv, spec, embedOpt)\n",
       "        .catch(err => showError(`Javascript Error: ${err.message}<br>This usually means there's a typo in your chart specification. See the javascript console for the full traceback.`));\n",
       "    }\n",
       "\n",
       "    if(typeof define === \"function\" && define.amd) {\n",
       "      requirejs.config({paths});\n",
       "      require([\"vega-embed\"], displayChart, err => showError(`Error loading script: ${err.message}`));\n",
       "    } else if (typeof vegaEmbed === \"function\") {\n",
       "      displayChart(vegaEmbed);\n",
       "    } else {\n",
       "      loadScript(\"vega\")\n",
       "        .then(() => loadScript(\"vega-lite\"))\n",
       "        .then(() => loadScript(\"vega-embed\"))\n",
       "        .catch(showError)\n",
       "        .then(() => displayChart(vegaEmbed));\n",
       "    }\n",
       "  })({\"config\": {\"view\": {\"continuousWidth\": 400, \"continuousHeight\": 300, \"strokeOpacity\": 0}, \"axis\": {\"domainOpacity\": 0.4, \"gridOpacity\": 0, \"ticks\": false}, \"title\": {\"anchor\": \"middle\", \"color\": \"black\", \"font\": \"Roboto\", \"fontSize\": 10}}, \"layer\": [{\"data\": {\"name\": \"data-201ada4b93bc90db85b061d41388dd60\"}, \"mark\": {\"type\": \"bar\", \"color\": \"#0A4C6A\"}, \"encoding\": {\"x\": {\"type\": \"nominal\", \"axis\": {\"format\": \"%-m/%d\"}, \"field\": \"Date\", \"timeUnit\": \"monthdate\", \"title\": \"date\"}, \"y\": {\"type\": \"quantitative\", \"field\": \"Performed\", \"title\": \"Tests Performed\"}}}, {\"data\": {\"name\": \"data-630ae3f1563c7a039b62b951e32081dd\"}, \"mark\": {\"type\": \"rule\", \"color\": \"#A30F23\", \"strokeDash\": [5, 2]}, \"encoding\": {\"y\": {\"type\": \"quantitative\", \"field\": \"y\"}}}, {\"data\": {\"name\": \"data-4d6fad89519b3b5d472fb07e87757174\"}, \"mark\": {\"type\": \"rule\", \"color\": \"#A30F23\", \"strokeDash\": [5, 2]}, \"encoding\": {\"y\": {\"type\": \"quantitative\", \"field\": \"y\"}}}], \"title\": \"Daily Tests Performed\", \"width\": 500, \"$schema\": \"https://vega.github.io/schema/vega-lite/v4.0.2.json\", \"datasets\": {\"data-201ada4b93bc90db85b061d41388dd60\": [{\"Date\": \"4/10/20\", \"Performed\": 4374, \"Test Kit Inventory\": 2547.0, \"Cumulative\": 37525, \"month\": 4, \"Performed_Monthly\": 120034}, {\"Date\": \"4/11/20\", \"Performed\": 3760, \"Test Kit Inventory\": 3465.0, \"Cumulative\": 41285, \"month\": 4, \"Performed_Monthly\": 120034}, {\"Date\": \"4/12/20\", \"Performed\": 1026, \"Test Kit Inventory\": 3465.0, \"Cumulative\": 42311, \"month\": 4, \"Performed_Monthly\": 120034}, {\"Date\": \"4/13/20\", \"Performed\": 4276, \"Test Kit Inventory\": 0.0, \"Cumulative\": 46587, \"month\": 4, \"Performed_Monthly\": 120034}, {\"Date\": \"4/14/20\", \"Performed\": 4019, \"Test Kit Inventory\": 3967.0, \"Cumulative\": 50606, \"month\": 4, \"Performed_Monthly\": 120034}, {\"Date\": \"4/15/20\", \"Performed\": 5955, \"Test Kit Inventory\": null, \"Cumulative\": 56561, \"month\": 4, \"Performed_Monthly\": 120034}, {\"Date\": \"4/16/20\", \"Performed\": 5594, \"Test Kit Inventory\": null, \"Cumulative\": 62155, \"month\": 4, \"Performed_Monthly\": 120034}, {\"Date\": \"4/17/20\", \"Performed\": 5695, \"Test Kit Inventory\": null, \"Cumulative\": 67850, \"month\": 4, \"Performed_Monthly\": 120034}, {\"Date\": \"4/18/20\", \"Performed\": 5116, \"Test Kit Inventory\": null, \"Cumulative\": 72966, \"month\": 4, \"Performed_Monthly\": 120034}, {\"Date\": \"4/19/20\", \"Performed\": 1977, \"Test Kit Inventory\": null, \"Cumulative\": 74943, \"month\": 4, \"Performed_Monthly\": 120034}, {\"Date\": \"4/20/20\", \"Performed\": 5724, \"Test Kit Inventory\": null, \"Cumulative\": 80667, \"month\": 4, \"Performed_Monthly\": 120034}, {\"Date\": \"4/21/20\", \"Performed\": 6471, \"Test Kit Inventory\": null, \"Cumulative\": 87138, \"month\": 4, \"Performed_Monthly\": 120034}, {\"Date\": \"4/22/20\", \"Performed\": 6010, \"Test Kit Inventory\": null, \"Cumulative\": 93148, \"month\": 4, \"Performed_Monthly\": 120034}, {\"Date\": \"4/23/20\", \"Performed\": 6899, \"Test Kit Inventory\": null, \"Cumulative\": 100047, \"month\": 4, \"Performed_Monthly\": 120034}, {\"Date\": \"4/24/20\", \"Performed\": 7581, \"Test Kit Inventory\": null, \"Cumulative\": 107628, \"month\": 4, \"Performed_Monthly\": 120034}, {\"Date\": \"4/25/20\", \"Performed\": 6897, \"Test Kit Inventory\": null, \"Cumulative\": 114525, \"month\": 4, \"Performed_Monthly\": 120034}, {\"Date\": \"4/26/20\", \"Performed\": 2252, \"Test Kit Inventory\": null, \"Cumulative\": 116777, \"month\": 4, \"Performed_Monthly\": 120034}, {\"Date\": \"4/27/20\", \"Performed\": 7596, \"Test Kit Inventory\": null, \"Cumulative\": 124373, \"month\": 4, \"Performed_Monthly\": 120034}, {\"Date\": \"4/28/20\", \"Performed\": 7333, \"Test Kit Inventory\": null, \"Cumulative\": 131706, \"month\": 4, \"Performed_Monthly\": 120034}, {\"Date\": \"4/29/20\", \"Performed\": 8349, \"Test Kit Inventory\": null, \"Cumulative\": 140055, \"month\": 4, \"Performed_Monthly\": 120034}, {\"Date\": \"4/30/20\", \"Performed\": 13130, \"Test Kit Inventory\": null, \"Cumulative\": 153185, \"month\": 4, \"Performed_Monthly\": 120034}, {\"Date\": \"5/01/20\", \"Performed\": 12894, \"Test Kit Inventory\": null, \"Cumulative\": 166079, \"month\": 5, \"Performed_Monthly\": 165283}, {\"Date\": \"5/02/20\", \"Performed\": 11510, \"Test Kit Inventory\": null, \"Cumulative\": 177589, \"month\": 5, \"Performed_Monthly\": 165283}, {\"Date\": \"5/03/20\", \"Performed\": 3451, \"Test Kit Inventory\": null, \"Cumulative\": 181040, \"month\": 5, \"Performed_Monthly\": 165283}, {\"Date\": \"5/04/20\", \"Performed\": 12817, \"Test Kit Inventory\": null, \"Cumulative\": 193857, \"month\": 5, \"Performed_Monthly\": 165283}, {\"Date\": \"5/05/20\", \"Performed\": 14709, \"Test Kit Inventory\": null, \"Cumulative\": 208566, \"month\": 5, \"Performed_Monthly\": 165283}, {\"Date\": \"5/06/20\", \"Performed\": 16584, \"Test Kit Inventory\": null, \"Cumulative\": 225150, \"month\": 5, \"Performed_Monthly\": 165283}, {\"Date\": \"5/07/20\", \"Performed\": 16352, \"Test Kit Inventory\": null, \"Cumulative\": 241502, \"month\": 5, \"Performed_Monthly\": 165283}, {\"Date\": \"5/08/20\", \"Performed\": 14847, \"Test Kit Inventory\": null, \"Cumulative\": 256349, \"month\": 5, \"Performed_Monthly\": 165283}, {\"Date\": \"5/09/20\", \"Performed\": 11824, \"Test Kit Inventory\": null, \"Cumulative\": 268173, \"month\": 5, \"Performed_Monthly\": 165283}, {\"Date\": \"5/10/20\", \"Performed\": 3299, \"Test Kit Inventory\": null, \"Cumulative\": 271472, \"month\": 5, \"Performed_Monthly\": 165283}, {\"Date\": \"5/11/20\", \"Performed\": 14788, \"Test Kit Inventory\": null, \"Cumulative\": 286260, \"month\": 5, \"Performed_Monthly\": 165283}, {\"Date\": \"5/12/20\", \"Performed\": 16086, \"Test Kit Inventory\": null, \"Cumulative\": 302346, \"month\": 5, \"Performed_Monthly\": 165283}, {\"Date\": \"5/13/20\", \"Performed\": 16122, \"Test Kit Inventory\": null, \"Cumulative\": 318468, \"month\": 5, \"Performed_Monthly\": 165283}], \"data-630ae3f1563c7a039b62b951e32081dd\": [{\"y\": 10000}], \"data-4d6fad89519b3b5d472fb07e87757174\": [{\"y\": 16667}]}}, {\"mode\": \"vega-lite\"});\n",
       "</script>"
      ],
      "text/plain": [
       "alt.LayerChart(...)"
      ]
     },
     "metadata": {},
     "output_type": "display_data"
    },
    {
     "data": {
      "text/html": [
       "\n",
       "<div id=\"altair-viz-a41fe64f65c44903b37eb999d2ba6490\"></div>\n",
       "<script type=\"text/javascript\">\n",
       "  (function(spec, embedOpt){\n",
       "    const outputDiv = document.getElementById(\"altair-viz-a41fe64f65c44903b37eb999d2ba6490\");\n",
       "    const paths = {\n",
       "      \"vega\": \"https://cdn.jsdelivr.net/npm//vega@5?noext\",\n",
       "      \"vega-lib\": \"https://cdn.jsdelivr.net/npm//vega-lib?noext\",\n",
       "      \"vega-lite\": \"https://cdn.jsdelivr.net/npm//vega-lite@4.0.2?noext\",\n",
       "      \"vega-embed\": \"https://cdn.jsdelivr.net/npm//vega-embed@6?noext\",\n",
       "    };\n",
       "\n",
       "    function loadScript(lib) {\n",
       "      return new Promise(function(resolve, reject) {\n",
       "        var s = document.createElement('script');\n",
       "        s.src = paths[lib];\n",
       "        s.async = true;\n",
       "        s.onload = () => resolve(paths[lib]);\n",
       "        s.onerror = () => reject(`Error loading script: ${paths[lib]}`);\n",
       "        document.getElementsByTagName(\"head\")[0].appendChild(s);\n",
       "      });\n",
       "    }\n",
       "\n",
       "    function showError(err) {\n",
       "      outputDiv.innerHTML = `<div class=\"error\" style=\"color:red;\">${err}</div>`;\n",
       "      throw err;\n",
       "    }\n",
       "\n",
       "    function displayChart(vegaEmbed) {\n",
       "      vegaEmbed(outputDiv, spec, embedOpt)\n",
       "        .catch(err => showError(`Javascript Error: ${err.message}<br>This usually means there's a typo in your chart specification. See the javascript console for the full traceback.`));\n",
       "    }\n",
       "\n",
       "    if(typeof define === \"function\" && define.amd) {\n",
       "      requirejs.config({paths});\n",
       "      require([\"vega-embed\"], displayChart, err => showError(`Error loading script: ${err.message}`));\n",
       "    } else if (typeof vegaEmbed === \"function\") {\n",
       "      displayChart(vegaEmbed);\n",
       "    } else {\n",
       "      loadScript(\"vega\")\n",
       "        .then(() => loadScript(\"vega-lite\"))\n",
       "        .then(() => loadScript(\"vega-embed\"))\n",
       "        .catch(showError)\n",
       "        .then(() => displayChart(vegaEmbed));\n",
       "    }\n",
       "  })({\"config\": {\"view\": {\"continuousWidth\": 400, \"continuousHeight\": 300, \"strokeOpacity\": 0}, \"axis\": {\"domainOpacity\": 0.4, \"gridOpacity\": 0, \"ticks\": false}, \"title\": {\"anchor\": \"middle\", \"color\": \"black\", \"font\": \"Roboto\", \"fontSize\": 10}}, \"layer\": [{\"data\": {\"name\": \"data-d22447b67e4e3596a36e3e4e3110339a\"}, \"mark\": {\"type\": \"bar\", \"color\": \"#0A4C6A\"}, \"encoding\": {\"x\": {\"type\": \"nominal\", \"axis\": {\"format\": \"%b\"}, \"field\": \"Date\", \"timeUnit\": \"monthdate\", \"title\": \"date\"}, \"y\": {\"type\": \"quantitative\", \"field\": \"Performed_Monthly\", \"title\": \"Tests Performed\"}}}, {\"data\": {\"name\": \"data-3f3d363baceb1e167951b40424cf1ac4\"}, \"mark\": {\"type\": \"rule\", \"color\": \"#A30F23\", \"strokeDash\": [5, 2]}, \"encoding\": {\"y\": {\"type\": \"quantitative\", \"field\": \"y\"}}}, {\"data\": {\"name\": \"data-2e4c34b4c620b803e8d3b593084e1a6e\"}, \"mark\": {\"type\": \"rule\", \"color\": \"#A30F23\", \"strokeDash\": [5, 2]}, \"encoding\": {\"y\": {\"type\": \"quantitative\", \"field\": \"y\"}}}], \"title\": \"Monthly Tests Performed\", \"width\": 150, \"$schema\": \"https://vega.github.io/schema/vega-lite/v4.0.2.json\", \"datasets\": {\"data-d22447b67e4e3596a36e3e4e3110339a\": [{\"Date\": \"4/10/20\", \"Performed\": 4374, \"Test Kit Inventory\": 2547.0, \"Cumulative\": 37525, \"month\": 4, \"Performed_Monthly\": 120034}, {\"Date\": \"5/01/20\", \"Performed\": 12894, \"Test Kit Inventory\": null, \"Cumulative\": 166079, \"month\": 5, \"Performed_Monthly\": 165283}], \"data-3f3d363baceb1e167951b40424cf1ac4\": [{\"y\": 300000}], \"data-2e4c34b4c620b803e8d3b593084e1a6e\": [{\"y\": 500000}]}}, {\"mode\": \"vega-lite\"});\n",
       "</script>"
      ],
      "text/plain": [
       "alt.LayerChart(...)"
      ]
     },
     "metadata": {},
     "output_type": "display_data"
    }
   ],
   "source": [
    "daily_tests = utils.testing_lacity('4/1/20', 'daily', 10_000, 16_667)\n",
    "monthly_tests = utils.testing_lacity('4/1/20', 'monthly', 300_000, 500_000)"
   ]
  },
  {
   "cell_type": "markdown",
   "metadata": {},
   "source": [
    "## Hospital Capacity Indicators"
   ]
  },
  {
   "cell_type": "code",
   "execution_count": 8,
   "metadata": {},
   "outputs": [],
   "source": [
    "#hospital_df = pd.read_csv(HOSPITAL_URL)\n",
    "#hospital_df.head()"
   ]
  },
  {
   "cell_type": "markdown",
   "metadata": {},
   "source": [
    "References:\n",
    "<br>US_COUNTY_URL = \" http://lahub.maps.arcgis.com/sharing/rest/content/items/8aba663239fc428f8bcdc48e213e3172/data \"\n",
    "<br>LA_CITY_URL = \" https://lahub.maps.arcgis.com/sharing/rest/content/items/7175fba373f541a7a19df56b6a0617f4/data \"\n",
    "<br>TESTING_URL = \" http://lahub.maps.arcgis.com/sharing/rest/content/items/158dab4a07b04ecb8d47fea1746303ac/data \"\n",
    "<br>HOSPITAL_URL = \" http://lahub.maps.arcgis.com/sharing/rest/content/items/3da1eb3e13a14743973c96b945bd1117/data \"\n",
    "<br>CROSSWALK_URL = \" https://raw.githubusercontent.com/CityOfLosAngeles/aqueduct/master/dags/public-health/covid19/msa_county_pop_crosswalk.csv \"\n",
    "\n",
    "To convert to HTML: \n",
    "jupyter nbconvert --to html --no-input --no-prompt my-notebook.ipynb"
   ]
  },
  {
   "cell_type": "code",
   "execution_count": null,
   "metadata": {},
   "outputs": [],
   "source": []
  }
 ],
 "metadata": {
  "kernelspec": {
   "display_name": "Python 3",
   "language": "python",
   "name": "python3"
  },
  "language_info": {
   "codemirror_mode": {
    "name": "ipython",
    "version": 3
   },
   "file_extension": ".py",
   "mimetype": "text/x-python",
   "name": "python",
   "nbconvert_exporter": "python",
   "pygments_lexer": "ipython3",
   "version": "3.7.3"
  }
 },
 "nbformat": 4,
 "nbformat_minor": 4
}
