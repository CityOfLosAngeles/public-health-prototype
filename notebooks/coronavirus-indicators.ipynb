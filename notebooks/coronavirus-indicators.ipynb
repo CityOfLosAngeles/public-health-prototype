{
 "cells": [
  {
   "cell_type": "markdown",
   "metadata": {},
   "source": [
    "# LA's COVID-19 Reopening / Recovery Indicators \n",
    "\n",
    "The NY Times wrote about rushed reopenings being [a global trial-and-error experiment](https://www.nytimes.com/2020/05/07/world/europe/coronavirus-reopening-costs.html) and a further analysis showing how US states reopening [fail to meet the WH guidelines](https://www.nytimes.com/interactive/2020/05/07/us/coronavirus-states-reopen-criteria.html). Vox has written about [the importance of COVID testing indicators](https://www.vox.com/2020/5/8/21249880/coronavirus-testing-covid-reopening-economy-lockdowns-social-distancing) as a prerequisite for reopening. \n",
    "\n",
    "While we wait for LA's own reopening indicators, we can still see how LA stacks up against NY and Chicago's indicators. [NY State's Reopening Indicators](https://www.nytimes.com/2020/05/04/nyregion/coronavirus-reopen-cuomo-ny.html) were based heavily in part by the White House [Opening Up America Again gating criteria](https://www.whitehouse.gov/wp-content/uploads/2020/04/Guidelines-for-Opening-Up-America-Again.pdf), and Chicago outlined even [tougher benchmarks than the IL statewide strategy](https://www.chicagotribune.com/coronavirus/ct-coronavirus-chicago-reopening-lightfoot-20200508-ztpnouwexrcvfdfcr2yccbc53a-story.html). In terms of outbreak severity, [LA and Chicago come right after NYC](https://www.nytimes.com/2020/05/09/us/coronavirus-chicago.html)."
   ]
  },
  {
   "cell_type": "markdown",
   "metadata": {},
   "source": [
    "## [White House Gating Criteria](https://www.whitehouse.gov/wp-content/uploads/2020/04/Guidelines-for-Opening-Up-America-Again.pdf)\n",
    "### Symptoms\n",
    "* Downward trajectory of influenza-like illnesses (ILI) reported within a 14-day period **and**\n",
    "* Downward trajectory of COVID-like syndromic cases reported within a 14-day period\n",
    "\n",
    "### Cases\n",
    "* Downward trajectory of documented cases within a 14-day period **or**\n",
    "* Downward trajectory of positive tests as a percent of total tests within a 14-day period (flat or increasing volume of tests) \n",
    "\n",
    "### Hospitals\n",
    "* Treat all patients without crisis care **and**\n",
    "* Robust testing program in place for at-risk healthcare workers, including emerging antibody testing\n",
    "\n",
    "| NY | Chicago |\n",
    "| --- | --- |\n",
    "| At least 14 days decline in total net hospitalizations on a 3-day rolling average **or** <BR> Less than 15 net new total hospitalizations on a 3-day rolling average </BR> | At least 14 days decline in new cases, on average \n",
    "| At least 14 days decline in total net deaths on a 3-day rolling average **or** <BR> Less than 5 new deaths on a 3-day rolling average </BR> | At least 14 days decline in of case rate (per capita?) |\n",
    "| At least 30% total hospital and ICU beds available  | At least 14 days decline in rate of new cases (per capita?)\n",
    "| At least 90 days of PPE stockpiled  | Stable or declining rates of hospitalizations  \n",
    "| Capacity to conduct 30 tests per 1,000 residents per month  | Stable or declining rates of ICU admissions \n",
    "| 30 working contact tracers per 100,000 residents | Stable or declining rates of ICU deaths\n",
    "| Rural regions: Fewer than 2 new COVID patients admitted per 100,000 residents per day | Share of positive results are decreasing below 15% of those tested in the community \n",
    "|   | Fewer than 1,800 coronavirus patients in hospital beds \n",
    "|   | Fewer than 600 coronavirus patients in ICU beds\n",
    "|   | Fewer than 450 coronavirus patients on ventilators\n",
    "|   | Test 135,000 per month, equivalent to 4,500 people per day"
   ]
  },
  {
   "cell_type": "code",
   "execution_count": 1,
   "metadata": {},
   "outputs": [],
   "source": [
    "import pandas as pd\n",
    "import utils\n",
    "import altair as alt\n",
    "\n",
    "US_COUNTY_URL = \"http://lahub.maps.arcgis.com/sharing/rest/content/items/8aba663239fc428f8bcdc48e213e3172/data\"\n",
    "LA_CITY_URL = \"https://lahub.maps.arcgis.com/sharing/rest/content/items/7175fba373f541a7a19df56b6a0617f4/data\"\n",
    "TESTING_URL = \"http://lahub.maps.arcgis.com/sharing/rest/content/items/158dab4a07b04ecb8d47fea1746303ac/data\"\n",
    "HOSPITAL_URL = \"http://lahub.maps.arcgis.com/sharing/rest/content/items/3da1eb3e13a14743973c96b945bd1117/data\"\n",
    "\n",
    "CROSSWALK_URL = (\n",
    "    \"https://raw.githubusercontent.com/CityOfLosAngeles/aqueduct/master/dags/\"\n",
    "    \"public-health/covid19/msa_county_pop_crosswalk.csv\"\n",
    ")"
   ]
  },
  {
   "cell_type": "code",
   "execution_count": null,
   "metadata": {},
   "outputs": [],
   "source": [
    "\"\"\" \n",
    "US_COUNTY_URL = \"http://lahub.maps.arcgis.com/sharing/rest/content/items/8aba663239fc428f8bcdc48e213e3172/data\"\n",
    "LA_CITY_URL = \"https://lahub.maps.arcgis.com/sharing/rest/content/items/7175fba373f541a7a19df56b6a0617f4/data\"\n",
    "TESTING_URL = \"http://lahub.maps.arcgis.com/sharing/rest/content/items/158dab4a07b04ecb8d47fea1746303ac/data\"\n",
    "HOSPITAL_URL = \"http://lahub.maps.arcgis.com/sharing/rest/content/items/3da1eb3e13a14743973c96b945bd1117/data\"\n",
    "\n",
    "county_df = pd.read_csv(US_COUNTY_URL, dtype={'fips':'str'})\n",
    " \n",
    "To convert to HTML: \n",
    "jupyter nbconvert --to html --no-input my-notebook.ipynb\n",
    "\"\"\""
   ]
  },
  {
   "cell_type": "code",
   "execution_count": null,
   "metadata": {},
   "outputs": [],
   "source": [
    "la_county = utils.case_indicators_county(\"Los Angeles\", \"4/5/20\")\n",
    "la_city = utils.case_indicators_lacity(\"4/5/20\")\n",
    "ca = utils.case_indicators_state(\"California\", \"3/1/20\")\n",
    "la_msa = utils.case_indicators_msa(\"Los Angeles\", \"3/1/20\")"
   ]
  },
  {
   "cell_type": "markdown",
   "metadata": {},
   "source": [
    "## Testing Indicators"
   ]
  },
  {
   "cell_type": "markdown",
   "metadata": {},
   "source": [
    "### NY\n",
    "Indicator: 30 tests per 1,000 residents per month\n",
    "<br>Assume: population of 8.4M in NYC\n",
    "<br>Test rate per 1,000 per month: 30 tests per 1,000 residents per month\n",
    "<br>Tests per day and per month: 8,400 tests/day or 252,000 tests/month.\n",
    "\n",
    "### Chicago\n",
    "Indicator: 4,500 tests per day and 135,000 tests per month\n",
    "<br>Assume: population of 2.7M in Chicago\n",
    "<br>Test rate per 1,000 per month: 50 tests per 1,000 residents per month\n",
    "<br>Tests per day and per month: 4,500 tests/day or 135,000 per month"
   ]
  },
  {
   "cell_type": "code",
   "execution_count": null,
   "metadata": {},
   "outputs": [],
   "source": [
    "city = \"NY\"\n",
    "nyc_pop = 8_400_000\n",
    "rate_per_1k = 30 / 1_000\n",
    "print(f\"{city} test per month: {nyc_pop * rate_per_1k}\")\n",
    "print(f\"{city} test per day: {nyc_pop * rate_per_1k / 30}\")"
   ]
  },
  {
   "cell_type": "code",
   "execution_count": null,
   "metadata": {},
   "outputs": [],
   "source": [
    "city = \"Chicago\"\n",
    "chicago_pop = 2_700_000\n",
    "rate_per_1k = 50 / 1_000\n",
    "print(f\"{city} test per month: {chicago_pop * rate_per_1k}\")\n",
    "print(f\"{city} test per day: {chicago_pop * rate_per_1k / 30}\")"
   ]
  },
  {
   "cell_type": "code",
   "execution_count": null,
   "metadata": {},
   "outputs": [],
   "source": [
    "la_pop = 10_000_000\n",
    "city = \"LA\"\n",
    "\n",
    "nyc_rate = 30 / 1_000\n",
    "chicago_rate = 50 / 1_000\n",
    "\n",
    "# Let's try LA with NYC's rate and Chicago's rate\n",
    "print(f\"{city} test per month (NYC): {la_pop * nyc_rate}\")\n",
    "print(f\"{city} test per day (NYC): {la_pop * nyc_rate / 30}\")\n",
    "print(f\"{city} test per month (Chicago): {la_pop * chicago_rate}\")\n",
    "print(f\"{city} test per day (Chicago): {la_pop * chicago_rate / 30}\")"
   ]
  },
  {
   "cell_type": "code",
   "execution_count": null,
   "metadata": {},
   "outputs": [],
   "source": [
    "la = utils.daily_test_lacity('4/1/20')"
   ]
  },
  {
   "cell_type": "code",
   "execution_count": null,
   "metadata": {},
   "outputs": [],
   "source": [
    "# To do: add monthly testing function\n",
    "# Add share of positive tests"
   ]
  },
  {
   "cell_type": "code",
   "execution_count": null,
   "metadata": {},
   "outputs": [],
   "source": []
  },
  {
   "cell_type": "markdown",
   "metadata": {},
   "source": [
    "## Hospital Capacity Indicators"
   ]
  },
  {
   "cell_type": "code",
   "execution_count": 3,
   "metadata": {},
   "outputs": [
    {
     "data": {
      "text/html": [
       "<div>\n",
       "<style scoped>\n",
       "    .dataframe tbody tr th:only-of-type {\n",
       "        vertical-align: middle;\n",
       "    }\n",
       "\n",
       "    .dataframe tbody tr th {\n",
       "        vertical-align: top;\n",
       "    }\n",
       "\n",
       "    .dataframe thead th {\n",
       "        text-align: right;\n",
       "    }\n",
       "</style>\n",
       "<table border=\"1\" class=\"dataframe\">\n",
       "  <thead>\n",
       "    <tr style=\"text-align: right;\">\n",
       "      <th></th>\n",
       "      <th>Date</th>\n",
       "      <th>Type</th>\n",
       "      <th>Status</th>\n",
       "      <th>Count</th>\n",
       "    </tr>\n",
       "  </thead>\n",
       "  <tbody>\n",
       "    <tr>\n",
       "      <th>0</th>\n",
       "      <td>4/3/2020</td>\n",
       "      <td>Acute Care Beds</td>\n",
       "      <td>Available</td>\n",
       "      <td>1378.0</td>\n",
       "    </tr>\n",
       "    <tr>\n",
       "      <th>1</th>\n",
       "      <td>4/3/2020</td>\n",
       "      <td>Acute Care Beds</td>\n",
       "      <td>COVID Occupied</td>\n",
       "      <td>1152.0</td>\n",
       "    </tr>\n",
       "    <tr>\n",
       "      <th>2</th>\n",
       "      <td>4/3/2020</td>\n",
       "      <td>Acute Care Beds</td>\n",
       "      <td>Licensed Unreported Beds</td>\n",
       "      <td>631.0</td>\n",
       "    </tr>\n",
       "    <tr>\n",
       "      <th>3</th>\n",
       "      <td>4/3/2020</td>\n",
       "      <td>Acute Care Beds</td>\n",
       "      <td>Unavailable</td>\n",
       "      <td>13839.0</td>\n",
       "    </tr>\n",
       "    <tr>\n",
       "      <th>4</th>\n",
       "      <td>4/3/2020</td>\n",
       "      <td>ICU Beds</td>\n",
       "      <td>Available</td>\n",
       "      <td>239.0</td>\n",
       "    </tr>\n",
       "    <tr>\n",
       "      <th>5</th>\n",
       "      <td>4/3/2020</td>\n",
       "      <td>ICU Beds</td>\n",
       "      <td>COVID Occupied</td>\n",
       "      <td>631.0</td>\n",
       "    </tr>\n",
       "    <tr>\n",
       "      <th>6</th>\n",
       "      <td>4/3/2020</td>\n",
       "      <td>ICU Beds</td>\n",
       "      <td>Unavailable</td>\n",
       "      <td>1630.0</td>\n",
       "    </tr>\n",
       "    <tr>\n",
       "      <th>7</th>\n",
       "      <td>4/3/2020</td>\n",
       "      <td>Ventilators</td>\n",
       "      <td>Available</td>\n",
       "      <td>895.0</td>\n",
       "    </tr>\n",
       "    <tr>\n",
       "      <th>8</th>\n",
       "      <td>4/3/2020</td>\n",
       "      <td>Ventilators</td>\n",
       "      <td>COVID Occupied</td>\n",
       "      <td>462.0</td>\n",
       "    </tr>\n",
       "    <tr>\n",
       "      <th>9</th>\n",
       "      <td>4/3/2020</td>\n",
       "      <td>Ventilators</td>\n",
       "      <td>Unavailable</td>\n",
       "      <td>573.0</td>\n",
       "    </tr>\n",
       "    <tr>\n",
       "      <th>10</th>\n",
       "      <td>4/4/2020</td>\n",
       "      <td>Acute Care Beds</td>\n",
       "      <td>Available</td>\n",
       "      <td>1266.0</td>\n",
       "    </tr>\n",
       "    <tr>\n",
       "      <th>11</th>\n",
       "      <td>4/4/2020</td>\n",
       "      <td>Acute Care Beds</td>\n",
       "      <td>COVID Occupied</td>\n",
       "      <td>1061.0</td>\n",
       "    </tr>\n",
       "  </tbody>\n",
       "</table>\n",
       "</div>"
      ],
      "text/plain": [
       "        Date             Type                    Status    Count\n",
       "0   4/3/2020  Acute Care Beds                 Available   1378.0\n",
       "1   4/3/2020  Acute Care Beds            COVID Occupied   1152.0\n",
       "2   4/3/2020  Acute Care Beds  Licensed Unreported Beds    631.0\n",
       "3   4/3/2020  Acute Care Beds               Unavailable  13839.0\n",
       "4   4/3/2020         ICU Beds                 Available    239.0\n",
       "5   4/3/2020         ICU Beds            COVID Occupied    631.0\n",
       "6   4/3/2020         ICU Beds               Unavailable   1630.0\n",
       "7   4/3/2020      Ventilators                 Available    895.0\n",
       "8   4/3/2020      Ventilators            COVID Occupied    462.0\n",
       "9   4/3/2020      Ventilators               Unavailable    573.0\n",
       "10  4/4/2020  Acute Care Beds                 Available   1266.0\n",
       "11  4/4/2020  Acute Care Beds            COVID Occupied   1061.0"
      ]
     },
     "execution_count": 3,
     "metadata": {},
     "output_type": "execute_result"
    }
   ],
   "source": [
    "hospital_df = pd.read_csv(HOSPITAL_URL)\n",
    "hospital_df.head(12)"
   ]
  },
  {
   "cell_type": "code",
   "execution_count": null,
   "metadata": {},
   "outputs": [],
   "source": [
    "hospital_df = (hospital_df.assign(\n",
    "        total_beds = hospital_df.groupby('Date').agg({'Count':'sum'})\n",
    "    )\n",
    ")"
   ]
  },
  {
   "cell_type": "code",
   "execution_count": null,
   "metadata": {},
   "outputs": [],
   "source": []
  },
  {
   "cell_type": "code",
   "execution_count": null,
   "metadata": {},
   "outputs": [],
   "source": []
  },
  {
   "cell_type": "code",
   "execution_count": null,
   "metadata": {},
   "outputs": [],
   "source": []
  },
  {
   "cell_type": "code",
   "execution_count": null,
   "metadata": {},
   "outputs": [],
   "source": []
  }
 ],
 "metadata": {
  "kernelspec": {
   "display_name": "Python 3",
   "language": "python",
   "name": "python3"
  },
  "language_info": {
   "codemirror_mode": {
    "name": "ipython",
    "version": 3
   },
   "file_extension": ".py",
   "mimetype": "text/x-python",
   "name": "python",
   "nbconvert_exporter": "python",
   "pygments_lexer": "ipython3",
   "version": "3.7.3"
  }
 },
 "nbformat": 4,
 "nbformat_minor": 4
}
