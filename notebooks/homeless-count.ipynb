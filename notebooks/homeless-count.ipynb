{
 "cells": [
  {
   "cell_type": "markdown",
   "metadata": {},
   "source": [
    "# Identify gaps in CARE service relative to unsheltered population\n",
    "* Import homelessness counts for 2017-2019 by census tract\n",
    "* Assemble, clip to City of LA\n",
    "* Clean CARE 311 data\n",
    "* Choropleth map by census tract showing under/over-served areas -- do map in RShiny"
   ]
  },
  {
   "cell_type": "code",
   "execution_count": 1,
   "metadata": {},
   "outputs": [],
   "source": [
    "import numpy as np\n",
    "import pandas as pd\n",
    "import geopandas as gpd\n",
    "import intake\n",
    "import matplotlib.pyplot as plt\n",
    "%matplotlib inline"
   ]
  },
  {
   "cell_type": "code",
   "execution_count": 2,
   "metadata": {},
   "outputs": [],
   "source": [
    "catalog = intake.open_catalog('../catalogs/*.yml')"
   ]
  },
  {
   "cell_type": "markdown",
   "metadata": {},
   "source": [
    "## Clean homelessness data by tract"
   ]
  },
  {
   "cell_type": "code",
   "execution_count": 3,
   "metadata": {},
   "outputs": [],
   "source": [
    "y2017 = catalog.homeless_2017.read()\n",
    "y2018 = catalog.homeless_2018.read()\n",
    "y2019 = catalog.homeless_2019.read()"
   ]
  },
  {
   "cell_type": "code",
   "execution_count": 4,
   "metadata": {},
   "outputs": [],
   "source": [
    "city_boundary = catalog.city_boundary.read().to_crs({'init':'epsg:2229'})"
   ]
  },
  {
   "cell_type": "code",
   "execution_count": 5,
   "metadata": {},
   "outputs": [],
   "source": [
    "# Number of square feet in one square mile\n",
    "sqft_to_sqmi = 2.788e+7\n",
    "\n",
    "# Number of square feet in one square kilometer\n",
    "sqft_to_sqkm = 1.076e+7"
   ]
  },
  {
   "cell_type": "code",
   "execution_count": 6,
   "metadata": {},
   "outputs": [],
   "source": [
    "# Make the 3 dfs uniform, then append into one df\n",
    "raw_dfs = {'2017': y2017, '2018': y2018, '2019': y2019}\n",
    "\n",
    "df = pd.DataFrame()\n",
    "\n",
    "for key, value in raw_dfs.items():\n",
    "    yr = f\"{key}\"\n",
    "    new_df = value.copy()\n",
    "    new_df['year'] = int(yr) \n",
    "    # Rename columns\n",
    "    keep = ['Tract', 'SPA', 'SD', 'CD', 'totUnshelt', 'totShelt', 'totPeople', 'geometry', 'year']\n",
    "    if key == '2017':\n",
    "        new_df.rename(columns = {'totSheltPe': 'totShelt'}, inplace = True)\n",
    "    elif key == '2018':\n",
    "        new_df.rename(columns = {'Tract_N': 'Tract'}, inplace = True)\n",
    "    elif key == '2019':\n",
    "        new_df.rename(columns = {'Tract_N': 'Tract', 'totUnshe_1': 'totUnshelt', \n",
    "                                 'totShelt_1': 'totShelt', 'totPeopl_1': 'totPeople'}, inplace = True)\n",
    "    # Just keep needed columns\n",
    "    new_df = new_df[keep]\n",
    "    # Append to existing df\n",
    "    df = df.append(new_df)\n",
    "\n",
    "df = df.to_crs({'init':'epsg:2229'})   "
   ]
  },
  {
   "cell_type": "code",
   "execution_count": 7,
   "metadata": {},
   "outputs": [],
   "source": [
    "# Only keep the tracts that intersect with city boundary\n",
    "joined = gpd.sjoin(df, city_boundary, how = 'inner', op = 'intersects')\n",
    "joined.drop(columns = ['index_right', 'OBJECTID', 'CITY'], inplace = True)\n",
    "joined['full_area'] = joined.geometry.area / sqft_to_sqmi\n",
    "joined = joined.reset_index()"
   ]
  },
  {
   "cell_type": "code",
   "execution_count": 8,
   "metadata": {},
   "outputs": [
    {
     "data": {
      "text/html": [
       "<div>\n",
       "<style scoped>\n",
       "    .dataframe tbody tr th:only-of-type {\n",
       "        vertical-align: middle;\n",
       "    }\n",
       "\n",
       "    .dataframe tbody tr th {\n",
       "        vertical-align: top;\n",
       "    }\n",
       "\n",
       "    .dataframe thead th {\n",
       "        text-align: right;\n",
       "    }\n",
       "</style>\n",
       "<table border=\"1\" class=\"dataframe\">\n",
       "  <thead>\n",
       "    <tr style=\"text-align: right;\">\n",
       "      <th></th>\n",
       "      <th>index</th>\n",
       "      <th>Tract</th>\n",
       "      <th>SPA</th>\n",
       "      <th>SD</th>\n",
       "      <th>CD</th>\n",
       "      <th>totUnshelt</th>\n",
       "      <th>totShelt</th>\n",
       "      <th>totPeople</th>\n",
       "      <th>geometry</th>\n",
       "      <th>year</th>\n",
       "      <th>full_area</th>\n",
       "    </tr>\n",
       "  </thead>\n",
       "  <tbody>\n",
       "    <tr>\n",
       "      <th>0</th>\n",
       "      <td>0</td>\n",
       "      <td>980024</td>\n",
       "      <td>2</td>\n",
       "      <td>3</td>\n",
       "      <td>6</td>\n",
       "      <td>253.647</td>\n",
       "      <td>0</td>\n",
       "      <td>253.647</td>\n",
       "      <td>POLYGON ((6418636.803 1889623.260, 6418594.512...</td>\n",
       "      <td>2017</td>\n",
       "      <td>3.199074</td>\n",
       "    </tr>\n",
       "    <tr>\n",
       "      <th>1</th>\n",
       "      <td>1</td>\n",
       "      <td>980026</td>\n",
       "      <td>2</td>\n",
       "      <td>5</td>\n",
       "      <td>7</td>\n",
       "      <td>0.000</td>\n",
       "      <td>0</td>\n",
       "      <td>0.000</td>\n",
       "      <td>POLYGON ((6475185.824 1928798.648, 6475192.762...</td>\n",
       "      <td>2017</td>\n",
       "      <td>5.363444</td>\n",
       "    </tr>\n",
       "    <tr>\n",
       "      <th>2</th>\n",
       "      <td>2</td>\n",
       "      <td>101110</td>\n",
       "      <td>2</td>\n",
       "      <td>5</td>\n",
       "      <td>7</td>\n",
       "      <td>1.000</td>\n",
       "      <td>0</td>\n",
       "      <td>1.000</td>\n",
       "      <td>POLYGON ((6471647.383 1918308.749, 6470776.048...</td>\n",
       "      <td>2017</td>\n",
       "      <td>0.441021</td>\n",
       "    </tr>\n",
       "    <tr>\n",
       "      <th>3</th>\n",
       "      <td>3</td>\n",
       "      <td>980028</td>\n",
       "      <td>5</td>\n",
       "      <td>4</td>\n",
       "      <td>11</td>\n",
       "      <td>36.004</td>\n",
       "      <td>0</td>\n",
       "      <td>36.004</td>\n",
       "      <td>POLYGON ((6444686.779 1806342.542, 6444503.636...</td>\n",
       "      <td>2017</td>\n",
       "      <td>6.700833</td>\n",
       "    </tr>\n",
       "    <tr>\n",
       "      <th>4</th>\n",
       "      <td>4</td>\n",
       "      <td>101122</td>\n",
       "      <td>2</td>\n",
       "      <td>5</td>\n",
       "      <td>7</td>\n",
       "      <td>0.000</td>\n",
       "      <td>0</td>\n",
       "      <td>0.000</td>\n",
       "      <td>POLYGON ((6474009.584 1922284.579, 6474010.121...</td>\n",
       "      <td>2017</td>\n",
       "      <td>1.020722</td>\n",
       "    </tr>\n",
       "  </tbody>\n",
       "</table>\n",
       "</div>"
      ],
      "text/plain": [
       "   index   Tract  SPA  SD  CD  totUnshelt  totShelt  totPeople  \\\n",
       "0      0  980024    2   3   6     253.647         0    253.647   \n",
       "1      1  980026    2   5   7       0.000         0      0.000   \n",
       "2      2  101110    2   5   7       1.000         0      1.000   \n",
       "3      3  980028    5   4  11      36.004         0     36.004   \n",
       "4      4  101122    2   5   7       0.000         0      0.000   \n",
       "\n",
       "                                            geometry  year  full_area  \n",
       "0  POLYGON ((6418636.803 1889623.260, 6418594.512...  2017   3.199074  \n",
       "1  POLYGON ((6475185.824 1928798.648, 6475192.762...  2017   5.363444  \n",
       "2  POLYGON ((6471647.383 1918308.749, 6470776.048...  2017   0.441021  \n",
       "3  POLYGON ((6444686.779 1806342.542, 6444503.636...  2017   6.700833  \n",
       "4  POLYGON ((6474009.584 1922284.579, 6474010.121...  2017   1.020722  "
      ]
     },
     "execution_count": 8,
     "metadata": {},
     "output_type": "execute_result"
    }
   ],
   "source": [
    "joined.head()"
   ]
  },
  {
   "cell_type": "code",
   "execution_count": 9,
   "metadata": {},
   "outputs": [],
   "source": [
    "# Extract the geomery to use to test for intersection\n",
    "boundary = city_boundary.geometry.iloc[0]"
   ]
  },
  {
   "cell_type": "code",
   "execution_count": 10,
   "metadata": {},
   "outputs": [],
   "source": [
    "# Find the centroid of each tract\n",
    "centroids = joined.centroid\n",
    "centroids = pd.DataFrame(centroids)\n",
    "centroids.rename(columns = {0: 'center'}, inplace = True)\n",
    "\n",
    "# Test whether centroid is in the city boundary\n",
    "gdf = pd.merge(joined, centroids, left_index = True, right_index = True)"
   ]
  },
  {
   "cell_type": "code",
   "execution_count": 11,
   "metadata": {},
   "outputs": [
    {
     "data": {
      "text/html": [
       "<div>\n",
       "<style scoped>\n",
       "    .dataframe tbody tr th:only-of-type {\n",
       "        vertical-align: middle;\n",
       "    }\n",
       "\n",
       "    .dataframe tbody tr th {\n",
       "        vertical-align: top;\n",
       "    }\n",
       "\n",
       "    .dataframe thead th {\n",
       "        text-align: right;\n",
       "    }\n",
       "</style>\n",
       "<table border=\"1\" class=\"dataframe\">\n",
       "  <thead>\n",
       "    <tr style=\"text-align: right;\">\n",
       "      <th></th>\n",
       "      <th>index</th>\n",
       "      <th>Tract</th>\n",
       "      <th>SPA</th>\n",
       "      <th>SD</th>\n",
       "      <th>CD</th>\n",
       "      <th>totUnshelt</th>\n",
       "      <th>totShelt</th>\n",
       "      <th>totPeople</th>\n",
       "      <th>geometry</th>\n",
       "      <th>year</th>\n",
       "      <th>full_area</th>\n",
       "      <th>center</th>\n",
       "    </tr>\n",
       "  </thead>\n",
       "  <tbody>\n",
       "    <tr>\n",
       "      <th>0</th>\n",
       "      <td>0</td>\n",
       "      <td>980024</td>\n",
       "      <td>2</td>\n",
       "      <td>3</td>\n",
       "      <td>6</td>\n",
       "      <td>253.647</td>\n",
       "      <td>0</td>\n",
       "      <td>253.647</td>\n",
       "      <td>POLYGON ((6418636.803 1889623.260, 6418594.512...</td>\n",
       "      <td>2017</td>\n",
       "      <td>3.199074</td>\n",
       "      <td>POINT (6413875.253 1887039.658)</td>\n",
       "    </tr>\n",
       "    <tr>\n",
       "      <th>1</th>\n",
       "      <td>1</td>\n",
       "      <td>980026</td>\n",
       "      <td>2</td>\n",
       "      <td>5</td>\n",
       "      <td>7</td>\n",
       "      <td>0.000</td>\n",
       "      <td>0</td>\n",
       "      <td>0.000</td>\n",
       "      <td>POLYGON ((6475185.824 1928798.648, 6475192.762...</td>\n",
       "      <td>2017</td>\n",
       "      <td>5.363444</td>\n",
       "      <td>POINT (6477309.146 1922647.841)</td>\n",
       "    </tr>\n",
       "    <tr>\n",
       "      <th>2</th>\n",
       "      <td>2</td>\n",
       "      <td>101110</td>\n",
       "      <td>2</td>\n",
       "      <td>5</td>\n",
       "      <td>7</td>\n",
       "      <td>1.000</td>\n",
       "      <td>0</td>\n",
       "      <td>1.000</td>\n",
       "      <td>POLYGON ((6471647.383 1918308.749, 6470776.048...</td>\n",
       "      <td>2017</td>\n",
       "      <td>0.441021</td>\n",
       "      <td>POINT (6473133.634 1916940.282)</td>\n",
       "    </tr>\n",
       "    <tr>\n",
       "      <th>3</th>\n",
       "      <td>3</td>\n",
       "      <td>980028</td>\n",
       "      <td>5</td>\n",
       "      <td>4</td>\n",
       "      <td>11</td>\n",
       "      <td>36.004</td>\n",
       "      <td>0</td>\n",
       "      <td>36.004</td>\n",
       "      <td>POLYGON ((6444686.779 1806342.542, 6444503.636...</td>\n",
       "      <td>2017</td>\n",
       "      <td>6.700833</td>\n",
       "      <td>POINT (6437365.346 1801173.537)</td>\n",
       "    </tr>\n",
       "    <tr>\n",
       "      <th>4</th>\n",
       "      <td>4</td>\n",
       "      <td>101122</td>\n",
       "      <td>2</td>\n",
       "      <td>5</td>\n",
       "      <td>7</td>\n",
       "      <td>0.000</td>\n",
       "      <td>0</td>\n",
       "      <td>0.000</td>\n",
       "      <td>POLYGON ((6474009.584 1922284.579, 6474010.121...</td>\n",
       "      <td>2017</td>\n",
       "      <td>1.020722</td>\n",
       "      <td>POINT (6474000.556 1919939.253)</td>\n",
       "    </tr>\n",
       "  </tbody>\n",
       "</table>\n",
       "</div>"
      ],
      "text/plain": [
       "   index   Tract  SPA  SD  CD  totUnshelt  totShelt  totPeople  \\\n",
       "0      0  980024    2   3   6     253.647         0    253.647   \n",
       "1      1  980026    2   5   7       0.000         0      0.000   \n",
       "2      2  101110    2   5   7       1.000         0      1.000   \n",
       "3      3  980028    5   4  11      36.004         0     36.004   \n",
       "4      4  101122    2   5   7       0.000         0      0.000   \n",
       "\n",
       "                                            geometry  year  full_area  \\\n",
       "0  POLYGON ((6418636.803 1889623.260, 6418594.512...  2017   3.199074   \n",
       "1  POLYGON ((6475185.824 1928798.648, 6475192.762...  2017   5.363444   \n",
       "2  POLYGON ((6471647.383 1918308.749, 6470776.048...  2017   0.441021   \n",
       "3  POLYGON ((6444686.779 1806342.542, 6444503.636...  2017   6.700833   \n",
       "4  POLYGON ((6474009.584 1922284.579, 6474010.121...  2017   1.020722   \n",
       "\n",
       "                            center  \n",
       "0  POINT (6413875.253 1887039.658)  \n",
       "1  POINT (6477309.146 1922647.841)  \n",
       "2  POINT (6473133.634 1916940.282)  \n",
       "3  POINT (6437365.346 1801173.537)  \n",
       "4  POINT (6474000.556 1919939.253)  "
      ]
     },
     "execution_count": 11,
     "metadata": {},
     "output_type": "execute_result"
    }
   ],
   "source": [
    "gdf.head()"
   ]
  },
  {
   "cell_type": "code",
   "execution_count": 12,
   "metadata": {},
   "outputs": [
    {
     "name": "stderr",
     "output_type": "stream",
     "text": [
      "/opt/conda/lib/python3.7/site-packages/geopandas/geodataframe.py:546: UserWarning: Boolean Series key will be reindexed to match DataFrame index.\n",
      "  result = super(GeoDataFrame, self).__getitem__(key)\n"
     ]
    }
   ],
   "source": [
    "gdf = gdf.set_geometry('center')\n",
    "\n",
    "# Test whether centroid is in the city boundary\n",
    "gdf['in_city'] = gdf.within(boundary)\n",
    "\n",
    "gdf2 = gdf[gdf.in_city == True]\n",
    "\n",
    "gdf2 = gdf2.set_geometry('geometry')\n",
    "\n",
    "\n",
    "gdf2['clipped_geom'] = gdf2[gdf.intersects(boundary)].intersection(boundary)\n",
    "gdf2['clipped_area'] = gdf2.set_geometry('clipped_geom').area / sqft_to_sqmi"
   ]
  },
  {
   "cell_type": "code",
   "execution_count": 13,
   "metadata": {},
   "outputs": [
    {
     "data": {
      "text/plain": [
       "<matplotlib.axes._subplots.AxesSubplot at 0x7f194d112668>"
      ]
     },
     "execution_count": 13,
     "metadata": {},
     "output_type": "execute_result"
    },
    {
     "data": {
      "image/png": "[encoded data removed]",
      "text/plain": [
       "<Figure size 1080x720 with 2 Axes>"
      ]
     },
     "metadata": {
      "needs_background": "light"
     },
     "output_type": "display_data"
    }
   ],
   "source": [
    "fig, ax = plt.subplots(figsize = (15, 10))\n",
    "gdf2.plot(column='totUnshelt', ax=ax, legend=True)"
   ]
  },
  {
   "cell_type": "code",
   "execution_count": null,
   "metadata": {},
   "outputs": [],
   "source": []
  }
 ],
 "metadata": {
  "kernelspec": {
   "display_name": "Python 3",
   "language": "python",
   "name": "python3"
  },
  "language_info": {
   "codemirror_mode": {
    "name": "ipython",
    "version": 3
   },
   "file_extension": ".py",
   "mimetype": "text/x-python",
   "name": "python",
   "nbconvert_exporter": "python",
   "pygments_lexer": "ipython3",
   "version": "3.7.3"
  }
 },
 "nbformat": 4,
 "nbformat_minor": 4
}
