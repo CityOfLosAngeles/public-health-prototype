{
 "cells": [
  {
   "cell_type": "markdown",
   "metadata": {},
   "source": [
    "# Import 311 CARE/CARE+ Requests\n",
    "* Aggregate by request type\n",
    "* Spatial join with census tracts\n",
    "* Count the number of requests for each request type by tract-year\n",
    "* Move to script when ready"
   ]
  },
  {
   "cell_type": "code",
   "execution_count": 1,
   "metadata": {},
   "outputs": [],
   "source": [
    "import numpy as np\n",
    "import pandas as pd\n",
    "import geopandas as gpd\n",
    "import intake\n",
    "from shapely.geometry import Point\n",
    "import boto3"
   ]
  },
  {
   "cell_type": "code",
   "execution_count": 2,
   "metadata": {},
   "outputs": [],
   "source": [
    "catalog = intake.open_catalog('../catalogs/*.yml')\n",
    "bucket_name = 's3://city-of-los-angeles-data-lake/public-health-dashboard/'\n",
    "\n",
    "s3 = boto3.client('s3')"
   ]
  },
  {
   "cell_type": "code",
   "execution_count": 3,
   "metadata": {},
   "outputs": [
    {
     "name": "stderr",
     "output_type": "stream",
     "text": [
      "/opt/conda/lib/python3.7/site-packages/IPython/core/interactiveshell.py:3057: DtypeWarning: Columns (14) have mixed types. Specify dtype option on import or set low_memory=False.\n",
      "  interactivity=interactivity, compiler=compiler, result=result)\n"
     ]
    }
   ],
   "source": [
    "df = pd.read_csv(f'{bucket_name}data/raw/MyLA311_Service_Requests.csv')"
   ]
  },
  {
   "cell_type": "code",
   "execution_count": 4,
   "metadata": {},
   "outputs": [],
   "source": [
    "# Create geometry column from lat/long\n",
    "df['geometry'] = df.dropna(subset=['Latitude', 'Longitude']).apply(\n",
    "    lambda x: Point(x.Longitude, x.Latitude), axis = 1)"
   ]
  },
  {
   "cell_type": "code",
   "execution_count": 5,
   "metadata": {},
   "outputs": [],
   "source": [
    "df = gpd.GeoDataFrame(df)\n",
    "df.crs = {'init':'epsg:4326'}\n",
    "\n",
    "df = df[df.geometry.notna()]\n",
    "df = df.to_crs({'init':'epsg:2229'})"
   ]
  },
  {
   "cell_type": "markdown",
   "metadata": {},
   "source": [
    "## Extract information needed on map"
   ]
  },
  {
   "cell_type": "code",
   "execution_count": 6,
   "metadata": {},
   "outputs": [
    {
     "data": {
      "text/plain": [
       "Homeless Encampment            65505\n",
       "Illegal Dumping Pickup         16606\n",
       "Bulky Items                    12071\n",
       "Service Not Complete             222\n",
       "Metal/Household Appliances       151\n",
       "Electronic Waste                  61\n",
       "Dead Animal Removal                3\n",
       "Illegal Dumping in Progress        1\n",
       "Name: RequestType, dtype: int64"
      ]
     },
     "execution_count": 6,
     "metadata": {},
     "output_type": "execute_result"
    }
   ],
   "source": [
    "df.RequestType.value_counts()"
   ]
  },
  {
   "cell_type": "code",
   "execution_count": 7,
   "metadata": {},
   "outputs": [],
   "source": [
    "# Define a function that will aggregate Request Type\n",
    "def request_type(row):\n",
    "    \n",
    "    homeless = 0\n",
    "    bulky = 0\n",
    "    illegal = 0\n",
    "    other = 0\n",
    "    \n",
    "    if row.RequestType == 'Homeless Encampment':\n",
    "        homeless = 1\n",
    "    elif (row.RequestType == 'Bulky Items'):\n",
    "        bulky = 1\n",
    "    elif 'Illegal Dumping' in row.RequestType:\n",
    "        illegal = 1\n",
    "    elif ((row.RequestType == 'Service Not Complete') or \n",
    "          (row.RequestType == 'Metal/Household Appliances') or \n",
    "          (row.RequestType == 'Electronic Waste') or \n",
    "          (row.RequestType == 'Dead Animal Removal')):\n",
    "        other = 1\n",
    "    \n",
    "    return pd.Series([homeless, bulky, illegal, other], index=['homeless', 'bulky', 'illegal', 'other'])"
   ]
  },
  {
   "cell_type": "code",
   "execution_count": 8,
   "metadata": {},
   "outputs": [],
   "source": [
    "requests = df.apply(request_type, axis = 1)\n",
    "df = pd.concat([df, requests], axis = 1)"
   ]
  },
  {
   "cell_type": "code",
   "execution_count": 9,
   "metadata": {},
   "outputs": [],
   "source": [
    "# Extract year \n",
    "for col in ['CreatedDate', 'UpdatedDate']:\n",
    "    df[col] = pd.to_datetime(df[col])\n",
    "\n",
    "df['year'] = df.CreatedDate.dt.year"
   ]
  },
  {
   "cell_type": "code",
   "execution_count": 10,
   "metadata": {},
   "outputs": [
    {
     "data": {
      "text/plain": [
       "2019    34114\n",
       "2018    30247\n",
       "2017    19935\n",
       "2016     9067\n",
       "2015     1257\n",
       "Name: year, dtype: int64"
      ]
     },
     "execution_count": 10,
     "metadata": {},
     "output_type": "execute_result"
    }
   ],
   "source": [
    "df.year.value_counts()"
   ]
  },
  {
   "cell_type": "code",
   "execution_count": 11,
   "metadata": {},
   "outputs": [
    {
     "data": {
      "text/html": [
       "<div>\n",
       "<style scoped>\n",
       "    .dataframe tbody tr th:only-of-type {\n",
       "        vertical-align: middle;\n",
       "    }\n",
       "\n",
       "    .dataframe tbody tr th {\n",
       "        vertical-align: top;\n",
       "    }\n",
       "\n",
       "    .dataframe thead th {\n",
       "        text-align: right;\n",
       "    }\n",
       "</style>\n",
       "<table border=\"1\" class=\"dataframe\">\n",
       "  <thead>\n",
       "    <tr style=\"text-align: right;\">\n",
       "      <th></th>\n",
       "      <th>SRNumber</th>\n",
       "      <th>CreatedDate</th>\n",
       "      <th>UpdatedDate</th>\n",
       "      <th>ActionTaken</th>\n",
       "      <th>Owner</th>\n",
       "      <th>RequestType</th>\n",
       "      <th>Status</th>\n",
       "      <th>RequestSource</th>\n",
       "      <th>CreatedByUserOrganization</th>\n",
       "      <th>MobileOS</th>\n",
       "      <th>...</th>\n",
       "      <th>CDMember</th>\n",
       "      <th>NC</th>\n",
       "      <th>NCName</th>\n",
       "      <th>PolicePrecinct</th>\n",
       "      <th>geometry</th>\n",
       "      <th>homeless</th>\n",
       "      <th>bulky</th>\n",
       "      <th>illegal</th>\n",
       "      <th>other</th>\n",
       "      <th>year</th>\n",
       "    </tr>\n",
       "  </thead>\n",
       "  <tbody>\n",
       "    <tr>\n",
       "      <th>0</th>\n",
       "      <td>1-1487677271</td>\n",
       "      <td>2019-11-06 13:17:37</td>\n",
       "      <td>2019-11-06 13:47:38</td>\n",
       "      <td>SR Created</td>\n",
       "      <td>BOS</td>\n",
       "      <td>Homeless Encampment</td>\n",
       "      <td>Pending</td>\n",
       "      <td>Self Service</td>\n",
       "      <td>Self Service</td>\n",
       "      <td>NaN</td>\n",
       "      <td>...</td>\n",
       "      <td>Nury Martinez</td>\n",
       "      <td>112.0</td>\n",
       "      <td>NORTH HILLS EAST</td>\n",
       "      <td>MISSION</td>\n",
       "      <td>POINT (6420904.738 1904547.785)</td>\n",
       "      <td>1</td>\n",
       "      <td>0</td>\n",
       "      <td>0</td>\n",
       "      <td>0</td>\n",
       "      <td>2019</td>\n",
       "    </tr>\n",
       "    <tr>\n",
       "      <th>1</th>\n",
       "      <td>1-1487079981</td>\n",
       "      <td>2019-11-05 23:02:38</td>\n",
       "      <td>2019-11-06 21:23:23</td>\n",
       "      <td>SR Created</td>\n",
       "      <td>BOS</td>\n",
       "      <td>Illegal Dumping Pickup</td>\n",
       "      <td>Pending</td>\n",
       "      <td>Call</td>\n",
       "      <td>BOS</td>\n",
       "      <td>NaN</td>\n",
       "      <td>...</td>\n",
       "      <td>Jose Huizar</td>\n",
       "      <td>52.0</td>\n",
       "      <td>DOWNTOWN LOS ANGELES</td>\n",
       "      <td>CENTRAL</td>\n",
       "      <td>POINT (6484760.638 1836564.385)</td>\n",
       "      <td>0</td>\n",
       "      <td>0</td>\n",
       "      <td>1</td>\n",
       "      <td>0</td>\n",
       "      <td>2019</td>\n",
       "    </tr>\n",
       "    <tr>\n",
       "      <th>2</th>\n",
       "      <td>1-1487079951</td>\n",
       "      <td>2019-11-05 23:01:17</td>\n",
       "      <td>2019-11-06 22:41:56</td>\n",
       "      <td>SR Created</td>\n",
       "      <td>BOS</td>\n",
       "      <td>Bulky Items</td>\n",
       "      <td>Pending</td>\n",
       "      <td>Call</td>\n",
       "      <td>BOS</td>\n",
       "      <td>NaN</td>\n",
       "      <td>...</td>\n",
       "      <td>Jose Huizar</td>\n",
       "      <td>52.0</td>\n",
       "      <td>DOWNTOWN LOS ANGELES</td>\n",
       "      <td>CENTRAL</td>\n",
       "      <td>POINT (6484760.638 1836564.385)</td>\n",
       "      <td>0</td>\n",
       "      <td>1</td>\n",
       "      <td>0</td>\n",
       "      <td>0</td>\n",
       "      <td>2019</td>\n",
       "    </tr>\n",
       "    <tr>\n",
       "      <th>3</th>\n",
       "      <td>1-1487080711</td>\n",
       "      <td>2019-11-05 22:58:10</td>\n",
       "      <td>2019-11-06 22:41:44</td>\n",
       "      <td>SR Created</td>\n",
       "      <td>BOS</td>\n",
       "      <td>Bulky Items</td>\n",
       "      <td>Pending</td>\n",
       "      <td>Call</td>\n",
       "      <td>BOS</td>\n",
       "      <td>NaN</td>\n",
       "      <td>...</td>\n",
       "      <td>Jose Huizar</td>\n",
       "      <td>52.0</td>\n",
       "      <td>DOWNTOWN LOS ANGELES</td>\n",
       "      <td>CENTRAL</td>\n",
       "      <td>POINT (6484760.638 1836564.385)</td>\n",
       "      <td>0</td>\n",
       "      <td>1</td>\n",
       "      <td>0</td>\n",
       "      <td>0</td>\n",
       "      <td>2019</td>\n",
       "    </tr>\n",
       "    <tr>\n",
       "      <th>4</th>\n",
       "      <td>1-1487051388</td>\n",
       "      <td>2019-11-05 21:21:10</td>\n",
       "      <td>2019-11-06 22:17:54</td>\n",
       "      <td>SR Created</td>\n",
       "      <td>BOS</td>\n",
       "      <td>Homeless Encampment</td>\n",
       "      <td>Pending</td>\n",
       "      <td>Mobile App</td>\n",
       "      <td>Self Service</td>\n",
       "      <td>iOS</td>\n",
       "      <td>...</td>\n",
       "      <td>Paul Krekorian</td>\n",
       "      <td>25.0</td>\n",
       "      <td>NC VALLEY VILLAGE</td>\n",
       "      <td>NORTH HOLLYWOOD</td>\n",
       "      <td>POINT (6441738.081 1878829.038)</td>\n",
       "      <td>1</td>\n",
       "      <td>0</td>\n",
       "      <td>0</td>\n",
       "      <td>0</td>\n",
       "      <td>2019</td>\n",
       "    </tr>\n",
       "  </tbody>\n",
       "</table>\n",
       "<p>5 rows × 43 columns</p>\n",
       "</div>"
      ],
      "text/plain": [
       "       SRNumber         CreatedDate         UpdatedDate ActionTaken Owner  \\\n",
       "0  1-1487677271 2019-11-06 13:17:37 2019-11-06 13:47:38  SR Created   BOS   \n",
       "1  1-1487079981 2019-11-05 23:02:38 2019-11-06 21:23:23  SR Created   BOS   \n",
       "2  1-1487079951 2019-11-05 23:01:17 2019-11-06 22:41:56  SR Created   BOS   \n",
       "3  1-1487080711 2019-11-05 22:58:10 2019-11-06 22:41:44  SR Created   BOS   \n",
       "4  1-1487051388 2019-11-05 21:21:10 2019-11-06 22:17:54  SR Created   BOS   \n",
       "\n",
       "              RequestType   Status RequestSource CreatedByUserOrganization  \\\n",
       "0     Homeless Encampment  Pending  Self Service              Self Service   \n",
       "1  Illegal Dumping Pickup  Pending          Call                       BOS   \n",
       "2             Bulky Items  Pending          Call                       BOS   \n",
       "3             Bulky Items  Pending          Call                       BOS   \n",
       "4     Homeless Encampment  Pending    Mobile App              Self Service   \n",
       "\n",
       "  MobileOS  ...        CDMember     NC                NCName   PolicePrecinct  \\\n",
       "0      NaN  ...   Nury Martinez  112.0      NORTH HILLS EAST          MISSION   \n",
       "1      NaN  ...     Jose Huizar   52.0  DOWNTOWN LOS ANGELES          CENTRAL   \n",
       "2      NaN  ...     Jose Huizar   52.0  DOWNTOWN LOS ANGELES          CENTRAL   \n",
       "3      NaN  ...     Jose Huizar   52.0  DOWNTOWN LOS ANGELES          CENTRAL   \n",
       "4      iOS  ...  Paul Krekorian   25.0     NC VALLEY VILLAGE  NORTH HOLLYWOOD   \n",
       "\n",
       "                          geometry  homeless bulky illegal other  year  \n",
       "0  POINT (6420904.738 1904547.785)         1     0       0     0  2019  \n",
       "1  POINT (6484760.638 1836564.385)         0     0       1     0  2019  \n",
       "2  POINT (6484760.638 1836564.385)         0     1       0     0  2019  \n",
       "3  POINT (6484760.638 1836564.385)         0     1       0     0  2019  \n",
       "4  POINT (6441738.081 1878829.038)         1     0       0     0  2019  \n",
       "\n",
       "[5 rows x 43 columns]"
      ]
     },
     "execution_count": 11,
     "metadata": {},
     "output_type": "execute_result"
    }
   ],
   "source": [
    "df.head()"
   ]
  },
  {
   "cell_type": "markdown",
   "metadata": {},
   "source": [
    "## Spatial join with census tracts"
   ]
  },
  {
   "cell_type": "code",
   "execution_count": 12,
   "metadata": {},
   "outputs": [],
   "source": [
    "tracts = gpd.read_file(f'{bucket_name}gis/raw/census_tracts.geojson')"
   ]
  },
  {
   "cell_type": "code",
   "execution_count": 13,
   "metadata": {},
   "outputs": [],
   "source": [
    "m1 = gpd.sjoin(df, tracts, how = 'inner', op = 'intersects')"
   ]
  },
  {
   "cell_type": "code",
   "execution_count": 14,
   "metadata": {},
   "outputs": [
    {
     "data": {
      "text/plain": [
       "Index(['SRNumber', 'CreatedDate', 'UpdatedDate', 'ActionTaken', 'Owner',\n",
       "       'RequestType', 'Status', 'RequestSource', 'CreatedByUserOrganization',\n",
       "       'MobileOS', 'Anonymous', 'AssignTo', 'ServiceDate', 'ClosedDate',\n",
       "       'DateServiceRendered', 'ReasonCode', 'ResolutionCode',\n",
       "       'AddressVerified', 'ApproximateAddress', 'Address', 'HouseNumber',\n",
       "       'Direction', 'StreetName', 'Suffix', 'ZipCode', 'Latitude', 'Longitude',\n",
       "       'Location', 'TBMPage', 'TBMColumn', 'TBMRow', 'APC', 'CD', 'CDMember',\n",
       "       'NC', 'NCName', 'PolicePrecinct', 'geometry', 'homeless', 'bulky',\n",
       "       'illegal', 'other', 'year', 'index_right', 'GEOID'],\n",
       "      dtype='object')"
      ]
     },
     "execution_count": 14,
     "metadata": {},
     "output_type": "execute_result"
    }
   ],
   "source": [
    "m1.columns"
   ]
  },
  {
   "cell_type": "code",
   "execution_count": 15,
   "metadata": {},
   "outputs": [],
   "source": [
    "pivot1 = m1.pivot_table(index = ['GEOID', 'year'], \n",
    "               values = ['homeless', 'bulky', 'illegal', 'other'], aggfunc = 'sum').reset_index().sort_values(['GEOID', 'year'])\n",
    "\n",
    "# Pivot wouldn't work with a geometry column. \n",
    "# Merge geometry column for tracts back in\n",
    "pivot1 = pd.merge(pivot1, tracts, on = 'GEOID', validate = 'm:1')\n",
    "\n",
    "pivot1 = gpd.GeoDataFrame(pivot1)\n",
    "pivot1.crs = {'init':'epsg:2229'}"
   ]
  },
  {
   "cell_type": "code",
   "execution_count": 16,
   "metadata": {},
   "outputs": [],
   "source": [
    "# Export to S3\n",
    "pivot1.to_file(driver = 'GeoJSON', filename = '../gis/care311_tracts.geojson')\n",
    "\n",
    "s3.upload_file('../gis/care311_tracts.geojson', 'city-of-los-angeles-data-lake', \n",
    "               'public-health-dashboard/gis/intermediate/care311_tracts.geojson')"
   ]
  },
  {
   "cell_type": "code",
   "execution_count": null,
   "metadata": {},
   "outputs": [],
   "source": []
  }
 ],
 "metadata": {
  "kernelspec": {
   "display_name": "Python 3",
   "language": "python",
   "name": "python3"
  },
  "language_info": {
   "codemirror_mode": {
    "name": "ipython",
    "version": 3
   },
   "file_extension": ".py",
   "mimetype": "text/x-python",
   "name": "python",
   "nbconvert_exporter": "python",
   "pygments_lexer": "ipython3",
   "version": "3.7.3"
  }
 },
 "nbformat": 4,
 "nbformat_minor": 4
}
