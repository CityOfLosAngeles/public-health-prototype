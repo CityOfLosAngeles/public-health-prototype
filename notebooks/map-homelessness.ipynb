{
 "cells": [
  {
   "cell_type": "markdown",
   "metadata": {},
   "source": [
    "# Identify gaps in CARE service relative to unsheltered population\n",
    "* Map number of CARE/CARE+ requests by tract (2017-2019)\n",
    "* Map number of homeless counts by tract (2017-2019)\n",
    "* Map difference: (total CARE/CARE+ for homeless encampments) - (total homelessness)"
   ]
  },
  {
   "cell_type": "code",
   "execution_count": 1,
   "metadata": {},
   "outputs": [],
   "source": [
    "import numpy as np\n",
    "import pandas as pd\n",
    "import geopandas as gpd\n",
    "import intake\n",
    "import ipyleaflet\n",
    "from ipyleaflet import Map, GeoData, LayersControl, basemaps\n",
    "import json\n",
    "import requests\n",
    "from ipywidgets import link, FloatSlider, Text, HTML\n",
    "from branca.colormap import linear\n",
    "import boto3\n",
    "import folium"
   ]
  },
  {
   "cell_type": "code",
   "execution_count": 2,
   "metadata": {},
   "outputs": [],
   "source": [
    "catalog = intake.open_catalog('../catalogs/*.yml')\n",
    "\n",
    "bucket_name = 's3://city-of-los-angeles-data-lake/public-health-dashboard/'\n",
    "\n",
    "s3 = boto3.client('s3')"
   ]
  },
  {
   "cell_type": "markdown",
   "metadata": {},
   "source": [
    "## Merge dfs"
   ]
  },
  {
   "cell_type": "code",
   "execution_count": null,
   "metadata": {},
   "outputs": [],
   "source": [
    "pivot1 = m2.dissolve(by = ['id', 'clipped_area', 'full_area', \n",
    "                           'CD', 'pop', 'SPA', 'SD'], aggfunc = 'sum').reset_index().drop(columns = ['year'])\n",
    "\n",
    "pivot1['UnsheltDensity'] = pivot1.totUnshelt / pivot1.clipped_area\n",
    "pivot1['CARE_Unshelt'] = pivot1.apply(lambda row: row.homeless / row.totUnshelt if row.totUnshelt > 0 else np.nan, axis = 1)\n",
    "pivot1['Unshelt_CARE'] = pivot1.apply(lambda row: row.totUnshelt / row.homeless if row.homeless > 0 else np.nan, axis = 1)\n",
    "\n",
    "pivot1.to_file(driver = 'GeoJSON', filename = '../gis/homelessness_tract.geojson')\n",
    "s3.upload_file('../gis/homelessness_tract.geojson', 'city-of-los-angeles-data-lake', \n",
    "               'public-health-dashboard/gis/intermediate/homelessness_tract.geojson')\n",
    "\"\"\""
   ]
  },
  {
   "cell_type": "code",
   "execution_count": null,
   "metadata": {},
   "outputs": [],
   "source": [
    "pivot1 = gpd.read_file(f'{bucket_name}gis/intermediate/homelessness_tract.geojson')"
   ]
  },
  {
   "cell_type": "code",
   "execution_count": null,
   "metadata": {},
   "outputs": [],
   "source": [
    "pivot1.head()"
   ]
  },
  {
   "cell_type": "markdown",
   "metadata": {},
   "source": [
    "## Map homelessness"
   ]
  },
  {
   "cell_type": "code",
   "execution_count": null,
   "metadata": {},
   "outputs": [],
   "source": [
    "tracts = pivot1.copy()\n",
    "tracts['GEOID'] = tracts['id']\n",
    "tracts = tracts.set_index('id')\n",
    "tracts.head()"
   ]
  },
  {
   "cell_type": "code",
   "execution_count": null,
   "metadata": {},
   "outputs": [],
   "source": [
    "# to_json converts the gdf to json. json.loads converts it into dictionary \n",
    "# geo_data can have many more columns than just geometry. Need to include other columns if you want to have the HTML popup include info.\n",
    "geo_data = json.loads(tracts.to_json())\n",
    "\n",
    "# Take what we want to map and turn it into a dictionary\n",
    "# Can only include the key-value pair, the value you want to map, nothing more.\n",
    "unsheltered = dict(zip(pivot1['id'].tolist(), pivot1['totUnshelt'].tolist()))\n",
    "unshelt_density = dict(zip(pivot1['id'].tolist(), pivot1['UnsheltDensity'].tolist()))\n",
    "unshelt_CARE = dict(zip(pivot1['id'].tolist(), pivot1['Unshelt_CARE'].tolist()))\n",
    "CARE_unshelt = dict(zip(pivot1['id'].tolist(), pivot1['CARE_Unshelt'].tolist()))"
   ]
  },
  {
   "cell_type": "code",
   "execution_count": null,
   "metadata": {},
   "outputs": [],
   "source": [
    "m = ipyleaflet.Map(center = (34.0536, -118.2427), zoom = 10,\n",
    "                  basemap = basemaps.CartoDB.Positron)\n",
    "\n",
    "layer = ipyleaflet.Choropleth(\n",
    "    geo_data = geo_data,\n",
    "    choro_data = unsheltered,\n",
    "    colormap = linear.viridis,\n",
    "    border_color = 'white',\n",
    "    style = {'fillOpacity': 0.6, 'weight': 0.8, 'opacity': 0.6},\n",
    "    hover_style = {'fillOpacity': 0.8},\n",
    "    value_min = 0,\n",
    "    value_max = 100\n",
    ")\n",
    "\n",
    "html = HTML(''' \n",
    "    Hover over a tract\n",
    "''')\n",
    "\n",
    "html.layout.margin = '0 px 10px 10px 10px'\n",
    "\n",
    "def update_html(feature, id, **kwargs): \n",
    "    html.value = '''\n",
    "        Census Tract:  \n",
    "        <b>{}</b> <br>\n",
    "        Total Unsheltered:\n",
    "        {} \n",
    "    '''.format(id, feature['properties']['totUnshelt'])\n",
    " \n",
    "    \n",
    "layer.on_hover(update_html)\n",
    "\n",
    "control = ipyleaflet.WidgetControl(widget = html, position = 'topright')\n",
    "m.add_layer(layer)\n",
    "m.add_control(control)\n",
    "\n",
    "m"
   ]
  },
  {
   "cell_type": "code",
   "execution_count": null,
   "metadata": {},
   "outputs": [],
   "source": [
    "m = ipyleaflet.Map(center = (34.0536, -118.2427), zoom = 10,\n",
    "                  basemap = basemaps.CartoDB.Positron)\n",
    "\n",
    "layer = ipyleaflet.Choropleth(\n",
    "    geo_data = geo_data,\n",
    "    choro_data = unshelt_density,\n",
    "    colormap = linear.Oranges_08,\n",
    "    border_color = 'white',\n",
    "    style = {'fillOpacity': 0.7, 'weight': 0.8, 'opacity': 0.6},\n",
    "    hover_style = {'fillOpacity': 0.8},\n",
    "    value_min = 0,\n",
    "    value_max = 500\n",
    ")\n",
    "\n",
    "html = HTML(''' \n",
    "    Hover over a tract\n",
    "''')\n",
    "\n",
    "html.layout.margin = '0 px 10px 10px 10px'\n",
    "\n",
    "def update_html(feature, id, **kwargs): \n",
    "    html.value = '''\n",
    "        Census Tract:  \n",
    "        <b>{}</b> <br>\n",
    "        Unsheltered per Square Mile:\n",
    "        {} \n",
    "    '''.format(id, feature['properties']['UnsheltDensity'])\n",
    " \n",
    "    \n",
    "layer.on_hover(update_html)\n",
    "\n",
    "control = ipyleaflet.WidgetControl(widget = html, position = 'topright')\n",
    "m.add_layer(layer)\n",
    "m.add_control(control)\n",
    "\n",
    "m"
   ]
  },
  {
   "cell_type": "code",
   "execution_count": null,
   "metadata": {},
   "outputs": [],
   "source": [
    "unshelt_df = pivot1[['id', 'totUnshelt']]\n",
    "unshelt_df.rename(columns = {'id': 'GEOID'}, inplace = True)\n",
    "#geo = pivot1[['id', 'geometry']]\n",
    " \n",
    "m = folium.Map(\n",
    "    location=[34.0536, -118.2427], \n",
    "    zoom_start=12, \n",
    "    tiles='cartodbpositron'\n",
    ")\n",
    "\n",
    "folium.Choropleth(\n",
    "    geo_data=pivot1,\n",
    "    name = 'choropleth',\n",
    "    data=unshelt_df,\n",
    "    columns=['GEOID', 'totUnshelt'],\n",
    "    key_on='feature.properties.id',\n",
    "    fill_color='BuPu',\n",
    "    fill_opacity=0.95,\n",
    "    line_opacity=0.8, line_color='white',\n",
    "    bins=[0, 50, 100, 500, 4000],\n",
    "    legend_name='Housing Units per Acre'\n",
    ").add_to(m)\n",
    "\n",
    "\n",
    "#m.add_child(folium.LayerControl())\n",
    "\n",
    "m.save('map.html')"
   ]
  },
  {
   "cell_type": "code",
   "execution_count": null,
   "metadata": {},
   "outputs": [],
   "source": []
  }
 ],
 "metadata": {
  "kernelspec": {
   "display_name": "Python 3",
   "language": "python",
   "name": "python3"
  },
  "language_info": {
   "codemirror_mode": {
    "name": "ipython",
    "version": 3
   },
   "file_extension": ".py",
   "mimetype": "text/x-python",
   "name": "python",
   "nbconvert_exporter": "python",
   "pygments_lexer": "ipython3",
   "version": "3.7.3"
  }
 },
 "nbformat": 4,
 "nbformat_minor": 4
}
