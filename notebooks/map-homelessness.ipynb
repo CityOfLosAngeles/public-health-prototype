{
 "cells": [
  {
   "cell_type": "markdown",
   "metadata": {},
   "source": [
    "# Identify gaps in CARE service relative to unsheltered population\n",
    "* Map number of CARE/CARE+ requests by tract (2017-2019)\n",
    "* Map number of homeless counts by tract (2017-2019)\n",
    "* Map difference: (total CARE/CARE+ for homeless encampments) - (total homelessness)"
   ]
  },
  {
   "cell_type": "code",
   "execution_count": 17,
   "metadata": {},
   "outputs": [],
   "source": [
    "import numpy as np\n",
    "import pandas as pd\n",
    "import geopandas as gpd\n",
    "import intake\n",
    "import ipyleaflet\n",
    "from ipyleaflet import Map, GeoData, LayersControl\n",
    "import json\n",
    "import requests\n",
    "from ipywidgets import link, FloatSlider\n",
    "from branca.colormap import linear"
   ]
  },
  {
   "cell_type": "code",
   "execution_count": 18,
   "metadata": {},
   "outputs": [],
   "source": [
    "catalog = intake.open_catalog('../catalogs/*.yml')\n",
    "bucket_name = 's3://city-of-los-angeles-data-lake/public-health-dashboard/'"
   ]
  },
  {
   "cell_type": "markdown",
   "metadata": {},
   "source": [
    "## Import files"
   ]
  },
  {
   "cell_type": "code",
   "execution_count": 19,
   "metadata": {},
   "outputs": [],
   "source": [
    "homeless = gpd.read_file(f'{bucket_name}gis/raw/homelessness_lacity_2017_2019.geojson').to_crs({'init':'epsg:4326'})\n",
    "# Only keep the tracts that are withn City of LA\n",
    "homeless = homeless[homeless.CD != 0]"
   ]
  },
  {
   "cell_type": "code",
   "execution_count": 20,
   "metadata": {},
   "outputs": [],
   "source": [
    "pop = pd.read_parquet(f'{bucket_name}data/raw/pop_by_tract2017.parquet') "
   ]
  },
  {
   "cell_type": "code",
   "execution_count": 21,
   "metadata": {},
   "outputs": [],
   "source": [
    "care = gpd.read_file(f'{bucket_name}gis/intermediate/care311_tracts.geojson').to_crs({'init':'epsg:4326'})"
   ]
  },
  {
   "cell_type": "markdown",
   "metadata": {},
   "source": [
    "## Merge dfs"
   ]
  },
  {
   "cell_type": "code",
   "execution_count": 22,
   "metadata": {},
   "outputs": [],
   "source": [
    "# Merge homelessness and population\n",
    "m1 = pd.merge(homeless, pop, on = 'GEOID', how = 'inner', validate = 'm:1')"
   ]
  },
  {
   "cell_type": "code",
   "execution_count": 23,
   "metadata": {},
   "outputs": [],
   "source": [
    "# Merge in CARE 311 service requests\n",
    "m2 = pd.merge(m1, care, on = ['GEOID', 'year'], how = 'left', validate = '1:1')"
   ]
  },
  {
   "cell_type": "code",
   "execution_count": 24,
   "metadata": {},
   "outputs": [],
   "source": [
    "# Keep the geometry from homelessness because it's been clipped to City of LA\n",
    "m2 = m2.drop(columns = ['geometry_y'])\n",
    "\n",
    "m2.rename(columns = {'geometry_x': 'geometry', 'GEOID': 'id'}, inplace = True)"
   ]
  },
  {
   "cell_type": "code",
   "execution_count": 25,
   "metadata": {},
   "outputs": [],
   "source": [
    "# Fill in NaNs with zeroes for CARE service requests\n",
    "for col in ['bulky', 'homeless', 'illegal', 'other']:\n",
    "    m2[col] = m2[col].fillna(0)    "
   ]
  },
  {
   "cell_type": "code",
   "execution_count": 26,
   "metadata": {},
   "outputs": [
    {
     "data": {
      "text/html": [
       "<div>\n",
       "<style scoped>\n",
       "    .dataframe tbody tr th:only-of-type {\n",
       "        vertical-align: middle;\n",
       "    }\n",
       "\n",
       "    .dataframe tbody tr th {\n",
       "        vertical-align: top;\n",
       "    }\n",
       "\n",
       "    .dataframe thead th {\n",
       "        text-align: right;\n",
       "    }\n",
       "</style>\n",
       "<table border=\"1\" class=\"dataframe\">\n",
       "  <thead>\n",
       "    <tr style=\"text-align: right;\">\n",
       "      <th></th>\n",
       "      <th>id</th>\n",
       "      <th>clipped_area</th>\n",
       "      <th>full_area</th>\n",
       "      <th>CD</th>\n",
       "      <th>pop</th>\n",
       "      <th>SPA</th>\n",
       "      <th>SD</th>\n",
       "      <th>geometry</th>\n",
       "      <th>totUnshelt</th>\n",
       "      <th>totShelt</th>\n",
       "      <th>totPeople</th>\n",
       "      <th>bulky</th>\n",
       "      <th>homeless</th>\n",
       "      <th>illegal</th>\n",
       "      <th>other</th>\n",
       "    </tr>\n",
       "  </thead>\n",
       "  <tbody>\n",
       "    <tr>\n",
       "      <th>0</th>\n",
       "      <td>06037101110</td>\n",
       "      <td>0.441019</td>\n",
       "      <td>0.441019</td>\n",
       "      <td>7</td>\n",
       "      <td>4566.0</td>\n",
       "      <td>2</td>\n",
       "      <td>5</td>\n",
       "      <td>POLYGON ((-118.30229 34.25870, -118.30091 34.2...</td>\n",
       "      <td>29.498</td>\n",
       "      <td>0</td>\n",
       "      <td>29.498</td>\n",
       "      <td>1.0</td>\n",
       "      <td>3.0</td>\n",
       "      <td>0.0</td>\n",
       "      <td>0.0</td>\n",
       "    </tr>\n",
       "    <tr>\n",
       "      <th>1</th>\n",
       "      <td>06037101122</td>\n",
       "      <td>1.020722</td>\n",
       "      <td>1.020722</td>\n",
       "      <td>7</td>\n",
       "      <td>3064.0</td>\n",
       "      <td>2</td>\n",
       "      <td>5</td>\n",
       "      <td>POLYGON ((-118.30334 34.27371, -118.30330 34.2...</td>\n",
       "      <td>4.618</td>\n",
       "      <td>0</td>\n",
       "      <td>4.618</td>\n",
       "      <td>0.0</td>\n",
       "      <td>0.0</td>\n",
       "      <td>0.0</td>\n",
       "      <td>0.0</td>\n",
       "    </tr>\n",
       "    <tr>\n",
       "      <th>2</th>\n",
       "      <td>06037101210</td>\n",
       "      <td>0.251197</td>\n",
       "      <td>0.251197</td>\n",
       "      <td>7</td>\n",
       "      <td>6043.0</td>\n",
       "      <td>2</td>\n",
       "      <td>5</td>\n",
       "      <td>POLYGON ((-118.29945 34.25598, -118.29792 34.2...</td>\n",
       "      <td>41.897</td>\n",
       "      <td>0</td>\n",
       "      <td>41.897</td>\n",
       "      <td>1.0</td>\n",
       "      <td>3.0</td>\n",
       "      <td>6.0</td>\n",
       "      <td>1.0</td>\n",
       "    </tr>\n",
       "    <tr>\n",
       "      <th>3</th>\n",
       "      <td>06037101220</td>\n",
       "      <td>0.269802</td>\n",
       "      <td>0.269802</td>\n",
       "      <td>7</td>\n",
       "      <td>3340.0</td>\n",
       "      <td>2</td>\n",
       "      <td>5</td>\n",
       "      <td>POLYGON ((-118.28592 34.25227, -118.28592 34.2...</td>\n",
       "      <td>72.464</td>\n",
       "      <td>0</td>\n",
       "      <td>72.464</td>\n",
       "      <td>2.0</td>\n",
       "      <td>1.0</td>\n",
       "      <td>1.0</td>\n",
       "      <td>0.0</td>\n",
       "    </tr>\n",
       "    <tr>\n",
       "      <th>4</th>\n",
       "      <td>06037101300</td>\n",
       "      <td>0.995075</td>\n",
       "      <td>0.996474</td>\n",
       "      <td>7</td>\n",
       "      <td>4285.0</td>\n",
       "      <td>2</td>\n",
       "      <td>5</td>\n",
       "      <td>POLYGON ((-118.27822 34.25068, -118.27822 34.2...</td>\n",
       "      <td>36.710</td>\n",
       "      <td>0</td>\n",
       "      <td>36.710</td>\n",
       "      <td>2.0</td>\n",
       "      <td>8.0</td>\n",
       "      <td>5.0</td>\n",
       "      <td>0.0</td>\n",
       "    </tr>\n",
       "  </tbody>\n",
       "</table>\n",
       "</div>"
      ],
      "text/plain": [
       "            id  clipped_area  full_area  CD     pop  SPA  SD  \\\n",
       "0  06037101110      0.441019   0.441019   7  4566.0    2   5   \n",
       "1  06037101122      1.020722   1.020722   7  3064.0    2   5   \n",
       "2  06037101210      0.251197   0.251197   7  6043.0    2   5   \n",
       "3  06037101220      0.269802   0.269802   7  3340.0    2   5   \n",
       "4  06037101300      0.995075   0.996474   7  4285.0    2   5   \n",
       "\n",
       "                                            geometry  totUnshelt  totShelt  \\\n",
       "0  POLYGON ((-118.30229 34.25870, -118.30091 34.2...      29.498         0   \n",
       "1  POLYGON ((-118.30334 34.27371, -118.30330 34.2...       4.618         0   \n",
       "2  POLYGON ((-118.29945 34.25598, -118.29792 34.2...      41.897         0   \n",
       "3  POLYGON ((-118.28592 34.25227, -118.28592 34.2...      72.464         0   \n",
       "4  POLYGON ((-118.27822 34.25068, -118.27822 34.2...      36.710         0   \n",
       "\n",
       "   totPeople  bulky  homeless  illegal  other  \n",
       "0     29.498    1.0       3.0      0.0    0.0  \n",
       "1      4.618    0.0       0.0      0.0    0.0  \n",
       "2     41.897    1.0       3.0      6.0    1.0  \n",
       "3     72.464    2.0       1.0      1.0    0.0  \n",
       "4     36.710    2.0       8.0      5.0    0.0  "
      ]
     },
     "execution_count": 26,
     "metadata": {},
     "output_type": "execute_result"
    }
   ],
   "source": [
    "pivot1 = m2.dissolve(by = ['id', 'clipped_area', 'full_area', \n",
    "                           'CD', 'pop', 'SPA', 'SD'], aggfunc = 'sum').reset_index().drop(columns = ['year'])\n",
    "\n",
    "pivot1.head()"
   ]
  },
  {
   "cell_type": "markdown",
   "metadata": {},
   "source": [
    "## Map homelessness"
   ]
  },
  {
   "cell_type": "code",
   "execution_count": 27,
   "metadata": {},
   "outputs": [
    {
     "name": "stderr",
     "output_type": "stream",
     "text": [
      "/opt/conda/lib/python3.7/site-packages/ipykernel_launcher.py:2: SettingWithCopyWarning: \n",
      "A value is trying to be set on a copy of a slice from a DataFrame.\n",
      "Try using .loc[row_indexer,col_indexer] = value instead\n",
      "\n",
      "See the caveats in the documentation: http://pandas.pydata.org/pandas-docs/stable/indexing.html#indexing-view-versus-copy\n",
      "  \n"
     ]
    },
    {
     "data": {
      "text/html": [
       "<div>\n",
       "<style scoped>\n",
       "    .dataframe tbody tr th:only-of-type {\n",
       "        vertical-align: middle;\n",
       "    }\n",
       "\n",
       "    .dataframe tbody tr th {\n",
       "        vertical-align: top;\n",
       "    }\n",
       "\n",
       "    .dataframe thead th {\n",
       "        text-align: right;\n",
       "    }\n",
       "</style>\n",
       "<table border=\"1\" class=\"dataframe\">\n",
       "  <thead>\n",
       "    <tr style=\"text-align: right;\">\n",
       "      <th></th>\n",
       "      <th>geometry</th>\n",
       "      <th>GEOID</th>\n",
       "    </tr>\n",
       "    <tr>\n",
       "      <th>id</th>\n",
       "      <th></th>\n",
       "      <th></th>\n",
       "    </tr>\n",
       "  </thead>\n",
       "  <tbody>\n",
       "    <tr>\n",
       "      <th>06037101110</th>\n",
       "      <td>POLYGON ((-118.30229 34.25870, -118.30091 34.2...</td>\n",
       "      <td>06037101110</td>\n",
       "    </tr>\n",
       "    <tr>\n",
       "      <th>06037101122</th>\n",
       "      <td>POLYGON ((-118.30334 34.27371, -118.30330 34.2...</td>\n",
       "      <td>06037101122</td>\n",
       "    </tr>\n",
       "    <tr>\n",
       "      <th>06037101210</th>\n",
       "      <td>POLYGON ((-118.29945 34.25598, -118.29792 34.2...</td>\n",
       "      <td>06037101210</td>\n",
       "    </tr>\n",
       "    <tr>\n",
       "      <th>06037101220</th>\n",
       "      <td>POLYGON ((-118.28592 34.25227, -118.28592 34.2...</td>\n",
       "      <td>06037101220</td>\n",
       "    </tr>\n",
       "    <tr>\n",
       "      <th>06037101300</th>\n",
       "      <td>POLYGON ((-118.27822 34.25068, -118.27822 34.2...</td>\n",
       "      <td>06037101300</td>\n",
       "    </tr>\n",
       "  </tbody>\n",
       "</table>\n",
       "</div>"
      ],
      "text/plain": [
       "                                                      geometry        GEOID\n",
       "id                                                                         \n",
       "06037101110  POLYGON ((-118.30229 34.25870, -118.30091 34.2...  06037101110\n",
       "06037101122  POLYGON ((-118.30334 34.27371, -118.30330 34.2...  06037101122\n",
       "06037101210  POLYGON ((-118.29945 34.25598, -118.29792 34.2...  06037101210\n",
       "06037101220  POLYGON ((-118.28592 34.25227, -118.28592 34.2...  06037101220\n",
       "06037101300  POLYGON ((-118.27822 34.25068, -118.27822 34.2...  06037101300"
      ]
     },
     "execution_count": 27,
     "metadata": {},
     "output_type": "execute_result"
    }
   ],
   "source": [
    "tracts = pivot1[['id', 'geometry']]\n",
    "tracts['GEOID'] = tracts['id']\n",
    "tracts = tracts.set_index('id')\n",
    "tracts.head()"
   ]
  },
  {
   "cell_type": "code",
   "execution_count": 28,
   "metadata": {},
   "outputs": [
    {
     "data": {
      "application/vnd.jupyter.widget-view+json": {
       "model_id": "e46e6594d1754bccaf36b571eb7e7dd5",
       "version_major": 2,
       "version_minor": 0
      },
      "text/plain": [
       "Map(basemap={'url': 'https://{s}.tile.openstreetmap.org/{z}/{x}/{y}.png', 'max_zoom': 19, 'attribution': 'Map …"
      ]
     },
     "metadata": {},
     "output_type": "display_data"
    }
   ],
   "source": [
    "# to_json converts the gdf to json. json.loads converts it into dictionary\n",
    "geo_data = json.loads(tracts.to_json())\n",
    "\n",
    "# Take what we want to map and turn it into a dictionary\n",
    "unsheltered = dict(zip(pivot1['id'].tolist(), pivot1['totUnshelt'].tolist()))\n",
    "\n",
    "layer = ipyleaflet.Choropleth(\n",
    "    geo_data = geo_data,\n",
    "    choro_data = unsheltered,\n",
    "    colormap = linear.YlOrRd_04,\n",
    "    border_color = 'black',\n",
    "    style = {'fillOpacity': 0.8}\n",
    ")\n",
    "\n",
    "\n",
    "m = ipyleaflet.Map(center = (34.0536, -118.2427), zoom = 10)\n",
    "m.add_layer(layer)\n",
    "\n",
    "m\n"
   ]
  },
  {
   "cell_type": "code",
   "execution_count": null,
   "metadata": {},
   "outputs": [],
   "source": []
  },
  {
   "cell_type": "code",
   "execution_count": null,
   "metadata": {},
   "outputs": [],
   "source": []
  }
 ],
 "metadata": {
  "kernelspec": {
   "display_name": "Python 3",
   "language": "python",
   "name": "python3"
  },
  "language_info": {
   "codemirror_mode": {
    "name": "ipython",
    "version": 3
   },
   "file_extension": ".py",
   "mimetype": "text/x-python",
   "name": "python",
   "nbconvert_exporter": "python",
   "pygments_lexer": "ipython3",
   "version": "3.7.3"
  }
 },
 "nbformat": 4,
 "nbformat_minor": 4
}
