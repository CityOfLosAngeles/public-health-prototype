{
 "cells": [
  {
   "cell_type": "markdown",
   "metadata": {},
   "source": [
    "# Download Census population data\n",
    "* Move to script when ready"
   ]
  },
  {
   "cell_type": "code",
   "execution_count": 1,
   "metadata": {},
   "outputs": [],
   "source": [
    "#%pip install censusdata"
   ]
  },
  {
   "cell_type": "code",
   "execution_count": 2,
   "metadata": {},
   "outputs": [],
   "source": [
    "import numpy as np\n",
    "import pandas as pd\n",
    "import geopandas as gpd\n",
    "import os\n",
    "import boto3\n",
    "import census\n",
    "from us import states"
   ]
  },
  {
   "cell_type": "code",
   "execution_count": 3,
   "metadata": {},
   "outputs": [],
   "source": [
    "# Can't figure out how to read the API key from env\n",
    "c = census.Census('2dacc2d1fe8ae85c99e2f934a70576d6f731bb0f', year = 2017)"
   ]
  },
  {
   "cell_type": "code",
   "execution_count": 4,
   "metadata": {},
   "outputs": [],
   "source": [
    "s3 = boto3.client('s3')"
   ]
  },
  {
   "cell_type": "markdown",
   "metadata": {},
   "source": [
    "## Import population data from Census API"
   ]
  },
  {
   "cell_type": "code",
   "execution_count": 5,
   "metadata": {},
   "outputs": [],
   "source": [
    "raw = c.acs5.state_county_tract('B01003_001E', states.CA.fips, '037', census.ALL)\n",
    "df = pd.DataFrame(raw)"
   ]
  },
  {
   "cell_type": "code",
   "execution_count": 6,
   "metadata": {},
   "outputs": [],
   "source": [
    "# Subset for LA County\n",
    "df['GEOID'] = df.state + df.county + df.tract\n",
    "df = df[['GEOID', 'B01003_001E']]\n",
    "df = df.sort_values('GEOID', ascending = True)"
   ]
  },
  {
   "cell_type": "code",
   "execution_count": 7,
   "metadata": {},
   "outputs": [
    {
     "data": {
      "text/plain": [
       "\"\\n# 2017 5-year ACS pop data is the most recent data\\n# 1-year ACS does not do tract-level estimates\\n# Cleaning GEOID from censusdata package is difficult\\n\\npop = pd.DataFrame()\\n\\nfor y in range(2017, 2018):\\n    data = censusdata.download('acs5', y, \\n                               censusdata.censusgeo([('state', '06'), ('county', '037'), ('tract', '*')]), \\n                               ['B01003_001E'])\\n    data['year'] = y\\n\\npop = pop.append(data)\\n\""
      ]
     },
     "execution_count": 7,
     "metadata": {},
     "output_type": "execute_result"
    }
   ],
   "source": [
    "\"\"\"\n",
    "# 2017 5-year ACS pop data is the most recent data\n",
    "# 1-year ACS does not do tract-level estimates\n",
    "# Cleaning GEOID from censusdata package is difficult\n",
    "\n",
    "pop = pd.DataFrame()\n",
    "\n",
    "for y in range(2017, 2018):\n",
    "    data = censusdata.download('acs5', y, \n",
    "                               censusdata.censusgeo([('state', '06'), ('county', '037'), ('tract', '*')]), \n",
    "                               ['B01003_001E'])\n",
    "    data['year'] = y\n",
    "\n",
    "pop = pop.append(data)\n",
    "\"\"\""
   ]
  },
  {
   "cell_type": "markdown",
   "metadata": {},
   "source": [
    "## Import census tract boundary file and write to S3"
   ]
  },
  {
   "cell_type": "code",
   "execution_count": 8,
   "metadata": {},
   "outputs": [],
   "source": [
    "tract = gpd.read_file('s3://city-of-los-angeles-data-lake/public-health-dashboard/gis/source/tl_2019_06_tract/')"
   ]
  },
  {
   "cell_type": "code",
   "execution_count": 9,
   "metadata": {},
   "outputs": [],
   "source": [
    "# Subset to LA County\n",
    "tract = tract[tract.COUNTYFP == '037']\n",
    "\n",
    "keep_me = ['GEOID', 'geometry']\n",
    "tract = tract[keep_me]"
   ]
  },
  {
   "cell_type": "code",
   "execution_count": 10,
   "metadata": {},
   "outputs": [],
   "source": [
    "tract.to_crs({'init':'epsg:2229'}).to_file(driver = 'GeoJSON', filename = '../data/census_tracts.geojson')\n",
    "s3.upload_file('../data/census_tracts.geojson', 'city-of-los-angeles-data-lake', \n",
    "               'public-health-dashboard/gis/raw/census_tracts.geojson')"
   ]
  },
  {
   "cell_type": "code",
   "execution_count": null,
   "metadata": {},
   "outputs": [],
   "source": []
  }
 ],
 "metadata": {
  "kernelspec": {
   "display_name": "Python 3",
   "language": "python",
   "name": "python3"
  },
  "language_info": {
   "codemirror_mode": {
    "name": "ipython",
    "version": 3
   },
   "file_extension": ".py",
   "mimetype": "text/x-python",
   "name": "python",
   "nbconvert_exporter": "python",
   "pygments_lexer": "ipython3",
   "version": "3.7.3"
  }
 },
 "nbformat": 4,
 "nbformat_minor": 4
}
