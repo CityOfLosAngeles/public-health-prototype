{
 "cells": [
  {
   "cell_type": "markdown",
   "metadata": {},
   "source": [
    "## Merge RAP + SAN (311) Data"
   ]
  },
  {
   "cell_type": "code",
   "execution_count": 1,
   "metadata": {},
   "outputs": [],
   "source": [
    "import intake"
   ]
  },
  {
   "cell_type": "code",
   "execution_count": 7,
   "metadata": {},
   "outputs": [],
   "source": [
    "catalog = intake.open_catalog(\"../catalogs/*.yml\")"
   ]
  },
  {
   "cell_type": "code",
   "execution_count": 5,
   "metadata": {},
   "outputs": [],
   "source": [
    "san = catalog.care311.read()"
   ]
  },
  {
   "cell_type": "code",
   "execution_count": null,
   "metadata": {},
   "outputs": [],
   "source": []
  },
  {
   "cell_type": "code",
   "execution_count": 6,
   "metadata": {},
   "outputs": [
    {
     "data": {
      "text/plain": [
       "Index(['index', 'actiontaken', 'address', 'addressverified', 'anonymous',\n",
       "       'apc', 'approximateaddress', 'assignto', 'cd', 'cdmember', 'closeddate',\n",
       "       'createdbyuserorganization', 'createddate', 'dateservicerendered',\n",
       "       'direction', 'housenumber', 'latitude', 'longitude', 'mobileos', 'nc',\n",
       "       'ncname', 'owner', 'policeprecinct', 'reasoncode', 'requestsource',\n",
       "       'requesttype', 'resolutioncode', 'servicedate', 'srnumber', 'status',\n",
       "       'streetname', 'suffix', 'tbmcolumn', 'tbmpage', 'tbmrow', 'updateddate',\n",
       "       'zipcode', 'geom'],\n",
       "      dtype='object')"
      ]
     },
     "execution_count": 6,
     "metadata": {},
     "output_type": "execute_result"
    }
   ],
   "source": [
    "san.columns"
   ]
  },
  {
   "cell_type": "code",
   "execution_count": 9,
   "metadata": {},
   "outputs": [],
   "source": [
    "rap = catalog.rec_parks_data_encampments.read()"
   ]
  },
  {
   "cell_type": "code",
   "execution_count": 16,
   "metadata": {},
   "outputs": [
    {
     "data": {
      "text/plain": [
       "False    259\n",
       "Name: ServiceRequestNumber, dtype: int64"
      ]
     },
     "execution_count": 16,
     "metadata": {},
     "output_type": "execute_result"
    }
   ],
   "source": [
    "rap.ServiceRequestNumber.isnull().value_counts()"
   ]
  },
  {
   "cell_type": "code",
   "execution_count": 23,
   "metadata": {},
   "outputs": [
    {
     "data": {
      "text/html": [
       "<div>\n",
       "<style scoped>\n",
       "    .dataframe tbody tr th:only-of-type {\n",
       "        vertical-align: middle;\n",
       "    }\n",
       "\n",
       "    .dataframe tbody tr th {\n",
       "        vertical-align: top;\n",
       "    }\n",
       "\n",
       "    .dataframe thead th {\n",
       "        text-align: right;\n",
       "    }\n",
       "</style>\n",
       "<table border=\"1\" class=\"dataframe\">\n",
       "  <thead>\n",
       "    <tr style=\"text-align: right;\">\n",
       "      <th></th>\n",
       "      <th>PropertyStored</th>\n",
       "      <th>VoluntaryPropertyStored</th>\n",
       "      <th>EncampmentAmount</th>\n",
       "      <th>PostedTentsImpounded</th>\n",
       "      <th>NonPostedTentsImpounded</th>\n",
       "      <th>SubjectDescription</th>\n",
       "      <th>SubjectDescription1</th>\n",
       "      <th>HazardousWaste</th>\n",
       "      <th>HumanWaste</th>\n",
       "      <th>SolidWaste</th>\n",
       "      <th>...</th>\n",
       "      <th>servicedate</th>\n",
       "      <th>status</th>\n",
       "      <th>streetname</th>\n",
       "      <th>suffix</th>\n",
       "      <th>tbmcolumn</th>\n",
       "      <th>tbmpage</th>\n",
       "      <th>tbmrow</th>\n",
       "      <th>updateddate</th>\n",
       "      <th>zipcode</th>\n",
       "      <th>geom</th>\n",
       "    </tr>\n",
       "  </thead>\n",
       "  <tbody>\n",
       "  </tbody>\n",
       "</table>\n",
       "<p>0 rows × 53 columns</p>\n",
       "</div>"
      ],
      "text/plain": [
       "Empty DataFrame\n",
       "Columns: [PropertyStored, VoluntaryPropertyStored, EncampmentAmount, PostedTentsImpounded, NonPostedTentsImpounded, SubjectDescription, SubjectDescription1, HazardousWaste, HumanWaste, SolidWaste, BulkyItems, Males, Females, Sharps, DrugParaphernalia, DummyField, index, actiontaken, address, addressverified, anonymous, apc, approximateaddress, assignto, cd, cdmember, closeddate, createdbyuserorganization, createddate, dateservicerendered, direction, housenumber, latitude, longitude, mobileos, nc, ncname, owner, policeprecinct, reasoncode, requestsource, requesttype, resolutioncode, servicedate, status, streetname, suffix, tbmcolumn, tbmpage, tbmrow, updateddate, zipcode, geom]\n",
       "Index: []\n",
       "\n",
       "[0 rows x 53 columns]"
      ]
     },
     "execution_count": 23,
     "metadata": {},
     "output_type": "execute_result"
    }
   ],
   "source": [
    "(rap.set_index('ServiceRequestNumber')\n",
    "   .join(san.set_index('srnumber'),\n",
    "         how='inner'))"
   ]
  },
  {
   "cell_type": "code",
   "execution_count": null,
   "metadata": {},
   "outputs": [],
   "source": []
  }
 ],
 "metadata": {
  "kernelspec": {
   "display_name": "Python 3",
   "language": "python",
   "name": "python3"
  },
  "language_info": {
   "codemirror_mode": {
    "name": "ipython",
    "version": 3
   },
   "file_extension": ".py",
   "mimetype": "text/x-python",
   "name": "python",
   "nbconvert_exporter": "python",
   "pygments_lexer": "ipython3",
   "version": "3.7.3"
  }
 },
 "nbformat": 4,
 "nbformat_minor": 4
}
