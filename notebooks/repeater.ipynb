{
 "cells": [
  {
   "cell_type": "markdown",
   "metadata": {},
   "source": [
    "# Reoccurance Notebook \n",
    "* How often to we return to the same census tract for Sanitation Requetss "
   ]
  },
  {
   "cell_type": "code",
   "execution_count": 142,
   "metadata": {},
   "outputs": [],
   "source": [
    "import intake \n",
    "import pandas as pd \n",
    "import geopandas as gpd \n",
    "import altair as alt"
   ]
  },
  {
   "cell_type": "code",
   "execution_count": 143,
   "metadata": {},
   "outputs": [],
   "source": [
    "catalog = intake.open_catalog(\"../catalogs/*.yml\")"
   ]
  },
  {
   "cell_type": "code",
   "execution_count": 144,
   "metadata": {},
   "outputs": [],
   "source": [
    "df = catalog.care311.read()"
   ]
  },
  {
   "cell_type": "code",
   "execution_count": 145,
   "metadata": {},
   "outputs": [
    {
     "name": "stdout",
     "output_type": "stream",
     "text": [
      "there have been 105103 requests since 2015-08-05T10:37:55.000\n"
     ]
    }
   ],
   "source": [
    "print(f\"there have been {len(df)} requests since {df.createddate.min()}\")"
   ]
  },
  {
   "cell_type": "code",
   "execution_count": 146,
   "metadata": {},
   "outputs": [
    {
     "name": "stdout",
     "output_type": "stream",
     "text": [
      "of those, 94526 have been closed\n"
     ]
    }
   ],
   "source": [
    "print(f\"of those, {len(df[~df['closeddate'].isnull()])} have been closed\")"
   ]
  },
  {
   "cell_type": "code",
   "execution_count": 147,
   "metadata": {},
   "outputs": [],
   "source": [
    "df['closeddate'] = pd.to_datetime(df.closeddate)\n",
    "df['createddate'] = pd.to_datetime(df.createddate)"
   ]
  },
  {
   "cell_type": "markdown",
   "metadata": {},
   "source": [
    "## Create a solve time"
   ]
  },
  {
   "cell_type": "code",
   "execution_count": 155,
   "metadata": {},
   "outputs": [
    {
     "name": "stderr",
     "output_type": "stream",
     "text": [
      "/opt/conda/lib/python3.7/site-packages/ipykernel_launcher.py:3: SettingWithCopyWarning: \n",
      "A value is trying to be set on a copy of a slice from a DataFrame.\n",
      "Try using .loc[row_indexer,col_indexer] = value instead\n",
      "\n",
      "See the caveats in the documentation: http://pandas.pydata.org/pandas-docs/stable/user_guide/indexing.html#returning-a-view-versus-a-copy\n",
      "  This is separate from the ipykernel package so we can avoid doing imports until\n"
     ]
    }
   ],
   "source": [
    "## time to solve\n",
    "df = df.dropna(subset=['createddate','closeddate'])\n",
    "df['solve_time'] = df[['createddate', 'closeddate']].diff(axis=1)['closeddate']"
   ]
  },
  {
   "cell_type": "markdown",
   "metadata": {},
   "source": [
    "## Make a chart"
   ]
  },
  {
   "cell_type": "code",
   "execution_count": 99,
   "metadata": {},
   "outputs": [],
   "source": [
    "df = df.set_index('closeddate')\n",
    "source = pd.DataFrame(df.groupby([pd.Grouper(freq='M'), 'createdbyuserorganization']).count()['srnumber'])"
   ]
  },
  {
   "cell_type": "code",
   "execution_count": 100,
   "metadata": {},
   "outputs": [
    {
     "data": {
      "text/html": [
       "\n",
       "<div id=\"altair-viz-10\"></div>\n",
       "<script type=\"text/javascript\">\n",
       "  (function(spec, embedOpt){\n",
       "    const outputDiv = document.getElementById(\"altair-viz-10\");\n",
       "    const paths = {\n",
       "      \"vega\": \"https://cdn.jsdelivr.net/npm//vega@5?noext\",\n",
       "      \"vega-lib\": \"https://cdn.jsdelivr.net/npm//vega-lib?noext\",\n",
       "      \"vega-lite\": \"https://cdn.jsdelivr.net/npm//vega-lite@4.0.0?noext\",\n",
       "      \"vega-embed\": \"https://cdn.jsdelivr.net/npm//vega-embed@6?noext\",\n",
       "    };\n",
       "\n",
       "    function loadScript(lib) {\n",
       "      return new Promise(function(resolve, reject) {\n",
       "        var s = document.createElement('script');\n",
       "        s.src = paths[lib];\n",
       "        s.async = true;\n",
       "        s.onload = () => resolve(paths[lib]);\n",
       "        s.onerror = () => reject(`Error loading script: ${paths[lib]}`);\n",
       "        document.getElementsByTagName(\"head\")[0].appendChild(s);\n",
       "      });\n",
       "    }\n",
       "\n",
       "    function showError(err) {\n",
       "      outputDiv.innerHTML = `<div class=\"error\" style=\"color:red;\">${err}</div>`;\n",
       "      throw err;\n",
       "    }\n",
       "\n",
       "    function displayChart(vegaEmbed) {\n",
       "      vegaEmbed(outputDiv, spec, embedOpt)\n",
       "        .catch(err => showError(`Javascript Error: ${err.message}<br>This usually means there's a typo in your chart specification. See the javascript console for the full traceback.`));\n",
       "    }\n",
       "\n",
       "    if(typeof define === \"function\" && define.amd) {\n",
       "      requirejs.config({paths});\n",
       "      require([\"vega-embed\"], displayChart, err => showError(`Error loading script: ${err.message}`));\n",
       "    } else if (typeof vegaEmbed === \"function\") {\n",
       "      displayChart(vegaEmbed);\n",
       "    } else {\n",
       "      loadScript(\"vega\")\n",
       "        .then(() => loadScript(\"vega-lite\"))\n",
       "        .then(() => loadScript(\"vega-embed\"))\n",
       "        .catch(showError)\n",
       "        .then(() => displayChart(vegaEmbed));\n",
       "    }\n",
       "  })({\"config\": {\"view\": {\"continuousWidth\": 400, \"continuousHeight\": 300}}, \"data\": {\"name\": \"data-4db0d7366d3651b34cbe286f31c6f25e\"}, \"mark\": \"bar\", \"encoding\": {\"color\": {\"type\": \"nominal\", \"field\": \"createdbyuserorganization\"}, \"x\": {\"type\": \"ordinal\", \"field\": \"closeddate\", \"title\": \"Month\"}, \"y\": {\"type\": \"quantitative\", \"aggregate\": \"sum\", \"field\": \"srnumber\", \"title\": \"Number of SR Encampments\"}}, \"title\": \"Number of Homelessness Encampment SRs closed by Month\", \"$schema\": \"https://vega.github.io/schema/vega-lite/v4.0.0.json\", \"datasets\": {\"data-4db0d7366d3651b34cbe286f31c6f25e\": [{\"closeddate\": \"2015-08-31T00:00:00\", \"createdbyuserorganization\": \"BOS\", \"srnumber\": 51}, {\"closeddate\": \"2015-08-31T00:00:00\", \"createdbyuserorganization\": \"ITA\", \"srnumber\": 26}, {\"closeddate\": \"2015-09-30T00:00:00\", \"createdbyuserorganization\": \"BOS\", \"srnumber\": 34}, {\"closeddate\": \"2015-09-30T00:00:00\", \"createdbyuserorganization\": \"ITA\", \"srnumber\": 25}, {\"closeddate\": \"2015-10-31T00:00:00\", \"createdbyuserorganization\": \"BOS\", \"srnumber\": 31}, {\"closeddate\": \"2015-10-31T00:00:00\", \"createdbyuserorganization\": \"ITA\", \"srnumber\": 10}, {\"closeddate\": \"2015-11-30T00:00:00\", \"createdbyuserorganization\": \"BOS\", \"srnumber\": 13}, {\"closeddate\": \"2015-11-30T00:00:00\", \"createdbyuserorganization\": \"ITA\", \"srnumber\": 12}, {\"closeddate\": \"2015-11-30T00:00:00\", \"createdbyuserorganization\": \"Self Service\", \"srnumber\": 2}, {\"closeddate\": \"2015-12-31T00:00:00\", \"createdbyuserorganization\": \"BOS\", \"srnumber\": 13}, {\"closeddate\": \"2015-12-31T00:00:00\", \"createdbyuserorganization\": \"ITA\", \"srnumber\": 4}, {\"closeddate\": \"2016-01-31T00:00:00\", \"createdbyuserorganization\": \"BOS\", \"srnumber\": 614}, {\"closeddate\": \"2016-01-31T00:00:00\", \"createdbyuserorganization\": \"BSS\", \"srnumber\": 3}, {\"closeddate\": \"2016-01-31T00:00:00\", \"createdbyuserorganization\": \"Council's Office\", \"srnumber\": 1}, {\"closeddate\": \"2016-01-31T00:00:00\", \"createdbyuserorganization\": \"ITA\", \"srnumber\": 203}, {\"closeddate\": \"2016-01-31T00:00:00\", \"createdbyuserorganization\": \"Self Service\", \"srnumber\": 13}, {\"closeddate\": \"2016-02-29T00:00:00\", \"createdbyuserorganization\": \"BOS\", \"srnumber\": 423}, {\"closeddate\": \"2016-02-29T00:00:00\", \"createdbyuserorganization\": \"ITA\", \"srnumber\": 94}, {\"closeddate\": \"2016-02-29T00:00:00\", \"createdbyuserorganization\": \"Self Service\", \"srnumber\": 24}, {\"closeddate\": \"2016-03-31T00:00:00\", \"createdbyuserorganization\": \"BOS\", \"srnumber\": 348}, {\"closeddate\": \"2016-03-31T00:00:00\", \"createdbyuserorganization\": \"BSS\", \"srnumber\": 1}, {\"closeddate\": \"2016-03-31T00:00:00\", \"createdbyuserorganization\": \"Council's Office\", \"srnumber\": 1}, {\"closeddate\": \"2016-03-31T00:00:00\", \"createdbyuserorganization\": \"ITA\", \"srnumber\": 81}, {\"closeddate\": \"2016-03-31T00:00:00\", \"createdbyuserorganization\": \"Self Service\", \"srnumber\": 82}, {\"closeddate\": \"2016-04-30T00:00:00\", \"createdbyuserorganization\": \"BOS\", \"srnumber\": 234}, {\"closeddate\": \"2016-04-30T00:00:00\", \"createdbyuserorganization\": \"BSS\", \"srnumber\": 4}, {\"closeddate\": \"2016-04-30T00:00:00\", \"createdbyuserorganization\": \"Council's Office\", \"srnumber\": 1}, {\"closeddate\": \"2016-04-30T00:00:00\", \"createdbyuserorganization\": \"ITA\", \"srnumber\": 54}, {\"closeddate\": \"2016-04-30T00:00:00\", \"createdbyuserorganization\": \"Self Service\", \"srnumber\": 69}, {\"closeddate\": \"2016-04-30T00:00:00\", \"createdbyuserorganization\": \"Self Service_SAN\", \"srnumber\": 1}, {\"closeddate\": \"2016-05-31T00:00:00\", \"createdbyuserorganization\": \"BOS\", \"srnumber\": 329}, {\"closeddate\": \"2016-05-31T00:00:00\", \"createdbyuserorganization\": \"BSS\", \"srnumber\": 14}, {\"closeddate\": \"2016-05-31T00:00:00\", \"createdbyuserorganization\": \"Council's Office\", \"srnumber\": 3}, {\"closeddate\": \"2016-05-31T00:00:00\", \"createdbyuserorganization\": \"ITA\", \"srnumber\": 113}, {\"closeddate\": \"2016-05-31T00:00:00\", \"createdbyuserorganization\": \"Self Service\", \"srnumber\": 205}, {\"closeddate\": \"2016-05-31T00:00:00\", \"createdbyuserorganization\": \"Self Service_SAN\", \"srnumber\": 7}, {\"closeddate\": \"2016-06-30T00:00:00\", \"createdbyuserorganization\": \"BOS\", \"srnumber\": 270}, {\"closeddate\": \"2016-06-30T00:00:00\", \"createdbyuserorganization\": \"BSS\", \"srnumber\": 11}, {\"closeddate\": \"2016-06-30T00:00:00\", \"createdbyuserorganization\": \"Council's Office\", \"srnumber\": 2}, {\"closeddate\": \"2016-06-30T00:00:00\", \"createdbyuserorganization\": \"ITA\", \"srnumber\": 117}, {\"closeddate\": \"2016-06-30T00:00:00\", \"createdbyuserorganization\": \"Self Service\", \"srnumber\": 277}, {\"closeddate\": \"2016-06-30T00:00:00\", \"createdbyuserorganization\": \"Self Service_SAN\", \"srnumber\": 6}, {\"closeddate\": \"2016-07-31T00:00:00\", \"createdbyuserorganization\": \"BOS\", \"srnumber\": 206}, {\"closeddate\": \"2016-07-31T00:00:00\", \"createdbyuserorganization\": \"BSS\", \"srnumber\": 3}, {\"closeddate\": \"2016-07-31T00:00:00\", \"createdbyuserorganization\": \"Council's Office\", \"srnumber\": 2}, {\"closeddate\": \"2016-07-31T00:00:00\", \"createdbyuserorganization\": \"ITA\", \"srnumber\": 84}, {\"closeddate\": \"2016-07-31T00:00:00\", \"createdbyuserorganization\": \"Self Service\", \"srnumber\": 242}, {\"closeddate\": \"2016-07-31T00:00:00\", \"createdbyuserorganization\": \"Self Service_SAN\", \"srnumber\": 9}, {\"closeddate\": \"2016-08-31T00:00:00\", \"createdbyuserorganization\": \"BOS\", \"srnumber\": 274}, {\"closeddate\": \"2016-08-31T00:00:00\", \"createdbyuserorganization\": \"BSS\", \"srnumber\": 7}, {\"closeddate\": \"2016-08-31T00:00:00\", \"createdbyuserorganization\": \"Council's Office\", \"srnumber\": 2}, {\"closeddate\": \"2016-08-31T00:00:00\", \"createdbyuserorganization\": \"ITA\", \"srnumber\": 142}, {\"closeddate\": \"2016-08-31T00:00:00\", \"createdbyuserorganization\": \"Self Service\", \"srnumber\": 460}, {\"closeddate\": \"2016-08-31T00:00:00\", \"createdbyuserorganization\": \"Self Service_SAN\", \"srnumber\": 10}, {\"closeddate\": \"2016-09-30T00:00:00\", \"createdbyuserorganization\": \"BOS\", \"srnumber\": 168}, {\"closeddate\": \"2016-09-30T00:00:00\", \"createdbyuserorganization\": \"BSS\", \"srnumber\": 2}, {\"closeddate\": \"2016-09-30T00:00:00\", \"createdbyuserorganization\": \"Council's Office\", \"srnumber\": 1}, {\"closeddate\": \"2016-09-30T00:00:00\", \"createdbyuserorganization\": \"ITA\", \"srnumber\": 69}, {\"closeddate\": \"2016-09-30T00:00:00\", \"createdbyuserorganization\": \"Self Service\", \"srnumber\": 324}, {\"closeddate\": \"2016-09-30T00:00:00\", \"createdbyuserorganization\": \"Self Service_SAN\", \"srnumber\": 12}, {\"closeddate\": \"2016-10-31T00:00:00\", \"createdbyuserorganization\": \"BOS\", \"srnumber\": 195}, {\"closeddate\": \"2016-10-31T00:00:00\", \"createdbyuserorganization\": \"BSS\", \"srnumber\": 1}, {\"closeddate\": \"2016-10-31T00:00:00\", \"createdbyuserorganization\": \"Council's Office\", \"srnumber\": 2}, {\"closeddate\": \"2016-10-31T00:00:00\", \"createdbyuserorganization\": \"ITA\", \"srnumber\": 142}, {\"closeddate\": \"2016-10-31T00:00:00\", \"createdbyuserorganization\": \"Self Service\", \"srnumber\": 682}, {\"closeddate\": \"2016-10-31T00:00:00\", \"createdbyuserorganization\": \"Self Service_SAN\", \"srnumber\": 38}, {\"closeddate\": \"2016-11-30T00:00:00\", \"createdbyuserorganization\": \"BOS\", \"srnumber\": 203}, {\"closeddate\": \"2016-11-30T00:00:00\", \"createdbyuserorganization\": \"BSS\", \"srnumber\": 5}, {\"closeddate\": \"2016-11-30T00:00:00\", \"createdbyuserorganization\": \"Council's Office\", \"srnumber\": 3}, {\"closeddate\": \"2016-11-30T00:00:00\", \"createdbyuserorganization\": \"ITA\", \"srnumber\": 98}, {\"closeddate\": \"2016-11-30T00:00:00\", \"createdbyuserorganization\": \"Self Service\", \"srnumber\": 384}, {\"closeddate\": \"2016-11-30T00:00:00\", \"createdbyuserorganization\": \"Self Service_SAN\", \"srnumber\": 16}, {\"closeddate\": \"2016-12-31T00:00:00\", \"createdbyuserorganization\": \"BOS\", \"srnumber\": 175}, {\"closeddate\": \"2016-12-31T00:00:00\", \"createdbyuserorganization\": \"BSS\", \"srnumber\": 1}, {\"closeddate\": \"2016-12-31T00:00:00\", \"createdbyuserorganization\": \"Council's Office\", \"srnumber\": 5}, {\"closeddate\": \"2016-12-31T00:00:00\", \"createdbyuserorganization\": \"ITA\", \"srnumber\": 101}, {\"closeddate\": \"2016-12-31T00:00:00\", \"createdbyuserorganization\": \"Self Service\", \"srnumber\": 396}, {\"closeddate\": \"2016-12-31T00:00:00\", \"createdbyuserorganization\": \"Self Service_SAN\", \"srnumber\": 19}, {\"closeddate\": \"2017-01-31T00:00:00\", \"createdbyuserorganization\": \"BOS\", \"srnumber\": 173}, {\"closeddate\": \"2017-01-31T00:00:00\", \"createdbyuserorganization\": \"BSS\", \"srnumber\": 5}, {\"closeddate\": \"2017-01-31T00:00:00\", \"createdbyuserorganization\": \"Council's Office\", \"srnumber\": 1}, {\"closeddate\": \"2017-01-31T00:00:00\", \"createdbyuserorganization\": \"ITA\", \"srnumber\": 114}, {\"closeddate\": \"2017-01-31T00:00:00\", \"createdbyuserorganization\": \"Self Service\", \"srnumber\": 541}, {\"closeddate\": \"2017-01-31T00:00:00\", \"createdbyuserorganization\": \"Self Service_SAN\", \"srnumber\": 26}, {\"closeddate\": \"2017-02-28T00:00:00\", \"createdbyuserorganization\": \"BOS\", \"srnumber\": 131}, {\"closeddate\": \"2017-02-28T00:00:00\", \"createdbyuserorganization\": \"Council's Office\", \"srnumber\": 6}, {\"closeddate\": \"2017-02-28T00:00:00\", \"createdbyuserorganization\": \"ITA\", \"srnumber\": 88}, {\"closeddate\": \"2017-02-28T00:00:00\", \"createdbyuserorganization\": \"Self Service\", \"srnumber\": 445}, {\"closeddate\": \"2017-02-28T00:00:00\", \"createdbyuserorganization\": \"Self Service_SAN\", \"srnumber\": 14}, {\"closeddate\": \"2017-03-31T00:00:00\", \"createdbyuserorganization\": \"BOS\", \"srnumber\": 179}, {\"closeddate\": \"2017-03-31T00:00:00\", \"createdbyuserorganization\": \"BSS\", \"srnumber\": 6}, {\"closeddate\": \"2017-03-31T00:00:00\", \"createdbyuserorganization\": \"Council's Office\", \"srnumber\": 7}, {\"closeddate\": \"2017-03-31T00:00:00\", \"createdbyuserorganization\": \"ITA\", \"srnumber\": 151}, {\"closeddate\": \"2017-03-31T00:00:00\", \"createdbyuserorganization\": \"Self Service\", \"srnumber\": 601}, {\"closeddate\": \"2017-03-31T00:00:00\", \"createdbyuserorganization\": \"Self Service_SAN\", \"srnumber\": 32}, {\"closeddate\": \"2017-04-30T00:00:00\", \"createdbyuserorganization\": \"BOS\", \"srnumber\": 159}, {\"closeddate\": \"2017-04-30T00:00:00\", \"createdbyuserorganization\": \"BSS\", \"srnumber\": 7}, {\"closeddate\": \"2017-04-30T00:00:00\", \"createdbyuserorganization\": \"Council's Office\", \"srnumber\": 6}, {\"closeddate\": \"2017-04-30T00:00:00\", \"createdbyuserorganization\": \"ITA\", \"srnumber\": 120}, {\"closeddate\": \"2017-04-30T00:00:00\", \"createdbyuserorganization\": \"Self Service\", \"srnumber\": 517}, {\"closeddate\": \"2017-04-30T00:00:00\", \"createdbyuserorganization\": \"Self Service_SAN\", \"srnumber\": 29}, {\"closeddate\": \"2017-05-31T00:00:00\", \"createdbyuserorganization\": \"BOS\", \"srnumber\": 202}, {\"closeddate\": \"2017-05-31T00:00:00\", \"createdbyuserorganization\": \"BSS\", \"srnumber\": 13}, {\"closeddate\": \"2017-05-31T00:00:00\", \"createdbyuserorganization\": \"Council's Office\", \"srnumber\": 5}, {\"closeddate\": \"2017-05-31T00:00:00\", \"createdbyuserorganization\": \"ITA\", \"srnumber\": 166}, {\"closeddate\": \"2017-05-31T00:00:00\", \"createdbyuserorganization\": \"Self Service\", \"srnumber\": 864}, {\"closeddate\": \"2017-05-31T00:00:00\", \"createdbyuserorganization\": \"Self Service_SAN\", \"srnumber\": 28}, {\"closeddate\": \"2017-06-30T00:00:00\", \"createdbyuserorganization\": \"BOS\", \"srnumber\": 244}, {\"closeddate\": \"2017-06-30T00:00:00\", \"createdbyuserorganization\": \"BSS\", \"srnumber\": 21}, {\"closeddate\": \"2017-06-30T00:00:00\", \"createdbyuserorganization\": \"Council's Office\", \"srnumber\": 8}, {\"closeddate\": \"2017-06-30T00:00:00\", \"createdbyuserorganization\": \"ITA\", \"srnumber\": 151}, {\"closeddate\": \"2017-06-30T00:00:00\", \"createdbyuserorganization\": \"Self Service\", \"srnumber\": 825}, {\"closeddate\": \"2017-06-30T00:00:00\", \"createdbyuserorganization\": \"Self Service_SAN\", \"srnumber\": 20}, {\"closeddate\": \"2017-07-31T00:00:00\", \"createdbyuserorganization\": \"BOS\", \"srnumber\": 409}, {\"closeddate\": \"2017-07-31T00:00:00\", \"createdbyuserorganization\": \"BSS\", \"srnumber\": 31}, {\"closeddate\": \"2017-07-31T00:00:00\", \"createdbyuserorganization\": \"Council's Office\", \"srnumber\": 11}, {\"closeddate\": \"2017-07-31T00:00:00\", \"createdbyuserorganization\": \"ITA\", \"srnumber\": 295}, {\"closeddate\": \"2017-07-31T00:00:00\", \"createdbyuserorganization\": \"Self Service\", \"srnumber\": 1434}, {\"closeddate\": \"2017-07-31T00:00:00\", \"createdbyuserorganization\": \"Self Service_SAN\", \"srnumber\": 55}, {\"closeddate\": \"2017-08-31T00:00:00\", \"createdbyuserorganization\": \"BOS\", \"srnumber\": 278}, {\"closeddate\": \"2017-08-31T00:00:00\", \"createdbyuserorganization\": \"BSS\", \"srnumber\": 24}, {\"closeddate\": \"2017-08-31T00:00:00\", \"createdbyuserorganization\": \"Council's Office\", \"srnumber\": 8}, {\"closeddate\": \"2017-08-31T00:00:00\", \"createdbyuserorganization\": \"ITA\", \"srnumber\": 160}, {\"closeddate\": \"2017-08-31T00:00:00\", \"createdbyuserorganization\": \"Self Service\", \"srnumber\": 885}, {\"closeddate\": \"2017-08-31T00:00:00\", \"createdbyuserorganization\": \"Self Service_SAN\", \"srnumber\": 34}, {\"closeddate\": \"2017-09-30T00:00:00\", \"createdbyuserorganization\": \"BOS\", \"srnumber\": 284}, {\"closeddate\": \"2017-09-30T00:00:00\", \"createdbyuserorganization\": \"BSS\", \"srnumber\": 20}, {\"closeddate\": \"2017-09-30T00:00:00\", \"createdbyuserorganization\": \"Council's Office\", \"srnumber\": 10}, {\"closeddate\": \"2017-09-30T00:00:00\", \"createdbyuserorganization\": \"ITA\", \"srnumber\": 178}, {\"closeddate\": \"2017-09-30T00:00:00\", \"createdbyuserorganization\": \"Proactive Insert\", \"srnumber\": 4}, {\"closeddate\": \"2017-09-30T00:00:00\", \"createdbyuserorganization\": \"Self Service\", \"srnumber\": 959}, {\"closeddate\": \"2017-09-30T00:00:00\", \"createdbyuserorganization\": \"Self Service_SAN\", \"srnumber\": 43}, {\"closeddate\": \"2017-10-31T00:00:00\", \"createdbyuserorganization\": \"BOS\", \"srnumber\": 168}, {\"closeddate\": \"2017-10-31T00:00:00\", \"createdbyuserorganization\": \"BSS\", \"srnumber\": 22}, {\"closeddate\": \"2017-10-31T00:00:00\", \"createdbyuserorganization\": \"Council's Office\", \"srnumber\": 6}, {\"closeddate\": \"2017-10-31T00:00:00\", \"createdbyuserorganization\": \"ITA\", \"srnumber\": 151}, {\"closeddate\": \"2017-10-31T00:00:00\", \"createdbyuserorganization\": \"Self Service\", \"srnumber\": 960}, {\"closeddate\": \"2017-10-31T00:00:00\", \"createdbyuserorganization\": \"Self Service_SAN\", \"srnumber\": 26}, {\"closeddate\": \"2017-11-30T00:00:00\", \"createdbyuserorganization\": \"BOS\", \"srnumber\": 316}, {\"closeddate\": \"2017-11-30T00:00:00\", \"createdbyuserorganization\": \"BSS\", \"srnumber\": 44}, {\"closeddate\": \"2017-11-30T00:00:00\", \"createdbyuserorganization\": \"Council's Office\", \"srnumber\": 11}, {\"closeddate\": \"2017-11-30T00:00:00\", \"createdbyuserorganization\": \"ITA\", \"srnumber\": 188}, {\"closeddate\": \"2017-11-30T00:00:00\", \"createdbyuserorganization\": \"Proactive Insert\", \"srnumber\": 1}, {\"closeddate\": \"2017-11-30T00:00:00\", \"createdbyuserorganization\": \"Self Service\", \"srnumber\": 1237}, {\"closeddate\": \"2017-11-30T00:00:00\", \"createdbyuserorganization\": \"Self Service_SAN\", \"srnumber\": 42}, {\"closeddate\": \"2017-12-31T00:00:00\", \"createdbyuserorganization\": \"BOS\", \"srnumber\": 443}, {\"closeddate\": \"2017-12-31T00:00:00\", \"createdbyuserorganization\": \"BSS\", \"srnumber\": 44}, {\"closeddate\": \"2017-12-31T00:00:00\", \"createdbyuserorganization\": \"Council's Office\", \"srnumber\": 17}, {\"closeddate\": \"2017-12-31T00:00:00\", \"createdbyuserorganization\": \"ITA\", \"srnumber\": 284}, {\"closeddate\": \"2017-12-31T00:00:00\", \"createdbyuserorganization\": \"Proactive Insert\", \"srnumber\": 3}, {\"closeddate\": \"2017-12-31T00:00:00\", \"createdbyuserorganization\": \"Self Service\", \"srnumber\": 1575}, {\"closeddate\": \"2017-12-31T00:00:00\", \"createdbyuserorganization\": \"Self Service_SAN\", \"srnumber\": 59}, {\"closeddate\": \"2018-01-31T00:00:00\", \"createdbyuserorganization\": \"BOS\", \"srnumber\": 231}, {\"closeddate\": \"2018-01-31T00:00:00\", \"createdbyuserorganization\": \"BSS\", \"srnumber\": 25}, {\"closeddate\": \"2018-01-31T00:00:00\", \"createdbyuserorganization\": \"Council's Office\", \"srnumber\": 14}, {\"closeddate\": \"2018-01-31T00:00:00\", \"createdbyuserorganization\": \"ITA\", \"srnumber\": 169}, {\"closeddate\": \"2018-01-31T00:00:00\", \"createdbyuserorganization\": \"Proactive Insert\", \"srnumber\": 2}, {\"closeddate\": \"2018-01-31T00:00:00\", \"createdbyuserorganization\": \"Self Service\", \"srnumber\": 922}, {\"closeddate\": \"2018-01-31T00:00:00\", \"createdbyuserorganization\": \"Self Service_SAN\", \"srnumber\": 24}, {\"closeddate\": \"2018-02-28T00:00:00\", \"createdbyuserorganization\": \"BOS\", \"srnumber\": 283}, {\"closeddate\": \"2018-02-28T00:00:00\", \"createdbyuserorganization\": \"BSS\", \"srnumber\": 31}, {\"closeddate\": \"2018-02-28T00:00:00\", \"createdbyuserorganization\": \"Council's Office\", \"srnumber\": 2}, {\"closeddate\": \"2018-02-28T00:00:00\", \"createdbyuserorganization\": \"ITA\", \"srnumber\": 202}, {\"closeddate\": \"2018-02-28T00:00:00\", \"createdbyuserorganization\": \"Proactive Insert\", \"srnumber\": 5}, {\"closeddate\": \"2018-02-28T00:00:00\", \"createdbyuserorganization\": \"Self Service\", \"srnumber\": 922}, {\"closeddate\": \"2018-02-28T00:00:00\", \"createdbyuserorganization\": \"Self Service_SAN\", \"srnumber\": 30}, {\"closeddate\": \"2018-03-31T00:00:00\", \"createdbyuserorganization\": \"BOS\", \"srnumber\": 272}, {\"closeddate\": \"2018-03-31T00:00:00\", \"createdbyuserorganization\": \"BSS\", \"srnumber\": 43}, {\"closeddate\": \"2018-03-31T00:00:00\", \"createdbyuserorganization\": \"Council's Office\", \"srnumber\": 6}, {\"closeddate\": \"2018-03-31T00:00:00\", \"createdbyuserorganization\": \"ITA\", \"srnumber\": 222}, {\"closeddate\": \"2018-03-31T00:00:00\", \"createdbyuserorganization\": \"Proactive Insert\", \"srnumber\": 1}, {\"closeddate\": \"2018-03-31T00:00:00\", \"createdbyuserorganization\": \"Self Service\", \"srnumber\": 1282}, {\"closeddate\": \"2018-03-31T00:00:00\", \"createdbyuserorganization\": \"Self Service_SAN\", \"srnumber\": 47}, {\"closeddate\": \"2018-04-30T00:00:00\", \"createdbyuserorganization\": \"BOS\", \"srnumber\": 524}, {\"closeddate\": \"2018-04-30T00:00:00\", \"createdbyuserorganization\": \"BSS\", \"srnumber\": 102}, {\"closeddate\": \"2018-04-30T00:00:00\", \"createdbyuserorganization\": \"Council's Office\", \"srnumber\": 4}, {\"closeddate\": \"2018-04-30T00:00:00\", \"createdbyuserorganization\": \"ITA\", \"srnumber\": 434}, {\"closeddate\": \"2018-04-30T00:00:00\", \"createdbyuserorganization\": \"Proactive Insert\", \"srnumber\": 1}, {\"closeddate\": \"2018-04-30T00:00:00\", \"createdbyuserorganization\": \"Self Service\", \"srnumber\": 2686}, {\"closeddate\": \"2018-04-30T00:00:00\", \"createdbyuserorganization\": \"Self Service_SAN\", \"srnumber\": 94}, {\"closeddate\": \"2018-05-31T00:00:00\", \"createdbyuserorganization\": \"BOS\", \"srnumber\": 615}, {\"closeddate\": \"2018-05-31T00:00:00\", \"createdbyuserorganization\": \"BSS\", \"srnumber\": 78}, {\"closeddate\": \"2018-05-31T00:00:00\", \"createdbyuserorganization\": \"Council's Office\", \"srnumber\": 5}, {\"closeddate\": \"2018-05-31T00:00:00\", \"createdbyuserorganization\": \"ITA\", \"srnumber\": 510}, {\"closeddate\": \"2018-05-31T00:00:00\", \"createdbyuserorganization\": \"Proactive Insert\", \"srnumber\": 2}, {\"closeddate\": \"2018-05-31T00:00:00\", \"createdbyuserorganization\": \"Self Service\", \"srnumber\": 2739}, {\"closeddate\": \"2018-05-31T00:00:00\", \"createdbyuserorganization\": \"Self Service_SAN\", \"srnumber\": 130}, {\"closeddate\": \"2018-06-30T00:00:00\", \"createdbyuserorganization\": \"BOS\", \"srnumber\": 381}, {\"closeddate\": \"2018-06-30T00:00:00\", \"createdbyuserorganization\": \"BSS\", \"srnumber\": 74}, {\"closeddate\": \"2018-06-30T00:00:00\", \"createdbyuserorganization\": \"Council's Office\", \"srnumber\": 11}, {\"closeddate\": \"2018-06-30T00:00:00\", \"createdbyuserorganization\": \"ITA\", \"srnumber\": 265}, {\"closeddate\": \"2018-06-30T00:00:00\", \"createdbyuserorganization\": \"Proactive Insert\", \"srnumber\": 3}, {\"closeddate\": \"2018-06-30T00:00:00\", \"createdbyuserorganization\": \"Self Service\", \"srnumber\": 1610}, {\"closeddate\": \"2018-06-30T00:00:00\", \"createdbyuserorganization\": \"Self Service_SAN\", \"srnumber\": 99}, {\"closeddate\": \"2018-07-31T00:00:00\", \"createdbyuserorganization\": \"BOS\", \"srnumber\": 232}, {\"closeddate\": \"2018-07-31T00:00:00\", \"createdbyuserorganization\": \"BSS\", \"srnumber\": 25}, {\"closeddate\": \"2018-07-31T00:00:00\", \"createdbyuserorganization\": \"Council's Office\", \"srnumber\": 9}, {\"closeddate\": \"2018-07-31T00:00:00\", \"createdbyuserorganization\": \"ITA\", \"srnumber\": 226}, {\"closeddate\": \"2018-07-31T00:00:00\", \"createdbyuserorganization\": \"Proactive Insert\", \"srnumber\": 5}, {\"closeddate\": \"2018-07-31T00:00:00\", \"createdbyuserorganization\": \"Self Service\", \"srnumber\": 1102}, {\"closeddate\": \"2018-07-31T00:00:00\", \"createdbyuserorganization\": \"Self Service_SAN\", \"srnumber\": 48}, {\"closeddate\": \"2018-08-31T00:00:00\", \"createdbyuserorganization\": \"BOS\", \"srnumber\": 310}, {\"closeddate\": \"2018-08-31T00:00:00\", \"createdbyuserorganization\": \"BSS\", \"srnumber\": 46}, {\"closeddate\": \"2018-08-31T00:00:00\", \"createdbyuserorganization\": \"Council's Office\", \"srnumber\": 12}, {\"closeddate\": \"2018-08-31T00:00:00\", \"createdbyuserorganization\": \"ITA\", \"srnumber\": 250}, {\"closeddate\": \"2018-08-31T00:00:00\", \"createdbyuserorganization\": \"Proactive Insert\", \"srnumber\": 17}, {\"closeddate\": \"2018-08-31T00:00:00\", \"createdbyuserorganization\": \"Self Service\", \"srnumber\": 1495}, {\"closeddate\": \"2018-08-31T00:00:00\", \"createdbyuserorganization\": \"Self Service_SAN\", \"srnumber\": 84}, {\"closeddate\": \"2018-09-30T00:00:00\", \"createdbyuserorganization\": \"BOS\", \"srnumber\": 306}, {\"closeddate\": \"2018-09-30T00:00:00\", \"createdbyuserorganization\": \"BSS\", \"srnumber\": 56}, {\"closeddate\": \"2018-09-30T00:00:00\", \"createdbyuserorganization\": \"Council's Office\", \"srnumber\": 8}, {\"closeddate\": \"2018-09-30T00:00:00\", \"createdbyuserorganization\": \"ITA\", \"srnumber\": 264}, {\"closeddate\": \"2018-09-30T00:00:00\", \"createdbyuserorganization\": \"Proactive Insert\", \"srnumber\": 8}, {\"closeddate\": \"2018-09-30T00:00:00\", \"createdbyuserorganization\": \"Self Service\", \"srnumber\": 1531}, {\"closeddate\": \"2018-09-30T00:00:00\", \"createdbyuserorganization\": \"Self Service_SAN\", \"srnumber\": 111}, {\"closeddate\": \"2018-10-31T00:00:00\", \"createdbyuserorganization\": \"BOS\", \"srnumber\": 326}, {\"closeddate\": \"2018-10-31T00:00:00\", \"createdbyuserorganization\": \"BSS\", \"srnumber\": 30}, {\"closeddate\": \"2018-10-31T00:00:00\", \"createdbyuserorganization\": \"Council's Office\", \"srnumber\": 8}, {\"closeddate\": \"2018-10-31T00:00:00\", \"createdbyuserorganization\": \"ITA\", \"srnumber\": 271}, {\"closeddate\": \"2018-10-31T00:00:00\", \"createdbyuserorganization\": \"Proactive Insert\", \"srnumber\": 2}, {\"closeddate\": \"2018-10-31T00:00:00\", \"createdbyuserorganization\": \"Self Service\", \"srnumber\": 1778}, {\"closeddate\": \"2018-10-31T00:00:00\", \"createdbyuserorganization\": \"Self Service_SAN\", \"srnumber\": 139}, {\"closeddate\": \"2018-11-30T00:00:00\", \"createdbyuserorganization\": \"BOS\", \"srnumber\": 293}, {\"closeddate\": \"2018-11-30T00:00:00\", \"createdbyuserorganization\": \"BSS\", \"srnumber\": 40}, {\"closeddate\": \"2018-11-30T00:00:00\", \"createdbyuserorganization\": \"Council's Office\", \"srnumber\": 15}, {\"closeddate\": \"2018-11-30T00:00:00\", \"createdbyuserorganization\": \"ITA\", \"srnumber\": 231}, {\"closeddate\": \"2018-11-30T00:00:00\", \"createdbyuserorganization\": \"Proactive Insert\", \"srnumber\": 1}, {\"closeddate\": \"2018-11-30T00:00:00\", \"createdbyuserorganization\": \"Self Service\", \"srnumber\": 1554}, {\"closeddate\": \"2018-11-30T00:00:00\", \"createdbyuserorganization\": \"Self Service_SAN\", \"srnumber\": 163}, {\"closeddate\": \"2018-12-31T00:00:00\", \"createdbyuserorganization\": \"BOS\", \"srnumber\": 350}, {\"closeddate\": \"2018-12-31T00:00:00\", \"createdbyuserorganization\": \"BSS\", \"srnumber\": 38}, {\"closeddate\": \"2018-12-31T00:00:00\", \"createdbyuserorganization\": \"Council's Office\", \"srnumber\": 12}, {\"closeddate\": \"2018-12-31T00:00:00\", \"createdbyuserorganization\": \"ITA\", \"srnumber\": 288}, {\"closeddate\": \"2018-12-31T00:00:00\", \"createdbyuserorganization\": \"Proactive Insert\", \"srnumber\": 4}, {\"closeddate\": \"2018-12-31T00:00:00\", \"createdbyuserorganization\": \"Self Service\", \"srnumber\": 1545}, {\"closeddate\": \"2018-12-31T00:00:00\", \"createdbyuserorganization\": \"Self Service_SAN\", \"srnumber\": 63}, {\"closeddate\": \"2019-01-31T00:00:00\", \"createdbyuserorganization\": \"BOS\", \"srnumber\": 473}, {\"closeddate\": \"2019-01-31T00:00:00\", \"createdbyuserorganization\": \"BSS\", \"srnumber\": 46}, {\"closeddate\": \"2019-01-31T00:00:00\", \"createdbyuserorganization\": \"Council's Office\", \"srnumber\": 17}, {\"closeddate\": \"2019-01-31T00:00:00\", \"createdbyuserorganization\": \"ITA\", \"srnumber\": 416}, {\"closeddate\": \"2019-01-31T00:00:00\", \"createdbyuserorganization\": \"Proactive Insert\", \"srnumber\": 5}, {\"closeddate\": \"2019-01-31T00:00:00\", \"createdbyuserorganization\": \"Self Service\", \"srnumber\": 2467}, {\"closeddate\": \"2019-01-31T00:00:00\", \"createdbyuserorganization\": \"Self Service_SAN\", \"srnumber\": 94}, {\"closeddate\": \"2019-02-28T00:00:00\", \"createdbyuserorganization\": \"BOS\", \"srnumber\": 278}, {\"closeddate\": \"2019-02-28T00:00:00\", \"createdbyuserorganization\": \"BSS\", \"srnumber\": 24}, {\"closeddate\": \"2019-02-28T00:00:00\", \"createdbyuserorganization\": \"Council's Office\", \"srnumber\": 10}, {\"closeddate\": \"2019-02-28T00:00:00\", \"createdbyuserorganization\": \"ITA\", \"srnumber\": 250}, {\"closeddate\": \"2019-02-28T00:00:00\", \"createdbyuserorganization\": \"Proactive Insert\", \"srnumber\": 4}, {\"closeddate\": \"2019-02-28T00:00:00\", \"createdbyuserorganization\": \"Self Service\", \"srnumber\": 1446}, {\"closeddate\": \"2019-02-28T00:00:00\", \"createdbyuserorganization\": \"Self Service_SAN\", \"srnumber\": 57}, {\"closeddate\": \"2019-03-31T00:00:00\", \"createdbyuserorganization\": \"BOS\", \"srnumber\": 302}, {\"closeddate\": \"2019-03-31T00:00:00\", \"createdbyuserorganization\": \"BSS\", \"srnumber\": 25}, {\"closeddate\": \"2019-03-31T00:00:00\", \"createdbyuserorganization\": \"Council's Office\", \"srnumber\": 11}, {\"closeddate\": \"2019-03-31T00:00:00\", \"createdbyuserorganization\": \"ITA\", \"srnumber\": 320}, {\"closeddate\": \"2019-03-31T00:00:00\", \"createdbyuserorganization\": \"Proactive Insert\", \"srnumber\": 4}, {\"closeddate\": \"2019-03-31T00:00:00\", \"createdbyuserorganization\": \"Self Service\", \"srnumber\": 1942}, {\"closeddate\": \"2019-03-31T00:00:00\", \"createdbyuserorganization\": \"Self Service_SAN\", \"srnumber\": 54}, {\"closeddate\": \"2019-04-30T00:00:00\", \"createdbyuserorganization\": \"BOS\", \"srnumber\": 293}, {\"closeddate\": \"2019-04-30T00:00:00\", \"createdbyuserorganization\": \"BSS\", \"srnumber\": 25}, {\"closeddate\": \"2019-04-30T00:00:00\", \"createdbyuserorganization\": \"Council's Office\", \"srnumber\": 14}, {\"closeddate\": \"2019-04-30T00:00:00\", \"createdbyuserorganization\": \"ITA\", \"srnumber\": 309}, {\"closeddate\": \"2019-04-30T00:00:00\", \"createdbyuserorganization\": \"Proactive Insert\", \"srnumber\": 1}, {\"closeddate\": \"2019-04-30T00:00:00\", \"createdbyuserorganization\": \"Self Service\", \"srnumber\": 1941}, {\"closeddate\": \"2019-04-30T00:00:00\", \"createdbyuserorganization\": \"Self Service_SAN\", \"srnumber\": 43}, {\"closeddate\": \"2019-05-31T00:00:00\", \"createdbyuserorganization\": \"BOS\", \"srnumber\": 266}, {\"closeddate\": \"2019-05-31T00:00:00\", \"createdbyuserorganization\": \"BSS\", \"srnumber\": 32}, {\"closeddate\": \"2019-05-31T00:00:00\", \"createdbyuserorganization\": \"Council's Office\", \"srnumber\": 10}, {\"closeddate\": \"2019-05-31T00:00:00\", \"createdbyuserorganization\": \"ITA\", \"srnumber\": 315}, {\"closeddate\": \"2019-05-31T00:00:00\", \"createdbyuserorganization\": \"Proactive Insert\", \"srnumber\": 1}, {\"closeddate\": \"2019-05-31T00:00:00\", \"createdbyuserorganization\": \"Self Service\", \"srnumber\": 1942}, {\"closeddate\": \"2019-05-31T00:00:00\", \"createdbyuserorganization\": \"Self Service_SAN\", \"srnumber\": 45}, {\"closeddate\": \"2019-06-30T00:00:00\", \"createdbyuserorganization\": \"BOS\", \"srnumber\": 664}, {\"closeddate\": \"2019-06-30T00:00:00\", \"createdbyuserorganization\": \"BSS\", \"srnumber\": 56}, {\"closeddate\": \"2019-06-30T00:00:00\", \"createdbyuserorganization\": \"Council's Office\", \"srnumber\": 24}, {\"closeddate\": \"2019-06-30T00:00:00\", \"createdbyuserorganization\": \"ITA\", \"srnumber\": 652}, {\"closeddate\": \"2019-06-30T00:00:00\", \"createdbyuserorganization\": \"Proactive Insert\", \"srnumber\": 8}, {\"closeddate\": \"2019-06-30T00:00:00\", \"createdbyuserorganization\": \"Self Service\", \"srnumber\": 4055}, {\"closeddate\": \"2019-06-30T00:00:00\", \"createdbyuserorganization\": \"Self Service_SAN\", \"srnumber\": 126}, {\"closeddate\": \"2019-07-31T00:00:00\", \"createdbyuserorganization\": \"BOS\", \"srnumber\": 368}, {\"closeddate\": \"2019-07-31T00:00:00\", \"createdbyuserorganization\": \"BSS\", \"srnumber\": 19}, {\"closeddate\": \"2019-07-31T00:00:00\", \"createdbyuserorganization\": \"Council's Office\", \"srnumber\": 12}, {\"closeddate\": \"2019-07-31T00:00:00\", \"createdbyuserorganization\": \"ITA\", \"srnumber\": 393}, {\"closeddate\": \"2019-07-31T00:00:00\", \"createdbyuserorganization\": \"Proactive Insert\", \"srnumber\": 3}, {\"closeddate\": \"2019-07-31T00:00:00\", \"createdbyuserorganization\": \"Self Service\", \"srnumber\": 2310}, {\"closeddate\": \"2019-07-31T00:00:00\", \"createdbyuserorganization\": \"Self Service_SAN\", \"srnumber\": 83}, {\"closeddate\": \"2019-08-31T00:00:00\", \"createdbyuserorganization\": \"BOS\", \"srnumber\": 312}, {\"closeddate\": \"2019-08-31T00:00:00\", \"createdbyuserorganization\": \"BSS\", \"srnumber\": 11}, {\"closeddate\": \"2019-08-31T00:00:00\", \"createdbyuserorganization\": \"Council's Office\", \"srnumber\": 11}, {\"closeddate\": \"2019-08-31T00:00:00\", \"createdbyuserorganization\": \"ITA\", \"srnumber\": 350}, {\"closeddate\": \"2019-08-31T00:00:00\", \"createdbyuserorganization\": \"Proactive Insert\", \"srnumber\": 3}, {\"closeddate\": \"2019-08-31T00:00:00\", \"createdbyuserorganization\": \"Self Service\", \"srnumber\": 1881}, {\"closeddate\": \"2019-08-31T00:00:00\", \"createdbyuserorganization\": \"Self Service_SAN\", \"srnumber\": 39}, {\"closeddate\": \"2019-09-30T00:00:00\", \"createdbyuserorganization\": \"BOS\", \"srnumber\": 279}, {\"closeddate\": \"2019-09-30T00:00:00\", \"createdbyuserorganization\": \"BSS\", \"srnumber\": 6}, {\"closeddate\": \"2019-09-30T00:00:00\", \"createdbyuserorganization\": \"Council's Office\", \"srnumber\": 12}, {\"closeddate\": \"2019-09-30T00:00:00\", \"createdbyuserorganization\": \"ITA\", \"srnumber\": 324}, {\"closeddate\": \"2019-09-30T00:00:00\", \"createdbyuserorganization\": \"Proactive Insert\", \"srnumber\": 5}, {\"closeddate\": \"2019-09-30T00:00:00\", \"createdbyuserorganization\": \"Self Service\", \"srnumber\": 1853}, {\"closeddate\": \"2019-09-30T00:00:00\", \"createdbyuserorganization\": \"Self Service_SAN\", \"srnumber\": 41}, {\"closeddate\": \"2019-10-31T00:00:00\", \"createdbyuserorganization\": \"BOS\", \"srnumber\": 486}, {\"closeddate\": \"2019-10-31T00:00:00\", \"createdbyuserorganization\": \"BSS\", \"srnumber\": 18}, {\"closeddate\": \"2019-10-31T00:00:00\", \"createdbyuserorganization\": \"Council's Office\", \"srnumber\": 19}, {\"closeddate\": \"2019-10-31T00:00:00\", \"createdbyuserorganization\": \"ITA\", \"srnumber\": 430}, {\"closeddate\": \"2019-10-31T00:00:00\", \"createdbyuserorganization\": \"Proactive Insert\", \"srnumber\": 5}, {\"closeddate\": \"2019-10-31T00:00:00\", \"createdbyuserorganization\": \"Self Service\", \"srnumber\": 2833}, {\"closeddate\": \"2019-10-31T00:00:00\", \"createdbyuserorganization\": \"Self Service_SAN\", \"srnumber\": 66}, {\"closeddate\": \"2019-11-30T00:00:00\", \"createdbyuserorganization\": \"BOS\", \"srnumber\": 427}, {\"closeddate\": \"2019-11-30T00:00:00\", \"createdbyuserorganization\": \"BSS\", \"srnumber\": 18}, {\"closeddate\": \"2019-11-30T00:00:00\", \"createdbyuserorganization\": \"Council's Office\", \"srnumber\": 11}, {\"closeddate\": \"2019-11-30T00:00:00\", \"createdbyuserorganization\": \"ITA\", \"srnumber\": 330}, {\"closeddate\": \"2019-11-30T00:00:00\", \"createdbyuserorganization\": \"Proactive Insert\", \"srnumber\": 3}, {\"closeddate\": \"2019-11-30T00:00:00\", \"createdbyuserorganization\": \"Self Service\", \"srnumber\": 1981}, {\"closeddate\": \"2019-11-30T00:00:00\", \"createdbyuserorganization\": \"Self Service_SAN\", \"srnumber\": 38}, {\"closeddate\": \"2019-12-31T00:00:00\", \"createdbyuserorganization\": \"BOS\", \"srnumber\": 446}, {\"closeddate\": \"2019-12-31T00:00:00\", \"createdbyuserorganization\": \"BSS\", \"srnumber\": 22}, {\"closeddate\": \"2019-12-31T00:00:00\", \"createdbyuserorganization\": \"Council's Office\", \"srnumber\": 16}, {\"closeddate\": \"2019-12-31T00:00:00\", \"createdbyuserorganization\": \"ITA\", \"srnumber\": 447}, {\"closeddate\": \"2019-12-31T00:00:00\", \"createdbyuserorganization\": \"Proactive Insert\", \"srnumber\": 8}, {\"closeddate\": \"2019-12-31T00:00:00\", \"createdbyuserorganization\": \"Self Service\", \"srnumber\": 3042}, {\"closeddate\": \"2019-12-31T00:00:00\", \"createdbyuserorganization\": \"Self Service_SAN\", \"srnumber\": 52}, {\"closeddate\": \"2020-01-31T00:00:00\", \"createdbyuserorganization\": \"BOS\", \"srnumber\": 312}, {\"closeddate\": \"2020-01-31T00:00:00\", \"createdbyuserorganization\": \"BSS\", \"srnumber\": 8}, {\"closeddate\": \"2020-01-31T00:00:00\", \"createdbyuserorganization\": \"Council's Office\", \"srnumber\": 14}, {\"closeddate\": \"2020-01-31T00:00:00\", \"createdbyuserorganization\": \"ITA\", \"srnumber\": 309}, {\"closeddate\": \"2020-01-31T00:00:00\", \"createdbyuserorganization\": \"Proactive Insert\", \"srnumber\": 4}, {\"closeddate\": \"2020-01-31T00:00:00\", \"createdbyuserorganization\": \"Self Service\", \"srnumber\": 2413}, {\"closeddate\": \"2020-01-31T00:00:00\", \"createdbyuserorganization\": \"Self Service_SAN\", \"srnumber\": 55}]}}, {\"mode\": \"vega-lite\"});\n",
       "</script>"
      ],
      "text/plain": [
       "alt.Chart(...)"
      ]
     },
     "execution_count": 100,
     "metadata": {},
     "output_type": "execute_result"
    }
   ],
   "source": [
    "chart = alt.Chart(source.reset_index()).mark_bar().encode(\n",
    "    x = alt.X('closeddate:O'),\n",
    "    y= alt.Y('sum(srnumber)'),\n",
    "    color='createdbyuserorganization'\n",
    ").properties(\n",
    "    title='Number of Homelessness Encampment SRs closed by Month'\n",
    ")\n",
    "\n",
    "chart.encoding.y.title = 'Number of SR Encampments'\n",
    "chart.encoding.x.title = 'Month'\n",
    "chart"
   ]
  },
  {
   "cell_type": "code",
   "execution_count": 104,
   "metadata": {},
   "outputs": [
    {
     "data": {
      "text/html": [
       "\n",
       "<div id=\"altair-viz-13\"></div>\n",
       "<script type=\"text/javascript\">\n",
       "  (function(spec, embedOpt){\n",
       "    const outputDiv = document.getElementById(\"altair-viz-13\");\n",
       "    const paths = {\n",
       "      \"vega\": \"https://cdn.jsdelivr.net/npm//vega@5?noext\",\n",
       "      \"vega-lib\": \"https://cdn.jsdelivr.net/npm//vega-lib?noext\",\n",
       "      \"vega-lite\": \"https://cdn.jsdelivr.net/npm//vega-lite@4.0.0?noext\",\n",
       "      \"vega-embed\": \"https://cdn.jsdelivr.net/npm//vega-embed@6?noext\",\n",
       "    };\n",
       "\n",
       "    function loadScript(lib) {\n",
       "      return new Promise(function(resolve, reject) {\n",
       "        var s = document.createElement('script');\n",
       "        s.src = paths[lib];\n",
       "        s.async = true;\n",
       "        s.onload = () => resolve(paths[lib]);\n",
       "        s.onerror = () => reject(`Error loading script: ${paths[lib]}`);\n",
       "        document.getElementsByTagName(\"head\")[0].appendChild(s);\n",
       "      });\n",
       "    }\n",
       "\n",
       "    function showError(err) {\n",
       "      outputDiv.innerHTML = `<div class=\"error\" style=\"color:red;\">${err}</div>`;\n",
       "      throw err;\n",
       "    }\n",
       "\n",
       "    function displayChart(vegaEmbed) {\n",
       "      vegaEmbed(outputDiv, spec, embedOpt)\n",
       "        .catch(err => showError(`Javascript Error: ${err.message}<br>This usually means there's a typo in your chart specification. See the javascript console for the full traceback.`));\n",
       "    }\n",
       "\n",
       "    if(typeof define === \"function\" && define.amd) {\n",
       "      requirejs.config({paths});\n",
       "      require([\"vega-embed\"], displayChart, err => showError(`Error loading script: ${err.message}`));\n",
       "    } else if (typeof vegaEmbed === \"function\") {\n",
       "      displayChart(vegaEmbed);\n",
       "    } else {\n",
       "      loadScript(\"vega\")\n",
       "        .then(() => loadScript(\"vega-lite\"))\n",
       "        .then(() => loadScript(\"vega-embed\"))\n",
       "        .catch(showError)\n",
       "        .then(() => displayChart(vegaEmbed));\n",
       "    }\n",
       "  })({\"config\": {\"view\": {\"continuousWidth\": 400, \"continuousHeight\": 300}}, \"data\": {\"name\": \"data-9e85074085995cddd5be24e151f9e90b\"}, \"mark\": \"bar\", \"encoding\": {\"color\": {\"type\": \"nominal\", \"field\": \"createdbyuserorganization\"}, \"x\": {\"type\": \"ordinal\", \"field\": \"createddate\", \"title\": \"Month\"}, \"y\": {\"type\": \"quantitative\", \"aggregate\": \"sum\", \"field\": \"srnumber\", \"title\": \"Number of SR Encampments\"}}, \"title\": \"Number of Homelessness Encampment SRs created by Month\", \"$schema\": \"https://vega.github.io/schema/vega-lite/v4.0.0.json\", \"datasets\": {\"data-9e85074085995cddd5be24e151f9e90b\": [{\"createddate\": \"2015-08-31T00:00:00\", \"createdbyuserorganization\": \"BOS\", \"srnumber\": 85}, {\"createddate\": \"2015-08-31T00:00:00\", \"createdbyuserorganization\": \"BSS\", \"srnumber\": 2}, {\"createddate\": \"2015-08-31T00:00:00\", \"createdbyuserorganization\": \"ITA\", \"srnumber\": 50}, {\"createddate\": \"2015-09-30T00:00:00\", \"createdbyuserorganization\": \"BOS\", \"srnumber\": 193}, {\"createddate\": \"2015-09-30T00:00:00\", \"createdbyuserorganization\": \"ITA\", \"srnumber\": 75}, {\"createddate\": \"2015-09-30T00:00:00\", \"createdbyuserorganization\": \"Self Service\", \"srnumber\": 2}, {\"createddate\": \"2015-10-31T00:00:00\", \"createdbyuserorganization\": \"BOS\", \"srnumber\": 208}, {\"createddate\": \"2015-10-31T00:00:00\", \"createdbyuserorganization\": \"BSS\", \"srnumber\": 2}, {\"createddate\": \"2015-10-31T00:00:00\", \"createdbyuserorganization\": \"ITA\", \"srnumber\": 88}, {\"createddate\": \"2015-10-31T00:00:00\", \"createdbyuserorganization\": \"Self Service\", \"srnumber\": 3}, {\"createddate\": \"2015-11-30T00:00:00\", \"createdbyuserorganization\": \"BOS\", \"srnumber\": 163}, {\"createddate\": \"2015-11-30T00:00:00\", \"createdbyuserorganization\": \"BSS\", \"srnumber\": 2}, {\"createddate\": \"2015-11-30T00:00:00\", \"createdbyuserorganization\": \"ITA\", \"srnumber\": 81}, {\"createddate\": \"2015-11-30T00:00:00\", \"createdbyuserorganization\": \"Self Service\", \"srnumber\": 2}, {\"createddate\": \"2015-12-31T00:00:00\", \"createdbyuserorganization\": \"BOS\", \"srnumber\": 214}, {\"createddate\": \"2015-12-31T00:00:00\", \"createdbyuserorganization\": \"BSS\", \"srnumber\": 2}, {\"createddate\": \"2015-12-31T00:00:00\", \"createdbyuserorganization\": \"ITA\", \"srnumber\": 85}, {\"createddate\": \"2016-01-31T00:00:00\", \"createdbyuserorganization\": \"BOS\", \"srnumber\": 403}, {\"createddate\": \"2016-01-31T00:00:00\", \"createdbyuserorganization\": \"BSS\", \"srnumber\": 6}, {\"createddate\": \"2016-01-31T00:00:00\", \"createdbyuserorganization\": \"Council's Office\", \"srnumber\": 2}, {\"createddate\": \"2016-01-31T00:00:00\", \"createdbyuserorganization\": \"ITA\", \"srnumber\": 85}, {\"createddate\": \"2016-01-31T00:00:00\", \"createdbyuserorganization\": \"Self Service\", \"srnumber\": 66}, {\"createddate\": \"2016-02-29T00:00:00\", \"createdbyuserorganization\": \"BOS\", \"srnumber\": 313}, {\"createddate\": \"2016-02-29T00:00:00\", \"createdbyuserorganization\": \"BSS\", \"srnumber\": 3}, {\"createddate\": \"2016-02-29T00:00:00\", \"createdbyuserorganization\": \"ITA\", \"srnumber\": 57}, {\"createddate\": \"2016-02-29T00:00:00\", \"createdbyuserorganization\": \"Self Service\", \"srnumber\": 64}, {\"createddate\": \"2016-02-29T00:00:00\", \"createdbyuserorganization\": \"Self Service_SAN\", \"srnumber\": 1}, {\"createddate\": \"2016-03-31T00:00:00\", \"createdbyuserorganization\": \"BOS\", \"srnumber\": 181}, {\"createddate\": \"2016-03-31T00:00:00\", \"createdbyuserorganization\": \"BSS\", \"srnumber\": 15}, {\"createddate\": \"2016-03-31T00:00:00\", \"createdbyuserorganization\": \"Council's Office\", \"srnumber\": 1}, {\"createddate\": \"2016-03-31T00:00:00\", \"createdbyuserorganization\": \"ITA\", \"srnumber\": 86}, {\"createddate\": \"2016-03-31T00:00:00\", \"createdbyuserorganization\": \"Self Service\", \"srnumber\": 155}, {\"createddate\": \"2016-03-31T00:00:00\", \"createdbyuserorganization\": \"Self Service_SAN\", \"srnumber\": 4}, {\"createddate\": \"2016-04-30T00:00:00\", \"createdbyuserorganization\": \"BOS\", \"srnumber\": 263}, {\"createddate\": \"2016-04-30T00:00:00\", \"createdbyuserorganization\": \"BSS\", \"srnumber\": 9}, {\"createddate\": \"2016-04-30T00:00:00\", \"createdbyuserorganization\": \"Council's Office\", \"srnumber\": 6}, {\"createddate\": \"2016-04-30T00:00:00\", \"createdbyuserorganization\": \"ITA\", \"srnumber\": 113}, {\"createddate\": \"2016-04-30T00:00:00\", \"createdbyuserorganization\": \"Self Service\", \"srnumber\": 285}, {\"createddate\": \"2016-04-30T00:00:00\", \"createdbyuserorganization\": \"Self Service_SAN\", \"srnumber\": 5}, {\"createddate\": \"2016-05-31T00:00:00\", \"createdbyuserorganization\": \"BOS\", \"srnumber\": 306}, {\"createddate\": \"2016-05-31T00:00:00\", \"createdbyuserorganization\": \"BSS\", \"srnumber\": 2}, {\"createddate\": \"2016-05-31T00:00:00\", \"createdbyuserorganization\": \"Council's Office\", \"srnumber\": 2}, {\"createddate\": \"2016-05-31T00:00:00\", \"createdbyuserorganization\": \"ITA\", \"srnumber\": 124}, {\"createddate\": \"2016-05-31T00:00:00\", \"createdbyuserorganization\": \"Self Service\", \"srnumber\": 319}, {\"createddate\": \"2016-05-31T00:00:00\", \"createdbyuserorganization\": \"Self Service_SAN\", \"srnumber\": 14}, {\"createddate\": \"2016-06-30T00:00:00\", \"createdbyuserorganization\": \"BOS\", \"srnumber\": 241}, {\"createddate\": \"2016-06-30T00:00:00\", \"createdbyuserorganization\": \"BSS\", \"srnumber\": 2}, {\"createddate\": \"2016-06-30T00:00:00\", \"createdbyuserorganization\": \"Council's Office\", \"srnumber\": 2}, {\"createddate\": \"2016-06-30T00:00:00\", \"createdbyuserorganization\": \"ITA\", \"srnumber\": 143}, {\"createddate\": \"2016-06-30T00:00:00\", \"createdbyuserorganization\": \"Self Service\", \"srnumber\": 346}, {\"createddate\": \"2016-06-30T00:00:00\", \"createdbyuserorganization\": \"Self Service_SAN\", \"srnumber\": 9}, {\"createddate\": \"2016-07-31T00:00:00\", \"createdbyuserorganization\": \"BOS\", \"srnumber\": 233}, {\"createddate\": \"2016-07-31T00:00:00\", \"createdbyuserorganization\": \"BSS\", \"srnumber\": 4}, {\"createddate\": \"2016-07-31T00:00:00\", \"createdbyuserorganization\": \"ITA\", \"srnumber\": 86}, {\"createddate\": \"2016-07-31T00:00:00\", \"createdbyuserorganization\": \"Self Service\", \"srnumber\": 427}, {\"createddate\": \"2016-07-31T00:00:00\", \"createdbyuserorganization\": \"Self Service_SAN\", \"srnumber\": 28}, {\"createddate\": \"2016-08-31T00:00:00\", \"createdbyuserorganization\": \"BOS\", \"srnumber\": 269}, {\"createddate\": \"2016-08-31T00:00:00\", \"createdbyuserorganization\": \"Council's Office\", \"srnumber\": 1}, {\"createddate\": \"2016-08-31T00:00:00\", \"createdbyuserorganization\": \"ITA\", \"srnumber\": 153}, {\"createddate\": \"2016-08-31T00:00:00\", \"createdbyuserorganization\": \"Self Service\", \"srnumber\": 348}, {\"createddate\": \"2016-08-31T00:00:00\", \"createdbyuserorganization\": \"Self Service_SAN\", \"srnumber\": 15}, {\"createddate\": \"2016-09-30T00:00:00\", \"createdbyuserorganization\": \"BOS\", \"srnumber\": 218}, {\"createddate\": \"2016-09-30T00:00:00\", \"createdbyuserorganization\": \"Council's Office\", \"srnumber\": 3}, {\"createddate\": \"2016-09-30T00:00:00\", \"createdbyuserorganization\": \"ITA\", \"srnumber\": 131}, {\"createddate\": \"2016-09-30T00:00:00\", \"createdbyuserorganization\": \"Self Service\", \"srnumber\": 737}, {\"createddate\": \"2016-09-30T00:00:00\", \"createdbyuserorganization\": \"Self Service_SAN\", \"srnumber\": 32}, {\"createddate\": \"2016-10-31T00:00:00\", \"createdbyuserorganization\": \"BOS\", \"srnumber\": 243}, {\"createddate\": \"2016-10-31T00:00:00\", \"createdbyuserorganization\": \"BSS\", \"srnumber\": 1}, {\"createddate\": \"2016-10-31T00:00:00\", \"createdbyuserorganization\": \"Council's Office\", \"srnumber\": 7}, {\"createddate\": \"2016-10-31T00:00:00\", \"createdbyuserorganization\": \"ITA\", \"srnumber\": 107}, {\"createddate\": \"2016-10-31T00:00:00\", \"createdbyuserorganization\": \"Self Service\", \"srnumber\": 506}, {\"createddate\": \"2016-10-31T00:00:00\", \"createdbyuserorganization\": \"Self Service_SAN\", \"srnumber\": 17}, {\"createddate\": \"2016-11-30T00:00:00\", \"createdbyuserorganization\": \"BOS\", \"srnumber\": 254}, {\"createddate\": \"2016-11-30T00:00:00\", \"createdbyuserorganization\": \"BSS\", \"srnumber\": 5}, {\"createddate\": \"2016-11-30T00:00:00\", \"createdbyuserorganization\": \"Council's Office\", \"srnumber\": 4}, {\"createddate\": \"2016-11-30T00:00:00\", \"createdbyuserorganization\": \"ITA\", \"srnumber\": 101}, {\"createddate\": \"2016-11-30T00:00:00\", \"createdbyuserorganization\": \"Self Service\", \"srnumber\": 491}, {\"createddate\": \"2016-11-30T00:00:00\", \"createdbyuserorganization\": \"Self Service_SAN\", \"srnumber\": 18}, {\"createddate\": \"2016-12-31T00:00:00\", \"createdbyuserorganization\": \"BOS\", \"srnumber\": 272}, {\"createddate\": \"2016-12-31T00:00:00\", \"createdbyuserorganization\": \"BSS\", \"srnumber\": 4}, {\"createddate\": \"2016-12-31T00:00:00\", \"createdbyuserorganization\": \"Council's Office\", \"srnumber\": 6}, {\"createddate\": \"2016-12-31T00:00:00\", \"createdbyuserorganization\": \"ITA\", \"srnumber\": 152}, {\"createddate\": \"2016-12-31T00:00:00\", \"createdbyuserorganization\": \"Self Service\", \"srnumber\": 585}, {\"createddate\": \"2016-12-31T00:00:00\", \"createdbyuserorganization\": \"Self Service_SAN\", \"srnumber\": 30}, {\"createddate\": \"2017-01-31T00:00:00\", \"createdbyuserorganization\": \"BOS\", \"srnumber\": 225}, {\"createddate\": \"2017-01-31T00:00:00\", \"createdbyuserorganization\": \"BSS\", \"srnumber\": 1}, {\"createddate\": \"2017-01-31T00:00:00\", \"createdbyuserorganization\": \"Council's Office\", \"srnumber\": 8}, {\"createddate\": \"2017-01-31T00:00:00\", \"createdbyuserorganization\": \"ITA\", \"srnumber\": 166}, {\"createddate\": \"2017-01-31T00:00:00\", \"createdbyuserorganization\": \"Self Service\", \"srnumber\": 752}, {\"createddate\": \"2017-01-31T00:00:00\", \"createdbyuserorganization\": \"Self Service_SAN\", \"srnumber\": 29}, {\"createddate\": \"2017-02-28T00:00:00\", \"createdbyuserorganization\": \"BOS\", \"srnumber\": 197}, {\"createddate\": \"2017-02-28T00:00:00\", \"createdbyuserorganization\": \"BSS\", \"srnumber\": 12}, {\"createddate\": \"2017-02-28T00:00:00\", \"createdbyuserorganization\": \"Council's Office\", \"srnumber\": 8}, {\"createddate\": \"2017-02-28T00:00:00\", \"createdbyuserorganization\": \"ITA\", \"srnumber\": 143}, {\"createddate\": \"2017-02-28T00:00:00\", \"createdbyuserorganization\": \"Self Service\", \"srnumber\": 741}, {\"createddate\": \"2017-02-28T00:00:00\", \"createdbyuserorganization\": \"Self Service_SAN\", \"srnumber\": 30}, {\"createddate\": \"2017-03-31T00:00:00\", \"createdbyuserorganization\": \"BOS\", \"srnumber\": 267}, {\"createddate\": \"2017-03-31T00:00:00\", \"createdbyuserorganization\": \"BSS\", \"srnumber\": 25}, {\"createddate\": \"2017-03-31T00:00:00\", \"createdbyuserorganization\": \"Council's Office\", \"srnumber\": 2}, {\"createddate\": \"2017-03-31T00:00:00\", \"createdbyuserorganization\": \"ITA\", \"srnumber\": 206}, {\"createddate\": \"2017-03-31T00:00:00\", \"createdbyuserorganization\": \"Self Service\", \"srnumber\": 941}, {\"createddate\": \"2017-03-31T00:00:00\", \"createdbyuserorganization\": \"Self Service_SAN\", \"srnumber\": 40}, {\"createddate\": \"2017-04-30T00:00:00\", \"createdbyuserorganization\": \"BOS\", \"srnumber\": 233}, {\"createddate\": \"2017-04-30T00:00:00\", \"createdbyuserorganization\": \"BSS\", \"srnumber\": 32}, {\"createddate\": \"2017-04-30T00:00:00\", \"createdbyuserorganization\": \"Council's Office\", \"srnumber\": 7}, {\"createddate\": \"2017-04-30T00:00:00\", \"createdbyuserorganization\": \"ITA\", \"srnumber\": 155}, {\"createddate\": \"2017-04-30T00:00:00\", \"createdbyuserorganization\": \"Self Service\", \"srnumber\": 937}, {\"createddate\": \"2017-04-30T00:00:00\", \"createdbyuserorganization\": \"Self Service_SAN\", \"srnumber\": 37}, {\"createddate\": \"2017-05-31T00:00:00\", \"createdbyuserorganization\": \"BOS\", \"srnumber\": 248}, {\"createddate\": \"2017-05-31T00:00:00\", \"createdbyuserorganization\": \"BSS\", \"srnumber\": 25}, {\"createddate\": \"2017-05-31T00:00:00\", \"createdbyuserorganization\": \"Council's Office\", \"srnumber\": 8}, {\"createddate\": \"2017-05-31T00:00:00\", \"createdbyuserorganization\": \"ITA\", \"srnumber\": 164}, {\"createddate\": \"2017-05-31T00:00:00\", \"createdbyuserorganization\": \"Self Service\", \"srnumber\": 979}, {\"createddate\": \"2017-05-31T00:00:00\", \"createdbyuserorganization\": \"Self Service_SAN\", \"srnumber\": 40}, {\"createddate\": \"2017-06-30T00:00:00\", \"createdbyuserorganization\": \"BOS\", \"srnumber\": 317}, {\"createddate\": \"2017-06-30T00:00:00\", \"createdbyuserorganization\": \"BSS\", \"srnumber\": 66}, {\"createddate\": \"2017-06-30T00:00:00\", \"createdbyuserorganization\": \"Council's Office\", \"srnumber\": 4}, {\"createddate\": \"2017-06-30T00:00:00\", \"createdbyuserorganization\": \"ITA\", \"srnumber\": 211}, {\"createddate\": \"2017-06-30T00:00:00\", \"createdbyuserorganization\": \"Self Service\", \"srnumber\": 1061}, {\"createddate\": \"2017-06-30T00:00:00\", \"createdbyuserorganization\": \"Self Service_SAN\", \"srnumber\": 45}, {\"createddate\": \"2017-07-31T00:00:00\", \"createdbyuserorganization\": \"BOS\", \"srnumber\": 343}, {\"createddate\": \"2017-07-31T00:00:00\", \"createdbyuserorganization\": \"BSS\", \"srnumber\": 36}, {\"createddate\": \"2017-07-31T00:00:00\", \"createdbyuserorganization\": \"Council's Office\", \"srnumber\": 8}, {\"createddate\": \"2017-07-31T00:00:00\", \"createdbyuserorganization\": \"ITA\", \"srnumber\": 217}, {\"createddate\": \"2017-07-31T00:00:00\", \"createdbyuserorganization\": \"Self Service\", \"srnumber\": 1222}, {\"createddate\": \"2017-07-31T00:00:00\", \"createdbyuserorganization\": \"Self Service_SAN\", \"srnumber\": 50}, {\"createddate\": \"2017-08-31T00:00:00\", \"createdbyuserorganization\": \"BOS\", \"srnumber\": 388}, {\"createddate\": \"2017-08-31T00:00:00\", \"createdbyuserorganization\": \"BSS\", \"srnumber\": 47}, {\"createddate\": \"2017-08-31T00:00:00\", \"createdbyuserorganization\": \"Council's Office\", \"srnumber\": 11}, {\"createddate\": \"2017-08-31T00:00:00\", \"createdbyuserorganization\": \"ITA\", \"srnumber\": 249}, {\"createddate\": \"2017-08-31T00:00:00\", \"createdbyuserorganization\": \"Proactive Insert\", \"srnumber\": 5}, {\"createddate\": \"2017-08-31T00:00:00\", \"createdbyuserorganization\": \"Self Service\", \"srnumber\": 1313}, {\"createddate\": \"2017-08-31T00:00:00\", \"createdbyuserorganization\": \"Self Service_SAN\", \"srnumber\": 49}, {\"createddate\": \"2017-09-30T00:00:00\", \"createdbyuserorganization\": \"BOS\", \"srnumber\": 341}, {\"createddate\": \"2017-09-30T00:00:00\", \"createdbyuserorganization\": \"BSS\", \"srnumber\": 43}, {\"createddate\": \"2017-09-30T00:00:00\", \"createdbyuserorganization\": \"Council's Office\", \"srnumber\": 7}, {\"createddate\": \"2017-09-30T00:00:00\", \"createdbyuserorganization\": \"ITA\", \"srnumber\": 230}, {\"createddate\": \"2017-09-30T00:00:00\", \"createdbyuserorganization\": \"Proactive Insert\", \"srnumber\": 3}, {\"createddate\": \"2017-09-30T00:00:00\", \"createdbyuserorganization\": \"Self Service\", \"srnumber\": 1491}, {\"createddate\": \"2017-09-30T00:00:00\", \"createdbyuserorganization\": \"Self Service_SAN\", \"srnumber\": 38}, {\"createddate\": \"2017-10-31T00:00:00\", \"createdbyuserorganization\": \"BOS\", \"srnumber\": 321}, {\"createddate\": \"2017-10-31T00:00:00\", \"createdbyuserorganization\": \"BSS\", \"srnumber\": 50}, {\"createddate\": \"2017-10-31T00:00:00\", \"createdbyuserorganization\": \"Council's Office\", \"srnumber\": 12}, {\"createddate\": \"2017-10-31T00:00:00\", \"createdbyuserorganization\": \"ITA\", \"srnumber\": 216}, {\"createddate\": \"2017-10-31T00:00:00\", \"createdbyuserorganization\": \"Self Service\", \"srnumber\": 1342}, {\"createddate\": \"2017-10-31T00:00:00\", \"createdbyuserorganization\": \"Self Service_SAN\", \"srnumber\": 35}, {\"createddate\": \"2017-11-30T00:00:00\", \"createdbyuserorganization\": \"BOS\", \"srnumber\": 337}, {\"createddate\": \"2017-11-30T00:00:00\", \"createdbyuserorganization\": \"BSS\", \"srnumber\": 25}, {\"createddate\": \"2017-11-30T00:00:00\", \"createdbyuserorganization\": \"Council's Office\", \"srnumber\": 12}, {\"createddate\": \"2017-11-30T00:00:00\", \"createdbyuserorganization\": \"ITA\", \"srnumber\": 229}, {\"createddate\": \"2017-11-30T00:00:00\", \"createdbyuserorganization\": \"Proactive Insert\", \"srnumber\": 1}, {\"createddate\": \"2017-11-30T00:00:00\", \"createdbyuserorganization\": \"Self Service\", \"srnumber\": 1203}, {\"createddate\": \"2017-11-30T00:00:00\", \"createdbyuserorganization\": \"Self Service_SAN\", \"srnumber\": 42}, {\"createddate\": \"2017-12-31T00:00:00\", \"createdbyuserorganization\": \"BOS\", \"srnumber\": 275}, {\"createddate\": \"2017-12-31T00:00:00\", \"createdbyuserorganization\": \"BSS\", \"srnumber\": 24}, {\"createddate\": \"2017-12-31T00:00:00\", \"createdbyuserorganization\": \"Council's Office\", \"srnumber\": 9}, {\"createddate\": \"2017-12-31T00:00:00\", \"createdbyuserorganization\": \"ITA\", \"srnumber\": 193}, {\"createddate\": \"2017-12-31T00:00:00\", \"createdbyuserorganization\": \"Proactive Insert\", \"srnumber\": 7}, {\"createddate\": \"2017-12-31T00:00:00\", \"createdbyuserorganization\": \"Self Service\", \"srnumber\": 1098}, {\"createddate\": \"2017-12-31T00:00:00\", \"createdbyuserorganization\": \"Self Service_SAN\", \"srnumber\": 53}, {\"createddate\": \"2018-01-31T00:00:00\", \"createdbyuserorganization\": \"BOS\", \"srnumber\": 321}, {\"createddate\": \"2018-01-31T00:00:00\", \"createdbyuserorganization\": \"BSS\", \"srnumber\": 26}, {\"createddate\": \"2018-01-31T00:00:00\", \"createdbyuserorganization\": \"Council's Office\", \"srnumber\": 7}, {\"createddate\": \"2018-01-31T00:00:00\", \"createdbyuserorganization\": \"ITA\", \"srnumber\": 308}, {\"createddate\": \"2018-01-31T00:00:00\", \"createdbyuserorganization\": \"Proactive Insert\", \"srnumber\": 1}, {\"createddate\": \"2018-01-31T00:00:00\", \"createdbyuserorganization\": \"Self Service\", \"srnumber\": 1501}, {\"createddate\": \"2018-01-31T00:00:00\", \"createdbyuserorganization\": \"Self Service_SAN\", \"srnumber\": 64}, {\"createddate\": \"2018-02-28T00:00:00\", \"createdbyuserorganization\": \"BOS\", \"srnumber\": 274}, {\"createddate\": \"2018-02-28T00:00:00\", \"createdbyuserorganization\": \"BSS\", \"srnumber\": 30}, {\"createddate\": \"2018-02-28T00:00:00\", \"createdbyuserorganization\": \"Council's Office\", \"srnumber\": 6}, {\"createddate\": \"2018-02-28T00:00:00\", \"createdbyuserorganization\": \"ITA\", \"srnumber\": 226}, {\"createddate\": \"2018-02-28T00:00:00\", \"createdbyuserorganization\": \"Self Service\", \"srnumber\": 1166}, {\"createddate\": \"2018-02-28T00:00:00\", \"createdbyuserorganization\": \"Self Service_SAN\", \"srnumber\": 43}, {\"createddate\": \"2018-03-31T00:00:00\", \"createdbyuserorganization\": \"BOS\", \"srnumber\": 280}, {\"createddate\": \"2018-03-31T00:00:00\", \"createdbyuserorganization\": \"BSS\", \"srnumber\": 52}, {\"createddate\": \"2018-03-31T00:00:00\", \"createdbyuserorganization\": \"Council's Office\", \"srnumber\": 5}, {\"createddate\": \"2018-03-31T00:00:00\", \"createdbyuserorganization\": \"ITA\", \"srnumber\": 243}, {\"createddate\": \"2018-03-31T00:00:00\", \"createdbyuserorganization\": \"Proactive Insert\", \"srnumber\": 1}, {\"createddate\": \"2018-03-31T00:00:00\", \"createdbyuserorganization\": \"Self Service\", \"srnumber\": 1551}, {\"createddate\": \"2018-03-31T00:00:00\", \"createdbyuserorganization\": \"Self Service_SAN\", \"srnumber\": 59}, {\"createddate\": \"2018-04-30T00:00:00\", \"createdbyuserorganization\": \"BOS\", \"srnumber\": 350}, {\"createddate\": \"2018-04-30T00:00:00\", \"createdbyuserorganization\": \"BSS\", \"srnumber\": 58}, {\"createddate\": \"2018-04-30T00:00:00\", \"createdbyuserorganization\": \"Council's Office\", \"srnumber\": 5}, {\"createddate\": \"2018-04-30T00:00:00\", \"createdbyuserorganization\": \"ITA\", \"srnumber\": 269}, {\"createddate\": \"2018-04-30T00:00:00\", \"createdbyuserorganization\": \"Proactive Insert\", \"srnumber\": 6}, {\"createddate\": \"2018-04-30T00:00:00\", \"createdbyuserorganization\": \"Self Service\", \"srnumber\": 1573}, {\"createddate\": \"2018-04-30T00:00:00\", \"createdbyuserorganization\": \"Self Service_SAN\", \"srnumber\": 64}, {\"createddate\": \"2018-05-31T00:00:00\", \"createdbyuserorganization\": \"BOS\", \"srnumber\": 350}, {\"createddate\": \"2018-05-31T00:00:00\", \"createdbyuserorganization\": \"BSS\", \"srnumber\": 60}, {\"createddate\": \"2018-05-31T00:00:00\", \"createdbyuserorganization\": \"Council's Office\", \"srnumber\": 11}, {\"createddate\": \"2018-05-31T00:00:00\", \"createdbyuserorganization\": \"ITA\", \"srnumber\": 302}, {\"createddate\": \"2018-05-31T00:00:00\", \"createdbyuserorganization\": \"Proactive Insert\", \"srnumber\": 3}, {\"createddate\": \"2018-05-31T00:00:00\", \"createdbyuserorganization\": \"Self Service\", \"srnumber\": 1806}, {\"createddate\": \"2018-05-31T00:00:00\", \"createdbyuserorganization\": \"Self Service_SAN\", \"srnumber\": 80}, {\"createddate\": \"2018-06-30T00:00:00\", \"createdbyuserorganization\": \"BOS\", \"srnumber\": 389}, {\"createddate\": \"2018-06-30T00:00:00\", \"createdbyuserorganization\": \"BSS\", \"srnumber\": 41}, {\"createddate\": \"2018-06-30T00:00:00\", \"createdbyuserorganization\": \"Council's Office\", \"srnumber\": 9}, {\"createddate\": \"2018-06-30T00:00:00\", \"createdbyuserorganization\": \"ITA\", \"srnumber\": 326}, {\"createddate\": \"2018-06-30T00:00:00\", \"createdbyuserorganization\": \"Proactive Insert\", \"srnumber\": 3}, {\"createddate\": \"2018-06-30T00:00:00\", \"createdbyuserorganization\": \"Self Service\", \"srnumber\": 1865}, {\"createddate\": \"2018-06-30T00:00:00\", \"createdbyuserorganization\": \"Self Service_SAN\", \"srnumber\": 117}, {\"createddate\": \"2018-07-31T00:00:00\", \"createdbyuserorganization\": \"BOS\", \"srnumber\": 395}, {\"createddate\": \"2018-07-31T00:00:00\", \"createdbyuserorganization\": \"BSS\", \"srnumber\": 64}, {\"createddate\": \"2018-07-31T00:00:00\", \"createdbyuserorganization\": \"Council's Office\", \"srnumber\": 10}, {\"createddate\": \"2018-07-31T00:00:00\", \"createdbyuserorganization\": \"ITA\", \"srnumber\": 344}, {\"createddate\": \"2018-07-31T00:00:00\", \"createdbyuserorganization\": \"Proactive Insert\", \"srnumber\": 21}, {\"createddate\": \"2018-07-31T00:00:00\", \"createdbyuserorganization\": \"Self Service\", \"srnumber\": 1600}, {\"createddate\": \"2018-07-31T00:00:00\", \"createdbyuserorganization\": \"Self Service_SAN\", \"srnumber\": 136}, {\"createddate\": \"2018-08-31T00:00:00\", \"createdbyuserorganization\": \"BOS\", \"srnumber\": 376}, {\"createddate\": \"2018-08-31T00:00:00\", \"createdbyuserorganization\": \"BSS\", \"srnumber\": 56}, {\"createddate\": \"2018-08-31T00:00:00\", \"createdbyuserorganization\": \"Council's Office\", \"srnumber\": 10}, {\"createddate\": \"2018-08-31T00:00:00\", \"createdbyuserorganization\": \"ITA\", \"srnumber\": 310}, {\"createddate\": \"2018-08-31T00:00:00\", \"createdbyuserorganization\": \"Proactive Insert\", \"srnumber\": 14}, {\"createddate\": \"2018-08-31T00:00:00\", \"createdbyuserorganization\": \"Self Service\", \"srnumber\": 1870}, {\"createddate\": \"2018-08-31T00:00:00\", \"createdbyuserorganization\": \"Self Service_SAN\", \"srnumber\": 114}, {\"createddate\": \"2018-09-30T00:00:00\", \"createdbyuserorganization\": \"BOS\", \"srnumber\": 366}, {\"createddate\": \"2018-09-30T00:00:00\", \"createdbyuserorganization\": \"BSS\", \"srnumber\": 49}, {\"createddate\": \"2018-09-30T00:00:00\", \"createdbyuserorganization\": \"Council's Office\", \"srnumber\": 8}, {\"createddate\": \"2018-09-30T00:00:00\", \"createdbyuserorganization\": \"ITA\", \"srnumber\": 296}, {\"createddate\": \"2018-09-30T00:00:00\", \"createdbyuserorganization\": \"Proactive Insert\", \"srnumber\": 5}, {\"createddate\": \"2018-09-30T00:00:00\", \"createdbyuserorganization\": \"Self Service\", \"srnumber\": 1706}, {\"createddate\": \"2018-09-30T00:00:00\", \"createdbyuserorganization\": \"Self Service_SAN\", \"srnumber\": 121}, {\"createddate\": \"2018-10-31T00:00:00\", \"createdbyuserorganization\": \"BOS\", \"srnumber\": 477}, {\"createddate\": \"2018-10-31T00:00:00\", \"createdbyuserorganization\": \"BSS\", \"srnumber\": 49}, {\"createddate\": \"2018-10-31T00:00:00\", \"createdbyuserorganization\": \"Council's Office\", \"srnumber\": 15}, {\"createddate\": \"2018-10-31T00:00:00\", \"createdbyuserorganization\": \"ITA\", \"srnumber\": 379}, {\"createddate\": \"2018-10-31T00:00:00\", \"createdbyuserorganization\": \"Proactive Insert\", \"srnumber\": 1}, {\"createddate\": \"2018-10-31T00:00:00\", \"createdbyuserorganization\": \"Self Service\", \"srnumber\": 2308}, {\"createddate\": \"2018-10-31T00:00:00\", \"createdbyuserorganization\": \"Self Service_SAN\", \"srnumber\": 188}, {\"createddate\": \"2018-11-30T00:00:00\", \"createdbyuserorganization\": \"BOS\", \"srnumber\": 380}, {\"createddate\": \"2018-11-30T00:00:00\", \"createdbyuserorganization\": \"BSS\", \"srnumber\": 41}, {\"createddate\": \"2018-11-30T00:00:00\", \"createdbyuserorganization\": \"Council's Office\", \"srnumber\": 16}, {\"createddate\": \"2018-11-30T00:00:00\", \"createdbyuserorganization\": \"ITA\", \"srnumber\": 338}, {\"createddate\": \"2018-11-30T00:00:00\", \"createdbyuserorganization\": \"Self Service\", \"srnumber\": 1783}, {\"createddate\": \"2018-11-30T00:00:00\", \"createdbyuserorganization\": \"Self Service_SAN\", \"srnumber\": 81}, {\"createddate\": \"2018-12-31T00:00:00\", \"createdbyuserorganization\": \"BOS\", \"srnumber\": 286}, {\"createddate\": \"2018-12-31T00:00:00\", \"createdbyuserorganization\": \"BSS\", \"srnumber\": 31}, {\"createddate\": \"2018-12-31T00:00:00\", \"createdbyuserorganization\": \"Council's Office\", \"srnumber\": 12}, {\"createddate\": \"2018-12-31T00:00:00\", \"createdbyuserorganization\": \"ITA\", \"srnumber\": 303}, {\"createddate\": \"2018-12-31T00:00:00\", \"createdbyuserorganization\": \"Proactive Insert\", \"srnumber\": 3}, {\"createddate\": \"2018-12-31T00:00:00\", \"createdbyuserorganization\": \"Self Service\", \"srnumber\": 1780}, {\"createddate\": \"2018-12-31T00:00:00\", \"createdbyuserorganization\": \"Self Service_SAN\", \"srnumber\": 69}, {\"createddate\": \"2019-01-31T00:00:00\", \"createdbyuserorganization\": \"BOS\", \"srnumber\": 364}, {\"createddate\": \"2019-01-31T00:00:00\", \"createdbyuserorganization\": \"BSS\", \"srnumber\": 26}, {\"createddate\": \"2019-01-31T00:00:00\", \"createdbyuserorganization\": \"Council's Office\", \"srnumber\": 19}, {\"createddate\": \"2019-01-31T00:00:00\", \"createdbyuserorganization\": \"ITA\", \"srnumber\": 372}, {\"createddate\": \"2019-01-31T00:00:00\", \"createdbyuserorganization\": \"Proactive Insert\", \"srnumber\": 4}, {\"createddate\": \"2019-01-31T00:00:00\", \"createdbyuserorganization\": \"Self Service\", \"srnumber\": 2071}, {\"createddate\": \"2019-01-31T00:00:00\", \"createdbyuserorganization\": \"Self Service_SAN\", \"srnumber\": 55}, {\"createddate\": \"2019-02-28T00:00:00\", \"createdbyuserorganization\": \"BOS\", \"srnumber\": 280}, {\"createddate\": \"2019-02-28T00:00:00\", \"createdbyuserorganization\": \"BSS\", \"srnumber\": 22}, {\"createddate\": \"2019-02-28T00:00:00\", \"createdbyuserorganization\": \"Council's Office\", \"srnumber\": 6}, {\"createddate\": \"2019-02-28T00:00:00\", \"createdbyuserorganization\": \"ITA\", \"srnumber\": 286}, {\"createddate\": \"2019-02-28T00:00:00\", \"createdbyuserorganization\": \"Self Service\", \"srnumber\": 1672}, {\"createddate\": \"2019-02-28T00:00:00\", \"createdbyuserorganization\": \"Self Service_SAN\", \"srnumber\": 31}, {\"createddate\": \"2019-03-31T00:00:00\", \"createdbyuserorganization\": \"BOS\", \"srnumber\": 321}, {\"createddate\": \"2019-03-31T00:00:00\", \"createdbyuserorganization\": \"BSS\", \"srnumber\": 32}, {\"createddate\": \"2019-03-31T00:00:00\", \"createdbyuserorganization\": \"Council's Office\", \"srnumber\": 11}, {\"createddate\": \"2019-03-31T00:00:00\", \"createdbyuserorganization\": \"ITA\", \"srnumber\": 335}, {\"createddate\": \"2019-03-31T00:00:00\", \"createdbyuserorganization\": \"Self Service\", \"srnumber\": 2111}, {\"createddate\": \"2019-03-31T00:00:00\", \"createdbyuserorganization\": \"Self Service_SAN\", \"srnumber\": 64}, {\"createddate\": \"2019-04-30T00:00:00\", \"createdbyuserorganization\": \"BOS\", \"srnumber\": 390}, {\"createddate\": \"2019-04-30T00:00:00\", \"createdbyuserorganization\": \"BSS\", \"srnumber\": 28}, {\"createddate\": \"2019-04-30T00:00:00\", \"createdbyuserorganization\": \"Council's Office\", \"srnumber\": 9}, {\"createddate\": \"2019-04-30T00:00:00\", \"createdbyuserorganization\": \"ITA\", \"srnumber\": 420}, {\"createddate\": \"2019-04-30T00:00:00\", \"createdbyuserorganization\": \"Proactive Insert\", \"srnumber\": 5}, {\"createddate\": \"2019-04-30T00:00:00\", \"createdbyuserorganization\": \"Self Service\", \"srnumber\": 2358}, {\"createddate\": \"2019-04-30T00:00:00\", \"createdbyuserorganization\": \"Self Service_SAN\", \"srnumber\": 73}, {\"createddate\": \"2019-05-31T00:00:00\", \"createdbyuserorganization\": \"BOS\", \"srnumber\": 363}, {\"createddate\": \"2019-05-31T00:00:00\", \"createdbyuserorganization\": \"BSS\", \"srnumber\": 30}, {\"createddate\": \"2019-05-31T00:00:00\", \"createdbyuserorganization\": \"Council's Office\", \"srnumber\": 22}, {\"createddate\": \"2019-05-31T00:00:00\", \"createdbyuserorganization\": \"ITA\", \"srnumber\": 365}, {\"createddate\": \"2019-05-31T00:00:00\", \"createdbyuserorganization\": \"Proactive Insert\", \"srnumber\": 3}, {\"createddate\": \"2019-05-31T00:00:00\", \"createdbyuserorganization\": \"Self Service\", \"srnumber\": 2670}, {\"createddate\": \"2019-05-31T00:00:00\", \"createdbyuserorganization\": \"Self Service_SAN\", \"srnumber\": 62}, {\"createddate\": \"2019-06-30T00:00:00\", \"createdbyuserorganization\": \"BOS\", \"srnumber\": 423}, {\"createddate\": \"2019-06-30T00:00:00\", \"createdbyuserorganization\": \"BSS\", \"srnumber\": 21}, {\"createddate\": \"2019-06-30T00:00:00\", \"createdbyuserorganization\": \"Council's Office\", \"srnumber\": 18}, {\"createddate\": \"2019-06-30T00:00:00\", \"createdbyuserorganization\": \"ITA\", \"srnumber\": 434}, {\"createddate\": \"2019-06-30T00:00:00\", \"createdbyuserorganization\": \"Proactive Insert\", \"srnumber\": 4}, {\"createddate\": \"2019-06-30T00:00:00\", \"createdbyuserorganization\": \"Self Service\", \"srnumber\": 2824}, {\"createddate\": \"2019-06-30T00:00:00\", \"createdbyuserorganization\": \"Self Service_SAN\", \"srnumber\": 55}, {\"createddate\": \"2019-07-31T00:00:00\", \"createdbyuserorganization\": \"BOS\", \"srnumber\": 460}, {\"createddate\": \"2019-07-31T00:00:00\", \"createdbyuserorganization\": \"BSS\", \"srnumber\": 7}, {\"createddate\": \"2019-07-31T00:00:00\", \"createdbyuserorganization\": \"Council's Office\", \"srnumber\": 16}, {\"createddate\": \"2019-07-31T00:00:00\", \"createdbyuserorganization\": \"ITA\", \"srnumber\": 479}, {\"createddate\": \"2019-07-31T00:00:00\", \"createdbyuserorganization\": \"Proactive Insert\", \"srnumber\": 5}, {\"createddate\": \"2019-07-31T00:00:00\", \"createdbyuserorganization\": \"Self Service\", \"srnumber\": 2813}, {\"createddate\": \"2019-07-31T00:00:00\", \"createdbyuserorganization\": \"Self Service_SAN\", \"srnumber\": 56}, {\"createddate\": \"2019-08-31T00:00:00\", \"createdbyuserorganization\": \"BOS\", \"srnumber\": 344}, {\"createddate\": \"2019-08-31T00:00:00\", \"createdbyuserorganization\": \"BSS\", \"srnumber\": 8}, {\"createddate\": \"2019-08-31T00:00:00\", \"createdbyuserorganization\": \"Council's Office\", \"srnumber\": 13}, {\"createddate\": \"2019-08-31T00:00:00\", \"createdbyuserorganization\": \"ITA\", \"srnumber\": 444}, {\"createddate\": \"2019-08-31T00:00:00\", \"createdbyuserorganization\": \"Proactive Insert\", \"srnumber\": 7}, {\"createddate\": \"2019-08-31T00:00:00\", \"createdbyuserorganization\": \"Self Service\", \"srnumber\": 2742}, {\"createddate\": \"2019-08-31T00:00:00\", \"createdbyuserorganization\": \"Self Service_SAN\", \"srnumber\": 48}, {\"createddate\": \"2019-09-30T00:00:00\", \"createdbyuserorganization\": \"BOS\", \"srnumber\": 418}, {\"createddate\": \"2019-09-30T00:00:00\", \"createdbyuserorganization\": \"BSS\", \"srnumber\": 17}, {\"createddate\": \"2019-09-30T00:00:00\", \"createdbyuserorganization\": \"Council's Office\", \"srnumber\": 11}, {\"createddate\": \"2019-09-30T00:00:00\", \"createdbyuserorganization\": \"ITA\", \"srnumber\": 420}, {\"createddate\": \"2019-09-30T00:00:00\", \"createdbyuserorganization\": \"Proactive Insert\", \"srnumber\": 8}, {\"createddate\": \"2019-09-30T00:00:00\", \"createdbyuserorganization\": \"Self Service\", \"srnumber\": 2732}, {\"createddate\": \"2019-09-30T00:00:00\", \"createdbyuserorganization\": \"Self Service_SAN\", \"srnumber\": 57}, {\"createddate\": \"2019-10-31T00:00:00\", \"createdbyuserorganization\": \"BOS\", \"srnumber\": 609}, {\"createddate\": \"2019-10-31T00:00:00\", \"createdbyuserorganization\": \"BSS\", \"srnumber\": 12}, {\"createddate\": \"2019-10-31T00:00:00\", \"createdbyuserorganization\": \"Council's Office\", \"srnumber\": 20}, {\"createddate\": \"2019-10-31T00:00:00\", \"createdbyuserorganization\": \"ITA\", \"srnumber\": 431}, {\"createddate\": \"2019-10-31T00:00:00\", \"createdbyuserorganization\": \"Self Service\", \"srnumber\": 3104}, {\"createddate\": \"2019-10-31T00:00:00\", \"createdbyuserorganization\": \"Self Service_SAN\", \"srnumber\": 76}, {\"createddate\": \"2019-11-30T00:00:00\", \"createdbyuserorganization\": \"BOS\", \"srnumber\": 402}, {\"createddate\": \"2019-11-30T00:00:00\", \"createdbyuserorganization\": \"BSS\", \"srnumber\": 9}, {\"createddate\": \"2019-11-30T00:00:00\", \"createdbyuserorganization\": \"Council's Office\", \"srnumber\": 14}, {\"createddate\": \"2019-11-30T00:00:00\", \"createdbyuserorganization\": \"ITA\", \"srnumber\": 403}, {\"createddate\": \"2019-11-30T00:00:00\", \"createdbyuserorganization\": \"Proactive Insert\", \"srnumber\": 9}, {\"createddate\": \"2019-11-30T00:00:00\", \"createdbyuserorganization\": \"Self Service\", \"srnumber\": 2784}, {\"createddate\": \"2019-11-30T00:00:00\", \"createdbyuserorganization\": \"Self Service_SAN\", \"srnumber\": 46}, {\"createddate\": \"2019-12-31T00:00:00\", \"createdbyuserorganization\": \"BOS\", \"srnumber\": 435}, {\"createddate\": \"2019-12-31T00:00:00\", \"createdbyuserorganization\": \"BSS\", \"srnumber\": 12}, {\"createddate\": \"2019-12-31T00:00:00\", \"createdbyuserorganization\": \"Council's Office\", \"srnumber\": 17}, {\"createddate\": \"2019-12-31T00:00:00\", \"createdbyuserorganization\": \"ITA\", \"srnumber\": 359}, {\"createddate\": \"2019-12-31T00:00:00\", \"createdbyuserorganization\": \"Proactive Insert\", \"srnumber\": 4}, {\"createddate\": \"2019-12-31T00:00:00\", \"createdbyuserorganization\": \"Self Service\", \"srnumber\": 3015}, {\"createddate\": \"2019-12-31T00:00:00\", \"createdbyuserorganization\": \"Self Service_SAN\", \"srnumber\": 52}, {\"createddate\": \"2020-01-31T00:00:00\", \"createdbyuserorganization\": \"BOS\", \"srnumber\": 359}, {\"createddate\": \"2020-01-31T00:00:00\", \"createdbyuserorganization\": \"BSS\", \"srnumber\": 6}, {\"createddate\": \"2020-01-31T00:00:00\", \"createdbyuserorganization\": \"Council's Office\", \"srnumber\": 12}, {\"createddate\": \"2020-01-31T00:00:00\", \"createdbyuserorganization\": \"ITA\", \"srnumber\": 264}, {\"createddate\": \"2020-01-31T00:00:00\", \"createdbyuserorganization\": \"Proactive Insert\", \"srnumber\": 9}, {\"createddate\": \"2020-01-31T00:00:00\", \"createdbyuserorganization\": \"Self Service\", \"srnumber\": 2260}, {\"createddate\": \"2020-01-31T00:00:00\", \"createdbyuserorganization\": \"Self Service_SAN\", \"srnumber\": 39}]}}, {\"mode\": \"vega-lite\"});\n",
       "</script>"
      ],
      "text/plain": [
       "alt.Chart(...)"
      ]
     },
     "execution_count": 104,
     "metadata": {},
     "output_type": "execute_result"
    }
   ],
   "source": [
    "# df = df.set_index('createddate')\n",
    "source = pd.DataFrame(df.groupby([pd.Grouper(freq='M'), 'createdbyuserorganization']).count()['srnumber'])\n",
    "chart = alt.Chart(source.reset_index()).mark_bar().encode(\n",
    "    x = alt.X('createddate:O'),\n",
    "    y= alt.Y('sum(srnumber)'),\n",
    "    color='createdbyuserorganization'\n",
    ").properties(\n",
    "    title='Number of Homelessness Encampment SRs created by Month'\n",
    ")\n",
    "\n",
    "chart.encoding.y.title = 'Number of SR Encampments'\n",
    "chart.encoding.x.title = 'Month'\n",
    "chart"
   ]
  },
  {
   "cell_type": "code",
   "execution_count": 12,
   "metadata": {},
   "outputs": [],
   "source": [
    "tracts = catalog.census_tracts_with_pop.read()"
   ]
  },
  {
   "cell_type": "code",
   "execution_count": 13,
   "metadata": {},
   "outputs": [
    {
     "name": "stdout",
     "output_type": "stream",
     "text": [
      "length of DF with no nulls is 105032\n"
     ]
    }
   ],
   "source": [
    "df = df[~df.geometry.isnull()]\n",
    "print(f\"length of DF with no nulls is {len(df)}\")\n",
    "df = df.to_crs(epsg=2229)"
   ]
  },
  {
   "cell_type": "code",
   "execution_count": 14,
   "metadata": {},
   "outputs": [
    {
     "name": "stderr",
     "output_type": "stream",
     "text": [
      "/opt/conda/lib/python3.7/site-packages/geopandas/tools/sjoin.py:61: UserWarning: CRS of frames being joined does not match!({'init': 'epsg:2229', 'no_defs': True} != {'init': 'epsg:2229'})\n",
      "  \"(%s != %s)\" % (left_df.crs, right_df.crs)\n"
     ]
    },
    {
     "name": "stdout",
     "output_type": "stream",
     "text": [
      "length of merged df is 104778\n"
     ]
    }
   ],
   "source": [
    "merged = gpd.sjoin(df, tracts, how=\"inner\", op='intersects')\n",
    "print(f'length of merged df is {len(merged)}')"
   ]
  },
  {
   "cell_type": "markdown",
   "metadata": {},
   "source": [
    "# Analysis \n",
    "* now that the dataset is merged, we want to calculate how long it takes for a ticket, on average, to get opened up again in the same tract\n",
    "* There are two metrics we want to track here 1) `closed->next closure` and then `closed->next opened` "
   ]
  },
  {
   "cell_type": "code",
   "execution_count": 197,
   "metadata": {},
   "outputs": [],
   "source": [
    "## closed to next closure\n",
    "# drop computed column if exists \n",
    "if 'closed2closed' in merged:\n",
    "    merged = merged.drop('closed2closed', axis =1)\n",
    "\n",
    "def compute_stat(group):\n",
    "    \"\"\"\n",
    "    return the series and use in the apply \n",
    "    \"\"\"\n",
    "    return group.index.to_series().diff(periods=-1)\n",
    "    \n",
    "grouped = merged.sort_values('closeddate', ascending=True).set_index('closeddate').groupby('GEOID10', as_index=\"False\")\n",
    "\n",
    "s = pd.Series(grouped.apply(compute_stat))\n",
    "s = abs(s)"
   ]
  },
  {
   "cell_type": "code",
   "execution_count": null,
   "metadata": {},
   "outputs": [],
   "source": [
    "# print per tract mean / median \n",
    "print(len(grouped))\n",
    "print(grouped.srnumber.count().mean()\n",
    "grouped.srnumber.count().median()"
   ]
  },
  {
   "cell_type": "code",
   "execution_count": 198,
   "metadata": {},
   "outputs": [
    {
     "ename": "ValueError",
     "evalue": "cannot insert closeddate, already exists",
     "output_type": "error",
     "traceback": [
      "\u001b[0;31m---------------------------------------------------------------------------\u001b[0m",
      "\u001b[0;31mValueError\u001b[0m                                Traceback (most recent call last)",
      "\u001b[0;32m<ipython-input-198-a81c56537fa2>\u001b[0m in \u001b[0;36m<module>\u001b[0;34m\u001b[0m\n\u001b[0;32m----> 1\u001b[0;31m \u001b[0mclosed2closed\u001b[0m \u001b[0;34m=\u001b[0m \u001b[0ms\u001b[0m\u001b[0;34m.\u001b[0m\u001b[0mreset_index\u001b[0m\u001b[0;34m(\u001b[0m\u001b[0;34m)\u001b[0m\u001b[0;34m.\u001b[0m\u001b[0mrename\u001b[0m\u001b[0;34m(\u001b[0m\u001b[0;34m{\u001b[0m\u001b[0;34m'level_1'\u001b[0m\u001b[0;34m:\u001b[0m \u001b[0;34m'closeddate'\u001b[0m\u001b[0;34m,\u001b[0m \u001b[0;36m0\u001b[0m\u001b[0;34m:\u001b[0m \u001b[0;34m'closed2closed'\u001b[0m\u001b[0;34m}\u001b[0m\u001b[0;34m,\u001b[0m \u001b[0maxis\u001b[0m\u001b[0;34m=\u001b[0m\u001b[0;36m1\u001b[0m\u001b[0;34m)\u001b[0m\u001b[0;34m\u001b[0m\u001b[0;34m\u001b[0m\u001b[0m\n\u001b[0m",
      "\u001b[0;32m/opt/conda/lib/python3.7/site-packages/pandas/core/series.py\u001b[0m in \u001b[0;36mreset_index\u001b[0;34m(self, level, drop, name, inplace)\u001b[0m\n\u001b[1;32m   1587\u001b[0m         \u001b[0;32melse\u001b[0m\u001b[0;34m:\u001b[0m\u001b[0;34m\u001b[0m\u001b[0;34m\u001b[0m\u001b[0m\n\u001b[1;32m   1588\u001b[0m             \u001b[0mdf\u001b[0m \u001b[0;34m=\u001b[0m \u001b[0mself\u001b[0m\u001b[0;34m.\u001b[0m\u001b[0mto_frame\u001b[0m\u001b[0;34m(\u001b[0m\u001b[0mname\u001b[0m\u001b[0;34m)\u001b[0m\u001b[0;34m\u001b[0m\u001b[0;34m\u001b[0m\u001b[0m\n\u001b[0;32m-> 1589\u001b[0;31m             \u001b[0;32mreturn\u001b[0m \u001b[0mdf\u001b[0m\u001b[0;34m.\u001b[0m\u001b[0mreset_index\u001b[0m\u001b[0;34m(\u001b[0m\u001b[0mlevel\u001b[0m\u001b[0;34m=\u001b[0m\u001b[0mlevel\u001b[0m\u001b[0;34m,\u001b[0m \u001b[0mdrop\u001b[0m\u001b[0;34m=\u001b[0m\u001b[0mdrop\u001b[0m\u001b[0;34m)\u001b[0m\u001b[0;34m\u001b[0m\u001b[0;34m\u001b[0m\u001b[0m\n\u001b[0m\u001b[1;32m   1590\u001b[0m \u001b[0;34m\u001b[0m\u001b[0m\n\u001b[1;32m   1591\u001b[0m     \u001b[0;31m# ----------------------------------------------------------------------\u001b[0m\u001b[0;34m\u001b[0m\u001b[0;34m\u001b[0m\u001b[0;34m\u001b[0m\u001b[0m\n",
      "\u001b[0;32m/opt/conda/lib/python3.7/site-packages/pandas/core/frame.py\u001b[0m in \u001b[0;36mreset_index\u001b[0;34m(self, level, drop, inplace, col_level, col_fill)\u001b[0m\n\u001b[1;32m   4707\u001b[0m                 \u001b[0;31m# to ndarray and maybe infer different dtype\u001b[0m\u001b[0;34m\u001b[0m\u001b[0;34m\u001b[0m\u001b[0;34m\u001b[0m\u001b[0m\n\u001b[1;32m   4708\u001b[0m                 \u001b[0mlevel_values\u001b[0m \u001b[0;34m=\u001b[0m \u001b[0m_maybe_casted_values\u001b[0m\u001b[0;34m(\u001b[0m\u001b[0mlev\u001b[0m\u001b[0;34m,\u001b[0m \u001b[0mlab\u001b[0m\u001b[0;34m)\u001b[0m\u001b[0;34m\u001b[0m\u001b[0;34m\u001b[0m\u001b[0m\n\u001b[0;32m-> 4709\u001b[0;31m                 \u001b[0mnew_obj\u001b[0m\u001b[0;34m.\u001b[0m\u001b[0minsert\u001b[0m\u001b[0;34m(\u001b[0m\u001b[0;36m0\u001b[0m\u001b[0;34m,\u001b[0m \u001b[0mname\u001b[0m\u001b[0;34m,\u001b[0m \u001b[0mlevel_values\u001b[0m\u001b[0;34m)\u001b[0m\u001b[0;34m\u001b[0m\u001b[0;34m\u001b[0m\u001b[0m\n\u001b[0m\u001b[1;32m   4710\u001b[0m \u001b[0;34m\u001b[0m\u001b[0m\n\u001b[1;32m   4711\u001b[0m         \u001b[0mnew_obj\u001b[0m\u001b[0;34m.\u001b[0m\u001b[0mindex\u001b[0m \u001b[0;34m=\u001b[0m \u001b[0mnew_index\u001b[0m\u001b[0;34m\u001b[0m\u001b[0;34m\u001b[0m\u001b[0m\n",
      "\u001b[0;32m/opt/conda/lib/python3.7/site-packages/pandas/core/frame.py\u001b[0m in \u001b[0;36minsert\u001b[0;34m(self, loc, column, value, allow_duplicates)\u001b[0m\n\u001b[1;32m   3589\u001b[0m         \u001b[0mself\u001b[0m\u001b[0;34m.\u001b[0m\u001b[0m_ensure_valid_index\u001b[0m\u001b[0;34m(\u001b[0m\u001b[0mvalue\u001b[0m\u001b[0;34m)\u001b[0m\u001b[0;34m\u001b[0m\u001b[0;34m\u001b[0m\u001b[0m\n\u001b[1;32m   3590\u001b[0m         \u001b[0mvalue\u001b[0m \u001b[0;34m=\u001b[0m \u001b[0mself\u001b[0m\u001b[0;34m.\u001b[0m\u001b[0m_sanitize_column\u001b[0m\u001b[0;34m(\u001b[0m\u001b[0mcolumn\u001b[0m\u001b[0;34m,\u001b[0m \u001b[0mvalue\u001b[0m\u001b[0;34m,\u001b[0m \u001b[0mbroadcast\u001b[0m\u001b[0;34m=\u001b[0m\u001b[0;32mFalse\u001b[0m\u001b[0;34m)\u001b[0m\u001b[0;34m\u001b[0m\u001b[0;34m\u001b[0m\u001b[0m\n\u001b[0;32m-> 3591\u001b[0;31m         \u001b[0mself\u001b[0m\u001b[0;34m.\u001b[0m\u001b[0m_data\u001b[0m\u001b[0;34m.\u001b[0m\u001b[0minsert\u001b[0m\u001b[0;34m(\u001b[0m\u001b[0mloc\u001b[0m\u001b[0;34m,\u001b[0m \u001b[0mcolumn\u001b[0m\u001b[0;34m,\u001b[0m \u001b[0mvalue\u001b[0m\u001b[0;34m,\u001b[0m \u001b[0mallow_duplicates\u001b[0m\u001b[0;34m=\u001b[0m\u001b[0mallow_duplicates\u001b[0m\u001b[0;34m)\u001b[0m\u001b[0;34m\u001b[0m\u001b[0;34m\u001b[0m\u001b[0m\n\u001b[0m\u001b[1;32m   3592\u001b[0m \u001b[0;34m\u001b[0m\u001b[0m\n\u001b[1;32m   3593\u001b[0m     \u001b[0;32mdef\u001b[0m \u001b[0massign\u001b[0m\u001b[0;34m(\u001b[0m\u001b[0mself\u001b[0m\u001b[0;34m,\u001b[0m \u001b[0;34m**\u001b[0m\u001b[0mkwargs\u001b[0m\u001b[0;34m)\u001b[0m\u001b[0;34m:\u001b[0m\u001b[0;34m\u001b[0m\u001b[0;34m\u001b[0m\u001b[0m\n",
      "\u001b[0;32m/opt/conda/lib/python3.7/site-packages/pandas/core/internals/managers.py\u001b[0m in \u001b[0;36minsert\u001b[0;34m(self, loc, item, value, allow_duplicates)\u001b[0m\n\u001b[1;32m   1171\u001b[0m         \u001b[0;32mif\u001b[0m \u001b[0;32mnot\u001b[0m \u001b[0mallow_duplicates\u001b[0m \u001b[0;32mand\u001b[0m \u001b[0mitem\u001b[0m \u001b[0;32min\u001b[0m \u001b[0mself\u001b[0m\u001b[0;34m.\u001b[0m\u001b[0mitems\u001b[0m\u001b[0;34m:\u001b[0m\u001b[0;34m\u001b[0m\u001b[0;34m\u001b[0m\u001b[0m\n\u001b[1;32m   1172\u001b[0m             \u001b[0;31m# Should this be a different kind of error??\u001b[0m\u001b[0;34m\u001b[0m\u001b[0;34m\u001b[0m\u001b[0;34m\u001b[0m\u001b[0m\n\u001b[0;32m-> 1173\u001b[0;31m             \u001b[0;32mraise\u001b[0m \u001b[0mValueError\u001b[0m\u001b[0;34m(\u001b[0m\u001b[0;34m\"cannot insert {}, already exists\"\u001b[0m\u001b[0;34m.\u001b[0m\u001b[0mformat\u001b[0m\u001b[0;34m(\u001b[0m\u001b[0mitem\u001b[0m\u001b[0;34m)\u001b[0m\u001b[0;34m)\u001b[0m\u001b[0;34m\u001b[0m\u001b[0;34m\u001b[0m\u001b[0m\n\u001b[0m\u001b[1;32m   1174\u001b[0m \u001b[0;34m\u001b[0m\u001b[0m\n\u001b[1;32m   1175\u001b[0m         \u001b[0;32mif\u001b[0m \u001b[0;32mnot\u001b[0m \u001b[0misinstance\u001b[0m\u001b[0;34m(\u001b[0m\u001b[0mloc\u001b[0m\u001b[0;34m,\u001b[0m \u001b[0mint\u001b[0m\u001b[0;34m)\u001b[0m\u001b[0;34m:\u001b[0m\u001b[0;34m\u001b[0m\u001b[0;34m\u001b[0m\u001b[0m\n",
      "\u001b[0;31mValueError\u001b[0m: cannot insert closeddate, already exists"
     ]
    }
   ],
   "source": [
    "closed2closed = s.reset_index().rename({'level_1': 'closeddate', 0: 'closed2closed'}, axis=1)"
   ]
  },
  {
   "cell_type": "code",
   "execution_count": 17,
   "metadata": {},
   "outputs": [],
   "source": [
    "merged = merged.reset_index().rename({'level_0': 'closeddate'}, axis=1)"
   ]
  },
  {
   "cell_type": "code",
   "execution_count": 26,
   "metadata": {},
   "outputs": [],
   "source": [
    "# compute closed to next open \n",
    "\n",
    "raw_data = df.reset_index()\n",
    "def compute_next_open(row):\n",
    "    \"\"\"\n",
    "    For each row, find the next opened request in the df. \n",
    "    \"\"\"\n",
    "    date = row.loc['closeddate']\n",
    "    geoid = row.loc['GEOID10']\n",
    "    x = merged[(merged.createddate > date) & (merged.GEOID10 == geoid)]\n",
    "    next_date = x.createddate.min()\n",
    "    if next_date: \n",
    "        return next_date - date\n",
    "    else: \n",
    "        return None\n"
   ]
  },
  {
   "cell_type": "code",
   "execution_count": 27,
   "metadata": {},
   "outputs": [
    {
     "name": "stdout",
     "output_type": "stream",
     "text": [
      "5    07:24:41\n",
      "7    07:23:20\n",
      "11   07:22:49\n",
      "14   07:22:56\n",
      "15   07:23:54\n",
      "dtype: timedelta64[ns]\n"
     ]
    }
   ],
   "source": [
    "s = merged.dropna(subset=['closeddate']).apply(compute_next_open, axis=1)\n",
    "print(s.head())"
   ]
  },
  {
   "cell_type": "code",
   "execution_count": 28,
   "metadata": {},
   "outputs": [],
   "source": [
    "## closed to open\n",
    "# drop computed column if exists \n",
    "if 'closed2open' in merged:\n",
    "    merged = merged.drop('closed2open', axis =1)\n",
    "\n",
    "merged['closed2open'] = s"
   ]
  },
  {
   "cell_type": "code",
   "execution_count": 29,
   "metadata": {},
   "outputs": [
    {
     "name": "stdout",
     "output_type": "stream",
     "text": [
      "the average closed2open time is 17 days 00:15:57.376440\n",
      "the median closed2open time is 4 days 00:48:42.500000\n"
     ]
    }
   ],
   "source": [
    "print(f'the average closed2open time is {merged.closed2open.mean()}')\n",
    "print(f'the median closed2open time is {merged.closed2open.median()}')"
   ]
  },
  {
   "cell_type": "code",
   "execution_count": 30,
   "metadata": {},
   "outputs": [],
   "source": [
    "## closed to next closure\n",
    "# drop computed column if exists \n",
    "if 'closed2closed' in merged:\n",
    "    merged = merged.drop('closed2closed', axis =1)\n",
    "    \n",
    "merged = closed2closed.drop(['GEOID10', 'closeddate'], axis = 1).join(merged)"
   ]
  },
  {
   "cell_type": "code",
   "execution_count": 170,
   "metadata": {},
   "outputs": [
    {
     "name": "stdout",
     "output_type": "stream",
     "text": [
      "the mean between is 11 days 11:23:55.427348\n",
      "the median between is 0 days 00:00:16\n"
     ]
    }
   ],
   "source": [
    "print(f'the mean between is {merged.closed2closed.mean()}')\n",
    "print(f'the median between is {merged.closed2closed.median()}')"
   ]
  },
  {
   "cell_type": "markdown",
   "metadata": {},
   "source": [
    "## Maps / Stats"
   ]
  },
  {
   "cell_type": "code",
   "execution_count": null,
   "metadata": {},
   "outputs": [],
   "source": [
    "merged.groupby('GEOID10').describe()"
   ]
  },
  {
   "cell_type": "code",
   "execution_count": 132,
   "metadata": {},
   "outputs": [
    {
     "data": {
      "text/plain": [
       "createddate\n",
       "2015-08-31    0\n",
       "2015-09-30    0\n",
       "2015-10-31    0\n",
       "2015-11-30    0\n",
       "2015-12-31    0\n",
       "Freq: M, Name: closed2closed, dtype: int64"
      ]
     },
     "execution_count": 132,
     "metadata": {},
     "output_type": "execute_result"
    }
   ],
   "source": [
    "source = (merged.set_index('createddate')\n",
    "       .closed2closed\n",
    "       .dropna()\n",
    "       .dt.days\n",
    "       .resample('M')\n",
    "       .median()\n",
    ")\n",
    "source.head()"
   ]
  },
  {
   "cell_type": "code",
   "execution_count": 133,
   "metadata": {},
   "outputs": [
    {
     "data": {
      "text/plain": [
       "createddate\n",
       "2015-08-31    25\n",
       "2015-09-30    24\n",
       "2015-10-31    20\n",
       "2015-11-30    20\n",
       "2015-12-31    20\n",
       "Freq: M, Name: closed2open, dtype: int64"
      ]
     },
     "execution_count": 133,
     "metadata": {},
     "output_type": "execute_result"
    }
   ],
   "source": [
    "source2 = (merged.set_index('createddate')\n",
    "       .closed2open\n",
    "       .dropna()\n",
    "       .dt.days\n",
    "       .resample('M')\n",
    "       .median()\n",
    ")\n",
    "source2.head()"
   ]
  },
  {
   "cell_type": "code",
   "execution_count": 134,
   "metadata": {},
   "outputs": [],
   "source": [
    "df = pd.concat([source, source2], axis=1)"
   ]
  },
  {
   "cell_type": "code",
   "execution_count": 136,
   "metadata": {},
   "outputs": [
    {
     "data": {
      "text/html": [
       "<div>\n",
       "<style scoped>\n",
       "    .dataframe tbody tr th:only-of-type {\n",
       "        vertical-align: middle;\n",
       "    }\n",
       "\n",
       "    .dataframe tbody tr th {\n",
       "        vertical-align: top;\n",
       "    }\n",
       "\n",
       "    .dataframe thead th {\n",
       "        text-align: right;\n",
       "    }\n",
       "</style>\n",
       "<table border=\"1\" class=\"dataframe\">\n",
       "  <thead>\n",
       "    <tr style=\"text-align: right;\">\n",
       "      <th></th>\n",
       "      <th>createddate</th>\n",
       "      <th>level_1</th>\n",
       "      <th>variable</th>\n",
       "      <th>value</th>\n",
       "    </tr>\n",
       "  </thead>\n",
       "  <tbody>\n",
       "    <tr>\n",
       "      <th>1</th>\n",
       "      <td>2015-08-31</td>\n",
       "      <td>1</td>\n",
       "      <td>closed2closed</td>\n",
       "      <td>0</td>\n",
       "    </tr>\n",
       "    <tr>\n",
       "      <th>2</th>\n",
       "      <td>2015-08-31</td>\n",
       "      <td>2</td>\n",
       "      <td>closed2open</td>\n",
       "      <td>25</td>\n",
       "    </tr>\n",
       "    <tr>\n",
       "      <th>4</th>\n",
       "      <td>2015-09-30</td>\n",
       "      <td>1</td>\n",
       "      <td>closed2closed</td>\n",
       "      <td>0</td>\n",
       "    </tr>\n",
       "    <tr>\n",
       "      <th>5</th>\n",
       "      <td>2015-09-30</td>\n",
       "      <td>2</td>\n",
       "      <td>closed2open</td>\n",
       "      <td>24</td>\n",
       "    </tr>\n",
       "    <tr>\n",
       "      <th>7</th>\n",
       "      <td>2015-10-31</td>\n",
       "      <td>1</td>\n",
       "      <td>closed2closed</td>\n",
       "      <td>0</td>\n",
       "    </tr>\n",
       "    <tr>\n",
       "      <th>...</th>\n",
       "      <td>...</td>\n",
       "      <td>...</td>\n",
       "      <td>...</td>\n",
       "      <td>...</td>\n",
       "    </tr>\n",
       "    <tr>\n",
       "      <th>155</th>\n",
       "      <td>2019-11-30</td>\n",
       "      <td>2</td>\n",
       "      <td>closed2open</td>\n",
       "      <td>1</td>\n",
       "    </tr>\n",
       "    <tr>\n",
       "      <th>157</th>\n",
       "      <td>2019-12-31</td>\n",
       "      <td>1</td>\n",
       "      <td>closed2closed</td>\n",
       "      <td>0</td>\n",
       "    </tr>\n",
       "    <tr>\n",
       "      <th>158</th>\n",
       "      <td>2019-12-31</td>\n",
       "      <td>2</td>\n",
       "      <td>closed2open</td>\n",
       "      <td>1</td>\n",
       "    </tr>\n",
       "    <tr>\n",
       "      <th>160</th>\n",
       "      <td>2020-01-31</td>\n",
       "      <td>1</td>\n",
       "      <td>closed2closed</td>\n",
       "      <td>0</td>\n",
       "    </tr>\n",
       "    <tr>\n",
       "      <th>161</th>\n",
       "      <td>2020-01-31</td>\n",
       "      <td>2</td>\n",
       "      <td>closed2open</td>\n",
       "      <td>0</td>\n",
       "    </tr>\n",
       "  </tbody>\n",
       "</table>\n",
       "<p>108 rows × 4 columns</p>\n",
       "</div>"
      ],
      "text/plain": [
       "    createddate  level_1       variable value\n",
       "1    2015-08-31        1  closed2closed     0\n",
       "2    2015-08-31        2    closed2open    25\n",
       "4    2015-09-30        1  closed2closed     0\n",
       "5    2015-09-30        2    closed2open    24\n",
       "7    2015-10-31        1  closed2closed     0\n",
       "..          ...      ...            ...   ...\n",
       "155  2019-11-30        2    closed2open     1\n",
       "157  2019-12-31        1  closed2closed     0\n",
       "158  2019-12-31        2    closed2open     1\n",
       "160  2020-01-31        1  closed2closed     0\n",
       "161  2020-01-31        2    closed2open     0\n",
       "\n",
       "[108 rows x 4 columns]"
      ]
     },
     "execution_count": 136,
     "metadata": {},
     "output_type": "execute_result"
    }
   ],
   "source": [
    "reshaped = df.reset_index().groupby(['createddate']).apply(pd.melt).reset_index()\n",
    "reshaped = reshaped[reshaped.variable != 'createddate']\n",
    "reshaped"
   ]
  },
  {
   "cell_type": "code",
   "execution_count": 137,
   "metadata": {},
   "outputs": [
    {
     "data": {
      "text/html": [
       "\n",
       "<div id=\"altair-viz-14\"></div>\n",
       "<script type=\"text/javascript\">\n",
       "  (function(spec, embedOpt){\n",
       "    const outputDiv = document.getElementById(\"altair-viz-14\");\n",
       "    const paths = {\n",
       "      \"vega\": \"https://cdn.jsdelivr.net/npm//vega@5?noext\",\n",
       "      \"vega-lib\": \"https://cdn.jsdelivr.net/npm//vega-lib?noext\",\n",
       "      \"vega-lite\": \"https://cdn.jsdelivr.net/npm//vega-lite@4.0.0?noext\",\n",
       "      \"vega-embed\": \"https://cdn.jsdelivr.net/npm//vega-embed@6?noext\",\n",
       "    };\n",
       "\n",
       "    function loadScript(lib) {\n",
       "      return new Promise(function(resolve, reject) {\n",
       "        var s = document.createElement('script');\n",
       "        s.src = paths[lib];\n",
       "        s.async = true;\n",
       "        s.onload = () => resolve(paths[lib]);\n",
       "        s.onerror = () => reject(`Error loading script: ${paths[lib]}`);\n",
       "        document.getElementsByTagName(\"head\")[0].appendChild(s);\n",
       "      });\n",
       "    }\n",
       "\n",
       "    function showError(err) {\n",
       "      outputDiv.innerHTML = `<div class=\"error\" style=\"color:red;\">${err}</div>`;\n",
       "      throw err;\n",
       "    }\n",
       "\n",
       "    function displayChart(vegaEmbed) {\n",
       "      vegaEmbed(outputDiv, spec, embedOpt)\n",
       "        .catch(err => showError(`Javascript Error: ${err.message}<br>This usually means there's a typo in your chart specification. See the javascript console for the full traceback.`));\n",
       "    }\n",
       "\n",
       "    if(typeof define === \"function\" && define.amd) {\n",
       "      requirejs.config({paths});\n",
       "      require([\"vega-embed\"], displayChart, err => showError(`Error loading script: ${err.message}`));\n",
       "    } else if (typeof vegaEmbed === \"function\") {\n",
       "      displayChart(vegaEmbed);\n",
       "    } else {\n",
       "      loadScript(\"vega\")\n",
       "        .then(() => loadScript(\"vega-lite\"))\n",
       "        .then(() => loadScript(\"vega-embed\"))\n",
       "        .catch(showError)\n",
       "        .then(() => displayChart(vegaEmbed));\n",
       "    }\n",
       "  })({\"config\": {\"view\": {\"continuousWidth\": 400, \"continuousHeight\": 300}}, \"data\": {\"name\": \"data-3500603fa86d8439e7829a7aee8b0939\"}, \"mark\": \"line\", \"encoding\": {\"color\": {\"type\": \"nominal\", \"field\": \"variable\"}, \"x\": {\"type\": \"temporal\", \"axis\": {\"format\": \"%b %Y\", \"title\": \"Monthly Average\"}, \"field\": \"createddate\", \"title\": \"Monthly Average\"}, \"y\": {\"type\": \"quantitative\", \"field\": \"value\", \"title\": \"Days\"}}, \"title\": \"Key Metrics Over Time, Monthly Average\", \"$schema\": \"https://vega.github.io/schema/vega-lite/v4.0.0.json\", \"datasets\": {\"data-3500603fa86d8439e7829a7aee8b0939\": [{\"createddate\": \"2015-08-31T00:00:00\", \"level_1\": 1, \"variable\": \"closed2closed\", \"value\": 0}, {\"createddate\": \"2015-08-31T00:00:00\", \"level_1\": 2, \"variable\": \"closed2open\", \"value\": 25}, {\"createddate\": \"2015-09-30T00:00:00\", \"level_1\": 1, \"variable\": \"closed2closed\", \"value\": 0}, {\"createddate\": \"2015-09-30T00:00:00\", \"level_1\": 2, \"variable\": \"closed2open\", \"value\": 24}, {\"createddate\": \"2015-10-31T00:00:00\", \"level_1\": 1, \"variable\": \"closed2closed\", \"value\": 0}, {\"createddate\": \"2015-10-31T00:00:00\", \"level_1\": 2, \"variable\": \"closed2open\", \"value\": 20}, {\"createddate\": \"2015-11-30T00:00:00\", \"level_1\": 1, \"variable\": \"closed2closed\", \"value\": 0}, {\"createddate\": \"2015-11-30T00:00:00\", \"level_1\": 2, \"variable\": \"closed2open\", \"value\": 20}, {\"createddate\": \"2015-12-31T00:00:00\", \"level_1\": 1, \"variable\": \"closed2closed\", \"value\": 0}, {\"createddate\": \"2015-12-31T00:00:00\", \"level_1\": 2, \"variable\": \"closed2open\", \"value\": 20}, {\"createddate\": \"2016-01-31T00:00:00\", \"level_1\": 1, \"variable\": \"closed2closed\", \"value\": 0}, {\"createddate\": \"2016-01-31T00:00:00\", \"level_1\": 2, \"variable\": \"closed2open\", \"value\": 20}, {\"createddate\": \"2016-02-29T00:00:00\", \"level_1\": 1, \"variable\": \"closed2closed\", \"value\": 0}, {\"createddate\": \"2016-02-29T00:00:00\", \"level_1\": 2, \"variable\": \"closed2open\", \"value\": 12}, {\"createddate\": \"2016-03-31T00:00:00\", \"level_1\": 1, \"variable\": \"closed2closed\", \"value\": 0}, {\"createddate\": \"2016-03-31T00:00:00\", \"level_1\": 2, \"variable\": \"closed2open\", \"value\": 13}, {\"createddate\": \"2016-04-30T00:00:00\", \"level_1\": 1, \"variable\": \"closed2closed\", \"value\": 0}, {\"createddate\": \"2016-04-30T00:00:00\", \"level_1\": 2, \"variable\": \"closed2open\", \"value\": 9}, {\"createddate\": \"2016-05-31T00:00:00\", \"level_1\": 1, \"variable\": \"closed2closed\", \"value\": 0}, {\"createddate\": \"2016-05-31T00:00:00\", \"level_1\": 2, \"variable\": \"closed2open\", \"value\": 11}, {\"createddate\": \"2016-06-30T00:00:00\", \"level_1\": 1, \"variable\": \"closed2closed\", \"value\": 0}, {\"createddate\": \"2016-06-30T00:00:00\", \"level_1\": 2, \"variable\": \"closed2open\", \"value\": 8}, {\"createddate\": \"2016-07-31T00:00:00\", \"level_1\": 1, \"variable\": \"closed2closed\", \"value\": 0}, {\"createddate\": \"2016-07-31T00:00:00\", \"level_1\": 2, \"variable\": \"closed2open\", \"value\": 6}, {\"createddate\": \"2016-08-31T00:00:00\", \"level_1\": 1, \"variable\": \"closed2closed\", \"value\": 0}, {\"createddate\": \"2016-08-31T00:00:00\", \"level_1\": 2, \"variable\": \"closed2open\", \"value\": 6}, {\"createddate\": \"2016-09-30T00:00:00\", \"level_1\": 1, \"variable\": \"closed2closed\", \"value\": 0}, {\"createddate\": \"2016-09-30T00:00:00\", \"level_1\": 2, \"variable\": \"closed2open\", \"value\": 5}, {\"createddate\": \"2016-10-31T00:00:00\", \"level_1\": 1, \"variable\": \"closed2closed\", \"value\": 0}, {\"createddate\": \"2016-10-31T00:00:00\", \"level_1\": 2, \"variable\": \"closed2open\", \"value\": 6}, {\"createddate\": \"2016-11-30T00:00:00\", \"level_1\": 1, \"variable\": \"closed2closed\", \"value\": 0}, {\"createddate\": \"2016-11-30T00:00:00\", \"level_1\": 2, \"variable\": \"closed2open\", \"value\": 6}, {\"createddate\": \"2016-12-31T00:00:00\", \"level_1\": 1, \"variable\": \"closed2closed\", \"value\": 0}, {\"createddate\": \"2016-12-31T00:00:00\", \"level_1\": 2, \"variable\": \"closed2open\", \"value\": 8}, {\"createddate\": \"2017-01-31T00:00:00\", \"level_1\": 1, \"variable\": \"closed2closed\", \"value\": 0}, {\"createddate\": \"2017-01-31T00:00:00\", \"level_1\": 2, \"variable\": \"closed2open\", \"value\": 7}, {\"createddate\": \"2017-02-28T00:00:00\", \"level_1\": 1, \"variable\": \"closed2closed\", \"value\": 0}, {\"createddate\": \"2017-02-28T00:00:00\", \"level_1\": 2, \"variable\": \"closed2open\", \"value\": 6}, {\"createddate\": \"2017-03-31T00:00:00\", \"level_1\": 1, \"variable\": \"closed2closed\", \"value\": 0}, {\"createddate\": \"2017-03-31T00:00:00\", \"level_1\": 2, \"variable\": \"closed2open\", \"value\": 6}, {\"createddate\": \"2017-04-30T00:00:00\", \"level_1\": 1, \"variable\": \"closed2closed\", \"value\": 0}, {\"createddate\": \"2017-04-30T00:00:00\", \"level_1\": 2, \"variable\": \"closed2open\", \"value\": 6}, {\"createddate\": \"2017-05-31T00:00:00\", \"level_1\": 1, \"variable\": \"closed2closed\", \"value\": 0}, {\"createddate\": \"2017-05-31T00:00:00\", \"level_1\": 2, \"variable\": \"closed2open\", \"value\": 5}, {\"createddate\": \"2017-06-30T00:00:00\", \"level_1\": 1, \"variable\": \"closed2closed\", \"value\": 0}, {\"createddate\": \"2017-06-30T00:00:00\", \"level_1\": 2, \"variable\": \"closed2open\", \"value\": 5}, {\"createddate\": \"2017-07-31T00:00:00\", \"level_1\": 1, \"variable\": \"closed2closed\", \"value\": 0}, {\"createddate\": \"2017-07-31T00:00:00\", \"level_1\": 2, \"variable\": \"closed2open\", \"value\": 4}, {\"createddate\": \"2017-08-31T00:00:00\", \"level_1\": 1, \"variable\": \"closed2closed\", \"value\": 0}, {\"createddate\": \"2017-08-31T00:00:00\", \"level_1\": 2, \"variable\": \"closed2open\", \"value\": 4}, {\"createddate\": \"2017-09-30T00:00:00\", \"level_1\": 1, \"variable\": \"closed2closed\", \"value\": 0}, {\"createddate\": \"2017-09-30T00:00:00\", \"level_1\": 2, \"variable\": \"closed2open\", \"value\": 4}, {\"createddate\": \"2017-10-31T00:00:00\", \"level_1\": 1, \"variable\": \"closed2closed\", \"value\": 0}, {\"createddate\": \"2017-10-31T00:00:00\", \"level_1\": 2, \"variable\": \"closed2open\", \"value\": 3}, {\"createddate\": \"2017-11-30T00:00:00\", \"level_1\": 1, \"variable\": \"closed2closed\", \"value\": 0}, {\"createddate\": \"2017-11-30T00:00:00\", \"level_1\": 2, \"variable\": \"closed2open\", \"value\": 5}, {\"createddate\": \"2017-12-31T00:00:00\", \"level_1\": 1, \"variable\": \"closed2closed\", \"value\": 0}, {\"createddate\": \"2017-12-31T00:00:00\", \"level_1\": 2, \"variable\": \"closed2open\", \"value\": 5}, {\"createddate\": \"2018-01-31T00:00:00\", \"level_1\": 1, \"variable\": \"closed2closed\", \"value\": 0}, {\"createddate\": \"2018-01-31T00:00:00\", \"level_1\": 2, \"variable\": \"closed2open\", \"value\": 4}, {\"createddate\": \"2018-02-28T00:00:00\", \"level_1\": 1, \"variable\": \"closed2closed\", \"value\": 0}, {\"createddate\": \"2018-02-28T00:00:00\", \"level_1\": 2, \"variable\": \"closed2open\", \"value\": 4}, {\"createddate\": \"2018-03-31T00:00:00\", \"level_1\": 1, \"variable\": \"closed2closed\", \"value\": 0}, {\"createddate\": \"2018-03-31T00:00:00\", \"level_1\": 2, \"variable\": \"closed2open\", \"value\": 4}, {\"createddate\": \"2018-04-30T00:00:00\", \"level_1\": 1, \"variable\": \"closed2closed\", \"value\": 0}, {\"createddate\": \"2018-04-30T00:00:00\", \"level_1\": 2, \"variable\": \"closed2open\", \"value\": 3}, {\"createddate\": \"2018-05-31T00:00:00\", \"level_1\": 1, \"variable\": \"closed2closed\", \"value\": 0}, {\"createddate\": \"2018-05-31T00:00:00\", \"level_1\": 2, \"variable\": \"closed2open\", \"value\": 3}, {\"createddate\": \"2018-06-30T00:00:00\", \"level_1\": 1, \"variable\": \"closed2closed\", \"value\": 0}, {\"createddate\": \"2018-06-30T00:00:00\", \"level_1\": 2, \"variable\": \"closed2open\", \"value\": 4}, {\"createddate\": \"2018-07-31T00:00:00\", \"level_1\": 1, \"variable\": \"closed2closed\", \"value\": 0}, {\"createddate\": \"2018-07-31T00:00:00\", \"level_1\": 2, \"variable\": \"closed2open\", \"value\": 4}, {\"createddate\": \"2018-08-31T00:00:00\", \"level_1\": 1, \"variable\": \"closed2closed\", \"value\": 0}, {\"createddate\": \"2018-08-31T00:00:00\", \"level_1\": 2, \"variable\": \"closed2open\", \"value\": 3}, {\"createddate\": \"2018-09-30T00:00:00\", \"level_1\": 1, \"variable\": \"closed2closed\", \"value\": 0}, {\"createddate\": \"2018-09-30T00:00:00\", \"level_1\": 2, \"variable\": \"closed2open\", \"value\": 4}, {\"createddate\": \"2018-10-31T00:00:00\", \"level_1\": 1, \"variable\": \"closed2closed\", \"value\": 0}, {\"createddate\": \"2018-10-31T00:00:00\", \"level_1\": 2, \"variable\": \"closed2open\", \"value\": 3}, {\"createddate\": \"2018-11-30T00:00:00\", \"level_1\": 1, \"variable\": \"closed2closed\", \"value\": 0}, {\"createddate\": \"2018-11-30T00:00:00\", \"level_1\": 2, \"variable\": \"closed2open\", \"value\": 4}, {\"createddate\": \"2018-12-31T00:00:00\", \"level_1\": 1, \"variable\": \"closed2closed\", \"value\": 0}, {\"createddate\": \"2018-12-31T00:00:00\", \"level_1\": 2, \"variable\": \"closed2open\", \"value\": 4}, {\"createddate\": \"2019-01-31T00:00:00\", \"level_1\": 1, \"variable\": \"closed2closed\", \"value\": 0}, {\"createddate\": \"2019-01-31T00:00:00\", \"level_1\": 2, \"variable\": \"closed2open\", \"value\": 3}, {\"createddate\": \"2019-02-28T00:00:00\", \"level_1\": 1, \"variable\": \"closed2closed\", \"value\": 0}, {\"createddate\": \"2019-02-28T00:00:00\", \"level_1\": 2, \"variable\": \"closed2open\", \"value\": 2}, {\"createddate\": \"2019-03-31T00:00:00\", \"level_1\": 1, \"variable\": \"closed2closed\", \"value\": 0}, {\"createddate\": \"2019-03-31T00:00:00\", \"level_1\": 2, \"variable\": \"closed2open\", \"value\": 2}, {\"createddate\": \"2019-04-30T00:00:00\", \"level_1\": 1, \"variable\": \"closed2closed\", \"value\": 0}, {\"createddate\": \"2019-04-30T00:00:00\", \"level_1\": 2, \"variable\": \"closed2open\", \"value\": 2}, {\"createddate\": \"2019-05-31T00:00:00\", \"level_1\": 1, \"variable\": \"closed2closed\", \"value\": 0}, {\"createddate\": \"2019-05-31T00:00:00\", \"level_1\": 2, \"variable\": \"closed2open\", \"value\": 2}, {\"createddate\": \"2019-06-30T00:00:00\", \"level_1\": 1, \"variable\": \"closed2closed\", \"value\": 0}, {\"createddate\": \"2019-06-30T00:00:00\", \"level_1\": 2, \"variable\": \"closed2open\", \"value\": 2}, {\"createddate\": \"2019-07-31T00:00:00\", \"level_1\": 1, \"variable\": \"closed2closed\", \"value\": 0}, {\"createddate\": \"2019-07-31T00:00:00\", \"level_1\": 2, \"variable\": \"closed2open\", \"value\": 2}, {\"createddate\": \"2019-08-31T00:00:00\", \"level_1\": 1, \"variable\": \"closed2closed\", \"value\": 0}, {\"createddate\": \"2019-08-31T00:00:00\", \"level_1\": 2, \"variable\": \"closed2open\", \"value\": 2}, {\"createddate\": \"2019-09-30T00:00:00\", \"level_1\": 1, \"variable\": \"closed2closed\", \"value\": 0}, {\"createddate\": \"2019-09-30T00:00:00\", \"level_1\": 2, \"variable\": \"closed2open\", \"value\": 2}, {\"createddate\": \"2019-10-31T00:00:00\", \"level_1\": 1, \"variable\": \"closed2closed\", \"value\": 0}, {\"createddate\": \"2019-10-31T00:00:00\", \"level_1\": 2, \"variable\": \"closed2open\", \"value\": 2}, {\"createddate\": \"2019-11-30T00:00:00\", \"level_1\": 1, \"variable\": \"closed2closed\", \"value\": 0}, {\"createddate\": \"2019-11-30T00:00:00\", \"level_1\": 2, \"variable\": \"closed2open\", \"value\": 1}, {\"createddate\": \"2019-12-31T00:00:00\", \"level_1\": 1, \"variable\": \"closed2closed\", \"value\": 0}, {\"createddate\": \"2019-12-31T00:00:00\", \"level_1\": 2, \"variable\": \"closed2open\", \"value\": 1}, {\"createddate\": \"2020-01-31T00:00:00\", \"level_1\": 1, \"variable\": \"closed2closed\", \"value\": 0}, {\"createddate\": \"2020-01-31T00:00:00\", \"level_1\": 2, \"variable\": \"closed2open\", \"value\": 0}]}}, {\"mode\": \"vega-lite\"});\n",
       "</script>"
      ],
      "text/plain": [
       "alt.Chart(...)"
      ]
     },
     "execution_count": 137,
     "metadata": {},
     "output_type": "execute_result"
    }
   ],
   "source": [
    "chart = alt.Chart(reshaped).mark_line().encode(\n",
    "    x = alt.X('createddate:T', axis = alt.Axis(title = 'Monthly Average', format = (\"%b %Y\"))),\n",
    "    y='value',\n",
    "    color='variable'\n",
    ").properties(\n",
    "    title='Key Metrics Over Time, Monthly Average'\n",
    ")\n",
    "\n",
    "chart.encoding.y.title = 'Days'\n",
    "chart.encoding.x.title = 'Monthly Average'\n",
    "chart"
   ]
  },
  {
   "cell_type": "code",
   "execution_count": null,
   "metadata": {},
   "outputs": [],
   "source": []
  }
 ],
 "metadata": {
  "kernelspec": {
   "display_name": "Python 3",
   "language": "python",
   "name": "python3"
  },
  "language_info": {
   "codemirror_mode": {
    "name": "ipython",
    "version": 3
   },
   "file_extension": ".py",
   "mimetype": "text/x-python",
   "name": "python",
   "nbconvert_exporter": "python",
   "pygments_lexer": "ipython3",
   "version": "3.7.3"
  }
 },
 "nbformat": 4,
 "nbformat_minor": 4
}
