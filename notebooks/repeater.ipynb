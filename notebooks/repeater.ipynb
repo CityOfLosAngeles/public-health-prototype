{
 "cells": [
  {
   "cell_type": "markdown",
   "metadata": {},
   "source": [
    "# Reoccurance Notebook \n",
    "* How often to we return to the same census tract for Sanitation Requetss "
   ]
  },
  {
   "cell_type": "code",
   "execution_count": 1,
   "metadata": {},
   "outputs": [],
   "source": [
    "import intake \n",
    "import pandas as pd \n",
    "import geopandas as gpd \n",
    "import altair as alt"
   ]
  },
  {
   "cell_type": "code",
   "execution_count": 2,
   "metadata": {},
   "outputs": [],
   "source": [
    "catalog = intake.open_catalog(\"../catalogs/*.yml\")"
   ]
  },
  {
   "cell_type": "code",
   "execution_count": 3,
   "metadata": {},
   "outputs": [],
   "source": [
    "df = catalog.care311.read()"
   ]
  },
  {
   "cell_type": "code",
   "execution_count": 4,
   "metadata": {},
   "outputs": [
    {
     "name": "stdout",
     "output_type": "stream",
     "text": [
      "there have been 104809 requests since 2015-08-05T10:37:55.000\n"
     ]
    }
   ],
   "source": [
    "print(f\"there have been {len(df)} requests since {df.createddate.min()}\")"
   ]
  },
  {
   "cell_type": "code",
   "execution_count": 5,
   "metadata": {},
   "outputs": [
    {
     "name": "stdout",
     "output_type": "stream",
     "text": [
      "of those, 94289 have been closed\n"
     ]
    }
   ],
   "source": [
    "print(f\"of those, {len(df[~df['closeddate'].isnull()])} have been closed\")"
   ]
  },
  {
   "cell_type": "code",
   "execution_count": 6,
   "metadata": {},
   "outputs": [],
   "source": [
    "df['closeddate'] = pd.to_datetime(df.closeddate)\n",
    "df['createddate'] = pd.to_datetime(df.createddate)"
   ]
  },
  {
   "cell_type": "markdown",
   "metadata": {},
   "source": [
    "## Create a solve time"
   ]
  },
  {
   "cell_type": "code",
   "execution_count": 7,
   "metadata": {},
   "outputs": [
    {
     "name": "stderr",
     "output_type": "stream",
     "text": [
      "/opt/conda/lib/python3.7/site-packages/geopandas/geodataframe.py:97: UserWarning: Pandas doesn't allow columns to be created via a new attribute name - see https://pandas.pydata.org/pandas-docs/stable/indexing.html#attribute-access\n",
      "  super(GeoDataFrame, self).__setattr__(attr, val)\n"
     ]
    }
   ],
   "source": [
    "## time to solve\n",
    "df.solve_time = df[['createddate', 'closeddate']].diff(axis=1)['closeddate']"
   ]
  },
  {
   "cell_type": "markdown",
   "metadata": {},
   "source": [
    "## Make a chart"
   ]
  },
  {
   "cell_type": "code",
   "execution_count": 8,
   "metadata": {},
   "outputs": [],
   "source": [
    "df = df.set_index('closeddate')\n",
    "source = pd.DataFrame(df.groupby([pd.Grouper(freq='M'), 'createdbyuserorganization']).count()['srnumber'])"
   ]
  },
  {
   "cell_type": "code",
   "execution_count": 9,
   "metadata": {},
   "outputs": [
    {
     "data": {
      "text/html": [
       "\n",
       "<div id=\"altair-viz-1\"></div>\n",
       "<script type=\"text/javascript\">\n",
       "  (function(spec, embedOpt){\n",
       "    const outputDiv = document.getElementById(\"altair-viz-1\");\n",
       "    const paths = {\n",
       "      \"vega\": \"https://cdn.jsdelivr.net/npm//vega@5?noext\",\n",
       "      \"vega-lib\": \"https://cdn.jsdelivr.net/npm//vega-lib?noext\",\n",
       "      \"vega-lite\": \"https://cdn.jsdelivr.net/npm//vega-lite@4.0.0?noext\",\n",
       "      \"vega-embed\": \"https://cdn.jsdelivr.net/npm//vega-embed@6?noext\",\n",
       "    };\n",
       "\n",
       "    function loadScript(lib) {\n",
       "      return new Promise(function(resolve, reject) {\n",
       "        var s = document.createElement('script');\n",
       "        s.src = paths[lib];\n",
       "        s.async = true;\n",
       "        s.onload = () => resolve(paths[lib]);\n",
       "        s.onerror = () => reject(`Error loading script: ${paths[lib]}`);\n",
       "        document.getElementsByTagName(\"head\")[0].appendChild(s);\n",
       "      });\n",
       "    }\n",
       "\n",
       "    function showError(err) {\n",
       "      outputDiv.innerHTML = `<div class=\"error\" style=\"color:red;\">${err}</div>`;\n",
       "      throw err;\n",
       "    }\n",
       "\n",
       "    function displayChart(vegaEmbed) {\n",
       "      vegaEmbed(outputDiv, spec, embedOpt)\n",
       "        .catch(err => showError(`Javascript Error: ${err.message}<br>This usually means there's a typo in your chart specification. See the javascript console for the full traceback.`));\n",
       "    }\n",
       "\n",
       "    if(typeof define === \"function\" && define.amd) {\n",
       "      requirejs.config({paths});\n",
       "      require([\"vega-embed\"], displayChart, err => showError(`Error loading script: ${err.message}`));\n",
       "    } else if (typeof vegaEmbed === \"function\") {\n",
       "      displayChart(vegaEmbed);\n",
       "    } else {\n",
       "      loadScript(\"vega\")\n",
       "        .then(() => loadScript(\"vega-lite\"))\n",
       "        .then(() => loadScript(\"vega-embed\"))\n",
       "        .catch(showError)\n",
       "        .then(() => displayChart(vegaEmbed));\n",
       "    }\n",
       "  })({\"config\": {\"view\": {\"continuousWidth\": 400, \"continuousHeight\": 300}}, \"data\": {\"name\": \"data-476e6f13a8407d3431ad3b18b80b5cd2\"}, \"mark\": \"bar\", \"encoding\": {\"color\": {\"type\": \"nominal\", \"field\": \"createdbyuserorganization\"}, \"x\": {\"type\": \"ordinal\", \"field\": \"closeddate\", \"title\": \"Month\"}, \"y\": {\"type\": \"quantitative\", \"aggregate\": \"sum\", \"field\": \"srnumber\", \"title\": \"Number of SR Encampments\"}}, \"title\": \"Number of Homelessness Encampment SRs closed by Month\", \"$schema\": \"https://vega.github.io/schema/vega-lite/v4.0.0.json\", \"datasets\": {\"data-476e6f13a8407d3431ad3b18b80b5cd2\": [{\"closeddate\": \"2015-08-31T00:00:00\", \"createdbyuserorganization\": \"BOS\", \"srnumber\": 51}, {\"closeddate\": \"2015-08-31T00:00:00\", \"createdbyuserorganization\": \"ITA\", \"srnumber\": 26}, {\"closeddate\": \"2015-09-30T00:00:00\", \"createdbyuserorganization\": \"BOS\", \"srnumber\": 34}, {\"closeddate\": \"2015-09-30T00:00:00\", \"createdbyuserorganization\": \"ITA\", \"srnumber\": 25}, {\"closeddate\": \"2015-10-31T00:00:00\", \"createdbyuserorganization\": \"BOS\", \"srnumber\": 31}, {\"closeddate\": \"2015-10-31T00:00:00\", \"createdbyuserorganization\": \"ITA\", \"srnumber\": 10}, {\"closeddate\": \"2015-11-30T00:00:00\", \"createdbyuserorganization\": \"BOS\", \"srnumber\": 13}, {\"closeddate\": \"2015-11-30T00:00:00\", \"createdbyuserorganization\": \"ITA\", \"srnumber\": 12}, {\"closeddate\": \"2015-11-30T00:00:00\", \"createdbyuserorganization\": \"Self Service\", \"srnumber\": 2}, {\"closeddate\": \"2015-12-31T00:00:00\", \"createdbyuserorganization\": \"BOS\", \"srnumber\": 13}, {\"closeddate\": \"2015-12-31T00:00:00\", \"createdbyuserorganization\": \"ITA\", \"srnumber\": 4}, {\"closeddate\": \"2016-01-31T00:00:00\", \"createdbyuserorganization\": \"BOS\", \"srnumber\": 614}, {\"closeddate\": \"2016-01-31T00:00:00\", \"createdbyuserorganization\": \"BSS\", \"srnumber\": 3}, {\"closeddate\": \"2016-01-31T00:00:00\", \"createdbyuserorganization\": \"Council's Office\", \"srnumber\": 1}, {\"closeddate\": \"2016-01-31T00:00:00\", \"createdbyuserorganization\": \"ITA\", \"srnumber\": 203}, {\"closeddate\": \"2016-01-31T00:00:00\", \"createdbyuserorganization\": \"Self Service\", \"srnumber\": 13}, {\"closeddate\": \"2016-02-29T00:00:00\", \"createdbyuserorganization\": \"BOS\", \"srnumber\": 423}, {\"closeddate\": \"2016-02-29T00:00:00\", \"createdbyuserorganization\": \"ITA\", \"srnumber\": 94}, {\"closeddate\": \"2016-02-29T00:00:00\", \"createdbyuserorganization\": \"Self Service\", \"srnumber\": 24}, {\"closeddate\": \"2016-03-31T00:00:00\", \"createdbyuserorganization\": \"BOS\", \"srnumber\": 348}, {\"closeddate\": \"2016-03-31T00:00:00\", \"createdbyuserorganization\": \"BSS\", \"srnumber\": 1}, {\"closeddate\": \"2016-03-31T00:00:00\", \"createdbyuserorganization\": \"Council's Office\", \"srnumber\": 1}, {\"closeddate\": \"2016-03-31T00:00:00\", \"createdbyuserorganization\": \"ITA\", \"srnumber\": 81}, {\"closeddate\": \"2016-03-31T00:00:00\", \"createdbyuserorganization\": \"Self Service\", \"srnumber\": 82}, {\"closeddate\": \"2016-04-30T00:00:00\", \"createdbyuserorganization\": \"BOS\", \"srnumber\": 234}, {\"closeddate\": \"2016-04-30T00:00:00\", \"createdbyuserorganization\": \"BSS\", \"srnumber\": 4}, {\"closeddate\": \"2016-04-30T00:00:00\", \"createdbyuserorganization\": \"Council's Office\", \"srnumber\": 1}, {\"closeddate\": \"2016-04-30T00:00:00\", \"createdbyuserorganization\": \"ITA\", \"srnumber\": 54}, {\"closeddate\": \"2016-04-30T00:00:00\", \"createdbyuserorganization\": \"Self Service\", \"srnumber\": 69}, {\"closeddate\": \"2016-04-30T00:00:00\", \"createdbyuserorganization\": \"Self Service_SAN\", \"srnumber\": 1}, {\"closeddate\": \"2016-05-31T00:00:00\", \"createdbyuserorganization\": \"BOS\", \"srnumber\": 329}, {\"closeddate\": \"2016-05-31T00:00:00\", \"createdbyuserorganization\": \"BSS\", \"srnumber\": 14}, {\"closeddate\": \"2016-05-31T00:00:00\", \"createdbyuserorganization\": \"Council's Office\", \"srnumber\": 3}, {\"closeddate\": \"2016-05-31T00:00:00\", \"createdbyuserorganization\": \"ITA\", \"srnumber\": 113}, {\"closeddate\": \"2016-05-31T00:00:00\", \"createdbyuserorganization\": \"Self Service\", \"srnumber\": 205}, {\"closeddate\": \"2016-05-31T00:00:00\", \"createdbyuserorganization\": \"Self Service_SAN\", \"srnumber\": 7}, {\"closeddate\": \"2016-06-30T00:00:00\", \"createdbyuserorganization\": \"BOS\", \"srnumber\": 270}, {\"closeddate\": \"2016-06-30T00:00:00\", \"createdbyuserorganization\": \"BSS\", \"srnumber\": 11}, {\"closeddate\": \"2016-06-30T00:00:00\", \"createdbyuserorganization\": \"Council's Office\", \"srnumber\": 2}, {\"closeddate\": \"2016-06-30T00:00:00\", \"createdbyuserorganization\": \"ITA\", \"srnumber\": 117}, {\"closeddate\": \"2016-06-30T00:00:00\", \"createdbyuserorganization\": \"Self Service\", \"srnumber\": 277}, {\"closeddate\": \"2016-06-30T00:00:00\", \"createdbyuserorganization\": \"Self Service_SAN\", \"srnumber\": 6}, {\"closeddate\": \"2016-07-31T00:00:00\", \"createdbyuserorganization\": \"BOS\", \"srnumber\": 206}, {\"closeddate\": \"2016-07-31T00:00:00\", \"createdbyuserorganization\": \"BSS\", \"srnumber\": 3}, {\"closeddate\": \"2016-07-31T00:00:00\", \"createdbyuserorganization\": \"Council's Office\", \"srnumber\": 2}, {\"closeddate\": \"2016-07-31T00:00:00\", \"createdbyuserorganization\": \"ITA\", \"srnumber\": 84}, {\"closeddate\": \"2016-07-31T00:00:00\", \"createdbyuserorganization\": \"Self Service\", \"srnumber\": 242}, {\"closeddate\": \"2016-07-31T00:00:00\", \"createdbyuserorganization\": \"Self Service_SAN\", \"srnumber\": 9}, {\"closeddate\": \"2016-08-31T00:00:00\", \"createdbyuserorganization\": \"BOS\", \"srnumber\": 274}, {\"closeddate\": \"2016-08-31T00:00:00\", \"createdbyuserorganization\": \"BSS\", \"srnumber\": 7}, {\"closeddate\": \"2016-08-31T00:00:00\", \"createdbyuserorganization\": \"Council's Office\", \"srnumber\": 2}, {\"closeddate\": \"2016-08-31T00:00:00\", \"createdbyuserorganization\": \"ITA\", \"srnumber\": 142}, {\"closeddate\": \"2016-08-31T00:00:00\", \"createdbyuserorganization\": \"Self Service\", \"srnumber\": 460}, {\"closeddate\": \"2016-08-31T00:00:00\", \"createdbyuserorganization\": \"Self Service_SAN\", \"srnumber\": 10}, {\"closeddate\": \"2016-09-30T00:00:00\", \"createdbyuserorganization\": \"BOS\", \"srnumber\": 168}, {\"closeddate\": \"2016-09-30T00:00:00\", \"createdbyuserorganization\": \"BSS\", \"srnumber\": 2}, {\"closeddate\": \"2016-09-30T00:00:00\", \"createdbyuserorganization\": \"Council's Office\", \"srnumber\": 1}, {\"closeddate\": \"2016-09-30T00:00:00\", \"createdbyuserorganization\": \"ITA\", \"srnumber\": 69}, {\"closeddate\": \"2016-09-30T00:00:00\", \"createdbyuserorganization\": \"Self Service\", \"srnumber\": 324}, {\"closeddate\": \"2016-09-30T00:00:00\", \"createdbyuserorganization\": \"Self Service_SAN\", \"srnumber\": 12}, {\"closeddate\": \"2016-10-31T00:00:00\", \"createdbyuserorganization\": \"BOS\", \"srnumber\": 195}, {\"closeddate\": \"2016-10-31T00:00:00\", \"createdbyuserorganization\": \"BSS\", \"srnumber\": 1}, {\"closeddate\": \"2016-10-31T00:00:00\", \"createdbyuserorganization\": \"Council's Office\", \"srnumber\": 2}, {\"closeddate\": \"2016-10-31T00:00:00\", \"createdbyuserorganization\": \"ITA\", \"srnumber\": 142}, {\"closeddate\": \"2016-10-31T00:00:00\", \"createdbyuserorganization\": \"Self Service\", \"srnumber\": 682}, {\"closeddate\": \"2016-10-31T00:00:00\", \"createdbyuserorganization\": \"Self Service_SAN\", \"srnumber\": 38}, {\"closeddate\": \"2016-11-30T00:00:00\", \"createdbyuserorganization\": \"BOS\", \"srnumber\": 203}, {\"closeddate\": \"2016-11-30T00:00:00\", \"createdbyuserorganization\": \"BSS\", \"srnumber\": 5}, {\"closeddate\": \"2016-11-30T00:00:00\", \"createdbyuserorganization\": \"Council's Office\", \"srnumber\": 3}, {\"closeddate\": \"2016-11-30T00:00:00\", \"createdbyuserorganization\": \"ITA\", \"srnumber\": 98}, {\"closeddate\": \"2016-11-30T00:00:00\", \"createdbyuserorganization\": \"Self Service\", \"srnumber\": 384}, {\"closeddate\": \"2016-11-30T00:00:00\", \"createdbyuserorganization\": \"Self Service_SAN\", \"srnumber\": 16}, {\"closeddate\": \"2016-12-31T00:00:00\", \"createdbyuserorganization\": \"BOS\", \"srnumber\": 175}, {\"closeddate\": \"2016-12-31T00:00:00\", \"createdbyuserorganization\": \"BSS\", \"srnumber\": 1}, {\"closeddate\": \"2016-12-31T00:00:00\", \"createdbyuserorganization\": \"Council's Office\", \"srnumber\": 5}, {\"closeddate\": \"2016-12-31T00:00:00\", \"createdbyuserorganization\": \"ITA\", \"srnumber\": 101}, {\"closeddate\": \"2016-12-31T00:00:00\", \"createdbyuserorganization\": \"Self Service\", \"srnumber\": 396}, {\"closeddate\": \"2016-12-31T00:00:00\", \"createdbyuserorganization\": \"Self Service_SAN\", \"srnumber\": 19}, {\"closeddate\": \"2017-01-31T00:00:00\", \"createdbyuserorganization\": \"BOS\", \"srnumber\": 173}, {\"closeddate\": \"2017-01-31T00:00:00\", \"createdbyuserorganization\": \"BSS\", \"srnumber\": 5}, {\"closeddate\": \"2017-01-31T00:00:00\", \"createdbyuserorganization\": \"Council's Office\", \"srnumber\": 1}, {\"closeddate\": \"2017-01-31T00:00:00\", \"createdbyuserorganization\": \"ITA\", \"srnumber\": 114}, {\"closeddate\": \"2017-01-31T00:00:00\", \"createdbyuserorganization\": \"Self Service\", \"srnumber\": 541}, {\"closeddate\": \"2017-01-31T00:00:00\", \"createdbyuserorganization\": \"Self Service_SAN\", \"srnumber\": 26}, {\"closeddate\": \"2017-02-28T00:00:00\", \"createdbyuserorganization\": \"BOS\", \"srnumber\": 131}, {\"closeddate\": \"2017-02-28T00:00:00\", \"createdbyuserorganization\": \"Council's Office\", \"srnumber\": 6}, {\"closeddate\": \"2017-02-28T00:00:00\", \"createdbyuserorganization\": \"ITA\", \"srnumber\": 88}, {\"closeddate\": \"2017-02-28T00:00:00\", \"createdbyuserorganization\": \"Self Service\", \"srnumber\": 445}, {\"closeddate\": \"2017-02-28T00:00:00\", \"createdbyuserorganization\": \"Self Service_SAN\", \"srnumber\": 14}, {\"closeddate\": \"2017-03-31T00:00:00\", \"createdbyuserorganization\": \"BOS\", \"srnumber\": 179}, {\"closeddate\": \"2017-03-31T00:00:00\", \"createdbyuserorganization\": \"BSS\", \"srnumber\": 6}, {\"closeddate\": \"2017-03-31T00:00:00\", \"createdbyuserorganization\": \"Council's Office\", \"srnumber\": 7}, {\"closeddate\": \"2017-03-31T00:00:00\", \"createdbyuserorganization\": \"ITA\", \"srnumber\": 151}, {\"closeddate\": \"2017-03-31T00:00:00\", \"createdbyuserorganization\": \"Self Service\", \"srnumber\": 601}, {\"closeddate\": \"2017-03-31T00:00:00\", \"createdbyuserorganization\": \"Self Service_SAN\", \"srnumber\": 32}, {\"closeddate\": \"2017-04-30T00:00:00\", \"createdbyuserorganization\": \"BOS\", \"srnumber\": 159}, {\"closeddate\": \"2017-04-30T00:00:00\", \"createdbyuserorganization\": \"BSS\", \"srnumber\": 7}, {\"closeddate\": \"2017-04-30T00:00:00\", \"createdbyuserorganization\": \"Council's Office\", \"srnumber\": 6}, {\"closeddate\": \"2017-04-30T00:00:00\", \"createdbyuserorganization\": \"ITA\", \"srnumber\": 120}, {\"closeddate\": \"2017-04-30T00:00:00\", \"createdbyuserorganization\": \"Self Service\", \"srnumber\": 517}, {\"closeddate\": \"2017-04-30T00:00:00\", \"createdbyuserorganization\": \"Self Service_SAN\", \"srnumber\": 29}, {\"closeddate\": \"2017-05-31T00:00:00\", \"createdbyuserorganization\": \"BOS\", \"srnumber\": 202}, {\"closeddate\": \"2017-05-31T00:00:00\", \"createdbyuserorganization\": \"BSS\", \"srnumber\": 13}, {\"closeddate\": \"2017-05-31T00:00:00\", \"createdbyuserorganization\": \"Council's Office\", \"srnumber\": 5}, {\"closeddate\": \"2017-05-31T00:00:00\", \"createdbyuserorganization\": \"ITA\", \"srnumber\": 166}, {\"closeddate\": \"2017-05-31T00:00:00\", \"createdbyuserorganization\": \"Self Service\", \"srnumber\": 864}, {\"closeddate\": \"2017-05-31T00:00:00\", \"createdbyuserorganization\": \"Self Service_SAN\", \"srnumber\": 28}, {\"closeddate\": \"2017-06-30T00:00:00\", \"createdbyuserorganization\": \"BOS\", \"srnumber\": 244}, {\"closeddate\": \"2017-06-30T00:00:00\", \"createdbyuserorganization\": \"BSS\", \"srnumber\": 21}, {\"closeddate\": \"2017-06-30T00:00:00\", \"createdbyuserorganization\": \"Council's Office\", \"srnumber\": 8}, {\"closeddate\": \"2017-06-30T00:00:00\", \"createdbyuserorganization\": \"ITA\", \"srnumber\": 151}, {\"closeddate\": \"2017-06-30T00:00:00\", \"createdbyuserorganization\": \"Self Service\", \"srnumber\": 825}, {\"closeddate\": \"2017-06-30T00:00:00\", \"createdbyuserorganization\": \"Self Service_SAN\", \"srnumber\": 20}, {\"closeddate\": \"2017-07-31T00:00:00\", \"createdbyuserorganization\": \"BOS\", \"srnumber\": 409}, {\"closeddate\": \"2017-07-31T00:00:00\", \"createdbyuserorganization\": \"BSS\", \"srnumber\": 31}, {\"closeddate\": \"2017-07-31T00:00:00\", \"createdbyuserorganization\": \"Council's Office\", \"srnumber\": 11}, {\"closeddate\": \"2017-07-31T00:00:00\", \"createdbyuserorganization\": \"ITA\", \"srnumber\": 295}, {\"closeddate\": \"2017-07-31T00:00:00\", \"createdbyuserorganization\": \"Self Service\", \"srnumber\": 1434}, {\"closeddate\": \"2017-07-31T00:00:00\", \"createdbyuserorganization\": \"Self Service_SAN\", \"srnumber\": 55}, {\"closeddate\": \"2017-08-31T00:00:00\", \"createdbyuserorganization\": \"BOS\", \"srnumber\": 278}, {\"closeddate\": \"2017-08-31T00:00:00\", \"createdbyuserorganization\": \"BSS\", \"srnumber\": 24}, {\"closeddate\": \"2017-08-31T00:00:00\", \"createdbyuserorganization\": \"Council's Office\", \"srnumber\": 8}, {\"closeddate\": \"2017-08-31T00:00:00\", \"createdbyuserorganization\": \"ITA\", \"srnumber\": 160}, {\"closeddate\": \"2017-08-31T00:00:00\", \"createdbyuserorganization\": \"Self Service\", \"srnumber\": 885}, {\"closeddate\": \"2017-08-31T00:00:00\", \"createdbyuserorganization\": \"Self Service_SAN\", \"srnumber\": 34}, {\"closeddate\": \"2017-09-30T00:00:00\", \"createdbyuserorganization\": \"BOS\", \"srnumber\": 284}, {\"closeddate\": \"2017-09-30T00:00:00\", \"createdbyuserorganization\": \"BSS\", \"srnumber\": 20}, {\"closeddate\": \"2017-09-30T00:00:00\", \"createdbyuserorganization\": \"Council's Office\", \"srnumber\": 10}, {\"closeddate\": \"2017-09-30T00:00:00\", \"createdbyuserorganization\": \"ITA\", \"srnumber\": 178}, {\"closeddate\": \"2017-09-30T00:00:00\", \"createdbyuserorganization\": \"Proactive Insert\", \"srnumber\": 4}, {\"closeddate\": \"2017-09-30T00:00:00\", \"createdbyuserorganization\": \"Self Service\", \"srnumber\": 959}, {\"closeddate\": \"2017-09-30T00:00:00\", \"createdbyuserorganization\": \"Self Service_SAN\", \"srnumber\": 43}, {\"closeddate\": \"2017-10-31T00:00:00\", \"createdbyuserorganization\": \"BOS\", \"srnumber\": 168}, {\"closeddate\": \"2017-10-31T00:00:00\", \"createdbyuserorganization\": \"BSS\", \"srnumber\": 22}, {\"closeddate\": \"2017-10-31T00:00:00\", \"createdbyuserorganization\": \"Council's Office\", \"srnumber\": 6}, {\"closeddate\": \"2017-10-31T00:00:00\", \"createdbyuserorganization\": \"ITA\", \"srnumber\": 151}, {\"closeddate\": \"2017-10-31T00:00:00\", \"createdbyuserorganization\": \"Self Service\", \"srnumber\": 960}, {\"closeddate\": \"2017-10-31T00:00:00\", \"createdbyuserorganization\": \"Self Service_SAN\", \"srnumber\": 26}, {\"closeddate\": \"2017-11-30T00:00:00\", \"createdbyuserorganization\": \"BOS\", \"srnumber\": 316}, {\"closeddate\": \"2017-11-30T00:00:00\", \"createdbyuserorganization\": \"BSS\", \"srnumber\": 44}, {\"closeddate\": \"2017-11-30T00:00:00\", \"createdbyuserorganization\": \"Council's Office\", \"srnumber\": 11}, {\"closeddate\": \"2017-11-30T00:00:00\", \"createdbyuserorganization\": \"ITA\", \"srnumber\": 188}, {\"closeddate\": \"2017-11-30T00:00:00\", \"createdbyuserorganization\": \"Proactive Insert\", \"srnumber\": 1}, {\"closeddate\": \"2017-11-30T00:00:00\", \"createdbyuserorganization\": \"Self Service\", \"srnumber\": 1237}, {\"closeddate\": \"2017-11-30T00:00:00\", \"createdbyuserorganization\": \"Self Service_SAN\", \"srnumber\": 42}, {\"closeddate\": \"2017-12-31T00:00:00\", \"createdbyuserorganization\": \"BOS\", \"srnumber\": 443}, {\"closeddate\": \"2017-12-31T00:00:00\", \"createdbyuserorganization\": \"BSS\", \"srnumber\": 44}, {\"closeddate\": \"2017-12-31T00:00:00\", \"createdbyuserorganization\": \"Council's Office\", \"srnumber\": 17}, {\"closeddate\": \"2017-12-31T00:00:00\", \"createdbyuserorganization\": \"ITA\", \"srnumber\": 284}, {\"closeddate\": \"2017-12-31T00:00:00\", \"createdbyuserorganization\": \"Proactive Insert\", \"srnumber\": 3}, {\"closeddate\": \"2017-12-31T00:00:00\", \"createdbyuserorganization\": \"Self Service\", \"srnumber\": 1575}, {\"closeddate\": \"2017-12-31T00:00:00\", \"createdbyuserorganization\": \"Self Service_SAN\", \"srnumber\": 59}, {\"closeddate\": \"2018-01-31T00:00:00\", \"createdbyuserorganization\": \"BOS\", \"srnumber\": 231}, {\"closeddate\": \"2018-01-31T00:00:00\", \"createdbyuserorganization\": \"BSS\", \"srnumber\": 25}, {\"closeddate\": \"2018-01-31T00:00:00\", \"createdbyuserorganization\": \"Council's Office\", \"srnumber\": 14}, {\"closeddate\": \"2018-01-31T00:00:00\", \"createdbyuserorganization\": \"ITA\", \"srnumber\": 169}, {\"closeddate\": \"2018-01-31T00:00:00\", \"createdbyuserorganization\": \"Proactive Insert\", \"srnumber\": 2}, {\"closeddate\": \"2018-01-31T00:00:00\", \"createdbyuserorganization\": \"Self Service\", \"srnumber\": 922}, {\"closeddate\": \"2018-01-31T00:00:00\", \"createdbyuserorganization\": \"Self Service_SAN\", \"srnumber\": 24}, {\"closeddate\": \"2018-02-28T00:00:00\", \"createdbyuserorganization\": \"BOS\", \"srnumber\": 283}, {\"closeddate\": \"2018-02-28T00:00:00\", \"createdbyuserorganization\": \"BSS\", \"srnumber\": 31}, {\"closeddate\": \"2018-02-28T00:00:00\", \"createdbyuserorganization\": \"Council's Office\", \"srnumber\": 2}, {\"closeddate\": \"2018-02-28T00:00:00\", \"createdbyuserorganization\": \"ITA\", \"srnumber\": 202}, {\"closeddate\": \"2018-02-28T00:00:00\", \"createdbyuserorganization\": \"Proactive Insert\", \"srnumber\": 5}, {\"closeddate\": \"2018-02-28T00:00:00\", \"createdbyuserorganization\": \"Self Service\", \"srnumber\": 922}, {\"closeddate\": \"2018-02-28T00:00:00\", \"createdbyuserorganization\": \"Self Service_SAN\", \"srnumber\": 30}, {\"closeddate\": \"2018-03-31T00:00:00\", \"createdbyuserorganization\": \"BOS\", \"srnumber\": 272}, {\"closeddate\": \"2018-03-31T00:00:00\", \"createdbyuserorganization\": \"BSS\", \"srnumber\": 43}, {\"closeddate\": \"2018-03-31T00:00:00\", \"createdbyuserorganization\": \"Council's Office\", \"srnumber\": 6}, {\"closeddate\": \"2018-03-31T00:00:00\", \"createdbyuserorganization\": \"ITA\", \"srnumber\": 222}, {\"closeddate\": \"2018-03-31T00:00:00\", \"createdbyuserorganization\": \"Proactive Insert\", \"srnumber\": 1}, {\"closeddate\": \"2018-03-31T00:00:00\", \"createdbyuserorganization\": \"Self Service\", \"srnumber\": 1282}, {\"closeddate\": \"2018-03-31T00:00:00\", \"createdbyuserorganization\": \"Self Service_SAN\", \"srnumber\": 47}, {\"closeddate\": \"2018-04-30T00:00:00\", \"createdbyuserorganization\": \"BOS\", \"srnumber\": 524}, {\"closeddate\": \"2018-04-30T00:00:00\", \"createdbyuserorganization\": \"BSS\", \"srnumber\": 102}, {\"closeddate\": \"2018-04-30T00:00:00\", \"createdbyuserorganization\": \"Council's Office\", \"srnumber\": 4}, {\"closeddate\": \"2018-04-30T00:00:00\", \"createdbyuserorganization\": \"ITA\", \"srnumber\": 434}, {\"closeddate\": \"2018-04-30T00:00:00\", \"createdbyuserorganization\": \"Proactive Insert\", \"srnumber\": 1}, {\"closeddate\": \"2018-04-30T00:00:00\", \"createdbyuserorganization\": \"Self Service\", \"srnumber\": 2686}, {\"closeddate\": \"2018-04-30T00:00:00\", \"createdbyuserorganization\": \"Self Service_SAN\", \"srnumber\": 94}, {\"closeddate\": \"2018-05-31T00:00:00\", \"createdbyuserorganization\": \"BOS\", \"srnumber\": 615}, {\"closeddate\": \"2018-05-31T00:00:00\", \"createdbyuserorganization\": \"BSS\", \"srnumber\": 78}, {\"closeddate\": \"2018-05-31T00:00:00\", \"createdbyuserorganization\": \"Council's Office\", \"srnumber\": 5}, {\"closeddate\": \"2018-05-31T00:00:00\", \"createdbyuserorganization\": \"ITA\", \"srnumber\": 510}, {\"closeddate\": \"2018-05-31T00:00:00\", \"createdbyuserorganization\": \"Proactive Insert\", \"srnumber\": 2}, {\"closeddate\": \"2018-05-31T00:00:00\", \"createdbyuserorganization\": \"Self Service\", \"srnumber\": 2739}, {\"closeddate\": \"2018-05-31T00:00:00\", \"createdbyuserorganization\": \"Self Service_SAN\", \"srnumber\": 130}, {\"closeddate\": \"2018-06-30T00:00:00\", \"createdbyuserorganization\": \"BOS\", \"srnumber\": 381}, {\"closeddate\": \"2018-06-30T00:00:00\", \"createdbyuserorganization\": \"BSS\", \"srnumber\": 74}, {\"closeddate\": \"2018-06-30T00:00:00\", \"createdbyuserorganization\": \"Council's Office\", \"srnumber\": 11}, {\"closeddate\": \"2018-06-30T00:00:00\", \"createdbyuserorganization\": \"ITA\", \"srnumber\": 265}, {\"closeddate\": \"2018-06-30T00:00:00\", \"createdbyuserorganization\": \"Proactive Insert\", \"srnumber\": 3}, {\"closeddate\": \"2018-06-30T00:00:00\", \"createdbyuserorganization\": \"Self Service\", \"srnumber\": 1610}, {\"closeddate\": \"2018-06-30T00:00:00\", \"createdbyuserorganization\": \"Self Service_SAN\", \"srnumber\": 99}, {\"closeddate\": \"2018-07-31T00:00:00\", \"createdbyuserorganization\": \"BOS\", \"srnumber\": 232}, {\"closeddate\": \"2018-07-31T00:00:00\", \"createdbyuserorganization\": \"BSS\", \"srnumber\": 25}, {\"closeddate\": \"2018-07-31T00:00:00\", \"createdbyuserorganization\": \"Council's Office\", \"srnumber\": 9}, {\"closeddate\": \"2018-07-31T00:00:00\", \"createdbyuserorganization\": \"ITA\", \"srnumber\": 226}, {\"closeddate\": \"2018-07-31T00:00:00\", \"createdbyuserorganization\": \"Proactive Insert\", \"srnumber\": 5}, {\"closeddate\": \"2018-07-31T00:00:00\", \"createdbyuserorganization\": \"Self Service\", \"srnumber\": 1102}, {\"closeddate\": \"2018-07-31T00:00:00\", \"createdbyuserorganization\": \"Self Service_SAN\", \"srnumber\": 48}, {\"closeddate\": \"2018-08-31T00:00:00\", \"createdbyuserorganization\": \"BOS\", \"srnumber\": 310}, {\"closeddate\": \"2018-08-31T00:00:00\", \"createdbyuserorganization\": \"BSS\", \"srnumber\": 46}, {\"closeddate\": \"2018-08-31T00:00:00\", \"createdbyuserorganization\": \"Council's Office\", \"srnumber\": 12}, {\"closeddate\": \"2018-08-31T00:00:00\", \"createdbyuserorganization\": \"ITA\", \"srnumber\": 250}, {\"closeddate\": \"2018-08-31T00:00:00\", \"createdbyuserorganization\": \"Proactive Insert\", \"srnumber\": 17}, {\"closeddate\": \"2018-08-31T00:00:00\", \"createdbyuserorganization\": \"Self Service\", \"srnumber\": 1495}, {\"closeddate\": \"2018-08-31T00:00:00\", \"createdbyuserorganization\": \"Self Service_SAN\", \"srnumber\": 84}, {\"closeddate\": \"2018-09-30T00:00:00\", \"createdbyuserorganization\": \"BOS\", \"srnumber\": 306}, {\"closeddate\": \"2018-09-30T00:00:00\", \"createdbyuserorganization\": \"BSS\", \"srnumber\": 56}, {\"closeddate\": \"2018-09-30T00:00:00\", \"createdbyuserorganization\": \"Council's Office\", \"srnumber\": 8}, {\"closeddate\": \"2018-09-30T00:00:00\", \"createdbyuserorganization\": \"ITA\", \"srnumber\": 264}, {\"closeddate\": \"2018-09-30T00:00:00\", \"createdbyuserorganization\": \"Proactive Insert\", \"srnumber\": 8}, {\"closeddate\": \"2018-09-30T00:00:00\", \"createdbyuserorganization\": \"Self Service\", \"srnumber\": 1531}, {\"closeddate\": \"2018-09-30T00:00:00\", \"createdbyuserorganization\": \"Self Service_SAN\", \"srnumber\": 111}, {\"closeddate\": \"2018-10-31T00:00:00\", \"createdbyuserorganization\": \"BOS\", \"srnumber\": 326}, {\"closeddate\": \"2018-10-31T00:00:00\", \"createdbyuserorganization\": \"BSS\", \"srnumber\": 30}, {\"closeddate\": \"2018-10-31T00:00:00\", \"createdbyuserorganization\": \"Council's Office\", \"srnumber\": 8}, {\"closeddate\": \"2018-10-31T00:00:00\", \"createdbyuserorganization\": \"ITA\", \"srnumber\": 271}, {\"closeddate\": \"2018-10-31T00:00:00\", \"createdbyuserorganization\": \"Proactive Insert\", \"srnumber\": 2}, {\"closeddate\": \"2018-10-31T00:00:00\", \"createdbyuserorganization\": \"Self Service\", \"srnumber\": 1778}, {\"closeddate\": \"2018-10-31T00:00:00\", \"createdbyuserorganization\": \"Self Service_SAN\", \"srnumber\": 139}, {\"closeddate\": \"2018-11-30T00:00:00\", \"createdbyuserorganization\": \"BOS\", \"srnumber\": 293}, {\"closeddate\": \"2018-11-30T00:00:00\", \"createdbyuserorganization\": \"BSS\", \"srnumber\": 40}, {\"closeddate\": \"2018-11-30T00:00:00\", \"createdbyuserorganization\": \"Council's Office\", \"srnumber\": 15}, {\"closeddate\": \"2018-11-30T00:00:00\", \"createdbyuserorganization\": \"ITA\", \"srnumber\": 231}, {\"closeddate\": \"2018-11-30T00:00:00\", \"createdbyuserorganization\": \"Proactive Insert\", \"srnumber\": 1}, {\"closeddate\": \"2018-11-30T00:00:00\", \"createdbyuserorganization\": \"Self Service\", \"srnumber\": 1554}, {\"closeddate\": \"2018-11-30T00:00:00\", \"createdbyuserorganization\": \"Self Service_SAN\", \"srnumber\": 163}, {\"closeddate\": \"2018-12-31T00:00:00\", \"createdbyuserorganization\": \"BOS\", \"srnumber\": 350}, {\"closeddate\": \"2018-12-31T00:00:00\", \"createdbyuserorganization\": \"BSS\", \"srnumber\": 38}, {\"closeddate\": \"2018-12-31T00:00:00\", \"createdbyuserorganization\": \"Council's Office\", \"srnumber\": 12}, {\"closeddate\": \"2018-12-31T00:00:00\", \"createdbyuserorganization\": \"ITA\", \"srnumber\": 288}, {\"closeddate\": \"2018-12-31T00:00:00\", \"createdbyuserorganization\": \"Proactive Insert\", \"srnumber\": 4}, {\"closeddate\": \"2018-12-31T00:00:00\", \"createdbyuserorganization\": \"Self Service\", \"srnumber\": 1545}, {\"closeddate\": \"2018-12-31T00:00:00\", \"createdbyuserorganization\": \"Self Service_SAN\", \"srnumber\": 63}, {\"closeddate\": \"2019-01-31T00:00:00\", \"createdbyuserorganization\": \"BOS\", \"srnumber\": 473}, {\"closeddate\": \"2019-01-31T00:00:00\", \"createdbyuserorganization\": \"BSS\", \"srnumber\": 46}, {\"closeddate\": \"2019-01-31T00:00:00\", \"createdbyuserorganization\": \"Council's Office\", \"srnumber\": 17}, {\"closeddate\": \"2019-01-31T00:00:00\", \"createdbyuserorganization\": \"ITA\", \"srnumber\": 416}, {\"closeddate\": \"2019-01-31T00:00:00\", \"createdbyuserorganization\": \"Proactive Insert\", \"srnumber\": 5}, {\"closeddate\": \"2019-01-31T00:00:00\", \"createdbyuserorganization\": \"Self Service\", \"srnumber\": 2467}, {\"closeddate\": \"2019-01-31T00:00:00\", \"createdbyuserorganization\": \"Self Service_SAN\", \"srnumber\": 94}, {\"closeddate\": \"2019-02-28T00:00:00\", \"createdbyuserorganization\": \"BOS\", \"srnumber\": 278}, {\"closeddate\": \"2019-02-28T00:00:00\", \"createdbyuserorganization\": \"BSS\", \"srnumber\": 24}, {\"closeddate\": \"2019-02-28T00:00:00\", \"createdbyuserorganization\": \"Council's Office\", \"srnumber\": 10}, {\"closeddate\": \"2019-02-28T00:00:00\", \"createdbyuserorganization\": \"ITA\", \"srnumber\": 250}, {\"closeddate\": \"2019-02-28T00:00:00\", \"createdbyuserorganization\": \"Proactive Insert\", \"srnumber\": 4}, {\"closeddate\": \"2019-02-28T00:00:00\", \"createdbyuserorganization\": \"Self Service\", \"srnumber\": 1446}, {\"closeddate\": \"2019-02-28T00:00:00\", \"createdbyuserorganization\": \"Self Service_SAN\", \"srnumber\": 57}, {\"closeddate\": \"2019-03-31T00:00:00\", \"createdbyuserorganization\": \"BOS\", \"srnumber\": 302}, {\"closeddate\": \"2019-03-31T00:00:00\", \"createdbyuserorganization\": \"BSS\", \"srnumber\": 25}, {\"closeddate\": \"2019-03-31T00:00:00\", \"createdbyuserorganization\": \"Council's Office\", \"srnumber\": 11}, {\"closeddate\": \"2019-03-31T00:00:00\", \"createdbyuserorganization\": \"ITA\", \"srnumber\": 320}, {\"closeddate\": \"2019-03-31T00:00:00\", \"createdbyuserorganization\": \"Proactive Insert\", \"srnumber\": 4}, {\"closeddate\": \"2019-03-31T00:00:00\", \"createdbyuserorganization\": \"Self Service\", \"srnumber\": 1942}, {\"closeddate\": \"2019-03-31T00:00:00\", \"createdbyuserorganization\": \"Self Service_SAN\", \"srnumber\": 54}, {\"closeddate\": \"2019-04-30T00:00:00\", \"createdbyuserorganization\": \"BOS\", \"srnumber\": 293}, {\"closeddate\": \"2019-04-30T00:00:00\", \"createdbyuserorganization\": \"BSS\", \"srnumber\": 25}, {\"closeddate\": \"2019-04-30T00:00:00\", \"createdbyuserorganization\": \"Council's Office\", \"srnumber\": 14}, {\"closeddate\": \"2019-04-30T00:00:00\", \"createdbyuserorganization\": \"ITA\", \"srnumber\": 309}, {\"closeddate\": \"2019-04-30T00:00:00\", \"createdbyuserorganization\": \"Proactive Insert\", \"srnumber\": 1}, {\"closeddate\": \"2019-04-30T00:00:00\", \"createdbyuserorganization\": \"Self Service\", \"srnumber\": 1941}, {\"closeddate\": \"2019-04-30T00:00:00\", \"createdbyuserorganization\": \"Self Service_SAN\", \"srnumber\": 43}, {\"closeddate\": \"2019-05-31T00:00:00\", \"createdbyuserorganization\": \"BOS\", \"srnumber\": 266}, {\"closeddate\": \"2019-05-31T00:00:00\", \"createdbyuserorganization\": \"BSS\", \"srnumber\": 32}, {\"closeddate\": \"2019-05-31T00:00:00\", \"createdbyuserorganization\": \"Council's Office\", \"srnumber\": 10}, {\"closeddate\": \"2019-05-31T00:00:00\", \"createdbyuserorganization\": \"ITA\", \"srnumber\": 315}, {\"closeddate\": \"2019-05-31T00:00:00\", \"createdbyuserorganization\": \"Proactive Insert\", \"srnumber\": 1}, {\"closeddate\": \"2019-05-31T00:00:00\", \"createdbyuserorganization\": \"Self Service\", \"srnumber\": 1942}, {\"closeddate\": \"2019-05-31T00:00:00\", \"createdbyuserorganization\": \"Self Service_SAN\", \"srnumber\": 45}, {\"closeddate\": \"2019-06-30T00:00:00\", \"createdbyuserorganization\": \"BOS\", \"srnumber\": 664}, {\"closeddate\": \"2019-06-30T00:00:00\", \"createdbyuserorganization\": \"BSS\", \"srnumber\": 56}, {\"closeddate\": \"2019-06-30T00:00:00\", \"createdbyuserorganization\": \"Council's Office\", \"srnumber\": 24}, {\"closeddate\": \"2019-06-30T00:00:00\", \"createdbyuserorganization\": \"ITA\", \"srnumber\": 652}, {\"closeddate\": \"2019-06-30T00:00:00\", \"createdbyuserorganization\": \"Proactive Insert\", \"srnumber\": 8}, {\"closeddate\": \"2019-06-30T00:00:00\", \"createdbyuserorganization\": \"Self Service\", \"srnumber\": 4055}, {\"closeddate\": \"2019-06-30T00:00:00\", \"createdbyuserorganization\": \"Self Service_SAN\", \"srnumber\": 126}, {\"closeddate\": \"2019-07-31T00:00:00\", \"createdbyuserorganization\": \"BOS\", \"srnumber\": 368}, {\"closeddate\": \"2019-07-31T00:00:00\", \"createdbyuserorganization\": \"BSS\", \"srnumber\": 19}, {\"closeddate\": \"2019-07-31T00:00:00\", \"createdbyuserorganization\": \"Council's Office\", \"srnumber\": 12}, {\"closeddate\": \"2019-07-31T00:00:00\", \"createdbyuserorganization\": \"ITA\", \"srnumber\": 393}, {\"closeddate\": \"2019-07-31T00:00:00\", \"createdbyuserorganization\": \"Proactive Insert\", \"srnumber\": 3}, {\"closeddate\": \"2019-07-31T00:00:00\", \"createdbyuserorganization\": \"Self Service\", \"srnumber\": 2310}, {\"closeddate\": \"2019-07-31T00:00:00\", \"createdbyuserorganization\": \"Self Service_SAN\", \"srnumber\": 83}, {\"closeddate\": \"2019-08-31T00:00:00\", \"createdbyuserorganization\": \"BOS\", \"srnumber\": 312}, {\"closeddate\": \"2019-08-31T00:00:00\", \"createdbyuserorganization\": \"BSS\", \"srnumber\": 11}, {\"closeddate\": \"2019-08-31T00:00:00\", \"createdbyuserorganization\": \"Council's Office\", \"srnumber\": 11}, {\"closeddate\": \"2019-08-31T00:00:00\", \"createdbyuserorganization\": \"ITA\", \"srnumber\": 350}, {\"closeddate\": \"2019-08-31T00:00:00\", \"createdbyuserorganization\": \"Proactive Insert\", \"srnumber\": 3}, {\"closeddate\": \"2019-08-31T00:00:00\", \"createdbyuserorganization\": \"Self Service\", \"srnumber\": 1881}, {\"closeddate\": \"2019-08-31T00:00:00\", \"createdbyuserorganization\": \"Self Service_SAN\", \"srnumber\": 39}, {\"closeddate\": \"2019-09-30T00:00:00\", \"createdbyuserorganization\": \"BOS\", \"srnumber\": 279}, {\"closeddate\": \"2019-09-30T00:00:00\", \"createdbyuserorganization\": \"BSS\", \"srnumber\": 6}, {\"closeddate\": \"2019-09-30T00:00:00\", \"createdbyuserorganization\": \"Council's Office\", \"srnumber\": 12}, {\"closeddate\": \"2019-09-30T00:00:00\", \"createdbyuserorganization\": \"ITA\", \"srnumber\": 324}, {\"closeddate\": \"2019-09-30T00:00:00\", \"createdbyuserorganization\": \"Proactive Insert\", \"srnumber\": 5}, {\"closeddate\": \"2019-09-30T00:00:00\", \"createdbyuserorganization\": \"Self Service\", \"srnumber\": 1853}, {\"closeddate\": \"2019-09-30T00:00:00\", \"createdbyuserorganization\": \"Self Service_SAN\", \"srnumber\": 41}, {\"closeddate\": \"2019-10-31T00:00:00\", \"createdbyuserorganization\": \"BOS\", \"srnumber\": 486}, {\"closeddate\": \"2019-10-31T00:00:00\", \"createdbyuserorganization\": \"BSS\", \"srnumber\": 18}, {\"closeddate\": \"2019-10-31T00:00:00\", \"createdbyuserorganization\": \"Council's Office\", \"srnumber\": 19}, {\"closeddate\": \"2019-10-31T00:00:00\", \"createdbyuserorganization\": \"ITA\", \"srnumber\": 430}, {\"closeddate\": \"2019-10-31T00:00:00\", \"createdbyuserorganization\": \"Proactive Insert\", \"srnumber\": 5}, {\"closeddate\": \"2019-10-31T00:00:00\", \"createdbyuserorganization\": \"Self Service\", \"srnumber\": 2833}, {\"closeddate\": \"2019-10-31T00:00:00\", \"createdbyuserorganization\": \"Self Service_SAN\", \"srnumber\": 66}, {\"closeddate\": \"2019-11-30T00:00:00\", \"createdbyuserorganization\": \"BOS\", \"srnumber\": 427}, {\"closeddate\": \"2019-11-30T00:00:00\", \"createdbyuserorganization\": \"BSS\", \"srnumber\": 18}, {\"closeddate\": \"2019-11-30T00:00:00\", \"createdbyuserorganization\": \"Council's Office\", \"srnumber\": 11}, {\"closeddate\": \"2019-11-30T00:00:00\", \"createdbyuserorganization\": \"ITA\", \"srnumber\": 330}, {\"closeddate\": \"2019-11-30T00:00:00\", \"createdbyuserorganization\": \"Proactive Insert\", \"srnumber\": 3}, {\"closeddate\": \"2019-11-30T00:00:00\", \"createdbyuserorganization\": \"Self Service\", \"srnumber\": 1981}, {\"closeddate\": \"2019-11-30T00:00:00\", \"createdbyuserorganization\": \"Self Service_SAN\", \"srnumber\": 38}, {\"closeddate\": \"2019-12-31T00:00:00\", \"createdbyuserorganization\": \"BOS\", \"srnumber\": 446}, {\"closeddate\": \"2019-12-31T00:00:00\", \"createdbyuserorganization\": \"BSS\", \"srnumber\": 22}, {\"closeddate\": \"2019-12-31T00:00:00\", \"createdbyuserorganization\": \"Council's Office\", \"srnumber\": 16}, {\"closeddate\": \"2019-12-31T00:00:00\", \"createdbyuserorganization\": \"ITA\", \"srnumber\": 447}, {\"closeddate\": \"2019-12-31T00:00:00\", \"createdbyuserorganization\": \"Proactive Insert\", \"srnumber\": 8}, {\"closeddate\": \"2019-12-31T00:00:00\", \"createdbyuserorganization\": \"Self Service\", \"srnumber\": 3042}, {\"closeddate\": \"2019-12-31T00:00:00\", \"createdbyuserorganization\": \"Self Service_SAN\", \"srnumber\": 52}, {\"closeddate\": \"2020-01-31T00:00:00\", \"createdbyuserorganization\": \"BOS\", \"srnumber\": 293}, {\"closeddate\": \"2020-01-31T00:00:00\", \"createdbyuserorganization\": \"BSS\", \"srnumber\": 8}, {\"closeddate\": \"2020-01-31T00:00:00\", \"createdbyuserorganization\": \"Council's Office\", \"srnumber\": 14}, {\"closeddate\": \"2020-01-31T00:00:00\", \"createdbyuserorganization\": \"ITA\", \"srnumber\": 284}, {\"closeddate\": \"2020-01-31T00:00:00\", \"createdbyuserorganization\": \"Proactive Insert\", \"srnumber\": 4}, {\"closeddate\": \"2020-01-31T00:00:00\", \"createdbyuserorganization\": \"Self Service\", \"srnumber\": 2223}, {\"closeddate\": \"2020-01-31T00:00:00\", \"createdbyuserorganization\": \"Self Service_SAN\", \"srnumber\": 52}]}}, {\"mode\": \"vega-lite\"});\n",
       "</script>"
      ],
      "text/plain": [
       "alt.Chart(...)"
      ]
     },
     "execution_count": 9,
     "metadata": {},
     "output_type": "execute_result"
    }
   ],
   "source": [
    "chart = alt.Chart(source.reset_index()).mark_bar().encode(\n",
    "    x = alt.X('closeddate:O'),\n",
    "    y= alt.Y('sum(srnumber)'),\n",
    "    color='createdbyuserorganization'\n",
    ").properties(\n",
    "    title='Number of Homelessness Encampment SRs closed by Month'\n",
    ")\n",
    "\n",
    "chart.encoding.y.title = 'Number of SR Encampments'\n",
    "chart.encoding.x.title = 'Month'\n",
    "chart"
   ]
  },
  {
   "cell_type": "code",
   "execution_count": 10,
   "metadata": {},
   "outputs": [],
   "source": [
    "tracts = catalog.census_tracts_with_pop.read()"
   ]
  },
  {
   "cell_type": "code",
   "execution_count": 11,
   "metadata": {},
   "outputs": [
    {
     "name": "stdout",
     "output_type": "stream",
     "text": [
      "length of DF with no nulls is 104738\n"
     ]
    }
   ],
   "source": [
    "df = df[~df.geometry.isnull()]\n",
    "print(f\"length of DF with no nulls is {len(df)}\")\n",
    "df = df.to_crs(epsg=2229)"
   ]
  },
  {
   "cell_type": "code",
   "execution_count": 12,
   "metadata": {},
   "outputs": [
    {
     "name": "stderr",
     "output_type": "stream",
     "text": [
      "/opt/conda/lib/python3.7/site-packages/geopandas/tools/sjoin.py:61: UserWarning: CRS of frames being joined does not match!({'init': 'epsg:2229', 'no_defs': True} != {'init': 'epsg:2229'})\n",
      "  \"(%s != %s)\" % (left_df.crs, right_df.crs)\n"
     ]
    },
    {
     "name": "stdout",
     "output_type": "stream",
     "text": [
      "length of merged df is 104505\n"
     ]
    }
   ],
   "source": [
    "merged = gpd.sjoin(df, tracts, how=\"inner\", op='intersects')\n",
    "print(f'length of merged df is {len(merged)}')"
   ]
  },
  {
   "cell_type": "markdown",
   "metadata": {},
   "source": [
    "# Analysis \n",
    "* now that the dataset is merged, we want to calculate how long it takes for a ticket, on average, to get opened up again in the same tract\n",
    "* There are two metrics we want to track here 1) `closed->next closure` and then `closed->next opened` "
   ]
  },
  {
   "cell_type": "code",
   "execution_count": 13,
   "metadata": {},
   "outputs": [],
   "source": [
    "## closed to next closure\n",
    "# drop computed column if exists \n",
    "if 'closed2closed' in merged:\n",
    "    merged = merged.drop('closed2closed', axis =1)\n",
    "\n",
    "def compute_stat(group):\n",
    "    \"\"\"\n",
    "    return the series and use in the apply \n",
    "    \"\"\"\n",
    "    return group.index.to_series().diff(periods=-1)\n",
    "    \n",
    "grouped = merged.groupby('GEOID10', as_index=\"False\")\n",
    "\n",
    "s = pd.Series(grouped.apply(compute_stat))"
   ]
  },
  {
   "cell_type": "code",
   "execution_count": 14,
   "metadata": {},
   "outputs": [],
   "source": [
    "closed2closed = s.reset_index().rename({'level_1': 'closeddate', 0: 'closed2closed'}, axis=1)"
   ]
  },
  {
   "cell_type": "code",
   "execution_count": 15,
   "metadata": {},
   "outputs": [],
   "source": [
    "#merged = pd.merge(merged.reset_index().rename({'level_0': 'closeddate'}, axis=1), closed2closed)"
   ]
  },
  {
   "cell_type": "code",
   "execution_count": null,
   "metadata": {},
   "outputs": [],
   "source": []
  },
  {
   "cell_type": "code",
   "execution_count": 16,
   "metadata": {},
   "outputs": [
    {
     "ename": "AttributeError",
     "evalue": "'GeoDataFrame' object has no attribute 'closed2closed'",
     "output_type": "error",
     "traceback": [
      "\u001b[0;31m---------------------------------------------------------------------------\u001b[0m",
      "\u001b[0;31mAttributeError\u001b[0m                            Traceback (most recent call last)",
      "\u001b[0;32m<ipython-input-16-9045f22e57a0>\u001b[0m in \u001b[0;36m<module>\u001b[0;34m\u001b[0m\n\u001b[0;32m----> 1\u001b[0;31m \u001b[0mprint\u001b[0m\u001b[0;34m(\u001b[0m\u001b[0;34mf'the mean between is {merged.closed2closed.mean()}'\u001b[0m\u001b[0;34m)\u001b[0m\u001b[0;34m\u001b[0m\u001b[0;34m\u001b[0m\u001b[0m\n\u001b[0m\u001b[1;32m      2\u001b[0m \u001b[0mprint\u001b[0m\u001b[0;34m(\u001b[0m\u001b[0;34mf'the median between is {merged.closed2closed.median()}'\u001b[0m\u001b[0;34m)\u001b[0m\u001b[0;34m\u001b[0m\u001b[0;34m\u001b[0m\u001b[0m\n",
      "\u001b[0;32m/opt/conda/lib/python3.7/site-packages/pandas/core/generic.py\u001b[0m in \u001b[0;36m__getattr__\u001b[0;34m(self, name)\u001b[0m\n\u001b[1;32m   5177\u001b[0m             \u001b[0;32mif\u001b[0m \u001b[0mself\u001b[0m\u001b[0;34m.\u001b[0m\u001b[0m_info_axis\u001b[0m\u001b[0;34m.\u001b[0m\u001b[0m_can_hold_identifiers_and_holds_name\u001b[0m\u001b[0;34m(\u001b[0m\u001b[0mname\u001b[0m\u001b[0;34m)\u001b[0m\u001b[0;34m:\u001b[0m\u001b[0;34m\u001b[0m\u001b[0;34m\u001b[0m\u001b[0m\n\u001b[1;32m   5178\u001b[0m                 \u001b[0;32mreturn\u001b[0m \u001b[0mself\u001b[0m\u001b[0;34m[\u001b[0m\u001b[0mname\u001b[0m\u001b[0;34m]\u001b[0m\u001b[0;34m\u001b[0m\u001b[0;34m\u001b[0m\u001b[0m\n\u001b[0;32m-> 5179\u001b[0;31m             \u001b[0;32mreturn\u001b[0m \u001b[0mobject\u001b[0m\u001b[0;34m.\u001b[0m\u001b[0m__getattribute__\u001b[0m\u001b[0;34m(\u001b[0m\u001b[0mself\u001b[0m\u001b[0;34m,\u001b[0m \u001b[0mname\u001b[0m\u001b[0;34m)\u001b[0m\u001b[0;34m\u001b[0m\u001b[0;34m\u001b[0m\u001b[0m\n\u001b[0m\u001b[1;32m   5180\u001b[0m \u001b[0;34m\u001b[0m\u001b[0m\n\u001b[1;32m   5181\u001b[0m     \u001b[0;32mdef\u001b[0m \u001b[0m__setattr__\u001b[0m\u001b[0;34m(\u001b[0m\u001b[0mself\u001b[0m\u001b[0;34m,\u001b[0m \u001b[0mname\u001b[0m\u001b[0;34m,\u001b[0m \u001b[0mvalue\u001b[0m\u001b[0;34m)\u001b[0m\u001b[0;34m:\u001b[0m\u001b[0;34m\u001b[0m\u001b[0;34m\u001b[0m\u001b[0m\n",
      "\u001b[0;31mAttributeError\u001b[0m: 'GeoDataFrame' object has no attribute 'closed2closed'"
     ]
    }
   ],
   "source": [
    "print(f'the mean between is {merged.closed2closed.mean()}')\n",
    "print(f'the median between is {merged.closed2closed.median()}')"
   ]
  },
  {
   "cell_type": "code",
   "execution_count": null,
   "metadata": {},
   "outputs": [],
   "source": [
    "merged = merged.reset_index().rename({'level_0': 'closeddate'}, axis=1)"
   ]
  },
  {
   "cell_type": "code",
   "execution_count": null,
   "metadata": {},
   "outputs": [],
   "source": [
    "# compute closed to next open \n",
    "\n",
    "raw_data = df.reset_index()\n",
    "def compute_next_open(row):\n",
    "    \"\"\"\n",
    "    For each row, find the next opened request in the df. \n",
    "    \"\"\"\n",
    "    date = row.loc['closeddate']\n",
    "    geoid = row.loc['GEOID10']\n",
    "    x = merged[(merged.createddate > date) & (merged.GEOID10 == geoid)]\n",
    "    next_date = x.createddate.min()\n",
    "    if next_date: \n",
    "        return next_date - date\n",
    "    else: \n",
    "        return None\n"
   ]
  },
  {
   "cell_type": "code",
   "execution_count": null,
   "metadata": {},
   "outputs": [],
   "source": [
    "s = merged.dropna(subset=['closeddate']).apply(compute_next_open, axis=1)\n",
    "print(s)"
   ]
  },
  {
   "cell_type": "code",
   "execution_count": null,
   "metadata": {},
   "outputs": [],
   "source": [
    "print(f'the average closed2open time is {s.mean()}')\n",
    "print(f'the median closed2open time is {s.median()}')"
   ]
  },
  {
   "cell_type": "code",
   "execution_count": null,
   "metadata": {},
   "outputs": [],
   "source": [
    "merged['closed2open'] = s"
   ]
  },
  {
   "cell_type": "markdown",
   "metadata": {},
   "source": [
    "## Rolling Average Chart"
   ]
  },
  {
   "cell_type": "code",
   "execution_count": null,
   "metadata": {},
   "outputs": [],
   "source": [
    "source = pd.DataFrame(merged.groupby([pd.Grouper(freq='W'), 'createdbyuserorganization']).mean())"
   ]
  },
  {
   "cell_type": "code",
   "execution_count": null,
   "metadata": {},
   "outputs": [],
   "source": [
    "merged['closed2open'].rolling(window=2).mean()"
   ]
  },
  {
   "cell_type": "code",
   "execution_count": null,
   "metadata": {},
   "outputs": [],
   "source": [
    "merged.GEO10.value_counts()"
   ]
  },
  {
   "cell_type": "code",
   "execution_count": null,
   "metadata": {},
   "outputs": [],
   "source": []
  }
 ],
 "metadata": {
  "kernelspec": {
   "display_name": "Python 3",
   "language": "python",
   "name": "python3"
  },
  "language_info": {
   "codemirror_mode": {
    "name": "ipython",
    "version": 3
   },
   "file_extension": ".py",
   "mimetype": "text/x-python",
   "name": "python",
   "nbconvert_exporter": "python",
   "pygments_lexer": "ipython3",
   "version": "3.7.3"
  }
 },
 "nbformat": 4,
 "nbformat_minor": 4
}
